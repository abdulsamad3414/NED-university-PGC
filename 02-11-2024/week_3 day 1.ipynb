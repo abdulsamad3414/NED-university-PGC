{
 "cells": [
  {
   "cell_type": "markdown",
   "metadata": {
    "id": "hFqUQ07rU7EH"
   },
   "source": [
    "# Dictionary\n",
    "1. # Dictionaries are used to store data values in key:value pairs.\n",
    "2. A dictionary is a collection which is ordered*, \n",
    "3. changeable and do not allow duplicates.\n",
    "4. key value pair {:}\n",
    "5. mutable (we can add and remove)\n",
    "6. key always be imutable\n",
    "7. key always be unique\n"
   ]
  },
  {
   "cell_type": "code",
   "execution_count": 1,
   "metadata": {
    "colab": {
     "base_uri": "https://localhost:8080/"
    },
    "id": "7Ib8R1iWSCDT",
    "outputId": "67cf6328-57b5-4744-a004-58ffb773f478"
   },
   "outputs": [
    {
     "name": "stdout",
     "output_type": "stream",
     "text": [
      "{'Name': 'samad', 'gender': 'Male', 'skill': ['data science', 'Ml', 'AI'], 'age': 28}\n",
      "<class 'dict'>\n"
     ]
    }
   ],
   "source": [
    "person={'Name':'samad',\n",
    "        'gender':'Male',\n",
    "        'skill':['data science','Ml','AI'],\n",
    "        'age':28,'age':28}      # duplicates are not allowed in dictionary\n",
    "\n",
    "print(person)\n",
    "print(type(person))\n"
   ]
  },
  {
   "cell_type": "code",
   "execution_count": 2,
   "metadata": {
    "colab": {
     "base_uri": "https://localhost:8080/"
    },
    "id": "Ws69K_mZUkNh",
    "outputId": "7121fd0c-6cc5-4e7e-b2dc-ee37c95d128e"
   },
   "outputs": [
    {
     "data": {
      "text/plain": [
       "dict_keys(['Name', 'gender', 'skill', 'age'])"
      ]
     },
     "execution_count": 2,
     "metadata": {},
     "output_type": "execute_result"
    }
   ],
   "source": [
    "# only find out dictionary keys\n",
    "person.keys()"
   ]
  },
  {
   "cell_type": "code",
   "execution_count": 3,
   "metadata": {
    "colab": {
     "base_uri": "https://localhost:8080/"
    },
    "id": "N5Rd26buUtXN",
    "outputId": "260839eb-5e7e-4e3e-dee5-d538a72262db"
   },
   "outputs": [
    {
     "data": {
      "text/plain": [
       "dict_values(['samad', 'Male', ['data science', 'Ml', 'AI'], 28])"
      ]
     },
     "execution_count": 3,
     "metadata": {},
     "output_type": "execute_result"
    }
   ],
   "source": [
    "# only find out the dictionary values\n",
    "person.values()\n"
   ]
  },
  {
   "cell_type": "code",
   "execution_count": 4,
   "metadata": {
    "colab": {
     "base_uri": "https://localhost:8080/"
    },
    "id": "8-1R97uZVPaL",
    "outputId": "3bb1e4f8-78f5-428c-c259-7686e85e5065"
   },
   "outputs": [
    {
     "data": {
      "text/plain": [
       "dict_items([('Name', 'samad'), ('gender', 'Male'), ('skill', ['data science', 'Ml', 'AI']), ('age', 28)])"
      ]
     },
     "execution_count": 4,
     "metadata": {},
     "output_type": "execute_result"
    }
   ],
   "source": [
    "# both print key and values print together and seperate it.\n",
    "person.items()"
   ]
  },
  {
   "cell_type": "code",
   "execution_count": 5,
   "metadata": {
    "colab": {
     "base_uri": "https://localhost:8080/"
    },
    "id": "X6AUTA5iV3zX",
    "outputId": "bb0122da-87ce-4045-bfee-1237d8cd8e02"
   },
   "outputs": [
    {
     "data": {
      "text/plain": [
       "['data science', 'Ml', 'AI']"
      ]
     },
     "execution_count": 5,
     "metadata": {},
     "output_type": "execute_result"
    }
   ],
   "source": [
    "#only find the specific key\n",
    "person.get('skill')"
   ]
  },
  {
   "cell_type": "code",
   "execution_count": 6,
   "metadata": {
    "colab": {
     "base_uri": "https://localhost:8080/",
     "height": 35
    },
    "id": "MZ_hem00WCFd",
    "outputId": "0fb47644-b923-4199-fbaf-47c8884ab5d0"
   },
   "outputs": [
    {
     "data": {
      "text/plain": [
       "'samad'"
      ]
     },
     "execution_count": 6,
     "metadata": {},
     "output_type": "execute_result"
    }
   ],
   "source": [
    "person.get('Name')"
   ]
  },
  {
   "cell_type": "code",
   "execution_count": 7,
   "metadata": {
    "colab": {
     "base_uri": "https://localhost:8080/",
     "height": 35
    },
    "id": "WAkNajjKWIhc",
    "outputId": "935eb7fc-3ef5-4d11-c48f-18138cef9c23"
   },
   "outputs": [
    {
     "data": {
      "text/plain": [
       "28"
      ]
     },
     "execution_count": 7,
     "metadata": {},
     "output_type": "execute_result"
    }
   ],
   "source": [
    "person.get('age','gender') # only take 1st key not 2nd"
   ]
  },
  {
   "cell_type": "code",
   "execution_count": 8,
   "metadata": {
    "colab": {
     "base_uri": "https://localhost:8080/"
    },
    "id": "b1pC5-WaYHNS",
    "outputId": "e858f603-4b54-418d-9673-e80fcc92bf2d"
   },
   "outputs": [
    {
     "name": "stdout",
     "output_type": "stream",
     "text": [
      "{'Name': 'samad', 'gender': 'Male', 'marks': {'python': 70, 'js': 40}, 'age': '28'}\n",
      "<class 'dict'>\n"
     ]
    }
   ],
   "source": [
    "person1={'Name':'samad',\n",
    "        'gender':'Male',\n",
    "        'marks':{'python':70,'js':40},  # in this key and value pair appear so dictionary use\n",
    "        'age':'28'}\n",
    "print(person1)\n",
    "print(type(person1))"
   ]
  },
  {
   "cell_type": "code",
   "execution_count": 9,
   "metadata": {
    "colab": {
     "base_uri": "https://localhost:8080/"
    },
    "id": "I9arhsnlYgpM",
    "outputId": "228f5b17-8fa0-4748-b67d-2af9ca56c12c"
   },
   "outputs": [
    {
     "data": {
      "text/plain": [
       "40"
      ]
     },
     "execution_count": 9,
     "metadata": {},
     "output_type": "execute_result"
    }
   ],
   "source": [
    "person1.get('marks')['js'] # parent and child function "
   ]
  },
  {
   "cell_type": "code",
   "execution_count": 10,
   "metadata": {
    "colab": {
     "base_uri": "https://localhost:8080/"
    },
    "id": "ygHnNY4DZOjS",
    "outputId": "a3f79e42-e06a-4c02-b341-9ffe60df73e3"
   },
   "outputs": [
    {
     "name": "stdout",
     "output_type": "stream",
     "text": [
      "{'Name': 'samad', 'gender': 'Male', 'skill': ['data science', 'Ml', 'AI'], 'age': '28', 'marks': {'python': 70, 'js': 40}}\n"
     ]
    }
   ],
   "source": [
    "person.update(person1)\n",
    "print(person)"
   ]
  },
  {
   "cell_type": "code",
   "execution_count": 11,
   "metadata": {
    "colab": {
     "base_uri": "https://localhost:8080/"
    },
    "id": "rIf7No7HZnuS",
    "outputId": "641cb5e5-b583-41dd-8276-3cc5ea05b2b1"
   },
   "outputs": [
    {
     "data": {
      "text/plain": [
       "{'python': 70, 'js': 40}"
      ]
     },
     "execution_count": 11,
     "metadata": {},
     "output_type": "execute_result"
    }
   ],
   "source": [
    "person.get('marks')"
   ]
  },
  {
   "cell_type": "code",
   "execution_count": 12,
   "metadata": {},
   "outputs": [
    {
     "data": {
      "text/plain": [
       "4"
      ]
     },
     "execution_count": 12,
     "metadata": {},
     "output_type": "execute_result"
    }
   ],
   "source": [
    "len(person)\n",
    "len(person1)"
   ]
  },
  {
   "cell_type": "code",
   "execution_count": 13,
   "metadata": {},
   "outputs": [
    {
     "ename": "AttributeError",
     "evalue": "'dict' object has no attribute 'append'",
     "output_type": "error",
     "traceback": [
      "\u001b[1;31m---------------------------------------------------------------------------\u001b[0m",
      "\u001b[1;31mAttributeError\u001b[0m                            Traceback (most recent call last)",
      "Cell \u001b[1;32mIn[13], line 1\u001b[0m\n\u001b[1;32m----> 1\u001b[0m \u001b[43mperson\u001b[49m\u001b[38;5;241;43m.\u001b[39;49m\u001b[43mappend\u001b[49m(person1)   \u001b[38;5;66;03m# this append function not supprt in it in this update function use insttead of appeand\u001b[39;00m\n",
      "\u001b[1;31mAttributeError\u001b[0m: 'dict' object has no attribute 'append'"
     ]
    }
   ],
   "source": [
    "person.append(person1)   # this append function not supprt in it in this update function use insttead of appeand"
   ]
  },
  {
   "cell_type": "code",
   "execution_count": null,
   "metadata": {},
   "outputs": [
    {
     "name": "stdout",
     "output_type": "stream",
     "text": [
      "{'Name': 'samad', 'gender': 'Male', 'skill': ['data science', 'Ml', 'AI'], 'age': '28', 'marks': {'python': 70, 'js': 40}}\n",
      "{'Name': 'samad', 'gender': 'Male', 'marks': {'python': 70, 'js': 40}, 'age': '28', 'skill': ['data science', 'Ml', 'AI']}\n"
     ]
    }
   ],
   "source": [
    "person.update(person1)\n",
    "print(person)\n",
    "person1.update(person)\n",
    "print(person1)"
   ]
  },
  {
   "cell_type": "code",
   "execution_count": null,
   "metadata": {},
   "outputs": [
    {
     "data": {
      "text/plain": [
       "{'python': 70, 'js': 40}"
      ]
     },
     "execution_count": 57,
     "metadata": {},
     "output_type": "execute_result"
    }
   ],
   "source": [
    "person.items()\n",
    "person.get('marks')"
   ]
  },
  {
   "cell_type": "code",
   "execution_count": null,
   "metadata": {
    "id": "Ii4XXEQ4Z_wq"
   },
   "outputs": [
    {
     "name": "stdout",
     "output_type": "stream",
     "text": [
      "{'Name': 'samad', 'gender': 'Male', 'skill': ['data science', 'Ml', 'AI'], 'age': '28', 'marks': {'python': 70, 'js': 40}, 'organization': 'institute of space'}\n"
     ]
    }
   ],
   "source": [
    "#adding anything\n",
    "person['organization']='institute of space'   # here show in last \n",
    "print(person)\n"
   ]
  },
  {
   "cell_type": "code",
   "execution_count": null,
   "metadata": {
    "colab": {
     "base_uri": "https://localhost:8080/"
    },
    "id": "pDqMvbGDbLlq",
    "outputId": "83eb11ab-5d85-4392-cbdd-72c8bb570fa1"
   },
   "outputs": [
    {
     "name": "stdout",
     "output_type": "stream",
     "text": [
      "{'Name': 'samad', 'gender': 'Male', 'skill': ['data science', 'Ml', 'AI'], 'age': '28', 'marks': {'python': 70, 'js': 40}, 'organization': 'institute of space'}\n"
     ]
    }
   ],
   "source": [
    "print(person)"
   ]
  },
  {
   "cell_type": "code",
   "execution_count": null,
   "metadata": {
    "colab": {
     "base_uri": "https://localhost:8080/"
    },
    "id": "GaxKLiskcigS",
    "outputId": "d06ea400-a702-4d0f-9065-2c0df43f54da"
   },
   "outputs": [
    {
     "name": "stdout",
     "output_type": "stream",
     "text": [
      "{'Name': 'samad', 'gender': 'Male', 'skill': ['data science', 'Ml', 'AI'], 'age': '28', 'marks': {'python': 70, 'js': 40}, 'organization': 'institute of space', 'roll_no': 32, 'address': 'pakistan'}\n"
     ]
    }
   ],
   "source": [
    "# more than one values added this update pass\n",
    "person.update({'roll_no':32,'address':'pakistan'})\n",
    "print(person)"
   ]
  },
  {
   "cell_type": "code",
   "execution_count": null,
   "metadata": {
    "colab": {
     "base_uri": "https://localhost:8080/",
     "height": 141
    },
    "id": "SlBaBmh3c57p",
    "outputId": "33ff5995-712e-44c1-a23e-a645d69849e8"
   },
   "outputs": [
    {
     "ename": "TypeError",
     "evalue": "dict.copy() takes no arguments (1 given)",
     "output_type": "error",
     "traceback": [
      "\u001b[1;31m---------------------------------------------------------------------------\u001b[0m",
      "\u001b[1;31mTypeError\u001b[0m                                 Traceback (most recent call last)",
      "Cell \u001b[1;32mIn[63], line 1\u001b[0m\n\u001b[1;32m----> 1\u001b[0m \u001b[43mperson\u001b[49m\u001b[38;5;241;43m.\u001b[39;49m\u001b[43mcopy\u001b[49m\u001b[43m(\u001b[49m\u001b[38;5;241;43m1\u001b[39;49m\u001b[43m)\u001b[49m\n\u001b[0;32m      2\u001b[0m \u001b[38;5;28mprint\u001b[39m(person)\n",
      "\u001b[1;31mTypeError\u001b[0m: dict.copy() takes no arguments (1 given)"
     ]
    }
   ],
   "source": [
    "person.copy()\n",
    "print(person)"
   ]
  },
  {
   "cell_type": "code",
   "execution_count": 14,
   "metadata": {
    "colab": {
     "base_uri": "https://localhost:8080/"
    },
    "id": "kAP9hDS6dOxZ",
    "outputId": "5eb9a070-123a-4f20-a61b-e5f77c00edcf"
   },
   "outputs": [
    {
     "data": {
      "text/plain": [
       "['Name', 'age', 'gender', 'marks', 'skill']"
      ]
     },
     "execution_count": 14,
     "metadata": {},
     "output_type": "execute_result"
    }
   ],
   "source": [
    "sorted(person) # sorted by only keys values and appera capital letters than small"
   ]
  },
  {
   "cell_type": "code",
   "execution_count": 15,
   "metadata": {
    "colab": {
     "base_uri": "https://localhost:8080/",
     "height": 35
    },
    "id": "T9q8osd3exER",
    "outputId": "0ddedb7b-fb05-42fa-f7b8-c565dbebde54"
   },
   "outputs": [
    {
     "data": {
      "text/plain": [
       "'Male'"
      ]
     },
     "execution_count": 15,
     "metadata": {},
     "output_type": "execute_result"
    }
   ],
   "source": [
    "person.pop('gender') # only provide key"
   ]
  },
  {
   "cell_type": "code",
   "execution_count": 16,
   "metadata": {
    "colab": {
     "base_uri": "https://localhost:8080/"
    },
    "id": "JEcHCksHe4D6",
    "outputId": "bae42ba0-b8c9-40e8-e2fe-82769ac883b7"
   },
   "outputs": [
    {
     "data": {
      "text/plain": [
       "{'Name': 'samad',\n",
       " 'skill': ['data science', 'Ml', 'AI'],\n",
       " 'age': '28',\n",
       " 'marks': {'python': 70, 'js': 40}}"
      ]
     },
     "execution_count": 16,
     "metadata": {},
     "output_type": "execute_result"
    }
   ],
   "source": [
    "person"
   ]
  },
  {
   "cell_type": "code",
   "execution_count": null,
   "metadata": {
    "colab": {
     "base_uri": "https://localhost:8080/"
    },
    "id": "rROSqWmCfpQL",
    "outputId": "4ccce111-3b92-42e9-b657-6f02a006684b"
   },
   "outputs": [
    {
     "data": {
      "text/plain": [
       "('organization', 'institute of space')"
      ]
     },
     "execution_count": 67,
     "metadata": {},
     "output_type": "execute_result"
    }
   ],
   "source": [
    "person.popitem() # last item deleted"
   ]
  },
  {
   "cell_type": "code",
   "execution_count": null,
   "metadata": {
    "colab": {
     "base_uri": "https://localhost:8080/"
    },
    "id": "QSS-tyTKfyvm",
    "outputId": "34e64a2f-8cf3-4354-f98d-9a4e99cf32f2"
   },
   "outputs": [
    {
     "data": {
      "text/plain": [
       "{'Name': 'samad',\n",
       " 'skill': ['data science', 'Ml', 'AI'],\n",
       " 'age': '28',\n",
       " 'marks': {'python': 70, 'js': 40}}"
      ]
     },
     "execution_count": 68,
     "metadata": {},
     "output_type": "execute_result"
    }
   ],
   "source": [
    "person"
   ]
  },
  {
   "cell_type": "code",
   "execution_count": null,
   "metadata": {
    "id": "_mgk2L5wgiNi"
   },
   "outputs": [],
   "source": [
    "person['profession']='Electrical Engineer'"
   ]
  },
  {
   "cell_type": "code",
   "execution_count": null,
   "metadata": {},
   "outputs": [
    {
     "name": "stdout",
     "output_type": "stream",
     "text": [
      "{'Name': 'samad', 'skill': ['data science', 'Ml', 'AI'], 'age': '28', 'marks': {'python': 70, 'js': 40}, 'profession': 'Electrical Engineer'}\n"
     ]
    }
   ],
   "source": [
    "print(person)"
   ]
  },
  {
   "cell_type": "code",
   "execution_count": 18,
   "metadata": {},
   "outputs": [
    {
     "name": "stdout",
     "output_type": "stream",
     "text": [
      "{'Name': 'samad', 'skill': ['data science', 'Ml', 'AI'], 'age': '28', 'marks': {'python': 70, 'js': 40}}\n"
     ]
    },
    {
     "ename": "NameError",
     "evalue": "name 'person' is not defined",
     "output_type": "error",
     "traceback": [
      "\u001b[1;31m---------------------------------------------------------------------------\u001b[0m",
      "\u001b[1;31mNameError\u001b[0m                                 Traceback (most recent call last)",
      "Cell \u001b[1;32mIn[18], line 3\u001b[0m\n\u001b[0;32m      1\u001b[0m \u001b[38;5;28mprint\u001b[39m(person)\n\u001b[0;32m      2\u001b[0m \u001b[38;5;28;01mdel\u001b[39;00m person\n\u001b[1;32m----> 3\u001b[0m \u001b[38;5;28mprint\u001b[39m(\u001b[43mperson\u001b[49m)\n",
      "\u001b[1;31mNameError\u001b[0m: name 'person' is not defined"
     ]
    }
   ],
   "source": [
    "print(person)\n",
    "del person\n",
    "print(person)"
   ]
  },
  {
   "cell_type": "code",
   "execution_count": 4,
   "metadata": {},
   "outputs": [
    {
     "name": "stdout",
     "output_type": "stream",
     "text": [
      "{101: 'samad', 102: 'asad', 103: 'fahad'}\n",
      "{101: 'samad', 102: 'asad', 103: 'fahad'}\n",
      "{101: 'samad', 102: 'asad', 103: 'fahad', 104: 'adnan'}\n"
     ]
    }
   ],
   "source": [
    "# setdefault() function\n",
    "student={101:'samad',102:'asad',103:'fahad'}\n",
    "print(student)\n",
    "return_value=student.setdefault(101,'python ')  # in this key value already present in it so it will return the value\n",
    "print(student)\n",
    "\n",
    "# Now inserting a new key and value in dictionary using setdefault() function\n",
    "\n",
    "return_value2=student.setdefault(104,'adnan')\n",
    "print(student)\n",
    "\n"
   ]
  },
  {
   "cell_type": "code",
   "execution_count": 15,
   "metadata": {
    "id": "dR4qvpa4kY8H"
   },
   "outputs": [
    {
     "name": "stdout",
     "output_type": "stream",
     "text": [
      "['__doc__', '__loader__', '__name__', '__package__', '__spec__', 'acos', 'acosh', 'asin', 'asinh', 'atan', 'atan2', 'atanh', 'cbrt', 'ceil', 'comb', 'copysign', 'cos', 'cosh', 'degrees', 'dist', 'e', 'erf', 'erfc', 'exp', 'exp2', 'expm1', 'fabs', 'factorial', 'floor', 'fma', 'fmod', 'frexp', 'fsum', 'gamma', 'gcd', 'hypot', 'inf', 'isclose', 'isfinite', 'isinf', 'isnan', 'isqrt', 'lcm', 'ldexp', 'lgamma', 'log', 'log10', 'log1p', 'log2', 'modf', 'nan', 'nextafter', 'perm', 'pi', 'pow', 'prod', 'radians', 'remainder', 'sin', 'sinh', 'sqrt', 'sumprod', 'tan', 'tanh', 'tau', 'trunc', 'ulp']\n"
     ]
    }
   ],
   "source": [
    "import math\n",
    "print(dir(math))"
   ]
  },
  {
   "cell_type": "code",
   "execution_count": 7,
   "metadata": {
    "colab": {
     "base_uri": "https://localhost:8080/"
    },
    "id": "XNtzW6D0kfOJ",
    "outputId": "bd06708b-6e47-4349-eee5-490587d8146f"
   },
   "outputs": [
    {
     "data": {
      "text/plain": [
       "0.8939966636005579"
      ]
     },
     "execution_count": 7,
     "metadata": {},
     "output_type": "execute_result"
    }
   ],
   "source": [
    "math.sin(90)"
   ]
  },
  {
   "cell_type": "code",
   "execution_count": 8,
   "metadata": {
    "colab": {
     "base_uri": "https://localhost:8080/"
    },
    "id": "0gK2kkZ2klLv",
    "outputId": "9750aac2-6446-4473-fcad-37090f3905c1"
   },
   "outputs": [
    {
     "data": {
      "text/plain": [
       "3.141592653589793"
      ]
     },
     "execution_count": 8,
     "metadata": {},
     "output_type": "execute_result"
    }
   ],
   "source": [
    "math.pi"
   ]
  },
  {
   "cell_type": "code",
   "execution_count": 9,
   "metadata": {
    "colab": {
     "base_uri": "https://localhost:8080/"
    },
    "id": "5F5xEdC_knlC",
    "outputId": "fbf85b25-e5a7-4205-9fd6-cef845e93243"
   },
   "outputs": [
    {
     "data": {
      "text/plain": [
       "2.0"
      ]
     },
     "execution_count": 9,
     "metadata": {},
     "output_type": "execute_result"
    }
   ],
   "source": [
    "math.sqrt(4)"
   ]
  },
  {
   "cell_type": "code",
   "execution_count": 10,
   "metadata": {
    "colab": {
     "base_uri": "https://localhost:8080/"
    },
    "id": "9HtBQOxcksUO",
    "outputId": "d6ee4a05-0861-4919-bd43-7948428f3bd6"
   },
   "outputs": [
    {
     "data": {
      "text/plain": [
       "4.0"
      ]
     },
     "execution_count": 10,
     "metadata": {},
     "output_type": "execute_result"
    }
   ],
   "source": [
    "math.pow(2,2)"
   ]
  },
  {
   "cell_type": "code",
   "execution_count": 11,
   "metadata": {
    "colab": {
     "base_uri": "https://localhost:8080/"
    },
    "id": "p7ZWEzY_k4mg",
    "outputId": "306d0837-244b-4b1c-bed6-8fec84da449d"
   },
   "outputs": [
    {
     "data": {
      "text/plain": [
       "720"
      ]
     },
     "execution_count": 11,
     "metadata": {},
     "output_type": "execute_result"
    }
   ],
   "source": [
    "math.factorial(6)"
   ]
  },
  {
   "cell_type": "code",
   "execution_count": 16,
   "metadata": {},
   "outputs": [
    {
     "data": {
      "text/plain": [
       "3"
      ]
     },
     "execution_count": 16,
     "metadata": {},
     "output_type": "execute_result"
    }
   ],
   "source": [
    "math.floor(3.5)"
   ]
  },
  {
   "cell_type": "code",
   "execution_count": null,
   "metadata": {
    "colab": {
     "base_uri": "https://localhost:8080/",
     "height": 141
    },
    "id": "M71PKssHk-_N",
    "outputId": "0885a5c1-caed-4c14-a604-af36ea29683b"
   },
   "outputs": [
    {
     "data": {
      "text/plain": [
       "13"
      ]
     },
     "execution_count": 23,
     "metadata": {},
     "output_type": "execute_result"
    }
   ],
   "source": [
    "import random \n",
    "random.randint(1,15)   # this is verbally call "
   ]
  },
  {
   "cell_type": "code",
   "execution_count": 19,
   "metadata": {
    "colab": {
     "base_uri": "https://localhost:8080/"
    },
    "id": "F6k0wiqtlRE9",
    "outputId": "60e3763f-b4d5-4907-e29e-9a1370accbd4"
   },
   "outputs": [
    {
     "name": "stdout",
     "output_type": "stream",
     "text": [
      "['__all__', '__builtins__', '__cached__', '__doc__', '__file__', '__loader__', '__name__', '__package__', '__spec__', 'iskeyword', 'issoftkeyword', 'kwlist', 'softkwlist']\n"
     ]
    }
   ],
   "source": [
    "import keyword\n",
    "print (dir(keyword))"
   ]
  },
  {
   "cell_type": "code",
   "execution_count": null,
   "metadata": {
    "id": "4bmbFI4ilcuf"
   },
   "outputs": [],
   "source": [
    "import random"
   ]
  },
  {
   "cell_type": "code",
   "execution_count": null,
   "metadata": {
    "colab": {
     "base_uri": "https://localhost:8080/"
    },
    "id": "xaetpICJlnHX",
    "outputId": "c3ae41eb-a666-4293-c0c2-8f1f3e6a900c"
   },
   "outputs": [
    {
     "data": {
      "text/plain": [
       "77"
      ]
     },
     "execution_count": 89,
     "metadata": {},
     "output_type": "execute_result"
    }
   ],
   "source": [
    "random.randint(1,100) #call any random numbers"
   ]
  },
  {
   "cell_type": "code",
   "execution_count": null,
   "metadata": {
    "colab": {
     "base_uri": "https://localhost:8080/"
    },
    "id": "EuaSa9TIl6ox",
    "outputId": "2f118dc8-6174-4989-a4b4-1919ac1955ad"
   },
   "outputs": [
    {
     "name": "stdout",
     "output_type": "stream",
     "text": [
      "[1, 2, 3, 4, 5]\n",
      "<class 'list'>\n"
     ]
    }
   ],
   "source": [
    "# practice of list\n",
    "samad_list=[1,2,3,4,5]\n",
    "print(samad_list)\n",
    "print(type(samad_list))"
   ]
  },
  {
   "cell_type": "code",
   "execution_count": null,
   "metadata": {
    "colab": {
     "base_uri": "https://localhost:8080/"
    },
    "id": "cACACoZYmsOU",
    "outputId": "1e017381-29c9-4838-a5c9-7187162c8c45"
   },
   "outputs": [
    {
     "name": "stdout",
     "output_type": "stream",
     "text": [
      "[1, 2, 3, 4, 5, [2, 3, 4, 5, 6, 7], 2, 3, 4, 5, 6, 7, 7]\n"
     ]
    }
   ],
   "source": [
    "samad_list2=[2,3,4,5,6,7,7]\n",
    "print(samad_list+samad_list2)"
   ]
  },
  {
   "cell_type": "code",
   "execution_count": null,
   "metadata": {
    "id": "QxDamC07m6NF"
   },
   "outputs": [],
   "source": [
    "samad_list.append(samad_list2)"
   ]
  },
  {
   "cell_type": "code",
   "execution_count": null,
   "metadata": {
    "colab": {
     "base_uri": "https://localhost:8080/"
    },
    "id": "zlAjEbKJnCMj",
    "outputId": "199ad128-42b3-48a4-d89c-8ef1377fc615"
   },
   "outputs": [
    {
     "data": {
      "text/plain": [
       "[1, 2, 3, 4, 5, [2, 3, 4, 5, 6, 7], [2, 3, 4, 5, 6, 7, 7]]"
      ]
     },
     "execution_count": 101,
     "metadata": {},
     "output_type": "execute_result"
    }
   ],
   "source": [
    "samad_list"
   ]
  },
  {
   "cell_type": "code",
   "execution_count": null,
   "metadata": {
    "colab": {
     "base_uri": "https://localhost:8080/"
    },
    "id": "3SsfGAzTnGr9",
    "outputId": "29a2d636-bdbd-42a0-eda4-6221ada9689c"
   },
   "outputs": [
    {
     "data": {
      "text/plain": [
       "1"
      ]
     },
     "execution_count": 103,
     "metadata": {},
     "output_type": "execute_result"
    }
   ],
   "source": [
    "samad_list2.count(6)"
   ]
  },
  {
   "cell_type": "code",
   "execution_count": null,
   "metadata": {
    "id": "aRnZLHwlnc1L"
   },
   "outputs": [],
   "source": [
    "samad_list.insert(1,2)"
   ]
  },
  {
   "cell_type": "code",
   "execution_count": null,
   "metadata": {
    "colab": {
     "base_uri": "https://localhost:8080/"
    },
    "id": "FxXy28MznmgE",
    "outputId": "2704915e-babe-4627-f991-bcd72dfd2083"
   },
   "outputs": [
    {
     "data": {
      "text/plain": [
       "[1, 2, 2, 3, 4, 5, [2, 3, 4, 5, 6, 7], [2, 3, 4, 5, 6, 7, 7]]"
      ]
     },
     "execution_count": 106,
     "metadata": {},
     "output_type": "execute_result"
    }
   ],
   "source": [
    "samad_list"
   ]
  },
  {
   "cell_type": "markdown",
   "metadata": {
    "id": "30CYqOX2ojab"
   },
   "source": [
    "# Conditional Statement\n",
    "1. if ,else"
   ]
  },
  {
   "cell_type": "code",
   "execution_count": 26,
   "metadata": {
    "id": "BMuilfM7oix9"
   },
   "outputs": [
    {
     "name": "stdout",
     "output_type": "stream",
     "text": [
      "You can cast a vote\n",
      "I am out of the loop\n"
     ]
    }
   ],
   "source": [
    "age=int(input('Enter your Age '))\n",
    "if age>=18:\n",
    "    print('You can cast a vote')\n",
    "else:\n",
    "    print('You can not a cast a vote')\n",
    "print('I am out of the loop')"
   ]
  }
 ],
 "metadata": {
  "colab": {
   "provenance": []
  },
  "kernelspec": {
   "display_name": "Python 3",
   "name": "python3"
  },
  "language_info": {
   "codemirror_mode": {
    "name": "ipython",
    "version": 3
   },
   "file_extension": ".py",
   "mimetype": "text/x-python",
   "name": "python",
   "nbconvert_exporter": "python",
   "pygments_lexer": "ipython3",
   "version": "3.13.0"
  }
 },
 "nbformat": 4,
 "nbformat_minor": 0
}
