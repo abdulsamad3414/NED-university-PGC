{
 "cells": [
  {
   "cell_type": "code",
   "execution_count": null,
   "metadata": {},
   "outputs": [
    {
     "name": "stdout",
     "output_type": "stream",
     "text": [
      "12\n",
      "too low please insert a high number :\n",
      "too low please insert a high number :\n",
      "too low please insert a high number :\n",
      "too low please insert a high number :\n",
      "too low please insert a high number :\n",
      "Correct number\n",
      "5\n"
     ]
    }
   ],
   "source": [
    "# guess number\n",
    "import random \n",
    "random_number=random.randint(1,20)\n",
    "print(random_number)\n",
    "counter=0\n",
    "guess_num=int(input('Enter a number here:'))  \n",
    "# counter=1 if we put counter here so insert the 1 not zero because this count 1 items already\n",
    "while guess_num!=random_number:\n",
    "    if guess_num<random_number:\n",
    "        print('too low please insert a high number :')\n",
    "    else:\n",
    "        print('too high please insert a low number :')\n",
    "    guess_num=int(input('Enter a number here:'))\n",
    "    counter+=1\n",
    "\n",
    "else:\n",
    "    print('Correct number')\n",
    "    print(counter)"
   ]
  },
  {
   "cell_type": "markdown",
   "metadata": {},
   "source": [
    "# For loop "
   ]
  },
  {
   "cell_type": "code",
   "execution_count": 4,
   "metadata": {},
   "outputs": [
    {
     "name": "stdout",
     "output_type": "stream",
     "text": [
      "s\n",
      "a\n",
      "m\n",
      "a\n",
      "d\n"
     ]
    }
   ],
   "source": [
    "string ='samad'\n",
    "for i in string:\n",
    "    print(i)"
   ]
  },
  {
   "cell_type": "code",
   "execution_count": 5,
   "metadata": {},
   "outputs": [
    {
     "name": "stdout",
     "output_type": "stream",
     "text": [
      "samad\n",
      "fahad\n",
      "asad\n"
     ]
    }
   ],
   "source": [
    "list=['samad','fahad','asad']\n",
    "for i in list:\n",
    "    print(i)"
   ]
  },
  {
   "cell_type": "code",
   "execution_count": null,
   "metadata": {},
   "outputs": [
    {
     "name": "stdout",
     "output_type": "stream",
     "text": [
      "<class 'set'>\n"
     ]
    }
   ],
   "source": [
    "set={1,2,3,4,5,6,6}\n",
    "a=type(set)\n"
   ]
  }
 ],
 "metadata": {
  "kernelspec": {
   "display_name": "Python 3",
   "language": "python",
   "name": "python3"
  },
  "language_info": {
   "codemirror_mode": {
    "name": "ipython",
    "version": 3
   },
   "file_extension": ".py",
   "mimetype": "text/x-python",
   "name": "python",
   "nbconvert_exporter": "python",
   "pygments_lexer": "ipython3",
   "version": "3.13.0"
  }
 },
 "nbformat": 4,
 "nbformat_minor": 2
}
