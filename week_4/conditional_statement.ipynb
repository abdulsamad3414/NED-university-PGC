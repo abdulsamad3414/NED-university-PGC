{
  "nbformat": 4,
  "nbformat_minor": 0,
  "metadata": {
    "colab": {
      "provenance": []
    },
    "kernelspec": {
      "name": "python3",
      "display_name": "Python 3"
    },
    "language_info": {
      "name": "python"
    }
  },
  "cells": [
    {
      "cell_type": "code",
      "execution_count": null,
      "metadata": {
        "colab": {
          "base_uri": "https://localhost:8080/"
        },
        "id": "RhdHuhoApHCE",
        "outputId": "159892c4-62ee-4f33-835c-9e9022fd0ea8"
      },
      "outputs": [
        {
          "output_type": "stream",
          "name": "stdout",
          "text": [
            "you can cast a vote becasue you are excatly 18\n",
            "i am out of this loop\n"
          ]
        }
      ],
      "source": [
        "# Conditional statement\n",
        "#if, else\n",
        "age=18\n",
        "if age>18:\n",
        "  print ('you can cast a vote')\n",
        "elif age==18:\n",
        "  print(\"you can cast a vote becasue you are excatly 18\")\n",
        "else:\n",
        "  print('you cannt cast a vote')\n",
        "print (\"i am out of this loop\")\n"
      ]
    },
    {
      "cell_type": "code",
      "source": [
        "age=int(input(\"Enter your age:\"))\n",
        "if age >18:\n",
        "  print('you can cast a vote')\n",
        "elif age==18:\n",
        "  print(\"you can be cast a vote becasue you are excatly 18 year old \")\n",
        "else:\n",
        "  print('you can not a cast vote')"
      ],
      "metadata": {
        "colab": {
          "base_uri": "https://localhost:8080/"
        },
        "id": "xlh8qS54qxBE",
        "outputId": "0b5f4d6f-2aa2-47c3-f946-194c2929a66a"
      },
      "execution_count": null,
      "outputs": [
        {
          "output_type": "stream",
          "name": "stdout",
          "text": [
            "Enter your age:23\n",
            "you can cast a vote\n"
          ]
        }
      ]
    }
  ]
}