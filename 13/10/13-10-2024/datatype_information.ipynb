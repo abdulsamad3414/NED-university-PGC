{
 "cells": [
  {
   "cell_type": "markdown",
   "metadata": {},
   "source": [
    "# What is data types \n",
    "\n",
    "This is a format that communicate with the interpreter for all programming languages"
   ]
  },
  {
   "cell_type": "code",
   "execution_count": null,
   "metadata": {},
   "outputs": [
    {
     "name": "stdout",
     "output_type": "stream",
     "text": [
      "Mass is:  5.5 kg\n",
      "<class 'str'>\n"
     ]
    }
   ],
   "source": [
    "# how will take an input from user \n",
    "mass=input('Enter the value of mass in kg: ')\n",
    "print('Mass is: ',mass,'kg')\n",
    "print(type(mass))    #here type will be string because we are taking input from user as string if we want to take input as integer then we have to convert it into integer using int() function\n"
   ]
  },
  {
   "cell_type": "code",
   "execution_count": 6,
   "metadata": {},
   "outputs": [
    {
     "name": "stdout",
     "output_type": "stream",
     "text": [
      "The force is 9.0 N\n"
     ]
    }
   ],
   "source": [
    "Mass=float(input('Enter any mass here'))\n",
    "acceleration=float(input('Enter any acceleration here'))\n",
    "Force=Mass*acceleration\n",
    "print('The force is', Force,'N')"
   ]
  },
  {
   "cell_type": "markdown",
   "metadata": {},
   "source": [
    "# Write a program in which appear the sum of two numbers \n"
   ]
  },
  {
   "cell_type": "code",
   "execution_count": 7,
   "metadata": {},
   "outputs": [
    {
     "name": "stdout",
     "output_type": "stream",
     "text": [
      "The sum of two numbers is 37.0\n"
     ]
    }
   ],
   "source": [
    "Num1=float(input('Enter first number here'))\n",
    "Num2=float(input('Enter second number here'))\n",
    "Sum=Num1+Num2\n",
    "print('The sum of two numbers is',Sum)"
   ]
  },
  {
   "cell_type": "markdown",
   "metadata": {},
   "source": [
    "# Difference of two number"
   ]
  },
  {
   "cell_type": "code",
   "execution_count": 8,
   "metadata": {},
   "outputs": [
    {
     "name": "stdout",
     "output_type": "stream",
     "text": [
      "The diff of two numbers is 31.0\n"
     ]
    }
   ],
   "source": [
    "Num1=float(input('Enter first number here'))\n",
    "Num2=float(input('Enter second number here'))\n",
    "diff=Num1-Num2\n",
    "print('The diff of two numbers is',diff)"
   ]
  },
  {
   "cell_type": "markdown",
   "metadata": {},
   "source": [
    "# Product of two numbers "
   ]
  },
  {
   "cell_type": "code",
   "execution_count": 9,
   "metadata": {},
   "outputs": [
    {
     "name": "stdout",
     "output_type": "stream",
     "text": [
      "The product of two numbers is 16.0\n"
     ]
    }
   ],
   "source": [
    "Num1=float(input('Enter first number here'))\n",
    "Num2=float(input('Enter second number here'))\n",
    "product=Num1*Num2\n",
    "print('The product of two numbers is',product)"
   ]
  },
  {
   "cell_type": "markdown",
   "metadata": {},
   "source": [
    "# Division of Two Numbers "
   ]
  },
  {
   "cell_type": "code",
   "execution_count": 11,
   "metadata": {},
   "outputs": [
    {
     "name": "stdout",
     "output_type": "stream",
     "text": [
      "The Division of two numbers is 13.411764705882353\n"
     ]
    }
   ],
   "source": [
    "Num1=float(input('Enter first number here'))\n",
    "Num2=float(input('Enter second number here'))\n",
    "Division=Num1/Num2\n",
    "print('The Division of two numbers is',Division)"
   ]
  },
  {
   "cell_type": "markdown",
   "metadata": {},
   "source": [
    "# Floor Division"
   ]
  },
  {
   "cell_type": "code",
   "execution_count": 14,
   "metadata": {},
   "outputs": [
    {
     "name": "stdout",
     "output_type": "stream",
     "text": [
      "The Floor_Division of two numbers is 10.0\n"
     ]
    }
   ],
   "source": [
    "Num1=float(input('Enter first number here'))\n",
    "Num2=float(input('Enter second number here'))\n",
    "Floor_Division=Num1//Num2\n",
    "print('The Floor_Division of two numbers is',Floor_Division)"
   ]
  },
  {
   "cell_type": "markdown",
   "metadata": {},
   "source": [
    "# find out the number of the number"
   ]
  },
  {
   "cell_type": "code",
   "execution_count": 22,
   "metadata": {},
   "outputs": [
    {
     "name": "stdout",
     "output_type": "stream",
     "text": [
      "The result of 3.0 raised to the power of 3.0 is 27.0\n"
     ]
    }
   ],
   "source": [
    "Power_number=float(input('Enter any number here for calculating power:'))   # This is a dynamic program because we took input from user\n",
    "power_value=float(input('Enter the power value here:'))\n",
    "result=Power_number**power_value\n",
    "print('The result of',Power_number,'raised to the power of',power_value,'is',result)"
   ]
  },
  {
   "cell_type": "markdown",
   "metadata": {},
   "source": [
    "# Remainder Operator     %"
   ]
  },
  {
   "cell_type": "code",
   "execution_count": 24,
   "metadata": {},
   "outputs": [
    {
     "data": {
      "text/plain": [
       "1"
      ]
     },
     "execution_count": 24,
     "metadata": {},
     "output_type": "execute_result"
    }
   ],
   "source": [
    "45%2\n"
   ]
  },
  {
   "cell_type": "markdown",
   "metadata": {},
   "source": [
    "# Type casting =========one datatype change to another datatype by itself"
   ]
  },
  {
   "cell_type": "code",
   "execution_count": null,
   "metadata": {},
   "outputs": [
    {
     "name": "stdout",
     "output_type": "stream",
     "text": [
      "0.6\n",
      "<class 'str'>\n"
     ]
    }
   ],
   "source": [
    "# samad=0.6 \n",
    "samad=str(0.6)     #HERE float data type converted into string data type\n",
    "print(samad)\n",
    "print(type(samad))"
   ]
  },
  {
   "cell_type": "code",
   "execution_count": null,
   "metadata": {},
   "outputs": [
    {
     "name": "stdout",
     "output_type": "stream",
     "text": [
      "3.0\n",
      "<class 'float'>\n"
     ]
    }
   ],
   "source": [
    "name=float(3) # Here int converted into float \n",
    "print(name)\n",
    "print(type(name))"
   ]
  },
  {
   "cell_type": "markdown",
   "metadata": {},
   "source": [
    "# All datatypes inserted within a single line "
   ]
  },
  {
   "cell_type": "code",
   "execution_count": 33,
   "metadata": {},
   "outputs": [
    {
     "name": "stdout",
     "output_type": "stream",
     "text": [
      "Abdul Samad 28 Male Engineer\n",
      "<class 'str'> <class 'int'> <class 'str'> <class 'str'>\n"
     ]
    }
   ],
   "source": [
    "name,age,gender,education='Abdul Samad',28,'Male','Engineer'\n",
    "print(name,age,gender,education)\n",
    "print(type(name),type(age),type(gender),type(education))"
   ]
  },
  {
   "cell_type": "markdown",
   "metadata": {},
   "source": [
    "# Upper and lower case functions in python "
   ]
  },
  {
   "cell_type": "code",
   "execution_count": 35,
   "metadata": {},
   "outputs": [
    {
     "name": "stdout",
     "output_type": "stream",
     "text": [
      "I LOVE PAKISTAN \n",
      "i love pakistan \n"
     ]
    }
   ],
   "source": [
    "txt='I Love Pakistan '\n",
    "print(txt.upper())\n",
    "print(txt.lower())"
   ]
  },
  {
   "cell_type": "markdown",
   "metadata": {},
   "source": [
    "# What is built in function in python \n",
    "\n",
    "That function which have a ()<==== this type of brackets called built-in-function"
   ]
  },
  {
   "cell_type": "code",
   "execution_count": 36,
   "metadata": {},
   "outputs": [
    {
     "data": {
      "text/plain": [
       "1"
      ]
     },
     "execution_count": 36,
     "metadata": {},
     "output_type": "execute_result"
    }
   ],
   "source": [
    "min(1,2,3,45,6,7,78,8)"
   ]
  },
  {
   "cell_type": "code",
   "execution_count": 38,
   "metadata": {},
   "outputs": [
    {
     "data": {
      "text/plain": [
       "77"
      ]
     },
     "execution_count": 38,
     "metadata": {},
     "output_type": "execute_result"
    }
   ],
   "source": [
    "max(13,3,4,5,5,6,6,7,7,77,8,8,)"
   ]
  },
  {
   "cell_type": "code",
   "execution_count": 49,
   "metadata": {},
   "outputs": [
    {
     "name": "stdout",
     "output_type": "stream",
     "text": [
      "[(1, 6, 34, 68, 5, 4, 3)]\n",
      "<class 'list'>\n"
     ]
    }
   ],
   "source": [
    "a=[(1,6,34,68,5,4,3)]\n",
    "a.sort()\n",
    "print(a)\n",
    "print(type(a))\n"
   ]
  },
  {
   "cell_type": "markdown",
   "metadata": {},
   "source": [
    "# Make a marksheet of 5 subjects total marks is 500"
   ]
  },
  {
   "cell_type": "code",
   "execution_count": 57,
   "metadata": {},
   "outputs": [
    {
     "name": "stdout",
     "output_type": "stream",
     "text": [
      "The first subject percentage is: 80.0\n",
      "The second subject percentage is: 80.0\n",
      "The third subject percentage is: 80.0\n",
      "The forth subject percentage is: 80.0\n",
      "The fifth subject percentage is: 80.0\n",
      "The obtain_marks of all subjects is: 80.0\n",
      "The total percentage is: 80.0\n"
     ]
    }
   ],
   "source": [
    "sub1=float(input('Enter the First subject marks'))\n",
    "sub2=float(input('Enter the Second subject marks'))\n",
    "sub3=float(input('Enter the Third subject marks'))\n",
    "sub4=float(input('Enter the forth subject marks'))\n",
    "sub5=float(input('Enter the fifth subject marks'))\n",
    "\n",
    "obt_marks=100-sub1\n",
    "obt_marks=100-sub2\n",
    "obt_marks=100-sub3\n",
    "obt_marks=100-sub4\n",
    "obt_marks=100-sub5\n",
    "\n",
    "\n",
    "\n",
    "# Calculating the percentage of each subject\n",
    "sub1_per=(obt_marks/100)*100\n",
    "sub2_per=(obt_marks/100)*100\n",
    "sub3_per=(obt_marks/100)*100\n",
    "sub4_per=(obt_marks/100)*100\n",
    "sub5_per=(obt_marks/100)*100\n",
    "\n",
    "Total_per=(sub1_per+sub2_per+sub3_per+sub4_per+sub5_per)/5\n",
    "\n",
    "print('The first subject percentage is:',sub1_per)\n",
    "print('The second subject percentage is:',sub2_per)\n",
    "print('The third subject percentage is:',sub3_per)\n",
    "print('The forth subject percentage is:',sub4_per)\n",
    "print('The fifth subject percentage is:',sub5_per)\n",
    "print('The obtain_marks of all subjects is:',obt_marks)\n",
    "print('The total percentage is:',Total_per)"
   ]
  }
 ],
 "metadata": {
  "kernelspec": {
   "display_name": "Python 3",
   "language": "python",
   "name": "python3"
  },
  "language_info": {
   "codemirror_mode": {
    "name": "ipython",
    "version": 3
   },
   "file_extension": ".py",
   "mimetype": "text/x-python",
   "name": "python",
   "nbconvert_exporter": "python",
   "pygments_lexer": "ipython3",
   "version": "3.13.0"
  }
 },
 "nbformat": 4,
 "nbformat_minor": 2
}
