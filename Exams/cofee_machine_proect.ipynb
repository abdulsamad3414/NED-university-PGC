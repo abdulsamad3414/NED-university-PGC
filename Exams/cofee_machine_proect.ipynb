{
 "cells": [
  {
   "cell_type": "markdown",
   "metadata": {},
   "source": [
    "# Cofee machine Project"
   ]
  },
  {
   "cell_type": "code",
   "execution_count": 2,
   "metadata": {},
   "outputs": [
    {
     "name": "stdout",
     "output_type": "stream",
     "text": [
      "{'ingredients': {'water': 250, 'milk': 100, 'coffee': 24}, 'cost': 200}\n",
      "Please insert coins:\n",
      "Sorry that's not enough money,money refunded\n"
     ]
    },
    {
     "ename": "KeyError",
     "evalue": "'break'",
     "output_type": "error",
     "traceback": [
      "\u001b[1;31m---------------------------------------------------------------------------\u001b[0m",
      "\u001b[1;31mKeyError\u001b[0m                                  Traceback (most recent call last)",
      "Cell \u001b[1;32mIn[2], line 72\u001b[0m\n\u001b[0;32m     70\u001b[0m     \u001b[38;5;28mprint\u001b[39m(\u001b[38;5;124mf\u001b[39m\u001b[38;5;124m\"\u001b[39m\u001b[38;5;124mprofit=Rs\u001b[39m\u001b[38;5;132;01m{\u001b[39;00m\u001b[38;5;124m'\u001b[39m\u001b[38;5;124mprofit\u001b[39m\u001b[38;5;124m'\u001b[39m\u001b[38;5;132;01m}\u001b[39;00m\u001b[38;5;124m\"\u001b[39m)\n\u001b[0;32m     71\u001b[0m \u001b[38;5;28;01melse\u001b[39;00m:\n\u001b[1;32m---> 72\u001b[0m     coffee_type\u001b[38;5;241m=\u001b[39m\u001b[43mmenu\u001b[49m\u001b[43m[\u001b[49m\u001b[43mchoice\u001b[49m\u001b[43m]\u001b[49m\n\u001b[0;32m     73\u001b[0m     \u001b[38;5;28mprint\u001b[39m(coffee_type)\n\u001b[0;32m     74\u001b[0m     \u001b[38;5;28;01mif\u001b[39;00m check_resources(coffee_type[\u001b[38;5;124m'\u001b[39m\u001b[38;5;124mingredients\u001b[39m\u001b[38;5;124m'\u001b[39m]):\n",
      "\u001b[1;31mKeyError\u001b[0m: 'break'"
     ]
    }
   ],
   "source": [
    "menu={\n",
    "    \"latte\":{\n",
    "        \"ingredients\":{\n",
    "        'water':200,\n",
    "        'milk':150,\n",
    "        'coffee':24,\n",
    "    },\n",
    "\n",
    "    'cost':150\n",
    "\n",
    "    },\n",
    "    \"espresso\":{\n",
    "        \"ingredients\":{\n",
    "        'water':50,\n",
    "        'coffee':18,\n",
    "    },\n",
    "\n",
    "    'cost':100\n",
    "\n",
    "    },\n",
    "    \"cappaccino\":{\n",
    "        \"ingredients\":{\n",
    "        'water':250,\n",
    "        'milk':100,\n",
    "        'coffee':24,\n",
    "    },\n",
    "\n",
    "    'cost':200\n",
    "\n",
    "    },\n",
    "}\n",
    "resources={\"water\":800,\"milk\":500,\"coffee\":760,}\n",
    "profit=0\n",
    "def check_resources(order_ingredients):\n",
    "    for i in order_ingredients:  # water ,then milk,then coffee\n",
    "        if order_ingredients[i]>resources[i]:\n",
    "            print(f\"sorry there is not enough{i}\")\n",
    "            return False\n",
    "        return True\n",
    "def process_coins():\n",
    "    print(\"Please insert coins:\")\n",
    "    total=0\n",
    "    coins_five=int(input('How many 5Rs coins?:'))\n",
    "    coins_ten=int(input('How many 10Rs coins?:'))\n",
    "    coins_twenty=int(input('How many 20Rs coins?:'))\n",
    "    total=coins_five*5+coins_ten*10+coins_twenty*20\n",
    "    return total\n",
    "def is_payment_successful(money_received,coffee_cost):\n",
    "    if money_received>=coffee_cost:\n",
    "        global profit\n",
    "        profit+=coffee_cost\n",
    "        return True\n",
    "    else:\n",
    "        print(\"Sorry that's not enough money,money refunded\")\n",
    "        return False\n",
    "def make_coffee(coffee_name,coffee_ingredients):\n",
    "    for i in coffee_ingredients:\n",
    "        resources[i]-=coffee_ingredients[i]\n",
    "    print(f\"Here is your {coffee_name}! Enjoy!\")\n",
    "\n",
    "\n",
    "while True:\n",
    "    choice=input(\"what would like to have ?(latte/espresso/cappaccino)\")\n",
    "    if choice==\"off\":\n",
    "        break\n",
    "    elif choice == \"report\":\n",
    "        print(f\"water={resources['water']}ml\")\n",
    "        print(f\"milk={resources['milk']}ml\")\n",
    "        print(f\"coffee={resources['coffee']}g\")\n",
    "        print(f\"profit=Rs{'profit'}\")\n",
    "    else:\n",
    "        coffee_type=menu[choice]\n",
    "        print(coffee_type)\n",
    "        if check_resources(coffee_type['ingredients']):\n",
    "            payment=process_coins()\n",
    "            if is_payment_successful(payment,coffee_type['cost']):\n",
    "                make_coffee(choice,coffee_type['ingredients'])"
   ]
  }
 ],
 "metadata": {
  "kernelspec": {
   "display_name": "Python 3",
   "language": "python",
   "name": "python3"
  },
  "language_info": {
   "codemirror_mode": {
    "name": "ipython",
    "version": 3
   },
   "file_extension": ".py",
   "mimetype": "text/x-python",
   "name": "python",
   "nbconvert_exporter": "python",
   "pygments_lexer": "ipython3",
   "version": "3.13.0"
  }
 },
 "nbformat": 4,
 "nbformat_minor": 2
}
