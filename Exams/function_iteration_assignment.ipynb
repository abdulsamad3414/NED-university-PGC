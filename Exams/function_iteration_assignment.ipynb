{
 "cells": [
  {
   "cell_type": "markdown",
   "metadata": {},
   "source": [
    "Name :Abdul-Samad \n",
    "\n",
    "S/O: Salahuddin \n",
    "\n",
    "Email:abdulsamads3414@gmail.com\n",
    "\n",
    "Coruse Instructor:Sir Majeed \n",
    "\n",
    "Date :08-12-2024\n",
    "\n",
    "Assignment Type :Last function and itertion in python"
   ]
  },
  {
   "cell_type": "markdown",
   "metadata": {},
   "source": [
    "Write a loop that makes seven calls to print(), so we get on the output the\n",
    "following triangle:\n",
    "#\n",
    "##\n",
    "###\n",
    "####\n",
    "#####\n",
    "######\n",
    "#######"
   ]
  },
  {
   "cell_type": "code",
   "execution_count": 1,
   "metadata": {},
   "outputs": [
    {
     "name": "stdout",
     "output_type": "stream",
     "text": [
      "# \n",
      "# # \n",
      "# # # \n",
      "# # # # \n",
      "# # # # # \n",
      "# # # # # # \n"
     ]
    }
   ],
   "source": [
    "for i in range (1,7):\n",
    "    for j in range(1,i+1):\n",
    "        print('#',end =' ')\n",
    "    print()"
   ]
  },
  {
   "cell_type": "markdown",
   "metadata": {},
   "source": [
    "2. Use nested loops to create the following:\n",
    "# # # # # # # #\n",
    "# # # # # # # #\n",
    "# # # # # # # #\n",
    "# # # # # # # #\n",
    "# # # # # # # #\n",
    "# # # # # # # #\n",
    "# # # # # # # #\n",
    "# # # # # # # #"
   ]
  },
  {
   "cell_type": "code",
   "execution_count": 2,
   "metadata": {},
   "outputs": [
    {
     "name": "stdout",
     "output_type": "stream",
     "text": [
      "# # # # # # # # \n",
      "# # # # # # # # \n",
      "# # # # # # # # \n",
      "# # # # # # # # \n",
      "# # # # # # # # \n",
      "# # # # # # # # \n",
      "# # # # # # # # \n",
      "# # # # # # # # \n"
     ]
    }
   ],
   "source": [
    "for i in range (1,9):\n",
    "    for j in range (1,9):\n",
    "        print('#',end =' ')\n",
    "    print()"
   ]
  },
  {
   "cell_type": "markdown",
   "metadata": {},
   "source": [
    "3. Iterate through the list, ['Python', 'Numpy','Pandas','Django', 'Flask'] using a for\n",
    "loop and print out the items."
   ]
  },
  {
   "cell_type": "code",
   "execution_count": 3,
   "metadata": {},
   "outputs": [
    {
     "name": "stdout",
     "output_type": "stream",
     "text": [
      "Python\n",
      "Numpy\n",
      "Pandas\n",
      "Django\n",
      "Flask\n"
     ]
    }
   ],
   "source": [
    "Original_List=['Python', 'Numpy','Pandas','Django', 'Flask']\n",
    "for i in range (len(Original_List)):\n",
    "    print(Original_List[i])"
   ]
  },
  {
   "cell_type": "markdown",
   "metadata": {},
   "source": [
    "4. Use for loop to iterate from 0 to 100 and print the sum of all evens and the sum of\n",
    "all odds."
   ]
  },
  {
   "cell_type": "code",
   "execution_count": 4,
   "metadata": {},
   "outputs": [
    {
     "name": "stdout",
     "output_type": "stream",
     "text": [
      "The Odd sum is : 2500\n",
      "The even_sum is : 2450\n"
     ]
    }
   ],
   "source": [
    "even_sum=0\n",
    "odd_sum=0\n",
    "for i in range (0,100):\n",
    "    if i % 2==0:\n",
    "        even_sum+=i\n",
    "    else:\n",
    "        odd_sum+=i\n",
    "print('The Odd sum is :',odd_sum)\n",
    "print('The even_sum is :',even_sum)"
   ]
  },
  {
   "cell_type": "markdown",
   "metadata": {},
   "source": [
    "5. Calculate the cube of all numbers from 1 to a given number"
   ]
  },
  {
   "cell_type": "code",
   "execution_count": 5,
   "metadata": {},
   "outputs": [
    {
     "name": "stdout",
     "output_type": "stream",
     "text": [
      "1\n",
      "8\n",
      "27\n",
      "64\n",
      "125\n",
      "216\n",
      "343\n",
      "512\n",
      "729\n",
      "1000\n",
      "1331\n",
      "1728\n",
      "2197\n",
      "2744\n",
      "3375\n",
      "4096\n",
      "4913\n",
      "5832\n",
      "6859\n",
      "8000\n",
      "9261\n",
      "10648\n",
      "12167\n",
      "13824\n",
      "15625\n",
      "17576\n",
      "19683\n",
      "21952\n",
      "24389\n",
      "27000\n",
      "29791\n",
      "32768\n",
      "35937\n"
     ]
    }
   ],
   "source": [
    "user_input=int(input('Enter any number Here:'))\n",
    "for i in range(1,user_input):\n",
    "    print(i**3)"
   ]
  },
  {
   "cell_type": "markdown",
   "metadata": {},
   "source": [
    "6. Declare a function add_two_numbers. It takes two parameters and it returns a\n",
    "sum."
   ]
  },
  {
   "cell_type": "code",
   "execution_count": 6,
   "metadata": {},
   "outputs": [
    {
     "name": "stdout",
     "output_type": "stream",
     "text": [
      "The sum of 1 and 2 is: 3\n"
     ]
    }
   ],
   "source": [
    "def sum(a,b):\n",
    "    return a + b\n",
    "Two_numbers=sum(1,2)\n",
    "print('The sum of 1 and 2 is:',Two_numbers)"
   ]
  },
  {
   "cell_type": "markdown",
   "metadata": {},
   "source": [
    "7. Area of a circle is calculated as follows: area = π x r x r. Write a function that\n",
    "calculates area_of_circle."
   ]
  },
  {
   "cell_type": "code",
   "execution_count": 7,
   "metadata": {},
   "outputs": [
    {
     "name": "stdout",
     "output_type": "stream",
     "text": [
      "78.55\n"
     ]
    }
   ],
   "source": [
    "def area_of_circle(pi,r):\n",
    "    return pi * r ** 2\n",
    "pi=3.142\n",
    "r=5\n",
    "result=area_of_circle(pi,r)\n",
    "print(result)"
   ]
  },
  {
   "cell_type": "markdown",
   "metadata": {},
   "source": [
    "9. Temperature in °C can be converted to °F using this formula: °F = (°C x 9/5) + 32. Write a function which converts °C to °F, convert_celsius_to-fahrenheit."
   ]
  },
  {
   "cell_type": "code",
   "execution_count": 8,
   "metadata": {},
   "outputs": [
    {
     "name": "stdout",
     "output_type": "stream",
     "text": [
      "93.2\n"
     ]
    }
   ],
   "source": [
    "def cel_to_feren(c):\n",
    "    return c * 9/5 +32\n",
    "c=float(input('Enter any celsuis temperature:'))\n",
    "result=cel_to_feren(c)\n",
    "print(result)"
   ]
  },
  {
   "cell_type": "markdown",
   "metadata": {},
   "source": [
    "10.Write a function called check-season, it takes a month parameter and returns the\n",
    "season: Autumn, Winter, Spring or Summer."
   ]
  },
  {
   "cell_type": "code",
   "execution_count": 9,
   "metadata": {},
   "outputs": [
    {
     "name": "stdout",
     "output_type": "stream",
     "text": [
      "spring\n"
     ]
    }
   ],
   "source": [
    "def check_season(season):\n",
    "    if season in [\"spring\",\"summer\",\"autumn\",\"winter\"]:\n",
    "        return season\n",
    "    else:\n",
    "        return \"Invalid season\"\n",
    "season=input('Enter Seasons Here:')\n",
    "result=check_season(season)\n",
    "print(result)\n"
   ]
  },
  {
   "cell_type": "markdown",
   "metadata": {},
   "source": [
    "11.Write a function called calculate_slope which return the slope of a linear equation."
   ]
  },
  {
   "cell_type": "code",
   "execution_count": 10,
   "metadata": {},
   "outputs": [
    {
     "name": "stdout",
     "output_type": "stream",
     "text": [
      "16\n"
     ]
    }
   ],
   "source": [
    "def calculate_slope(slope_of_a_linear_equation):\n",
    "    return slope_of_a_linear_equation\n",
    "m=2\n",
    "x=5\n",
    "b=6\n",
    "slope_of_a_linear_equation=m*x+b\n",
    "\n",
    "result=calculate_slope(slope_of_a_linear_equation)\n",
    "print(result)\n"
   ]
  },
  {
   "cell_type": "markdown",
   "metadata": {},
   "source": [
    "12.Quadratic equation is calculated as follows: ax2 + bx + c = 0. Write a function\n",
    "which calculates the solution set of a quadratic equation, solve_quadratic_eqn."
   ]
  },
  {
   "cell_type": "code",
   "execution_count": 12,
   "metadata": {},
   "outputs": [],
   "source": [
    "import math"
   ]
  },
  {
   "cell_type": "code",
   "execution_count": 40,
   "metadata": {},
   "outputs": [
    {
     "name": "stdout",
     "output_type": "stream",
     "text": [
      "(-0.75, -1.0)\n"
     ]
    }
   ],
   "source": [
    "import math\n",
    "def quadratic_equation():\n",
    "    a=float(input('Enter the coefficient of x^2:'))\n",
    "    b=float(input('Enter the coefficient of x:'))\n",
    "    c=float(input('Enter the constant term:'))\n",
    "    discriminant = b**2 - 4*a*c\n",
    "    if discriminant>=0:\n",
    "\n",
    "        sqrt_discriminant=math.sqrt(discriminant)\n",
    "        formula1=(-b+sqrt_discriminant)/(2*a)\n",
    "        formula2=(-b-sqrt_discriminant)/(2*a)\n",
    "        return formula1,formula2\n",
    "result=quadratic_equation()\n",
    "print(result)\n"
   ]
  },
  {
   "cell_type": "markdown",
   "metadata": {},
   "source": [
    "13.Declare a function named print_list. It takes a list as a parameter and it prints out\n",
    "each element of the list."
   ]
  },
  {
   "cell_type": "code",
   "execution_count": 64,
   "metadata": {},
   "outputs": [
    {
     "name": "stdout",
     "output_type": "stream",
     "text": [
      "1\n",
      "2\n",
      "3\n",
      "4\n",
      "5\n",
      "6\n"
     ]
    }
   ],
   "source": [
    "def print_list(numbers):\n",
    "    for i in numbers:\n",
    "        print(i)\n",
    "numbers=[1,2,3,4,5,6]\n",
    "print_list(numbers)"
   ]
  },
  {
   "cell_type": "markdown",
   "metadata": {},
   "source": [
    "14.Declare a function named reverse_list. It takes an array as a parameter and it\n",
    "returns the reverse of the array (use loops).\n",
    "\n",
    "print(reverse_list([1, 2, 3, 4, 5]))\n",
    "[5, 4, 3, 2, 1]\n",
    "print(reverse_list1([\"A\", \"B\", \"C\"]))\n",
    "[\"C\", \"B\", \"A\"]"
   ]
  },
  {
   "cell_type": "code",
   "execution_count": 8,
   "metadata": {},
   "outputs": [
    {
     "name": "stdout",
     "output_type": "stream",
     "text": [
      "[1, 2, 3, 4]\n",
      "[4, 3, 2, 1]\n",
      "['A', 'B', 'C']\n",
      "['C', 'B', 'A']\n"
     ]
    }
   ],
   "source": [
    "def reverse_list(l1):\n",
    "    for i in l1 or l2:\n",
    "        print(l1)\n",
    "        l1.reverse()\n",
    "        print(l1)\n",
    "        print(l2)\n",
    "        l2.reverse()\n",
    "        print(l2)\n",
    "        break\n",
    "l1=[1,2,3,4]\n",
    "l2=[\"A\", \"B\", \"C\"]\n",
    "reverse_list(l1)"
   ]
  },
  {
   "cell_type": "markdown",
   "metadata": {},
   "source": [
    "15.Declare a function named evens_and_odds . It takes a positive integer as a\n",
    "parameter and it counts the number of events and odds in the number."
   ]
  },
  {
   "cell_type": "code",
   "execution_count": 50,
   "metadata": {},
   "outputs": [
    {
     "name": "stdout",
     "output_type": "stream",
     "text": [
      "5 is an odd\n",
      "(0, 1)\n"
     ]
    }
   ],
   "source": [
    "def check_even_odd(num,even_count,odd_count):\n",
    "    even_count=0\n",
    "    odd_count=0\n",
    "    if num % 2== 0:\n",
    "        print(num,'is an even')\n",
    "        even_count+=1\n",
    "    else:\n",
    "        print(num,'is an odd')\n",
    "        odd_count+=1\n",
    "    return even_count,odd_count\n",
    "num=int(input('Enter a number Here:'))\n",
    "result=check_even_odd(num,even_count,odd_count)\n",
    "print(result)"
   ]
  },
  {
   "cell_type": "markdown",
   "metadata": {},
   "source": [
    "16.Write different functions which take lists. They should calculate_mean,\n",
    "calculate_median, calculate_mode, calculate_range, calculate_variance,\n",
    "calculate_std (standard deviation)."
   ]
  },
  {
   "cell_type": "code",
   "execution_count": 67,
   "metadata": {},
   "outputs": [
    {
     "name": "stdout",
     "output_type": "stream",
     "text": [
      "Mean: 3.3333333333333335\n",
      "Median: 3.5\n",
      "Range: 4\n",
      "Mode: 5\n",
      "Variance: 2.2222222222222223\n",
      "std: 1.4907119849998598\n"
     ]
    }
   ],
   "source": [
    "def mean(L):\n",
    "    return sum(L) / len(L)\n",
    "\n",
    "def median(L):\n",
    "    sorted_data = sorted(L)\n",
    "    n = len(sorted_data)\n",
    "    mid = n // 2\n",
    "    if n % 2 == 0:\n",
    "        return (sorted_data[mid - 1] + sorted_data[mid]) / 2\n",
    "    else:  \n",
    "        return sorted_data[mid]\n",
    "def range(L):\n",
    "    return max(L) - min(L)\n",
    "def mode(L):\n",
    "    return max(set(L), key = L.count)\n",
    "def var(L):\n",
    "    mean_val = mean(L)\n",
    "    variance = sum((x - mean_val) ** 2 for x in L)\n",
    "    return variance / len(L)\n",
    "def std(L):\n",
    "    return var(L) ** 0.5\n",
    "\n",
    "L = [1, 2, 3, 4, 5,5]\n",
    "p = mean(L)\n",
    "z = median(L)\n",
    "w=range(L)\n",
    "o=mode(L)\n",
    "u=var(L)\n",
    "r=std(L)\n",
    "\n",
    "print(\"Mean:\", p)\n",
    "print(\"Median:\", z)\n",
    "print(\"Range:\", w)\n",
    "print('Mode:',o)\n",
    "print('Variance:',u)\n",
    "print('std:',r)"
   ]
  },
  {
   "cell_type": "markdown",
   "metadata": {},
   "source": [
    "17.Write a function which checks if all items are unique in the list."
   ]
  },
  {
   "cell_type": "code",
   "execution_count": 1,
   "metadata": {},
   "outputs": [
    {
     "name": "stdout",
     "output_type": "stream",
     "text": [
      "These two lists are not unique\n"
     ]
    }
   ],
   "source": [
    "def check_unique(numl1, numl2):\n",
    "    # Check if both lists are identical after converting to sets (to handle uniqueness)\n",
    "    if set(numl1) == set(numl2):\n",
    "        print('These two lists are unique elements')\n",
    "    else:\n",
    "        print('These two lists are not unique')\n",
    "\n",
    "numl1 = [1, 2, 3, 4, 5]\n",
    "numl2 = [1, 2, 3, 4, 4]\n",
    "check_unique(numl1, numl2)\n"
   ]
  },
  {
   "cell_type": "markdown",
   "metadata": {},
   "source": [
    "18.Write a function which checks if all the items of the list are of the same data type."
   ]
  },
  {
   "cell_type": "code",
   "execution_count": 2,
   "metadata": {},
   "outputs": [
    {
     "name": "stdout",
     "output_type": "stream",
     "text": [
      "True\n",
      "False\n"
     ]
    }
   ],
   "source": [
    "def check_same_type(lst):\n",
    "    if len(lst) == 0:  \n",
    "        return True\n",
    "    first_item = lst[0]  \n",
    "    for item in lst:\n",
    "        if type(item) != type(first_item):  \n",
    "            return False\n",
    "    return True\n",
    "\n",
    "\n",
    "my_list = [1, 2, 3] \n",
    "print(check_same_type(my_list))            \n",
    "\n",
    "my_list2 = [1, 'two', 3]  \n",
    "print(check_same_type(my_list2))  \n"
   ]
  },
  {
   "cell_type": "markdown",
   "metadata": {},
   "source": [
    "19.Write a function which check if provided variable is a valid python variable"
   ]
  },
  {
   "cell_type": "code",
   "execution_count": 4,
   "metadata": {},
   "outputs": [
    {
     "name": "stdout",
     "output_type": "stream",
     "text": [
      "True\n",
      "False\n",
      "False\n"
     ]
    }
   ],
   "source": [
    "import keyword\n",
    "\n",
    "def is_valid_variable_name(variable_name):\n",
    "    if variable_name.isidentifier() and not keyword.iskeyword(variable_name):\n",
    "        return True\n",
    "    return False\n",
    "print(is_valid_variable_name(\"my_var\"))  \n",
    "print(is_valid_variable_name(\"2my_var\"))  \n",
    "print(is_valid_variable_name(\"import\")) \n"
   ]
  },
  {
   "cell_type": "markdown",
   "metadata": {},
   "source": [
    "20.Write a Python program to detect the number of local variables declared in\n",
    "a function."
   ]
  },
  {
   "cell_type": "code",
   "execution_count": 5,
   "metadata": {},
   "outputs": [
    {
     "name": "stdout",
     "output_type": "stream",
     "text": [
      "Number of local variables in 'example_function': 3\n"
     ]
    }
   ],
   "source": [
    "def count_local_variables():\n",
    "  \n",
    "    a = 10\n",
    "    b = 20\n",
    "    c = 30\n",
    "  \n",
    "    local_vars = locals()\n",
    " \n",
    "    return len(local_vars)\n",
    "\n",
    "def example_function():\n",
    "    x = 5\n",
    "    y = 10\n",
    "    z = 15\n",
    "    count = count_local_variables()\n",
    "    print(f\"Number of local variables in 'example_function': {count}\")\n",
    "\n",
    "\n",
    "example_function()\n"
   ]
  }
 ],
 "metadata": {
  "kernelspec": {
   "display_name": "Python 3",
   "language": "python",
   "name": "python3"
  },
  "language_info": {
   "codemirror_mode": {
    "name": "ipython",
    "version": 3
   },
   "file_extension": ".py",
   "mimetype": "text/x-python",
   "name": "python",
   "nbconvert_exporter": "python",
   "pygments_lexer": "ipython3",
   "version": "3.13.1"
  }
 },
 "nbformat": 4,
 "nbformat_minor": 2
}
