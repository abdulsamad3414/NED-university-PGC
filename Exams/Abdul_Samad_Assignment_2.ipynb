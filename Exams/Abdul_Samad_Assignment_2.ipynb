{
  "cells": [
    {
      "cell_type": "markdown",
      "metadata": {
        "id": "CCrU_hkVk-GG"
      },
      "source": [
        "# Name: Abdul Samad\n",
        "\n",
        "# S/O :Salahuddin\n",
        "\n",
        "# Data Science With AI\n",
        "\n",
        "# abdulsamads3414@gmail.com\n",
        "\n",
        "# Assignment type: 2\n",
        "\n",
        "# Course: Python"
      ]
    },
    {
      "cell_type": "code",
      "execution_count": 168,
      "metadata": {
        "id": "TdW6bzVsYklB"
      },
      "outputs": [],
      "source": [
        "# 1. Declare an empty list\n",
        "Assignment_2=[]"
      ]
    },
    {
      "cell_type": "code",
      "execution_count": 169,
      "metadata": {
        "id": "1AWi3EQvZG1K"
      },
      "outputs": [],
      "source": [
        "# 2. Declare a list with more than 5 items\n",
        "Assignment_2=['apple','mango','banana','kiwi','graphs']"
      ]
    },
    {
      "cell_type": "code",
      "execution_count": 170,
      "metadata": {
        "colab": {
          "base_uri": "https://localhost:8080/"
        },
        "id": "ImTnNqEwZYTi",
        "outputId": "cb4dc6d6-7691-4c8f-8423-a2fb6f7b1cd5"
      },
      "outputs": [
        {
          "data": {
            "text/plain": [
              "5"
            ]
          },
          "execution_count": 170,
          "metadata": {},
          "output_type": "execute_result"
        }
      ],
      "source": [
        "# 3. Find the length of your list\n",
        "len(Assignment_2)"
      ]
    },
    {
      "cell_type": "code",
      "execution_count": 171,
      "metadata": {
        "colab": {
          "base_uri": "https://localhost:8080/",
          "height": 35
        },
        "id": "4oFeSkULZkGC",
        "outputId": "08f4141f-031e-4de6-f292-1b7b4c4f4a99"
      },
      "outputs": [
        {
          "data": {
            "application/vnd.google.colaboratory.intrinsic+json": {
              "type": "string"
            },
            "text/plain": [
              "'apple'"
            ]
          },
          "execution_count": 171,
          "metadata": {},
          "output_type": "execute_result"
        }
      ],
      "source": [
        "# 4. Get the first item, the middle item and the last item of the list\n",
        "Assignment_2[0]"
      ]
    },
    {
      "cell_type": "code",
      "execution_count": 172,
      "metadata": {
        "colab": {
          "base_uri": "https://localhost:8080/"
        },
        "id": "PYCRDaPUaDLy",
        "outputId": "e9651fd3-6f53-45d3-9e83-edb11dbab390"
      },
      "outputs": [
        {
          "data": {
            "text/plain": [
              "['mango', 'banana', 'kiwi']"
            ]
          },
          "execution_count": 172,
          "metadata": {},
          "output_type": "execute_result"
        }
      ],
      "source": [
        "Assignment_2[1:4]"
      ]
    },
    {
      "cell_type": "code",
      "execution_count": 173,
      "metadata": {
        "colab": {
          "base_uri": "https://localhost:8080/",
          "height": 35
        },
        "id": "EJ48c9jhaHIq",
        "outputId": "c80d1283-41fb-4565-eb65-07ced23d8865"
      },
      "outputs": [
        {
          "data": {
            "application/vnd.google.colaboratory.intrinsic+json": {
              "type": "string"
            },
            "text/plain": [
              "'graphs'"
            ]
          },
          "execution_count": 173,
          "metadata": {},
          "output_type": "execute_result"
        }
      ],
      "source": [
        "Assignment_2[-1]"
      ]
    },
    {
      "cell_type": "code",
      "execution_count": 174,
      "metadata": {
        "colab": {
          "base_uri": "https://localhost:8080/"
        },
        "id": "FwGXoKPnaOQi",
        "outputId": "78479ebf-b9d9-4082-8f20-a47b6decb497"
      },
      "outputs": [
        {
          "data": {
            "text/plain": [
              "['Abdul Samad',\n",
              " 28,\n",
              " 5.4,\n",
              " 'single',\n",
              " 'Korangi_industrail_area shah_faisal_colony']"
            ]
          },
          "execution_count": 174,
          "metadata": {},
          "output_type": "execute_result"
        }
      ],
      "source": [
        "# 5. Declare a list called mixed_data_types, put your (name, age, height, marital status, address)\n",
        "mixed_data_type=['Abdul Samad',28,5.4,'single','Korangi_industrail_area shah_faisal_colony']\n",
        "mixed_data_type"
      ]
    },
    {
      "cell_type": "code",
      "execution_count": 175,
      "metadata": {
        "colab": {
          "base_uri": "https://localhost:8080/"
        },
        "id": "wwDv0i1RbDTS",
        "outputId": "a8beedc3-0f7d-43d7-8f69-e639698c3935"
      },
      "outputs": [
        {
          "name": "stdout",
          "output_type": "stream",
          "text": [
            "['Facebook', 'Google', 'Microsoft', 'Apple', 'IBM', 'OracleAmazon']\n",
            "6\n"
          ]
        }
      ],
      "source": [
        "# 6. Declare a list variable named IT_companies and assign initial values Facebook, Google,Microsoft, Apple, IBM, Oracle and Amazon, Print the list using print() and Print the number of companies in the list\n",
        "IT_companies=['Facebook', 'Google','Microsoft', 'Apple', 'IBM', 'Oracle' 'Amazon']\n",
        "print(IT_companies)\n",
        "print(len(IT_companies))"
      ]
    },
    {
      "cell_type": "code",
      "execution_count": 176,
      "metadata": {
        "colab": {
          "base_uri": "https://localhost:8080/",
          "height": 35
        },
        "id": "faZ_9BazdEID",
        "outputId": "eb1a676c-a6e2-4c70-9a02-18d8b5f4234e"
      },
      "outputs": [
        {
          "data": {
            "application/vnd.google.colaboratory.intrinsic+json": {
              "type": "string"
            },
            "text/plain": [
              "'Facebook'"
            ]
          },
          "execution_count": 176,
          "metadata": {},
          "output_type": "execute_result"
        }
      ],
      "source": [
        "# 7. Print the first, middle and last company\n",
        "IT_companies[0]"
      ]
    },
    {
      "cell_type": "code",
      "execution_count": 177,
      "metadata": {
        "colab": {
          "base_uri": "https://localhost:8080/"
        },
        "id": "kRS6YVdrdK8a",
        "outputId": "90273403-1670-4c46-f158-ce639a7dab4f"
      },
      "outputs": [
        {
          "data": {
            "text/plain": [
              "['Google', 'Microsoft', 'Apple', 'IBM']"
            ]
          },
          "execution_count": 177,
          "metadata": {},
          "output_type": "execute_result"
        }
      ],
      "source": [
        "IT_companies[1:5]"
      ]
    },
    {
      "cell_type": "code",
      "execution_count": 178,
      "metadata": {
        "colab": {
          "base_uri": "https://localhost:8080/",
          "height": 35
        },
        "id": "-4rqhvZm6HbL",
        "outputId": "be858252-5161-4f16-c329-d8cce9381e40"
      },
      "outputs": [
        {
          "data": {
            "application/vnd.google.colaboratory.intrinsic+json": {
              "type": "string"
            },
            "text/plain": [
              "'OracleAmazon'"
            ]
          },
          "execution_count": 178,
          "metadata": {},
          "output_type": "execute_result"
        }
      ],
      "source": [
        "IT_companies[-1]"
      ]
    },
    {
      "cell_type": "code",
      "execution_count": 179,
      "metadata": {
        "id": "bw3lTTyudcd0"
      },
      "outputs": [],
      "source": [
        "# 8. Print the list after modifying one of the companies\n",
        "IT_companies[1]='Meta'"
      ]
    },
    {
      "cell_type": "code",
      "execution_count": 180,
      "metadata": {
        "colab": {
          "base_uri": "https://localhost:8080/"
        },
        "id": "xj7FFrxhmduV",
        "outputId": "a41f8105-9e15-40ba-9fcb-f53d5c11cd31"
      },
      "outputs": [
        {
          "data": {
            "text/plain": [
              "['Facebook', 'Meta', 'Microsoft', 'Apple', 'IBM', 'OracleAmazon', 'Intel']"
            ]
          },
          "execution_count": 180,
          "metadata": {},
          "output_type": "execute_result"
        }
      ],
      "source": [
        "# 9. Add an IT company to IT_companies\n",
        "IT_companies.append('Intel')\n",
        "IT_companies"
      ]
    },
    {
      "cell_type": "code",
      "execution_count": 181,
      "metadata": {
        "colab": {
          "base_uri": "https://localhost:8080/"
        },
        "id": "kf_BKegfnTFS",
        "outputId": "5deee21d-9372-44dc-bba9-539f19d4edbf"
      },
      "outputs": [
        {
          "name": "stdout",
          "output_type": "stream",
          "text": [
            "List after inserting a company list  ['Facebook', 'Meta', 'Microsoft', 'Tesla', 'Apple', 'IBM', 'OracleAmazon', 'Intel']\n"
          ]
        }
      ],
      "source": [
        "# 10. Insert an IT company in the middle of the companies list\n",
        "middle_index=len(IT_companies)//2\n",
        "IT_companies.insert(middle_index,'Tesla')\n",
        "print ('List after inserting a company list ',IT_companies)"
      ]
    },
    {
      "cell_type": "code",
      "execution_count": 182,
      "metadata": {
        "colab": {
          "base_uri": "https://localhost:8080/"
        },
        "id": "NxWbctGxtyYy",
        "outputId": "54d48461-7a40-4f02-d79f-8fe7a204284a"
      },
      "outputs": [
        {
          "name": "stdout",
          "output_type": "stream",
          "text": [
            "List after changing one company name to uppercase: ['Facebook', 'META', 'Microsoft', 'Tesla', 'Apple', 'IBM', 'OracleAmazon', 'Intel']\n",
            "<class 'list'>\n"
          ]
        }
      ],
      "source": [
        "# 11. Change one of the IT_companies names to uppercase (IBM excluded!)\n",
        "IT_companies[1]=IT_companies[1].upper()\n",
        "print('List after changing one company name to uppercase:',IT_companies)\n",
        "print(type(IT_companies))"
      ]
    },
    {
      "cell_type": "code",
      "execution_count": 183,
      "metadata": {
        "colab": {
          "base_uri": "https://localhost:8080/"
        },
        "id": "39Ak6Yl1vKGU",
        "outputId": "e22cfd65-f50d-4068-c315-f69fef83e2a3"
      },
      "outputs": [
        {
          "name": "stdout",
          "output_type": "stream",
          "text": [
            "Sorted list ['Apple', 'Facebook', 'IBM', 'Intel', 'META', 'Microsoft', 'OracleAmazon', 'Tesla']\n"
          ]
        }
      ],
      "source": [
        "# 12. Sort the list using sort () method\n",
        "IT_companies.sort()\n",
        "print('Sorted list',IT_companies)"
      ]
    },
    {
      "cell_type": "code",
      "execution_count": 184,
      "metadata": {
        "colab": {
          "base_uri": "https://localhost:8080/"
        },
        "id": "UXb2puob7BTL",
        "outputId": "371eeb5f-6295-4220-e728-9f31d1eb40ea"
      },
      "outputs": [
        {
          "data": {
            "text/plain": [
              "['Tesla',\n",
              " 'OracleAmazon',\n",
              " 'Microsoft',\n",
              " 'META',\n",
              " 'Intel',\n",
              " 'IBM',\n",
              " 'Facebook',\n",
              " 'Apple']"
            ]
          },
          "execution_count": 184,
          "metadata": {},
          "output_type": "execute_result"
        }
      ],
      "source": [
        "# 13. Reverse the list in descending order using reverse() method\n",
        "IT_companies.reverse()\n",
        "IT_companies"
      ]
    },
    {
      "cell_type": "code",
      "execution_count": 185,
      "metadata": {
        "colab": {
          "base_uri": "https://localhost:8080/"
        },
        "id": "ki-iaWkR8BR6",
        "outputId": "16420bf4-3be2-4e20-a41f-da083485bd09"
      },
      "outputs": [
        {
          "data": {
            "text/plain": [
              "['Tesla', 'OracleAmazon', 'Microsoft']"
            ]
          },
          "execution_count": 185,
          "metadata": {},
          "output_type": "execute_result"
        }
      ],
      "source": [
        "# 14. Slice out the first 3 companies from the list\n",
        "IT_companies[0:3]"
      ]
    },
    {
      "cell_type": "code",
      "execution_count": 186,
      "metadata": {
        "colab": {
          "base_uri": "https://localhost:8080/"
        },
        "id": "FDYd_eRa8NMq",
        "outputId": "b1c12cf1-9385-4e7c-d3b9-b46cc5d0b986"
      },
      "outputs": [
        {
          "data": {
            "text/plain": [
              "['IBM', 'Facebook', 'Apple']"
            ]
          },
          "execution_count": 186,
          "metadata": {},
          "output_type": "execute_result"
        }
      ],
      "source": [
        "# 15. Slice out the last 3 companies from the list\n",
        "IT_companies[-3:]"
      ]
    },
    {
      "cell_type": "code",
      "execution_count": 187,
      "metadata": {
        "colab": {
          "base_uri": "https://localhost:8080/",
          "height": 52
        },
        "id": "N68L1nB98bP7",
        "outputId": "e895c14d-d630-49f6-d991-5b6c3d996c08"
      },
      "outputs": [
        {
          "name": "stdout",
          "output_type": "stream",
          "text": [
            "The Middle it company is: 4\n"
          ]
        },
        {
          "data": {
            "application/vnd.google.colaboratory.intrinsic+json": {
              "type": "string"
            },
            "text/plain": [
              "'Intel'"
            ]
          },
          "execution_count": 187,
          "metadata": {},
          "output_type": "execute_result"
        }
      ],
      "source": [
        "# 16. Slice out the middle IT company or companies from the list\n",
        "middle_index=len(IT_companies)//2\n",
        "print('The Middle it company is:',middle_index)\n",
        "IT_companies[4]"
      ]
    },
    {
      "cell_type": "code",
      "execution_count": 188,
      "metadata": {
        "colab": {
          "base_uri": "https://localhost:8080/"
        },
        "id": "5RosCgTDGllq",
        "outputId": "08bc9fd7-7ebf-4562-ecec-899412bc60ce"
      },
      "outputs": [
        {
          "data": {
            "text/plain": [
              "['Tesla',\n",
              " 'OracleAmazon',\n",
              " 'Microsoft',\n",
              " 'META',\n",
              " 'Intel',\n",
              " 'IBM',\n",
              " 'Facebook',\n",
              " 'Apple']"
            ]
          },
          "execution_count": 188,
          "metadata": {},
          "output_type": "execute_result"
        }
      ],
      "source": [
        "IT_companies"
      ]
    },
    {
      "cell_type": "code",
      "execution_count": 189,
      "metadata": {
        "colab": {
          "base_uri": "https://localhost:8080/",
          "height": 35
        },
        "id": "K80ZeVV9E8FA",
        "outputId": "9e530a42-e5ed-4c55-9a79-6e654e8711d6"
      },
      "outputs": [
        {
          "data": {
            "application/vnd.google.colaboratory.intrinsic+json": {
              "type": "string"
            },
            "text/plain": [
              "'Tesla'"
            ]
          },
          "execution_count": 189,
          "metadata": {},
          "output_type": "execute_result"
        }
      ],
      "source": [
        "# 17. Remove the first IT company from the list\n",
        "IT_companies[0]\n"
      ]
    },
    {
      "cell_type": "code",
      "execution_count": 190,
      "metadata": {
        "id": "GXA6cl6kHI-3"
      },
      "outputs": [],
      "source": [
        "IT_companies.remove('Tesla')"
      ]
    },
    {
      "cell_type": "code",
      "execution_count": 191,
      "metadata": {
        "colab": {
          "base_uri": "https://localhost:8080/",
          "height": 35
        },
        "id": "stuqxiCRJGJ9",
        "outputId": "dd5dc82a-e783-4052-d676-977c949d8849"
      },
      "outputs": [
        {
          "data": {
            "application/vnd.google.colaboratory.intrinsic+json": {
              "type": "string"
            },
            "text/plain": [
              "'Intel'"
            ]
          },
          "execution_count": 191,
          "metadata": {},
          "output_type": "execute_result"
        }
      ],
      "source": [
        "# 18. Remove the middle IT company or companies from the list\n",
        "# len(IT_companies)\n",
        "middle_index=len(IT_companies)//2\n",
        "IT_companies[middle_index]"
      ]
    },
    {
      "cell_type": "code",
      "execution_count": 192,
      "metadata": {
        "id": "eVrSEVUXKwYt"
      },
      "outputs": [],
      "source": [
        "IT_companies.remove('Intel')"
      ]
    },
    {
      "cell_type": "code",
      "execution_count": 193,
      "metadata": {
        "colab": {
          "base_uri": "https://localhost:8080/"
        },
        "id": "3NivJgkyLKvE",
        "outputId": "776402d8-edbf-4114-ec36-fb81960c747e"
      },
      "outputs": [
        {
          "data": {
            "text/plain": [
              "['OracleAmazon', 'Microsoft', 'META', 'IBM', 'Facebook', 'Apple']"
            ]
          },
          "execution_count": 193,
          "metadata": {},
          "output_type": "execute_result"
        }
      ],
      "source": [
        "IT_companies"
      ]
    },
    {
      "cell_type": "code",
      "execution_count": 194,
      "metadata": {
        "colab": {
          "base_uri": "https://localhost:8080/",
          "height": 35
        },
        "id": "hSDsNvVZLDzZ",
        "outputId": "473da5fe-67d4-41a6-f05e-7499d89f2fc1"
      },
      "outputs": [
        {
          "data": {
            "application/vnd.google.colaboratory.intrinsic+json": {
              "type": "string"
            },
            "text/plain": [
              "'Apple'"
            ]
          },
          "execution_count": 194,
          "metadata": {},
          "output_type": "execute_result"
        }
      ],
      "source": [
        "# 19. Remove the last IT company from the list\n",
        "IT_companies.pop()"
      ]
    },
    {
      "cell_type": "code",
      "execution_count": 195,
      "metadata": {
        "colab": {
          "base_uri": "https://localhost:8080/"
        },
        "id": "IGOejhGILQZU",
        "outputId": "665076ca-e921-49d6-caa0-0689feb9f5ce"
      },
      "outputs": [
        {
          "data": {
            "text/plain": [
              "['OracleAmazon', 'Microsoft', 'META', 'IBM', 'Facebook']"
            ]
          },
          "execution_count": 195,
          "metadata": {},
          "output_type": "execute_result"
        }
      ],
      "source": [
        "IT_companies"
      ]
    },
    {
      "cell_type": "code",
      "execution_count": 196,
      "metadata": {
        "id": "TRiQwObaLTm8"
      },
      "outputs": [],
      "source": [
        "# 20. Remove all IT companies from the list\n",
        "IT_companies.clear()"
      ]
    },
    {
      "cell_type": "code",
      "execution_count": 197,
      "metadata": {
        "colab": {
          "base_uri": "https://localhost:8080/"
        },
        "id": "DFH-uJwaPHwD",
        "outputId": "3775d191-9bf0-4744-9b2d-4195cb0f6b81"
      },
      "outputs": [
        {
          "data": {
            "text/plain": [
              "[]"
            ]
          },
          "execution_count": 197,
          "metadata": {},
          "output_type": "execute_result"
        }
      ],
      "source": [
        "IT_companies"
      ]
    },
    {
      "cell_type": "code",
      "execution_count": 198,
      "metadata": {
        "id": "dWqm4OtvPdAK"
      },
      "outputs": [],
      "source": [
        "# 21. Destroy the IT companies list\n",
        "del IT_companies"
      ]
    },
    {
      "cell_type": "code",
      "execution_count": 199,
      "metadata": {
        "id": "LWBcJ7hxPhiC"
      },
      "outputs": [],
      "source": [
        "# 22 and 23 Join the following lists:\n",
        "front_end = ['HTML', 'CSS', 'JS', 'React', 'Redux']\n",
        "back_end = ['Node','Express', 'MongoDB']"
      ]
    },
    {
      "cell_type": "code",
      "execution_count": 200,
      "metadata": {
        "colab": {
          "base_uri": "https://localhost:8080/"
        },
        "id": "r82j24O-QHID",
        "outputId": "d0d608df-9cba-48ad-9700-ce0bab8969a7"
      },
      "outputs": [
        {
          "data": {
            "text/plain": [
              "['HTML', 'CSS', 'JS', 'React', 'Redux', 'Node', 'Express', 'MongoDB']"
            ]
          },
          "execution_count": 200,
          "metadata": {},
          "output_type": "execute_result"
        }
      ],
      "source": [
        "# 24. After joining the lists in question 26. Copy the joined list and assign it to a variable full_stack. Then insert Python and SQL after Redux.\n",
        "# 25. The following is a list of 10 students ages\n",
        "full_stack=front_end+back_end\n",
        "full_stack"
      ]
    },
    {
      "cell_type": "code",
      "execution_count": 201,
      "metadata": {
        "colab": {
          "base_uri": "https://localhost:8080/"
        },
        "id": "g0trIxkxSDQb",
        "outputId": "6e10b671-6722-469a-ec3c-746e91090c69"
      },
      "outputs": [
        {
          "data": {
            "text/plain": [
              "['HTML', 'CSS', 'JS', 'React', 'Redux', 'Python', 'Node', 'Express', 'MongoDB']"
            ]
          },
          "execution_count": 201,
          "metadata": {},
          "output_type": "execute_result"
        }
      ],
      "source": [
        "full_stack.insert(5,'Python')\n",
        "full_stack"
      ]
    },
    {
      "cell_type": "code",
      "execution_count": 202,
      "metadata": {
        "id": "nEDfsk_thMwT"
      },
      "outputs": [],
      "source": [
        "ages = [19, 22, 19, 24, 20, 25, 26, 24, 25, 24]"
      ]
    },
    {
      "cell_type": "code",
      "execution_count": 203,
      "metadata": {
        "id": "oJOqOftbhTtM"
      },
      "outputs": [],
      "source": [
        "# 27. Sort the list and find the min and max age\n",
        "ages.sort()"
      ]
    },
    {
      "cell_type": "code",
      "execution_count": 204,
      "metadata": {
        "colab": {
          "base_uri": "https://localhost:8080/"
        },
        "id": "93mzfOY8hYl8",
        "outputId": "30dfcae7-0c4e-4dd7-e859-3fbf846a6647"
      },
      "outputs": [
        {
          "data": {
            "text/plain": [
              "[19, 19, 20, 22, 24, 24, 24, 25, 25, 26]"
            ]
          },
          "execution_count": 204,
          "metadata": {},
          "output_type": "execute_result"
        }
      ],
      "source": [
        "ages"
      ]
    },
    {
      "cell_type": "code",
      "execution_count": 205,
      "metadata": {
        "colab": {
          "base_uri": "https://localhost:8080/"
        },
        "id": "I3RWHmaDhae8",
        "outputId": "ddef34f4-d45c-4254-d189-a0a22200e7f0"
      },
      "outputs": [
        {
          "data": {
            "text/plain": [
              "19"
            ]
          },
          "execution_count": 205,
          "metadata": {},
          "output_type": "execute_result"
        }
      ],
      "source": [
        "min(ages)"
      ]
    },
    {
      "cell_type": "code",
      "execution_count": 206,
      "metadata": {
        "colab": {
          "base_uri": "https://localhost:8080/"
        },
        "id": "ZY49tk0lh1vt",
        "outputId": "b6c5f7e6-727d-4f25-b09b-780f705d1823"
      },
      "outputs": [
        {
          "data": {
            "text/plain": [
              "26"
            ]
          },
          "execution_count": 206,
          "metadata": {},
          "output_type": "execute_result"
        }
      ],
      "source": [
        "max(ages)"
      ]
    },
    {
      "cell_type": "code",
      "execution_count": 207,
      "metadata": {
        "id": "GdJj-ZmYh5Xd"
      },
      "outputs": [],
      "source": [
        "# 28. Add the min age and the max age again to the list\n",
        "ages.append(19)"
      ]
    },
    {
      "cell_type": "code",
      "execution_count": 208,
      "metadata": {
        "colab": {
          "base_uri": "https://localhost:8080/"
        },
        "id": "nnGNxivViDKV",
        "outputId": "146fe568-863f-4b9b-dfcb-8a2d726fa6a1"
      },
      "outputs": [
        {
          "data": {
            "text/plain": [
              "[19, 19, 20, 22, 24, 24, 24, 25, 25, 26, 19]"
            ]
          },
          "execution_count": 208,
          "metadata": {},
          "output_type": "execute_result"
        }
      ],
      "source": [
        "ages"
      ]
    },
    {
      "cell_type": "code",
      "execution_count": 209,
      "metadata": {
        "id": "dHCVTJTRiFqc"
      },
      "outputs": [],
      "source": [
        "ages.append(26)"
      ]
    },
    {
      "cell_type": "code",
      "execution_count": 210,
      "metadata": {
        "colab": {
          "base_uri": "https://localhost:8080/"
        },
        "id": "sRzZVt-piOpl",
        "outputId": "7a3e0974-1997-42b7-d30e-3e645cd0a9f7"
      },
      "outputs": [
        {
          "data": {
            "text/plain": [
              "[19, 19, 20, 22, 24, 24, 24, 25, 25, 26, 19, 26]"
            ]
          },
          "execution_count": 210,
          "metadata": {},
          "output_type": "execute_result"
        }
      ],
      "source": [
        "ages"
      ]
    },
    {
      "cell_type": "code",
      "execution_count": 211,
      "metadata": {
        "colab": {
          "base_uri": "https://localhost:8080/"
        },
        "id": "fDyD3nNfiSS9",
        "outputId": "5a424398-c99a-4291-f981-7e4ac5a154dc"
      },
      "outputs": [
        {
          "name": "stdout",
          "output_type": "stream",
          "text": [
            "Median: 24.0\n"
          ]
        }
      ],
      "source": [
        "# 29. Find the median age (one middle item or two middle items divided by two)\n",
        "import statistics\n",
        "median_value = statistics.median(ages)\n",
        "print(\"Median:\", median_value)"
      ]
    },
    {
      "cell_type": "code",
      "execution_count": 212,
      "metadata": {
        "colab": {
          "base_uri": "https://localhost:8080/"
        },
        "id": "rOuWvZesr3SG",
        "outputId": "1e3f80e1-0987-4f8e-8bef-4ccb3a38723a"
      },
      "outputs": [
        {
          "name": "stdout",
          "output_type": "stream",
          "text": [
            "Average age is : 22.75\n"
          ]
        }
      ],
      "source": [
        "# 30. Find the average age (sum of all items divided by their number)\n",
        "Average_age=sum(ages)/len(ages)\n",
        "print('Average age is :',Average_age)"
      ]
    },
    {
      "cell_type": "code",
      "execution_count": 213,
      "metadata": {
        "colab": {
          "base_uri": "https://localhost:8080/"
        },
        "id": "hBnIthFBsz1m",
        "outputId": "b6c91d41-5cbb-4fa0-ed75-ca5e5844cb0a"
      },
      "outputs": [
        {
          "name": "stdout",
          "output_type": "stream",
          "text": [
            "Range of ages is  7\n"
          ]
        }
      ],
      "source": [
        "# 31. Find the range of the ages (max minus min)\n",
        "Range=max(ages)-min(ages)\n",
        "print('Range of ages is ',Range)"
      ]
    },
    {
      "cell_type": "code",
      "execution_count": 214,
      "metadata": {
        "colab": {
          "base_uri": "https://localhost:8080/"
        },
        "id": "ge2V968CtUtp",
        "outputId": "0857ec25-a639-46b2-a0c9-49a73ba3f4b9"
      },
      "outputs": [
        {
          "name": "stdout",
          "output_type": "stream",
          "text": [
            "Difference between min and average: 3.75\n",
            "Difference between max and average: 3.25\n"
          ]
        }
      ],
      "source": [
        "# 32. Compare the value of (min - average) and (max - average), use abs () method\n",
        "min_age=min(ages)\n",
        "max_age=max(ages)\n",
        "min_diff = abs(min_age - Average_age)\n",
        "max_diff = abs(max_age - Average_age)\n",
        "print(f\"Difference between min and average: {min_diff}\")\n",
        "print(f\"Difference between max and average: {max_diff}\")"
      ]
    },
    {
      "cell_type": "code",
      "execution_count": 215,
      "metadata": {
        "colab": {
          "base_uri": "https://localhost:8080/",
          "height": 52
        },
        "id": "c0t08NNA6gOF",
        "outputId": "65cc0de1-6fde-48e6-8c3c-4bc744c9c7ff"
      },
      "outputs": [
        {
          "name": "stdout",
          "output_type": "stream",
          "text": [
            "Middle country in the country list is : 3\n"
          ]
        },
        {
          "data": {
            "application/vnd.google.colaboratory.intrinsic+json": {
              "type": "string"
            },
            "text/plain": [
              "'Brazil'"
            ]
          },
          "execution_count": 215,
          "metadata": {},
          "output_type": "execute_result"
        }
      ],
      "source": [
        "# 33. Find the middle country(ies) in the countries list\n",
        "countries = ['USA', 'Canada', 'Mexico', 'Brazil', 'Argentina', 'Chile', 'Peru']\n",
        "middle_index=len(countries)//2\n",
        "print('Middle country in the country list is :',middle_index)\n",
        "countries[3]"
      ]
    },
    {
      "cell_type": "code",
      "execution_count": 216,
      "metadata": {
        "colab": {
          "base_uri": "https://localhost:8080/"
        },
        "id": "19gJoke472n-",
        "outputId": "5c4fa970-71d4-4fad-ef83-72347727dbcf"
      },
      "outputs": [
        {
          "name": "stdout",
          "output_type": "stream",
          "text": [
            "First half: ['USA', 'Canada', 'Mexico']\n",
            "Second half: ['Brazil', 'Argentina', 'Chile', 'Peru']\n"
          ]
        }
      ],
      "source": [
        "# 34. Divide the countries list into two equal lists if it is even if not one more country for the first half.\n",
        "countries= ['USA', 'Canada', 'Mexico', 'Brazil', 'Argentina', 'Chile', 'Peru']\n",
        "\n",
        "# Calculate the length of the list\n",
        "n = len(countries)\n",
        "\n",
        "# If the length is even, divide the list equally\n",
        "first_half = countries[:n // 2]  # First half contains the first n//2 items\n",
        "second_half = countries[n // 2:]  # Second half contains the remaining items\n",
        "# Print the results\n",
        "print(\"First half:\" ,first_half)\n",
        "print(\"Second half:\", second_half)"
      ]
    },
    {
      "cell_type": "code",
      "execution_count": 217,
      "metadata": {
        "colab": {
          "base_uri": "https://localhost:8080/"
        },
        "id": "Tw1mB9qIBZfr",
        "outputId": "30702f02-16c6-4743-e26a-ec2c049eb754"
      },
      "outputs": [
        {
          "name": "stdout",
          "output_type": "stream",
          "text": [
            "the first three unpack countries are : ['China', 'Russia', 'USA']\n",
            "the rest of countries are : ['Finland', 'Sweden', 'Norway', 'Denmark']\n"
          ]
        }
      ],
      "source": [
        "# 35. ['China', 'Russia', 'USA', 'Finland', 'Sweden', 'Norway', 'Denmark']. Unpack the first three countries and the rest as scandic countries.\n",
        "# Unpacking first three countries\n",
        "countries2=['China', 'Russia', 'USA', 'Finland', 'Sweden', 'Norway', 'Denmark']\n",
        "first_three = countries2[:3]\n",
        "scandic_countries=countries2[3:]\n",
        "print('the first three unpack countries are :',first_three)\n",
        "print('the rest of countries are :',scandic_countries)"
      ]
    },
    {
      "cell_type": "markdown",
      "metadata": {
        "id": "jvnUCf7VCjRe"
      },
      "source": [
        "# Tuples"
      ]
    },
    {
      "cell_type": "code",
      "execution_count": 218,
      "metadata": {
        "colab": {
          "base_uri": "https://localhost:8080/"
        },
        "id": "eNxL29RVClhs",
        "outputId": "ceab316a-4190-4e75-e5d5-21c4348ffc10"
      },
      "outputs": [
        {
          "name": "stdout",
          "output_type": "stream",
          "text": [
            "<class 'tuple'>\n"
          ]
        }
      ],
      "source": [
        "# 1. Create an empty tuple\n",
        "samad=()\n",
        "print(type(samad))"
      ]
    },
    {
      "cell_type": "code",
      "execution_count": 1,
      "metadata": {
        "id": "y0lMY0j-C3F4"
      },
      "outputs": [],
      "source": [
        "# 2. Create a tuple containing names of your sisters and your brothers (imaginary siblings are fine)\n",
        "brothers=('Abdul_Samad','Fahad','Asad')\n",
        "sisters=('Salma','Tahira','Seema','Saba')"
      ]
    },
    {
      "cell_type": "code",
      "execution_count": 2,
      "metadata": {
        "colab": {
          "base_uri": "https://localhost:8080/"
        },
        "id": "LlCvQzI0EXt9",
        "outputId": "a518cf22-5acb-4004-9036-c671941b1b41"
      },
      "outputs": [
        {
          "data": {
            "text/plain": [
              "('Abdul_Samad', 'Fahad', 'Asad', 'Salma', 'Tahira', 'Seema', 'Saba')"
            ]
          },
          "execution_count": 2,
          "metadata": {},
          "output_type": "execute_result"
        }
      ],
      "source": [
        "# 3. Join brothers and sisters tuples and assign it to siblings\n",
        "siblings=brothers+sisters\n",
        "siblings"
      ]
    },
    {
      "cell_type": "code",
      "execution_count": 221,
      "metadata": {
        "colab": {
          "base_uri": "https://localhost:8080/"
        },
        "id": "ugxxUUwvEkbK",
        "outputId": "47ebd2b9-1517-4fa5-f53f-085d3a0fa89e"
      },
      "outputs": [
        {
          "data": {
            "text/plain": [
              "7"
            ]
          },
          "execution_count": 221,
          "metadata": {},
          "output_type": "execute_result"
        }
      ],
      "source": [
        "# 4. How many siblings do you have?\n",
        "len(siblings)"
      ]
    },
    {
      "cell_type": "code",
      "execution_count": 222,
      "metadata": {
        "colab": {
          "base_uri": "https://localhost:8080/"
        },
        "id": "WFZf951eE0sf",
        "outputId": "abe401e3-8bbe-45a9-d0c8-52738a839f4a"
      },
      "outputs": [
        {
          "name": "stdout",
          "output_type": "stream",
          "text": [
            "the modify the tuple is : ('Abdul_Samad', 'Fahad', 'Asad', 'Salma', 'Tahira', 'Seema', 'Saba', 'salahuddin', 'naseem')\n"
          ]
        }
      ],
      "source": [
        "# 5. Modify the siblings tuple and add the name of your father and mother and assign it to family_members.\n",
        "father_name='salahuddin'\n",
        "mother_name ='naseem'\n",
        "family_members=siblings+(father_name,mother_name)\n",
        "print ('the modify the tuple is :',family_members)"
      ]
    },
    {
      "cell_type": "code",
      "execution_count": 223,
      "metadata": {
        "colab": {
          "base_uri": "https://localhost:8080/"
        },
        "id": "CZEROsqmHXgs",
        "outputId": "76721be5-f7f4-48e6-83d1-d232e2d18ae6"
      },
      "outputs": [
        {
          "data": {
            "text/plain": [
              "('Abdul_Samad', 'Fahad', 'Asad', 'Salma', 'Tahira', 'Seema', 'Saba')"
            ]
          },
          "execution_count": 223,
          "metadata": {},
          "output_type": "execute_result"
        }
      ],
      "source": [
        "# 6. Unpack siblings and parents from family_members\n",
        "family_members[:7]\n",
        "# family_members[7:]"
      ]
    },
    {
      "cell_type": "code",
      "execution_count": 224,
      "metadata": {
        "colab": {
          "base_uri": "https://localhost:8080/"
        },
        "id": "G9LbUQyIHiLP",
        "outputId": "d06f1038-882d-4108-cb82-4c45acf2072a"
      },
      "outputs": [
        {
          "data": {
            "text/plain": [
              "('salahuddin', 'naseem')"
            ]
          },
          "execution_count": 224,
          "metadata": {},
          "output_type": "execute_result"
        }
      ],
      "source": [
        "family_members[7:]"
      ]
    },
    {
      "cell_type": "code",
      "execution_count": 225,
      "metadata": {
        "colab": {
          "base_uri": "https://localhost:8080/"
        },
        "id": "xU5P9t-2HuOD",
        "outputId": "6592346c-24df-4e2e-c1eb-986177cfad97"
      },
      "outputs": [
        {
          "name": "stdout",
          "output_type": "stream",
          "text": [
            "('Mango', 'Banana', 'Apple', 'carrot', 'broccoli', 'spinach', 'milk', 'cheese', 'egg')\n"
          ]
        }
      ],
      "source": [
        "# 7. Create fruits, vegetables and animal products tuples. Join the three tuples and assign it to a variable called food_stuff_tp.\n",
        "fruits=('Mango','Banana','Apple')\n",
        "vegetables = ('carrot', 'broccoli', 'spinach')\n",
        "animal_products = ('milk', 'cheese', 'egg')\n",
        "\n",
        "# Joining the tuples\n",
        "food_stuff_tp = fruits + vegetables + animal_products\n",
        "\n",
        "# Display the result\n",
        "print(food_stuff_tp)"
      ]
    },
    {
      "cell_type": "code",
      "execution_count": 226,
      "metadata": {
        "colab": {
          "base_uri": "https://localhost:8080/"
        },
        "id": "K-i1MYOnJAE8",
        "outputId": "ed961379-0c9f-404a-8c23-5ff7470a1d30"
      },
      "outputs": [
        {
          "name": "stdout",
          "output_type": "stream",
          "text": [
            "food_stuff_tp converted into list ['Mango', 'Banana', 'Apple', 'carrot', 'broccoli', 'spinach', 'milk', 'cheese', 'egg']\n"
          ]
        }
      ],
      "source": [
        "# 8. Change the about food_stuff_tp tuple to a food_stuff_lt list\n",
        "food_stuff_tp=list(food_stuff_tp)\n",
        "print('food_stuff_tp converted into list',food_stuff_tp)"
      ]
    },
    {
      "cell_type": "code",
      "execution_count": 227,
      "metadata": {
        "colab": {
          "base_uri": "https://localhost:8080/",
          "height": 52
        },
        "id": "y00_qbNmJ2-0",
        "outputId": "c935f1b4-ea9b-4bf3-877a-cef7d7fc9239"
      },
      "outputs": [
        {
          "name": "stdout",
          "output_type": "stream",
          "text": [
            "Slice out the middle items are  4\n"
          ]
        },
        {
          "data": {
            "application/vnd.google.colaboratory.intrinsic+json": {
              "type": "string"
            },
            "text/plain": [
              "'broccoli'"
            ]
          },
          "execution_count": 227,
          "metadata": {},
          "output_type": "execute_result"
        }
      ],
      "source": [
        "# 9. Slice out the middle item or items from the food_stuff_tp tuple or food_stuff_lt list.\n",
        "middle_index=len(food_stuff_tp)//2\n",
        "print('Slice out the middle items are ',middle_index)\n",
        "food_stuff_tp[4]"
      ]
    },
    {
      "cell_type": "code",
      "execution_count": 228,
      "metadata": {
        "colab": {
          "base_uri": "https://localhost:8080/"
        },
        "id": "cg_UlWMkVPRR",
        "outputId": "9deb8dd2-3ad9-4c8c-a527-02fd3b98ff98"
      },
      "outputs": [
        {
          "data": {
            "text/plain": [
              "['Mango', 'Banana', 'Apple']"
            ]
          },
          "execution_count": 228,
          "metadata": {},
          "output_type": "execute_result"
        }
      ],
      "source": [
        "# 10. Slice out the first three items and the last three items from food_staff_lt list\n",
        "food_stuff_tp[:3]"
      ]
    },
    {
      "cell_type": "code",
      "execution_count": 229,
      "metadata": {
        "colab": {
          "base_uri": "https://localhost:8080/"
        },
        "id": "X2w9QVNTVboE",
        "outputId": "3f9459d5-ed57-4c06-b74c-1000aacb42a1"
      },
      "outputs": [
        {
          "data": {
            "text/plain": [
              "['milk', 'cheese', 'egg']"
            ]
          },
          "execution_count": 229,
          "metadata": {},
          "output_type": "execute_result"
        }
      ],
      "source": [
        "food_stuff_tp[-3:]"
      ]
    },
    {
      "cell_type": "code",
      "execution_count": 230,
      "metadata": {
        "colab": {
          "base_uri": "https://localhost:8080/"
        },
        "id": "ohg8G_WhV0fP",
        "outputId": "f27f0f91-e4dc-46e7-85c1-078e1b64fea6"
      },
      "outputs": [
        {
          "name": "stdout",
          "output_type": "stream",
          "text": [
            "<class 'list'>\n"
          ]
        }
      ],
      "source": [
        "# 11. Delete the food_staff_tp tuple completely.\n",
        "print(type(food_stuff_tp))\n",
        "food_stuff_tp.clear()"
      ]
    },
    {
      "cell_type": "markdown",
      "metadata": {
        "id": "Zh87phkZaI-h"
      },
      "source": [
        "# SET"
      ]
    },
    {
      "cell_type": "code",
      "execution_count": 231,
      "metadata": {
        "id": "jj-Rv233aMjP"
      },
      "outputs": [],
      "source": [
        "it_companies = {'Facebook', 'Google', 'Microsoft', 'Apple', 'IBM', 'Oracle',\n",
        "'Amazon'}\n",
        "A = {19, 22, 24, 20, 25, 26}\n",
        "B = {19, 22, 20, 25, 26, 24, 28, 27}\n",
        "age = [22, 19, 24, 25, 26, 24, 25, 24]"
      ]
    },
    {
      "cell_type": "code",
      "execution_count": 232,
      "metadata": {
        "colab": {
          "base_uri": "https://localhost:8080/"
        },
        "id": "EAOWgat3acRD",
        "outputId": "f35aedd9-ce65-447b-ca73-d8af338a0a6d"
      },
      "outputs": [
        {
          "data": {
            "text/plain": [
              "7"
            ]
          },
          "execution_count": 232,
          "metadata": {},
          "output_type": "execute_result"
        }
      ],
      "source": [
        "# 1. Find the length of the set it_companies\n",
        "it_companies = {'Facebook', 'Google', 'Microsoft', 'Apple', 'IBM', 'Oracle',\n",
        "'Amazon'}\n",
        "len(it_companies)"
      ]
    },
    {
      "cell_type": "code",
      "execution_count": 233,
      "metadata": {
        "colab": {
          "base_uri": "https://localhost:8080/"
        },
        "id": "gPwjoEEBajdI",
        "outputId": "168a8393-8d30-4825-f714-d4c1374b925c"
      },
      "outputs": [
        {
          "data": {
            "text/plain": [
              "{'Amazon',\n",
              " 'Apple',\n",
              " 'Facebook',\n",
              " 'Google',\n",
              " 'IBM',\n",
              " 'Microsoft',\n",
              " 'Oracle',\n",
              " 'Twitter'}"
            ]
          },
          "execution_count": 233,
          "metadata": {},
          "output_type": "execute_result"
        }
      ],
      "source": [
        "# 2. Add 'Twitter' to it_companies\n",
        "it_companies.add('Twitter')\n",
        "it_companies"
      ]
    },
    {
      "cell_type": "code",
      "execution_count": 234,
      "metadata": {
        "colab": {
          "base_uri": "https://localhost:8080/"
        },
        "id": "JPm1zNmXawDx",
        "outputId": "3c9ad467-ad48-45f8-bb10-b4ba93089c7e"
      },
      "outputs": [
        {
          "data": {
            "text/plain": [
              "{'Amazon',\n",
              " 'Apple',\n",
              " 'Facebook',\n",
              " 'Google',\n",
              " 'IBM',\n",
              " 'Intel',\n",
              " 'Microsoft',\n",
              " 'Nividia',\n",
              " 'Oracle',\n",
              " 'Tesla',\n",
              " 'Twitter'}"
            ]
          },
          "execution_count": 234,
          "metadata": {},
          "output_type": "execute_result"
        }
      ],
      "source": [
        "# 3. Insert multiple IT companies at once to the set it_companies\n",
        "it_companies.update([\"Tesla\",\"Intel\",\"Nividia\"])\n",
        "it_companies"
      ]
    },
    {
      "cell_type": "code",
      "execution_count": 235,
      "metadata": {
        "colab": {
          "base_uri": "https://localhost:8080/"
        },
        "id": "NNYhoS_5ca7Q",
        "outputId": "9a983216-73ce-4de9-c59f-234d5d394a78"
      },
      "outputs": [
        {
          "data": {
            "text/plain": [
              "{'Amazon',\n",
              " 'Apple',\n",
              " 'Facebook',\n",
              " 'IBM',\n",
              " 'Intel',\n",
              " 'Microsoft',\n",
              " 'Nividia',\n",
              " 'Oracle',\n",
              " 'Tesla',\n",
              " 'Twitter'}"
            ]
          },
          "execution_count": 235,
          "metadata": {},
          "output_type": "execute_result"
        }
      ],
      "source": [
        "# 4. Remove one of the companies from the set it_companies\n",
        "it_companies.pop()\n",
        "it_companies"
      ]
    },
    {
      "cell_type": "markdown",
      "metadata": {
        "id": "Ttt-WkusdYJ_"
      },
      "source": [
        "# 5. What is the difference between remove and discard?\n",
        "remove() raises a KeyError if the item doesn’t exist, while discard() does nothing if the item is absent."
      ]
    },
    {
      "cell_type": "code",
      "execution_count": 236,
      "metadata": {
        "id": "pSJ7YS3cdc83"
      },
      "outputs": [],
      "source": [
        "# 6. Join A and B"
      ]
    },
    {
      "cell_type": "code",
      "execution_count": 237,
      "metadata": {
        "colab": {
          "base_uri": "https://localhost:8080/"
        },
        "id": "prcifM6tfBfn",
        "outputId": "34ef9643-65e6-409d-859c-ffc9fec683a5"
      },
      "outputs": [
        {
          "data": {
            "text/plain": [
              "{19, 20, 22, 24, 25, 26}"
            ]
          },
          "execution_count": 237,
          "metadata": {},
          "output_type": "execute_result"
        }
      ],
      "source": [
        "# 7. Find A intersection B\n",
        "A.intersection(B)"
      ]
    },
    {
      "cell_type": "code",
      "execution_count": 238,
      "metadata": {
        "colab": {
          "base_uri": "https://localhost:8080/"
        },
        "id": "JFb_ywQJfHyG",
        "outputId": "f57bd153-287a-49f4-95de-845410996a6e"
      },
      "outputs": [
        {
          "data": {
            "text/plain": [
              "True"
            ]
          },
          "execution_count": 238,
          "metadata": {},
          "output_type": "execute_result"
        }
      ],
      "source": [
        "# 8. Is A subset of B\n",
        "A.issubset(B)"
      ]
    },
    {
      "cell_type": "code",
      "execution_count": 239,
      "metadata": {
        "colab": {
          "base_uri": "https://localhost:8080/"
        },
        "id": "UozWqo7HfW9u",
        "outputId": "21916af1-e2de-448f-bbe7-672764dcdf21"
      },
      "outputs": [
        {
          "data": {
            "text/plain": [
              "False"
            ]
          },
          "execution_count": 239,
          "metadata": {},
          "output_type": "execute_result"
        }
      ],
      "source": [
        "# 9. Are A and B disjoint sets\n",
        "A.isdisjoint(B)"
      ]
    },
    {
      "cell_type": "code",
      "execution_count": 240,
      "metadata": {
        "colab": {
          "base_uri": "https://localhost:8080/"
        },
        "id": "BlwtFSabfi-u",
        "outputId": "493b74e6-3969-438b-f939-44abb7478010"
      },
      "outputs": [
        {
          "data": {
            "text/plain": [
              "False"
            ]
          },
          "execution_count": 240,
          "metadata": {},
          "output_type": "execute_result"
        }
      ],
      "source": [
        "B.isdisjoint(A)"
      ]
    },
    {
      "cell_type": "markdown",
      "metadata": {
        "id": "1a_j4FCCfne0"
      },
      "source": [
        "NO this is not a disjoint set"
      ]
    },
    {
      "cell_type": "code",
      "execution_count": 241,
      "metadata": {
        "id": "zpD9FDnCf_Xl"
      },
      "outputs": [],
      "source": [
        "# 10. Join A with B and B with A\n"
      ]
    },
    {
      "cell_type": "code",
      "execution_count": 242,
      "metadata": {
        "colab": {
          "base_uri": "https://localhost:8080/"
        },
        "id": "M1VvgdhGgZUN",
        "outputId": "699998d8-07e8-4e60-a63c-1a2c9ccacb80"
      },
      "outputs": [
        {
          "name": "stdout",
          "output_type": "stream",
          "text": [
            "The symmetric Diff. between A and B is {27, 28}\n"
          ]
        }
      ],
      "source": [
        "# 11. What is the symmetric difference between A and B\n",
        "Symmetric_diff=A^B\n",
        "print('The symmetric Diff. between A and B is',Symmetric_diff)"
      ]
    },
    {
      "cell_type": "code",
      "execution_count": 243,
      "metadata": {
        "id": "dJOLcV9shIXN"
      },
      "outputs": [],
      "source": [
        "# 12. Delete the sets completely\n",
        "del A\n",
        "del B"
      ]
    },
    {
      "cell_type": "code",
      "execution_count": 248,
      "metadata": {
        "colab": {
          "base_uri": "https://localhost:8080/"
        },
        "id": "f6a3jmpzh8F2",
        "outputId": "fc249bac-ca3c-4be3-f039-db0ea32e266d"
      },
      "outputs": [
        {
          "name": "stdout",
          "output_type": "stream",
          "text": [
            "<class 'set'>\n"
          ]
        }
      ],
      "source": [
        "# 13. Convert the ages to a set and compare the length of the list and the set, which one is bigger?\n",
        "age_in_set=set(age)\n",
        "age_in_set\n",
        "print(type(age_in_set))"
      ]
    },
    {
      "cell_type": "code",
      "execution_count": 251,
      "metadata": {
        "colab": {
          "base_uri": "https://localhost:8080/"
        },
        "id": "CmcEw5Uhi4O1",
        "outputId": "ca1382f2-1ab1-4df4-d358-9fcf4f329f29"
      },
      "outputs": [
        {
          "data": {
            "text/plain": [
              "5"
            ]
          },
          "execution_count": 251,
          "metadata": {},
          "output_type": "execute_result"
        }
      ],
      "source": [
        "len(age_in_set) # because no duplicate values allowed\n"
      ]
    },
    {
      "cell_type": "code",
      "execution_count": 252,
      "metadata": {
        "colab": {
          "base_uri": "https://localhost:8080/"
        },
        "id": "bt_Y_F9XjLN8",
        "outputId": "72d7a5be-3cd8-4946-85c2-84d6f025ba57"
      },
      "outputs": [
        {
          "data": {
            "text/plain": [
              "8"
            ]
          },
          "execution_count": 252,
          "metadata": {},
          "output_type": "execute_result"
        }
      ],
      "source": [
        "# list length\n",
        "len(age)"
      ]
    },
    {
      "cell_type": "markdown",
      "metadata": {
        "id": "G6QqF54IjuzM"
      },
      "source": [
        "14. Explain the difference between the following data types: string, list, tuple and set\n",
        "\n",
        "1. String (str)\n",
        "\n",
        "Definition: A string is a sequence of characters enclosed in either single quotes (') or double quotes (\").\n",
        "\n",
        "Mutability: Strings are immutable,\n",
        "\n",
        "Strings are ordered,\n",
        "\n",
        "Indexing: Strings support indexing and slicing\n",
        "\n",
        "Use Case: Typically used to represent textual data.\n",
        "\n",
        "\n"
      ]
    },
    {
      "cell_type": "markdown",
      "metadata": {
        "id": "mcKzvlRakQQM"
      },
      "source": [
        "2. List\n",
        "\n",
        "Definition: A list is an ordered collection of elements, which can be of mixed data types (integers, strings, objects, etc.).\n",
        "\n",
        "Mutability: Lists are mutable, meaning their contents can be modified after creation (you can add, remove, or change elements).\n",
        "\n",
        "Ordering: Lists are ordered, meaning the order of elements is preserved.\n",
        "\n",
        "\n",
        "Indexing: Lists support indexing, slicing, and iteration over elements.\n"
      ]
    },
    {
      "cell_type": "markdown",
      "metadata": {
        "id": "NV6FLx2Jkh07"
      },
      "source": [
        "3. Tuple\n",
        "\n",
        "Definition: A tuple is similar to a list but is immutable, meaning once a tuple is created, its content cannot be modified.\n",
        "\n",
        "\n",
        "Mutability: Tuples are immutable (cannot be changed).\n",
        "\n",
        "\n",
        "Ordering: Tuples are ordered, maintaining the order of elements.\n",
        "\n",
        "\n",
        "Indexing: Tuples support indexing and slicing, similar to lists."
      ]
    },
    {
      "cell_type": "markdown",
      "metadata": {
        "id": "HnNTBBlHkvvU"
      },
      "source": [
        "4. Set (set)\n",
        "Definition: A set is an unordered collection of unique elements. It does not allow duplicate values.\n",
        "\n",
        "\n",
        "Mutability: Sets are mutable, meaning you can add or remove elements, but you cannot change individual elements.\n",
        "\n",
        "\n",
        "Ordering: Sets are unordered, meaning the elements do not maintain any\n",
        "specific order.\n",
        "\n",
        "\n",
        "Indexing: Sets do not support indexing, slicing"
      ]
    }
  ],
  "metadata": {
    "colab": {
      "provenance": []
    },
    "kernelspec": {
      "display_name": "Python 3",
      "name": "python3"
    },
    "language_info": {
      "codemirror_mode": {
        "name": "ipython",
        "version": 3
      },
      "file_extension": ".py",
      "mimetype": "text/x-python",
      "name": "python",
      "nbconvert_exporter": "python",
      "pygments_lexer": "ipython3",
      "version": "3.13.0"
    }
  },
  "nbformat": 4,
  "nbformat_minor": 0
}
