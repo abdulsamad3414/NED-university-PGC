{
 "cells": [
  {
   "cell_type": "markdown",
   "metadata": {},
   "source": [
    "Name :AbdulSamad \n",
    "\n",
    "S/O: Salahuddin \n",
    "\n",
    "Class:Btach -9\n",
    "\n",
    "Module:Python for Data Science\n",
    "\n",
    "Email:abdulsamads3414@gmail.com\n",
    "\n",
    "Course Teacher: Sir Majeed \n",
    "\n",
    "Date:30/11/2024"
   ]
  },
  {
   "cell_type": "markdown",
   "metadata": {},
   "source": [
    "Q1. Write a program to check whether the given input number is divisible by 3 or else\n",
    "show a message “Number is not divisible by 3”."
   ]
  },
  {
   "cell_type": "code",
   "execution_count": 6,
   "metadata": {},
   "outputs": [
    {
     "name": "stdout",
     "output_type": "stream",
     "text": [
      "34 is not divisible by 3\n"
     ]
    }
   ],
   "source": [
    "num=int(input('Enter the first number:'))\n",
    "if num%3==0:\n",
    "    print(num,'is divisible by 3')\n",
    "else:\n",
    "    print(num,'is not divisible by 3')\n"
   ]
  },
  {
   "cell_type": "markdown",
   "metadata": {},
   "source": [
    "Q2. Write a program that checks whether the given input is an even number or an\n",
    "odd number."
   ]
  },
  {
   "cell_type": "code",
   "execution_count": 11,
   "metadata": {},
   "outputs": [
    {
     "name": "stdout",
     "output_type": "stream",
     "text": [
      "89 is odd\n"
     ]
    }
   ],
   "source": [
    "num=int(input('Enter the first number:'))\n",
    "if num%2==0:\n",
    "    print(num,'is even')\n",
    "else:\n",
    "    print(num,'is odd')"
   ]
  },
  {
   "cell_type": "markdown",
   "metadata": {},
   "source": [
    "Q3. Write an if/else statement with the following condition:\n",
    "If the variable age is greater than 18, output \"Old enough\", otherwise output \"Too\n",
    "young\"."
   ]
  },
  {
   "cell_type": "code",
   "execution_count": 15,
   "metadata": {},
   "outputs": [
    {
     "name": "stdout",
     "output_type": "stream",
     "text": [
      "19 is Old enough\n"
     ]
    }
   ],
   "source": [
    "age=int(input('Enter your age here:'))\n",
    "if age>18:\n",
    "    print(age,'is Old enough')\n",
    "else:\n",
    "    print('Too young')"
   ]
  },
  {
   "cell_type": "markdown",
   "metadata": {},
   "source": [
    "Q4. Write a program that prompts the user for their name, and then displays a special\n",
    "greeting to that person if their name is the same as yours. If the name entered by the\n",
    "user is anything other than your name, your code should not produce any output."
   ]
  },
  {
   "cell_type": "code",
   "execution_count": 24,
   "metadata": {},
   "outputs": [
    {
     "name": "stdout",
     "output_type": "stream",
     "text": [
      "Hello Abdulsamad Howare you?\n"
     ]
    }
   ],
   "source": [
    "name=input('Enter any name here:')\n",
    "if name=='Abdulsamad':\n",
    "    print('Hello Abdulsamad Howare you?')\n"
   ]
  },
  {
   "cell_type": "markdown",
   "metadata": {},
   "source": [
    "Q5. Write a program that takes a calendar year in YYYY format in a variable. Check &\n",
    "notify the user whether it is a leap year or not."
   ]
  },
  {
   "cell_type": "code",
   "execution_count": 28,
   "metadata": {},
   "outputs": [
    {
     "name": "stdout",
     "output_type": "stream",
     "text": [
      "2024 is a leap year\n"
     ]
    }
   ],
   "source": [
    "leap_year=int(input('Enter any year here:'))\n",
    "if leap_year%4==0 and (leap_year%100!=0 or leap_year%400==0):\n",
    "    print(leap_year,'is a leap year')\n",
    "else:\n",
    "    print(leap_year,'is not a leap year')"
   ]
  },
  {
   "cell_type": "markdown",
   "metadata": {},
   "source": [
    "Q6. Write a JavaScript program that accept two integers and display the larger. Also\n",
    "show if the two integers are equal."
   ]
  },
  {
   "cell_type": "code",
   "execution_count": 39,
   "metadata": {},
   "outputs": [
    {
     "name": "stdout",
     "output_type": "stream",
     "text": [
      "9 is the Second number which is greater than the first number 7\n"
     ]
    }
   ],
   "source": [
    "num1=int(input('Enter the first number here:'))\n",
    "num2=int(input('Enter the second number here:'))\n",
    "if num1>num2:\n",
    "    print(num1,'is the First number which is greater than the second number',num2)\n",
    "elif num2>num1:\n",
    "    print(num2,'is the Second number which is greater than the first number',num1)\n",
    "else:\n",
    "    print(num1,' is the equal to number ',num2)"
   ]
  },
  {
   "cell_type": "markdown",
   "metadata": {},
   "source": [
    "Q7. Write a program that takes input a number from user & state whether the\n",
    "number is positive, negative or zero."
   ]
  },
  {
   "cell_type": "code",
   "execution_count": 43,
   "metadata": {},
   "outputs": [
    {
     "name": "stdout",
     "output_type": "stream",
     "text": [
      "The number is negative\n"
     ]
    }
   ],
   "source": [
    "num=float(input('Enter any number here:'))\n",
    "if num>0:\n",
    "    print('The number is positive')\n",
    "elif num<0:\n",
    "    print('The number is negative')\n",
    "else:\n",
    "    print('The number is zero')"
   ]
  },
  {
   "cell_type": "markdown",
   "metadata": {},
   "source": [
    "Q8. Write a program that takes a character (i.e. string of length 1) and returns true if\n",
    "it is a vowel, false otherwise."
   ]
  },
  {
   "cell_type": "code",
   "execution_count": 66,
   "metadata": {},
   "outputs": [
    {
     "name": "stdout",
     "output_type": "stream",
     "text": [
      "Please enter a single character\n"
     ]
    }
   ],
   "source": [
    "characters=input('Enter any character here:')\n",
    "if len(characters)==1:\n",
    "    if characters.lower()in 'aioue' or characters.upper()in 'AIUEO':\n",
    "        print('True')\n",
    "    else:\n",
    "        print('False')\n",
    "else:\n",
    "    print('Please enter a single character')"
   ]
  },
  {
   "cell_type": "markdown",
   "metadata": {},
   "source": [
    "Q9. Use a conditional (ternary) operator for this exercise:\n",
    "If the variable age is a value below 18, the value of the variable voteable should be\n",
    "\"Too young\", otherwise the value of voteable should be \"Old enough\"."
   ]
  },
  {
   "cell_type": "code",
   "execution_count": 81,
   "metadata": {},
   "outputs": [
    {
     "name": "stdout",
     "output_type": "stream",
     "text": [
      "Old Enough\n"
     ]
    }
   ],
   "source": [
    "age =int(input('Enter your age: '))\n",
    "votable='Too young' if age<18 else 'Old Enough'\n",
    "print(votable)\n"
   ]
  },
  {
   "cell_type": "markdown",
   "metadata": {},
   "source": [
    "Q10. Write a program that\n",
    "a) Store correct password in a variable.\n",
    "b) Asks user to enter his/her password\n",
    "c) Validate the two passwords:\n",
    "i. Check if user has entered password. If not, then give message “ Please\n",
    "enter your password”\n",
    "ii. Check if both passwords are same. If they are same, show message\n",
    "“Correct! The password you entered matches the original password”.\n",
    "iii. Show “Incorrect password” otherwise."
   ]
  },
  {
   "cell_type": "code",
   "execution_count": 91,
   "metadata": {},
   "outputs": [
    {
     "name": "stdout",
     "output_type": "stream",
     "text": [
      "Please enter your password\n"
     ]
    }
   ],
   "source": [
    "my_password='latching'\n",
    "password=input('Please Enter Your password')\n",
    "if not password:\n",
    "    print('Please enter your password')\n",
    "elif password!=my_password:\n",
    "    print('Incorrect Password')\n",
    "else:\n",
    "    print('“Correct! The password you entered matches the original password”')\n"
   ]
  },
  {
   "cell_type": "markdown",
   "metadata": {},
   "source": [
    "Q11. Write a program that takes time as input from user in 24 hours clock format like:\n",
    "1900 = 7pm. Implement the following case using if, else & else if statements"
   ]
  },
  {
   "cell_type": "code",
   "execution_count": 92,
   "metadata": {},
   "outputs": [
    {
     "name": "stdout",
     "output_type": "stream",
     "text": [
      "2024-11-30 16:05:09.751703\n"
     ]
    }
   ],
   "source": [
    "import datetime\n",
    "x=datetime.datetime.now()\n",
    "print(x)"
   ]
  },
  {
   "cell_type": "code",
   "execution_count": 117,
   "metadata": {},
   "outputs": [
    {
     "name": "stdout",
     "output_type": "stream",
     "text": [
      "Good morning\n"
     ]
    }
   ],
   "source": [
    "time=int(input('Enter time in 24-hour format here:'))\n",
    "if time>=0 and  time<1200:\n",
    "    print('Good morning')\n",
    "elif time>=1200 and  time<1700:\n",
    "    print('Good afternoon')\n",
    "elif time>=1700 and time<1900:\n",
    "    print('Good evening')\n",
    "else:\n",
    "    print('Good night')\n"
   ]
  }
 ],
 "metadata": {
  "kernelspec": {
   "display_name": "Python 3",
   "language": "python",
   "name": "python3"
  },
  "language_info": {
   "codemirror_mode": {
    "name": "ipython",
    "version": 3
   },
   "file_extension": ".py",
   "mimetype": "text/x-python",
   "name": "python",
   "nbconvert_exporter": "python",
   "pygments_lexer": "ipython3",
   "version": "3.13.0"
  }
 },
 "nbformat": 4,
 "nbformat_minor": 2
}
