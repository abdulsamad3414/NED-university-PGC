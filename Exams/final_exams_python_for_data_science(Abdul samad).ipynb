{
 "cells": [
  {
   "cell_type": "code",
   "execution_count": 6,
   "metadata": {},
   "outputs": [
    {
     "name": "stdout",
     "output_type": "stream",
     "text": [
      "The number is Zero.\n"
     ]
    }
   ],
   "source": [
    "# a. Check a number entered by a user is even, odd or Zero. Enter a valid number in an input field.\n",
    "def check_number(num):\n",
    "    if num == 0:\n",
    "        print(\"The number is Zero.\")\n",
    "    elif num % 2 == 0:\n",
    "        print(\"The number is even.\")\n",
    "    else:\n",
    "        print(\"The number is odd.\")\n",
    "num = int(input(\"Enter a number: \"))\n",
    "check_number(num)"
   ]
  },
  {
   "cell_type": "code",
   "execution_count": 30,
   "metadata": {},
   "outputs": [
    {
     "data": {
      "text/plain": [
       "(12.0, 14.0)"
      ]
     },
     "execution_count": 30,
     "metadata": {},
     "output_type": "execute_result"
    }
   ],
   "source": [
    "# b. Write a python program to calculate Area and Perimeter of rectangle.\n",
    "def rectangle_properties(length, breadth):\n",
    "    area = length * breadth\n",
    "    perimeter = 2 * (length + breadth)\n",
    "    return area, perimeter\n",
    "length=float(input('Enter the length of rectangle:'))\n",
    "breadth=float(input('Enter the breadth of rectangle:'))\n",
    "rectangle_properties(length,breadth)"
   ]
  },
  {
   "cell_type": "markdown",
   "metadata": {},
   "source": [
    "c. Given the list numbers = [10, 20, 30, 40, 50], write a Python code snippet to:\n",
    " Append the number 60 to the list.\n",
    " Remove the number 20 from the list.\n",
    " Insert 80 at index 2.\n",
    "Print the sum of all the elements in the list."
   ]
  },
  {
   "cell_type": "code",
   "execution_count": 23,
   "metadata": {},
   "outputs": [
    {
     "name": "stdout",
     "output_type": "stream",
     "text": [
      "[10, 20, 30, 40, 50, 60]\n"
     ]
    }
   ],
   "source": [
    "list_numbers =[10, 20, 30, 40, 50]\n",
    "list_numbers.append(60)\n",
    "print(list_numbers) \n"
   ]
  },
  {
   "cell_type": "code",
   "execution_count": 21,
   "metadata": {},
   "outputs": [
    {
     "name": "stdout",
     "output_type": "stream",
     "text": [
      "[10, 30, 40, 50]\n"
     ]
    }
   ],
   "source": [
    "list_numbers =[10, 20, 30, 40, 50]\n",
    "list_numbers.remove(20)\n",
    "print(list_numbers)"
   ]
  },
  {
   "cell_type": "code",
   "execution_count": 26,
   "metadata": {},
   "outputs": [
    {
     "name": "stdout",
     "output_type": "stream",
     "text": [
      "[10, 20, 80, 30, 40, 50]\n"
     ]
    }
   ],
   "source": [
    "list_numbers =[10, 20, 30, 40, 50]\n",
    "list_numbers.insert(2,80)\n",
    "print(list_numbers)"
   ]
  },
  {
   "cell_type": "code",
   "execution_count": 27,
   "metadata": {},
   "outputs": [
    {
     "name": "stdout",
     "output_type": "stream",
     "text": [
      "150\n"
     ]
    }
   ],
   "source": [
    "# sum\n",
    "list_numbers =[10, 20, 30, 40, 50]\n",
    "sum_numbers = sum(list_numbers)\n",
    "print(sum_numbers) "
   ]
  },
  {
   "cell_type": "markdown",
   "metadata": {},
   "source": [
    "q 2 b. Write a python program to calculate Area and Perimeter of rectangle."
   ]
  },
  {
   "cell_type": "code",
   "execution_count": 28,
   "metadata": {},
   "outputs": [
    {
     "name": "stdout",
     "output_type": "stream",
     "text": [
      "Area of rectangle is: 4.0\n",
      "Perimeter of rectangle is: 8.0\n"
     ]
    }
   ],
   "source": [
    "l=float(input('Enter the lentgh of rectangle'))\n",
    "b=float(input('Enter the breadth of rectangle here:'))\n",
    "area_of_rectangle=l*b\n",
    "print('Area of rectangle is:',area_of_rectangle)\n",
    "perimeter_of_rectangle=2*(l+b)\n",
    "print('Perimeter of rectangle is:',perimeter_of_rectangle)"
   ]
  },
  {
   "cell_type": "markdown",
   "metadata": {},
   "source": [
    "a. Write a python code to determine whether the given string is a Palindrome or not."
   ]
  },
  {
   "cell_type": "code",
   "execution_count": 41,
   "metadata": {},
   "outputs": [
    {
     "name": "stdout",
     "output_type": "stream",
     "text": [
      "321 is not a palindrome\n"
     ]
    }
   ],
   "source": [
    "num=int(input('Enter a number here :'))\n",
    "temp=num\n",
    "rev=0\n",
    "while num>0:\n",
    "    rem=num%10\n",
    "    rev=rev*10+rem\n",
    "    num=num//10\n",
    "# print(\"The number is\", rev)\n",
    "if temp==rev:\n",
    "    print(temp,\"is a palindrome\")\n",
    "else:\n",
    "    print(temp,\"is not a palindrome\")"
   ]
  },
  {
   "cell_type": "markdown",
   "metadata": {},
   "source": [
    "b. Write a Python program that checks the validity of an email address and a\n",
    "password.\n",
    " First, the program should verify whether the user has entered a valid email\n",
    "address.\n",
    "After that, the program should check if the password entered is correct. If the\n",
    "password is incorrect, the user should be given one more chance to enter the correct\n",
    "password. If the password is incorrect again, access should be denied."
   ]
  },
  {
   "cell_type": "code",
   "execution_count": 6,
   "metadata": {},
   "outputs": [
    {
     "name": "stdout",
     "output_type": "stream",
     "text": [
      "Login Successful\n"
     ]
    }
   ],
   "source": [
    "email_address = 'abdulsamads3414@gmail.com'\n",
    "password = 'latch'\n",
    "user_input = input('Enter the email address: ')\n",
    "if user_input != email_address:\n",
    "    print('Invalid email address')\n",
    "else:\n",
    "    password1 = input('Enter the password: ')\n",
    "    if password1 == password:\n",
    "        print('Login Successful')\n",
    "    else:\n",
    "        print('Password is incorrect, please re-enter the password.')\n",
    "        re_enter = input('Please re-enter the password: ')\n",
    "        if re_enter == password:\n",
    "            print('Login Successful')\n",
    "        else:\n",
    "            print('Sorry!! Your password is incorrect.')\n",
    "\n",
    "\n"
   ]
  },
  {
   "cell_type": "markdown",
   "metadata": {},
   "source": [
    "b. Write a Python function called `grade students` that takes student names and their\n",
    "scores, and returns a with student names and their corresponding grades (A, B, C, D,\n",
    "F).\n",
    "Use the following grading scale:\n",
    "A: 90-100\n",
    "B: 80-89\n",
    "C: 70-79\n",
    "\n",
    "6+6\n",
    "\n",
    "Page 2 of 2\n",
    "\n",
    "D: 60-69\n",
    "F: Below 60\n",
    "Calculate obtained marks and percentage.\n",
    "Make a proper conditions and enter data of 5 students"
   ]
  },
  {
   "cell_type": "code",
   "execution_count": null,
   "metadata": {},
   "outputs": [
    {
     "name": "stdout",
     "output_type": "stream",
     "text": [
      "Sorry, jjss, you obtained 40.0 marks and fall in F-Grade with a percentage of 40.0%\n",
      "Sorry, sjjsj, you obtained 40.0 marks and fall in F-Grade with a percentage of 40.0%\n"
     ]
    }
   ],
   "source": [
    "def grade_students(name1,name2,name3,name4,name5, marks):\n",
    "    total_marks = 100\n",
    "    obtain_percentage = (marks / total_marks) * 100  \n",
    "    if 90 <= obtain_percentage <= 100:\n",
    "        print(f'Congratulations, {name1}! You obtained {marks} marks and fall in A-Grade with a percentage of {obtain_percentage}%')\n",
    "    elif 80 <= obtain_percentage < 90:\n",
    "        print(f'{name1}, you obtained {marks} marks and fall in B-Grade with a percentage of {obtain_percentage}%')\n",
    "    elif 70 <= obtain_percentage < 80:\n",
    "        print(f'{name1}, you obtained {marks} marks and fall in C-Grade with a percentage of {obtain_percentage}%')\n",
    "    elif 60 <= obtain_percentage < 70:\n",
    "        print(f'{name1}, you obtained {marks} marks and fall in D-Grade.with a percentage of {obtain_percentage}%')\n",
    "    else:\n",
    "        print(f'Sorry, {name1}, you obtained {marks} marks and fall in F-Grade with a percentage of {obtain_percentage}%')\n",
    "    if 90 <= obtain_percentage <= 100:\n",
    "        print(f'Congratulations, {name2}! You obtained {marks} marks and fall in A-Grade with a percentage of {obtain_percentage}%')\n",
    "    elif 80 <= obtain_percentage < 90:\n",
    "        print(f'{name2}, you obtained {marks} marks and fall in B-Grade with a percentage of {obtain_percentage}%')\n",
    "    elif 70 <= obtain_percentage < 80:\n",
    "        print(f'{name2}, you obtained {marks} marks and fall in C-Grade with a percentage of {obtain_percentage}%')\n",
    "    elif 60 <= obtain_percentage < 70:\n",
    "        print(f'{name2}, you obtained {marks} marks and fall in D-Grade.with a percentage of {obtain_percentage}%')\n",
    "    else:\n",
    "        print(f'Sorry, {name2}, you obtained {marks} marks and fall in F-Grade with a percentage of {obtain_percentage}%')\n",
    "    if 90 <= obtain_percentage <= 100:\n",
    "        print(f'Congratulations, {name3}! You obtained {marks} marks and fall in A-Grade with a percentage of {obtain_percentage}%')\n",
    "    elif 80 <= obtain_percentage < 90:\n",
    "        print(f'{name3}, you obtained {marks} marks and fall in B-Grade with a percentage of {obtain_percentage}%')\n",
    "    elif 70 <= obtain_percentage < 80:\n",
    "        print(f'{name3}, you obtained {marks} marks and fall in C-Grade with a percentage of {obtain_percentage}%')\n",
    "    elif 60 <= obtain_percentage < 70:\n",
    "        print(f'{name3}, you obtained {marks} marks and fall in D-Grade.with a percentage of {obtain_percentage}%')\n",
    "    else:\n",
    "        print(f'Sorry, {name3}, you obtained {marks} marks and fall in F-Grade with a percentage of {obtain_percentage}%')\n",
    "    if 90 <= obtain_percentage <= 100:\n",
    "        print(f'Congratulations, {name4}! You obtained {marks} marks and fall in A-Grade with a percentage of {obtain_percentage}%')\n",
    "    elif 80 <= obtain_percentage < 90:\n",
    "        print(f'{name4}, you obtained {marks} marks and fall in B-Grade with a percentage of {obtain_percentage}%')\n",
    "    elif 70 <= obtain_percentage < 80:\n",
    "        print(f'{name4}, you obtained {marks} marks and fall in C-Grade with a percentage of {obtain_percentage}%')\n",
    "    elif 60 <= obtain_percentage < 70:\n",
    "        print(f'{name4}, you obtained {marks} marks and fall in D-Grade.with a percentage of {obtain_percentage}%')\n",
    "    else:\n",
    "        print(f'Sorry, {name4}, you obtained {marks} marks and fall in F-Grade with a percentage of {obtain_percentage}%')\n",
    "marks = float(input('Enter the marks over here: '))\n",
    "name1 = input('Enter the name of the student: ')\n",
    "name2 = input('Enter the name of the student: ')\n",
    "name3 = input('Enter the name of the student: ')\n",
    "name4 = input('Enter the name of the student: ')\n",
    "name5 = input('Enter the name of the student: ')\n",
    "\n",
    "grade_students(name1,name2,name3,name4,name5, marks)\n"
   ]
  },
  {
   "cell_type": "markdown",
   "metadata": {},
   "source": [
    "a. Illustrate the diamond problem in python programing language problem."
   ]
  },
  {
   "cell_type": "code",
   "execution_count": 8,
   "metadata": {},
   "outputs": [
    {
     "name": "stdout",
     "output_type": "stream",
     "text": [
      "Display method from class B\n",
      "[<class '__main__.D'>, <class '__main__.B'>, <class '__main__.C'>, <class '__main__.A'>, <class 'object'>]\n"
     ]
    }
   ],
   "source": [
    "class A:\n",
    "    def display(self):\n",
    "        print(\"Display method from class A\")\n",
    "class B(A):\n",
    "    def display(self):\n",
    "        print(\"Display method from class B\")\n",
    "class C(A):\n",
    "    def display(self):\n",
    "        print(\"Display method from class C\")\n",
    "class D(B, C):\n",
    "    pass\n",
    "obj = D()\n",
    "obj.display()\n",
    "print(D.mro())"
   ]
  },
  {
   "cell_type": "markdown",
   "metadata": {},
   "source": [
    "You are given a dictionary where the keys are strings and the values are integers.\n",
    "Write a Python function, multiply_dict_values(my_dict), that multiplies all the values\n",
    "in the dictionary and returns the product. If the dictionary is empty, return 1."
   ]
  },
  {
   "cell_type": "code",
   "execution_count": 16,
   "metadata": {},
   "outputs": [
    {
     "data": {
      "text/plain": [
       "24"
      ]
     },
     "execution_count": 16,
     "metadata": {},
     "output_type": "execute_result"
    }
   ],
   "source": [
    "my_dict = {'a': 2, 'b': 3, 'c': 4}\n",
    "def my_function(my_dict):\n",
    "    product=1\n",
    "    for key in my_dict:\n",
    "        product *= my_dict[key]\n",
    "    return product\n",
    "my_function(my_dict)\n",
    "    \n"
   ]
  },
  {
   "cell_type": "code",
   "execution_count": 17,
   "metadata": {},
   "outputs": [
    {
     "data": {
      "text/plain": [
       "1"
      ]
     },
     "execution_count": 17,
     "metadata": {},
     "output_type": "execute_result"
    }
   ],
   "source": [
    "dict={}\n",
    "my_function(dict)"
   ]
  },
  {
   "cell_type": "code",
   "execution_count": 22,
   "metadata": {},
   "outputs": [
    {
     "data": {
      "text/html": [
       "<div>\n",
       "<style scoped>\n",
       "    .dataframe tbody tr th:only-of-type {\n",
       "        vertical-align: middle;\n",
       "    }\n",
       "\n",
       "    .dataframe tbody tr th {\n",
       "        vertical-align: top;\n",
       "    }\n",
       "\n",
       "    .dataframe thead th {\n",
       "        text-align: right;\n",
       "    }\n",
       "</style>\n",
       "<table border=\"1\" class=\"dataframe\">\n",
       "  <thead>\n",
       "    <tr style=\"text-align: right;\">\n",
       "      <th></th>\n",
       "      <th>Product_ID</th>\n",
       "      <th>Product_Name</th>\n",
       "      <th>Category</th>\n",
       "      <th>Units_Sold</th>\n",
       "      <th>Revenue</th>\n",
       "      <th>Region</th>\n",
       "      <th>Sales_Person</th>\n",
       "      <th>Date_of_Sale</th>\n",
       "    </tr>\n",
       "  </thead>\n",
       "  <tbody>\n",
       "    <tr>\n",
       "      <th>0</th>\n",
       "      <td>101</td>\n",
       "      <td>Widget A</td>\n",
       "      <td>Electronics</td>\n",
       "      <td>150</td>\n",
       "      <td>1500</td>\n",
       "      <td>North</td>\n",
       "      <td>Alice</td>\n",
       "      <td>2024-11-01</td>\n",
       "    </tr>\n",
       "    <tr>\n",
       "      <th>1</th>\n",
       "      <td>102</td>\n",
       "      <td>Widget B</td>\n",
       "      <td>Electronics</td>\n",
       "      <td>120</td>\n",
       "      <td>2400</td>\n",
       "      <td>South</td>\n",
       "      <td>Bob</td>\n",
       "      <td>2024-11-02</td>\n",
       "    </tr>\n",
       "    <tr>\n",
       "      <th>2</th>\n",
       "      <td>103</td>\n",
       "      <td>Widget C</td>\n",
       "      <td>Furniture</td>\n",
       "      <td>90</td>\n",
       "      <td>2700</td>\n",
       "      <td>East</td>\n",
       "      <td>Charlie</td>\n",
       "      <td>2024-11-03</td>\n",
       "    </tr>\n",
       "    <tr>\n",
       "      <th>3</th>\n",
       "      <td>104</td>\n",
       "      <td>Widget D</td>\n",
       "      <td>Furniture</td>\n",
       "      <td>60</td>\n",
       "      <td>1800</td>\n",
       "      <td>West</td>\n",
       "      <td>David</td>\n",
       "      <td>2024-11-04</td>\n",
       "    </tr>\n",
       "    <tr>\n",
       "      <th>4</th>\n",
       "      <td>105</td>\n",
       "      <td>Widget E</td>\n",
       "      <td>Electronics</td>\n",
       "      <td>200</td>\n",
       "      <td>4000</td>\n",
       "      <td>North</td>\n",
       "      <td>Eve</td>\n",
       "      <td>2024-11-05</td>\n",
       "    </tr>\n",
       "  </tbody>\n",
       "</table>\n",
       "</div>"
      ],
      "text/plain": [
       "   Product_ID Product_Name     Category  Units_Sold  Revenue Region  \\\n",
       "0         101     Widget A  Electronics         150     1500  North   \n",
       "1         102     Widget B  Electronics         120     2400  South   \n",
       "2         103     Widget C    Furniture          90     2700   East   \n",
       "3         104     Widget D    Furniture          60     1800   West   \n",
       "4         105     Widget E  Electronics         200     4000  North   \n",
       "\n",
       "  Sales_Person Date_of_Sale  \n",
       "0        Alice   2024-11-01  \n",
       "1          Bob   2024-11-02  \n",
       "2      Charlie   2024-11-03  \n",
       "3        David   2024-11-04  \n",
       "4          Eve   2024-11-05  "
      ]
     },
     "execution_count": 22,
     "metadata": {},
     "output_type": "execute_result"
    }
   ],
   "source": [
    "import pandas as pd\n",
    "\n",
    "data = {\n",
    "    \"Product_ID\": [101, 102, 103, 104, 105, 106, 107, 108, 109, 110],\n",
    "    \"Product_Name\": [\"Widget A\", \"Widget B\", \"Widget C\", \"Widget D\", \"Widget E\", \"Widget F\", \"Widget G\", \"Widget H\", \"Widget I\", \"Widget J\"],\n",
    "    \"Category\": [\"Electronics\", \"Electronics\", \"Furniture\", \"Furniture\", \"Electronics\", \"Furniture\", \"Electronics\", \"Electronics\", \"Furniture\", \"Furniture\"],\n",
    "    \"Units_Sold\": [150, 120, 90, 60, 200, 30, 110, 140, 75, 50],\n",
    "    \"Revenue\": [1500, 2400, 2700, 1800, 4000, 1200, 2200, 2800, 1500, 1000],\n",
    "    \"Region\": [\"North\", \"South\", \"East\", \"West\", \"North\", \"South\", \"East\", \"West\", \"North\", \"South\"],\n",
    "    \"Sales_Person\": [\"Alice\", \"Bob\", \"Charlie\", \"David\", \"Eve\", \"Frank\", \"Grace\", \"Hannah\", \"Ian\", \"Jack\"],\n",
    "    \"Date_of_Sale\": pd.to_datetime([\"2024-11-01\", \"2024-11-02\", \"2024-11-03\", \"2024-11-04\", \"2024-11-05\", \"2024-11-06\", \"2024-11-07\", \"2024-11-08\", \"2024-11-09\", \"2024-11-10\"])\n",
    "}\n",
    "\n",
    "df = pd.DataFrame(data)\n",
    "\n",
    "df.head()\n"
   ]
  },
  {
   "cell_type": "code",
   "execution_count": 25,
   "metadata": {},
   "outputs": [
    {
     "data": {
      "text/plain": [
       "np.int64(21100)"
      ]
     },
     "execution_count": 25,
     "metadata": {},
     "output_type": "execute_result"
    }
   ],
   "source": [
    "total_revenue=df['Revenue'].sum()\n",
    "total_revenue"
   ]
  },
  {
   "cell_type": "code",
   "execution_count": 27,
   "metadata": {},
   "outputs": [
    {
     "data": {
      "text/html": [
       "<div>\n",
       "<style scoped>\n",
       "    .dataframe tbody tr th:only-of-type {\n",
       "        vertical-align: middle;\n",
       "    }\n",
       "\n",
       "    .dataframe tbody tr th {\n",
       "        vertical-align: top;\n",
       "    }\n",
       "\n",
       "    .dataframe thead th {\n",
       "        text-align: right;\n",
       "    }\n",
       "</style>\n",
       "<table border=\"1\" class=\"dataframe\">\n",
       "  <thead>\n",
       "    <tr style=\"text-align: right;\">\n",
       "      <th></th>\n",
       "      <th>Product_Name</th>\n",
       "      <th>Units_Sold</th>\n",
       "    </tr>\n",
       "  </thead>\n",
       "  <tbody>\n",
       "    <tr>\n",
       "      <th>0</th>\n",
       "      <td>Widget A</td>\n",
       "      <td>150</td>\n",
       "    </tr>\n",
       "    <tr>\n",
       "      <th>1</th>\n",
       "      <td>Widget B</td>\n",
       "      <td>120</td>\n",
       "    </tr>\n",
       "    <tr>\n",
       "      <th>2</th>\n",
       "      <td>Widget C</td>\n",
       "      <td>90</td>\n",
       "    </tr>\n",
       "    <tr>\n",
       "      <th>3</th>\n",
       "      <td>Widget D</td>\n",
       "      <td>60</td>\n",
       "    </tr>\n",
       "    <tr>\n",
       "      <th>4</th>\n",
       "      <td>Widget E</td>\n",
       "      <td>200</td>\n",
       "    </tr>\n",
       "    <tr>\n",
       "      <th>5</th>\n",
       "      <td>Widget F</td>\n",
       "      <td>30</td>\n",
       "    </tr>\n",
       "    <tr>\n",
       "      <th>6</th>\n",
       "      <td>Widget G</td>\n",
       "      <td>110</td>\n",
       "    </tr>\n",
       "    <tr>\n",
       "      <th>7</th>\n",
       "      <td>Widget H</td>\n",
       "      <td>140</td>\n",
       "    </tr>\n",
       "    <tr>\n",
       "      <th>8</th>\n",
       "      <td>Widget I</td>\n",
       "      <td>75</td>\n",
       "    </tr>\n",
       "    <tr>\n",
       "      <th>9</th>\n",
       "      <td>Widget J</td>\n",
       "      <td>50</td>\n",
       "    </tr>\n",
       "  </tbody>\n",
       "</table>\n",
       "</div>"
      ],
      "text/plain": [
       "  Product_Name  Units_Sold\n",
       "0     Widget A         150\n",
       "1     Widget B         120\n",
       "2     Widget C          90\n",
       "3     Widget D          60\n",
       "4     Widget E         200\n",
       "5     Widget F          30\n",
       "6     Widget G         110\n",
       "7     Widget H         140\n",
       "8     Widget I          75\n",
       "9     Widget J          50"
      ]
     },
     "execution_count": 27,
     "metadata": {},
     "output_type": "execute_result"
    }
   ],
   "source": [
    "units_of_each_product=df[['Product_Name','Units_Sold']]\n",
    "units_of_each_product"
   ]
  },
  {
   "cell_type": "code",
   "execution_count": 28,
   "metadata": {},
   "outputs": [
    {
     "data": {
      "text/plain": [
       "np.float64(102.5)"
      ]
     },
     "execution_count": 28,
     "metadata": {},
     "output_type": "execute_result"
    }
   ],
   "source": [
    "average_units_sold = df['Units_Sold'].mean()\n",
    "average_units_sold"
   ]
  },
  {
   "cell_type": "code",
   "execution_count": 31,
   "metadata": {},
   "outputs": [
    {
     "data": {
      "text/plain": [
       "Product_ID                      105\n",
       "Product_Name               Widget E\n",
       "Category                Electronics\n",
       "Units_Sold                      200\n",
       "Revenue                        4000\n",
       "Region                        North\n",
       "Sales_Person                    Eve\n",
       "Date_of_Sale    2024-11-05 00:00:00\n",
       "Name: 4, dtype: object"
      ]
     },
     "execution_count": 31,
     "metadata": {},
     "output_type": "execute_result"
    }
   ],
   "source": [
    "highest_revenue_product = df.sort_values('Revenue', ascending=False).iloc[0]\n",
    "highest_revenue_product"
   ]
  },
  {
   "cell_type": "code",
   "execution_count": 32,
   "metadata": {},
   "outputs": [
    {
     "data": {
      "text/plain": [
       "Region\n",
       "East     200\n",
       "North    425\n",
       "South    200\n",
       "West     200\n",
       "Name: Units_Sold, dtype: int64"
      ]
     },
     "execution_count": 32,
     "metadata": {},
     "output_type": "execute_result"
    }
   ],
   "source": [
    "units_sold_by_region = df.groupby('Region')['Units_Sold'].sum()\n",
    "units_sold_by_region"
   ]
  },
  {
   "cell_type": "code",
   "execution_count": 34,
   "metadata": {},
   "outputs": [
    {
     "data": {
      "text/plain": [
       "'Eve'"
      ]
     },
     "execution_count": 34,
     "metadata": {},
     "output_type": "execute_result"
    }
   ],
   "source": [
    "highest_salesperson = df.groupby('Sales_Person')['Revenue'].sum().idxmax()\n",
    "highest_salesperson\n"
   ]
  },
  {
   "cell_type": "code",
   "execution_count": 35,
   "metadata": {},
   "outputs": [
    {
     "data": {
      "text/plain": [
       "np.float64(2110.0)"
      ]
     },
     "execution_count": 35,
     "metadata": {},
     "output_type": "execute_result"
    }
   ],
   "source": [
    "average_revenue_per_sale = df['Revenue'].mean()\n",
    "average_revenue_per_sale"
   ]
  },
  {
   "cell_type": "code",
   "execution_count": 38,
   "metadata": {},
   "outputs": [
    {
     "data": {
      "text/plain": [
       "np.int64(5)"
      ]
     },
     "execution_count": 38,
     "metadata": {},
     "output_type": "execute_result"
    }
   ],
   "source": [
    "furniture_sales = df[df['Category'] == 'Furniture']['Product_Name'].count()\n",
    "\n",
    "furniture_sales"
   ]
  },
  {
   "cell_type": "code",
   "execution_count": 39,
   "metadata": {},
   "outputs": [
    {
     "data": {
      "text/plain": [
       "Region\n",
       "East     4900\n",
       "North    7000\n",
       "South    4600\n",
       "West     4600\n",
       "Name: Revenue, dtype: int64"
      ]
     },
     "execution_count": 39,
     "metadata": {},
     "output_type": "execute_result"
    }
   ],
   "source": [
    "sales_by_region = df.groupby('Region')['Revenue'].sum()\n",
    "sales_by_region"
   ]
  },
  {
   "cell_type": "code",
   "execution_count": 40,
   "metadata": {},
   "outputs": [
    {
     "data": {
      "text/plain": [
       "Date_of_Sale\n",
       "2024-11-01    1500\n",
       "2024-11-02    2400\n",
       "2024-11-03    2700\n",
       "2024-11-04    1800\n",
       "2024-11-05    4000\n",
       "2024-11-06    1200\n",
       "2024-11-07    2200\n",
       "2024-11-08    2800\n",
       "2024-11-09    1500\n",
       "2024-11-10    1000\n",
       "Name: Revenue, dtype: int64"
      ]
     },
     "execution_count": 40,
     "metadata": {},
     "output_type": "execute_result"
    }
   ],
   "source": [
    "revenue_trend = df.groupby('Date_of_Sale')['Revenue'].sum()\n",
    "revenue_trend"
   ]
  },
  {
   "cell_type": "markdown",
   "metadata": {},
   "source": [
    "sales increase from 2024-11-01 to 2024-11-05 but decrease from 2024-11-06 to 2024-11-10"
   ]
  },
  {
   "cell_type": "code",
   "execution_count": 41,
   "metadata": {},
   "outputs": [
    {
     "name": "stdout",
     "output_type": "stream",
     "text": [
      "{'ingredients': {'water': 200, 'milk': 150, 'coffee': 24}, 'cost': 150}\n",
      "Please insert coins:\n",
      "Here is your latte! Enjoy!\n"
     ]
    },
    {
     "ename": "KeyError",
     "evalue": "'break'",
     "output_type": "error",
     "traceback": [
      "\u001b[1;31m---------------------------------------------------------------------------\u001b[0m",
      "\u001b[1;31mKeyError\u001b[0m                                  Traceback (most recent call last)",
      "Cell \u001b[1;32mIn[41], line 72\u001b[0m\n\u001b[0;32m     70\u001b[0m     \u001b[38;5;28mprint\u001b[39m(\u001b[38;5;124mf\u001b[39m\u001b[38;5;124m\"\u001b[39m\u001b[38;5;124mprofit=Rs\u001b[39m\u001b[38;5;132;01m{\u001b[39;00m\u001b[38;5;124m'\u001b[39m\u001b[38;5;124mprofit\u001b[39m\u001b[38;5;124m'\u001b[39m\u001b[38;5;132;01m}\u001b[39;00m\u001b[38;5;124m\"\u001b[39m)\n\u001b[0;32m     71\u001b[0m \u001b[38;5;28;01melse\u001b[39;00m:\n\u001b[1;32m---> 72\u001b[0m     coffee_type\u001b[38;5;241m=\u001b[39m\u001b[43mmenu\u001b[49m\u001b[43m[\u001b[49m\u001b[43mchoice\u001b[49m\u001b[43m]\u001b[49m\n\u001b[0;32m     73\u001b[0m     \u001b[38;5;28mprint\u001b[39m(coffee_type)\n\u001b[0;32m     74\u001b[0m     \u001b[38;5;28;01mif\u001b[39;00m check_resources(coffee_type[\u001b[38;5;124m'\u001b[39m\u001b[38;5;124mingredients\u001b[39m\u001b[38;5;124m'\u001b[39m]):\n",
      "\u001b[1;31mKeyError\u001b[0m: 'break'"
     ]
    }
   ],
   "source": [
    "menu={\n",
    "    \"latte\":{\n",
    "        \"ingredients\":{\n",
    "        'water':200,\n",
    "        'milk':150,\n",
    "        'coffee':24,\n",
    "    },\n",
    "\n",
    "    'cost':150\n",
    "\n",
    "    },\n",
    "    \"espresso\":{\n",
    "        \"ingredients\":{\n",
    "        'water':50,\n",
    "        'coffee':18,\n",
    "    },\n",
    "\n",
    "    'cost':100\n",
    "\n",
    "    },\n",
    "    \"cappaccino\":{\n",
    "        \"ingredients\":{\n",
    "        'water':250,\n",
    "        'milk':100,\n",
    "        'coffee':24,\n",
    "    },\n",
    "\n",
    "    'cost':200\n",
    "\n",
    "    },\n",
    "}\n",
    "resources={\"water\":800,\"milk\":500,\"coffee\":760,}\n",
    "profit=0\n",
    "def check_resources(order_ingredients):\n",
    "    for i in order_ingredients:  # water ,then milk,then coffee\n",
    "        if order_ingredients[i]>resources[i]:\n",
    "            print(f\"sorry there is not enough{i}\")\n",
    "            return False\n",
    "        return True\n",
    "def process_coins():\n",
    "    print(\"Please insert coins:\")\n",
    "    total=0\n",
    "    coins_five=int(input('How many 5Rs coins?:'))\n",
    "    coins_ten=int(input('How many 10Rs coins?:'))\n",
    "    coins_twenty=int(input('How many 20Rs coins?:'))\n",
    "    total=coins_five*5+coins_ten*10+coins_twenty*20\n",
    "    return total\n",
    "def is_payment_successful(money_received,coffee_cost):\n",
    "    if money_received>=coffee_cost:\n",
    "        global profit\n",
    "        profit+=coffee_cost\n",
    "        return True\n",
    "    else:\n",
    "        print(\"Sorry that's not enough money,money refunded\")\n",
    "        return False\n",
    "def make_coffee(coffee_name,coffee_ingredients):\n",
    "    for i in coffee_ingredients:\n",
    "        resources[i]-=coffee_ingredients[i]\n",
    "    print(f\"Here is your {coffee_name}! Enjoy!\")\n",
    "\n",
    "\n",
    "while True:\n",
    "    choice=input(\"what would like to have ?(latte/espresso/cappaccino)\")\n",
    "    if choice==\"off\":\n",
    "        break\n",
    "    elif choice == \"report\":\n",
    "        print(f\"water={resources['water']}ml\")\n",
    "        print(f\"milk={resources['milk']}ml\")\n",
    "        print(f\"coffee={resources['coffee']}g\")\n",
    "        print(f\"profit=Rs{'profit'}\")\n",
    "    else:\n",
    "        coffee_type=menu[choice]\n",
    "        print(coffee_type)\n",
    "        if check_resources(coffee_type['ingredients']):\n",
    "            payment=process_coins()\n",
    "            if is_payment_successful(payment,coffee_type['cost']):\n",
    "                make_coffee(choice,coffee_type['ingredients'])"
   ]
  }
 ],
 "metadata": {
  "kernelspec": {
   "display_name": "Python 3",
   "language": "python",
   "name": "python3"
  },
  "language_info": {
   "codemirror_mode": {
    "name": "ipython",
    "version": 3
   },
   "file_extension": ".py",
   "mimetype": "text/x-python",
   "name": "python",
   "nbconvert_exporter": "python",
   "pygments_lexer": "ipython3",
   "version": "3.13.0"
  }
 },
 "nbformat": 4,
 "nbformat_minor": 2
}
