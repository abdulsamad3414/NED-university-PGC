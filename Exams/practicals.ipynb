{
 "cells": [
  {
   "cell_type": "code",
   "execution_count": 4,
   "metadata": {},
   "outputs": [
    {
     "name": "stdout",
     "output_type": "stream",
     "text": [
      "The roots one is (-4+3.4641016151377544j) and the roots two is (-4-3.4641016151377544j)\n"
     ]
    }
   ],
   "source": [
    "# find the quadratic equation \n",
    "# a,b,c are the real numbers \n",
    "#a!=0\n",
    "\n",
    "import cmath\n",
    " \n",
    "a=float(input('Enter the value of a:'))\n",
    "b=float(input('Enter the value of b:'))\n",
    "c=float(input('Enter the value of c:'))\n",
    "\n",
    "# calculate the discriminant\n",
    "d = (b**2) - (4*a*c)\n",
    "root1=-b**2+ cmath.sqrt(d)/2*a\n",
    "root2=-b**2- cmath.sqrt(d)/2*a\n",
    "print('The roots one is',root1,'and the roots two is',root2)  # print the roots"
   ]
  },
  {
   "cell_type": "code",
   "execution_count": 12,
   "metadata": {},
   "outputs": [
    {
     "name": "stdout",
     "output_type": "stream",
     "text": [
      "Value of temp_variable is: 12\n",
      "the value of x is: 15\n"
     ]
    }
   ],
   "source": [
    "# swap values by using two variables\n",
    "x=12\n",
    "y=15\n",
    "temp_variable=x\n",
    "print(\"Value of temp_variable is:\",temp_variable)\n",
    "x=y\n",
    "print('the value of x is:',x)\n",
    "\n"
   ]
  },
  {
   "cell_type": "code",
   "execution_count": 1,
   "metadata": {},
   "outputs": [
    {
     "name": "stdout",
     "output_type": "stream",
     "text": [
      "2\n"
     ]
    }
   ],
   "source": [
    "import random\n",
    "num=random.randint(1,6)\n",
    "print(num)"
   ]
  },
  {
   "cell_type": "code",
   "execution_count": 2,
   "metadata": {},
   "outputs": [
    {
     "name": "stdout",
     "output_type": "stream",
     "text": [
      "93.2\n"
     ]
    }
   ],
   "source": [
    "# calsius to farenheit \n",
    "calsius=float(input('Enter temperature in celsius:'))\n",
    "farenheit=(calsius*9/5)+32\n",
    "print(farenheit)"
   ]
  },
  {
   "cell_type": "code",
   "execution_count": 7,
   "metadata": {},
   "outputs": [
    {
     "name": "stdout",
     "output_type": "stream",
     "text": [
      "2004 is a leap year\n"
     ]
    }
   ],
   "source": [
    "# leap year \n",
    "year=int(input('Enter a Year:'))\n",
    "if year%400==0 and year%100==0:\n",
    "    print(year,'is a leap year')\n",
    "elif year%4==0 and year%100!=0:\n",
    "    print(year,'is a leap year')\n",
    "else:\n",
    "    print(year,'is not a leap year')"
   ]
  },
  {
   "cell_type": "code",
   "execution_count": null,
   "metadata": {},
   "outputs": [
    {
     "name": "stdout",
     "output_type": "stream",
     "text": [
      "3 is not a prime number\n"
     ]
    }
   ],
   "source": [
    "# prime number\n",
    "n=int(input('Enter a number here:'))\n",
    "if n==1:\n",
    "    print(n,'is not a prime number')\n",
    "if n >1:\n",
    "    for i in range (2,n):\n",
    "        if n%i==0:\n",
    "            print(n,\"is not a prime number\")\n",
    "            break\n",
    "        else:\n",
    "            print(n,\"is a prime number\")\n",
    "            break\n",
    "    "
   ]
  },
  {
   "cell_type": "code",
   "execution_count": 8,
   "metadata": {},
   "outputs": [
    {
     "name": "stdout",
     "output_type": "stream",
     "text": [
      "2\n",
      "3\n",
      "5\n",
      "7\n",
      "11\n",
      "13\n",
      "17\n",
      "19\n",
      "23\n",
      "29\n",
      "31\n",
      "37\n",
      "41\n",
      "43\n",
      "47\n"
     ]
    }
   ],
   "source": [
    "# prime numbers in an interval\n",
    "lower=int(input('Enter the Lower number Here:'))\n",
    "upper=int(input('Enter the Upper number Here:'))\n",
    "for num in range (lower,upper):\n",
    "    if num>1:\n",
    "        for i in range(2,num):\n",
    "            if num%i==0:\n",
    "                break\n",
    "        else:\n",
    "            print(num)\n",
    "         \n"
   ]
  },
  {
   "cell_type": "code",
   "execution_count": 2,
   "metadata": {},
   "outputs": [
    {
     "name": "stdout",
     "output_type": "stream",
     "text": [
      "24\n"
     ]
    }
   ],
   "source": [
    "# factorail of any number\n",
    "n=int(input('Enter any number here:'))\n",
    "factorial=1\n",
    "for i in range (1,n+1):\n",
    "    factorial=factorial*i\n",
    "print(factorial)"
   ]
  },
  {
   "cell_type": "code",
   "execution_count": 4,
   "metadata": {},
   "outputs": [
    {
     "name": "stdout",
     "output_type": "stream",
     "text": [
      "3 x 1 = 3\n",
      "3 x 2 = 6\n",
      "3 x 3 = 9\n",
      "3 x 4 = 12\n",
      "3 x 5 = 15\n",
      "3 x 6 = 18\n",
      "3 x 7 = 21\n",
      "3 x 8 = 24\n",
      "3 x 9 = 27\n",
      "3 x 10 = 30\n"
     ]
    }
   ],
   "source": [
    "# print multiplication table \n",
    "n=int(input('Enter a number here:'))\n",
    "for i in range (1,11):\n",
    "    print(n,'x',i,'=',n*i)  # print multiplication table of n"
   ]
  },
  {
   "cell_type": "code",
   "execution_count": 9,
   "metadata": {},
   "outputs": [
    {
     "name": "stdout",
     "output_type": "stream",
     "text": [
      "4 x 1 = 4\n",
      "4 x 2 = 8\n",
      "4 x 3 = 12\n",
      "4 x 4 = 16\n",
      "4 x 5 = 20\n",
      "4 x 6 = 24\n",
      "4 x 7 = 28\n",
      "4 x 8 = 32\n",
      "4 x 9 = 36\n",
      "4 x 10 = 40\n"
     ]
    }
   ],
   "source": [
    "# multiplication table through while loop \n",
    "n=int(input('Enter a number here:'))\n",
    "i=1\n",
    "while i<=10:\n",
    "    print (n,'x',i,'=',n*i)\n",
    "    i=i+1"
   ]
  },
  {
   "cell_type": "code",
   "execution_count": 19,
   "metadata": {},
   "outputs": [
    {
     "name": "stdout",
     "output_type": "stream",
     "text": [
      "0\n",
      "1\n",
      "1\n",
      "2\n",
      "3\n",
      "5\n",
      "8\n",
      "13\n",
      "21\n"
     ]
    }
   ],
   "source": [
    "# fibonacci series\n",
    "n=int(input('Enter a number here:'))\n",
    "a=0\n",
    "b=1\n",
    "if n==1:\n",
    "    print(a)\n",
    "else:\n",
    "    print(a)\n",
    "    print(b)\n",
    "    for num in range(1,n+1):\n",
    "        c=a+b\n",
    "        a=b\n",
    "        b=c\n",
    "        print(c)\n",
    "    "
   ]
  },
  {
   "cell_type": "code",
   "execution_count": 11,
   "metadata": {},
   "outputs": [
    {
     "name": "stdout",
     "output_type": "stream",
     "text": [
      "Not an Armstrong number\n"
     ]
    }
   ],
   "source": [
    "# finding arngtrom number\n",
    "n = int(input('Enter a number here: '))\n",
    "total_sum = 0  # Avoid overwriting the 'sum' function\n",
    "temp = n\n",
    "\n",
    "while temp > 0:\n",
    "    last_digit = temp % 10\n",
    "    cube_of_last_digit = last_digit ** 3\n",
    "    total_sum += cube_of_last_digit\n",
    "    temp//=10  # Update temp with floor division you can write this temp=temp//10\n",
    "\n",
    "if total_sum == n:\n",
    "    print('This is an Armstrong number')\n",
    "else:\n",
    "    print('Not an Armstrong number')\n"
   ]
  },
  {
   "cell_type": "code",
   "execution_count": 4,
   "metadata": {},
   "outputs": [
    {
     "name": "stdout",
     "output_type": "stream",
     "text": [
      "This is armstrom \n"
     ]
    }
   ],
   "source": [
    "# chek armstrom number for any digits\n",
    "user_input_number=int(input('Enter a number here:'))\n",
    "order=len(str(user_input_number))\n",
    "temp=user_input_number\n",
    "total_sum=0\n",
    "while temp>0:\n",
    "    digit=temp%10\n",
    "    total_sum+=digit**order\n",
    "    temp//=10\n",
    "if total_sum==user_input_number:\n",
    "    print('This is armstrom ')\n",
    "else:\n",
    "    print('This is not an armstrom number')"
   ]
  },
  {
   "cell_type": "code",
   "execution_count": 12,
   "metadata": {},
   "outputs": [
    {
     "name": "stdout",
     "output_type": "stream",
     "text": [
      "1 is an armstrong number\n",
      "2 is an armstrong number\n",
      "3 is an armstrong number\n",
      "4 is an armstrong number\n",
      "5 is an armstrong number\n",
      "6 is an armstrong number\n",
      "7 is an armstrong number\n",
      "8 is an armstrong number\n",
      "9 is an armstrong number\n",
      "153 is an armstrong number\n",
      "370 is an armstrong number\n",
      "371 is an armstrong number\n",
      "407 is an armstrong number\n"
     ]
    }
   ],
   "source": [
    "# find armstroms by using for loop and while loop using intervals \n",
    "lower_interval=int(input('Enter the Lower_interval here'))\n",
    "upper_interval=int(input('Enter the Upper_interval here'))\n",
    "for num in range(lower_interval,upper_interval):\n",
    "    total_sum=0\n",
    "    temp=num\n",
    "    order=len(str(num))\n",
    "    while temp>0:\n",
    "        digit=temp%10\n",
    "        total_sum+=digit**order\n",
    "        temp//=10\n",
    "    if total_sum==num:\n",
    "        print(num,\"is an armstrong number\")\n",
    "    \n",
    "   "
   ]
  },
  {
   "cell_type": "code",
   "execution_count": 35,
   "metadata": {},
   "outputs": [
    {
     "name": "stdout",
     "output_type": "stream",
     "text": [
      "15\n"
     ]
    }
   ],
   "source": [
    "# find the sum of natural numbers \n",
    "n=int(input('Enter a number here:'))\n",
    "if n<0:\n",
    "    print('Please insert the positive number here:')\n",
    "else:\n",
    "    sum=0\n",
    "    while n>0:\n",
    "        sum+=n\n",
    "        n-=1\n",
    "    print(sum)\n",
    "        \n",
    "    "
   ]
  },
  {
   "cell_type": "code",
   "execution_count": 64,
   "metadata": {},
   "outputs": [
    {
     "name": "stdout",
     "output_type": "stream",
     "text": [
      "The value of 2 raised to power 0 is 1\n",
      "The value of 2 raised to power 1 is 2\n",
      "The value of 2 raised to power 2 is 4\n",
      "The value of 2 raised to power 3 is 8\n",
      "The value of 2 raised to power 4 is 16\n",
      "The value of 2 raised to power 5 is 32\n"
     ]
    }
   ],
   "source": [
    "# find the power of 2 by using anonymous function \n",
    "n=int(input('Enter a number here:'))\n",
    "f=list(map(lambda x:2** x,(range(n+1)))) # without list this function is not define \n",
    "# print(f)\n",
    "for i in range(n+1):\n",
    "    print(\"The value of 2 raised to power\",i,'is',f[i])"
   ]
  },
  {
   "cell_type": "code",
   "execution_count": 73,
   "metadata": {},
   "outputs": [
    {
     "name": "stdout",
     "output_type": "stream",
     "text": [
      "The Divisiable by 13 are  [13, 26, 39, 234]\n"
     ]
    }
   ],
   "source": [
    "# find number which is divisiable another number by using lamda function and filter()\n",
    "given_list=[13,26,39,49,234,355,255]\n",
    "result=list(filter(lambda x:x%13==0,given_list))\n",
    "print('The Divisiable by 13 are ',result)\n",
    "\n"
   ]
  },
  {
   "cell_type": "code",
   "execution_count": 75,
   "metadata": {},
   "outputs": [
    {
     "name": "stdout",
     "output_type": "stream",
     "text": [
      "The Decimal number is  23\n",
      "0b10111\n",
      "0o27\n",
      "0x17\n"
     ]
    }
   ],
   "source": [
    "# convert dec number into binary number ,decimal ,octal\n",
    "Decimal=int(input('Enter a number Here:'))\n",
    "print('The Decimal number is ',Decimal)\n",
    "print(bin(Decimal))\n",
    "print(oct(Decimal))\n",
    "print(hex(Decimal))"
   ]
  },
  {
   "cell_type": "code",
   "execution_count": 83,
   "metadata": {},
   "outputs": [
    {
     "name": "stdout",
     "output_type": "stream",
     "text": [
      "The ASCII value of * is 42\n"
     ]
    }
   ],
   "source": [
    "# find ASCII Value of charecter \n",
    "char='*'\n",
    "print('The ASCII value of',char,'is',ord(char))"
   ]
  },
  {
   "cell_type": "code",
   "execution_count": 98,
   "metadata": {},
   "outputs": [
    {
     "name": "stdout",
     "output_type": "stream",
     "text": [
      "The hfc of two numbers is 6\n"
     ]
    }
   ],
   "source": [
    "# Find HCF or GCD\n",
    "def findhcf(x,y):\n",
    "    if x>y:\n",
    "        smaller=y\n",
    "    else:\n",
    "        smaller =x\n",
    "    for i in range (1,smaller+1):\n",
    "        if x%i==0 and y%i==0:\n",
    "            hcf=i\n",
    "    return hcf\n",
    "print(\"The hfc of two numbers is\",findhcf(12,30))\n",
    "\n"
   ]
  },
  {
   "cell_type": "code",
   "execution_count": 1,
   "metadata": {},
   "outputs": [
    {
     "name": "stdout",
     "output_type": "stream",
     "text": [
      "1\n",
      "3\n"
     ]
    }
   ],
   "source": [
    "# find the factors of a number\n",
    "num=int(input('Enter a number Here:'))\n",
    "for i in range (1,num+1):\n",
    "    if num%i==0:\n",
    "        print(i)"
   ]
  }
 ],
 "metadata": {
  "kernelspec": {
   "display_name": "Python 3",
   "language": "python",
   "name": "python3"
  },
  "language_info": {
   "codemirror_mode": {
    "name": "ipython",
    "version": 3
   },
   "file_extension": ".py",
   "mimetype": "text/x-python",
   "name": "python",
   "nbconvert_exporter": "python",
   "pygments_lexer": "ipython3",
   "version": "3.13.1"
  }
 },
 "nbformat": 4,
 "nbformat_minor": 2
}
