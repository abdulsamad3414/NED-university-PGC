{
 "cells": [
  {
   "cell_type": "code",
   "execution_count": 4,
   "metadata": {},
   "outputs": [
    {
     "name": "stdout",
     "output_type": "stream",
     "text": [
      "The roots one is (-4+3.4641016151377544j) and the roots two is (-4-3.4641016151377544j)\n"
     ]
    }
   ],
   "source": [
    "# find the quadratic equation \n",
    "# a,b,c are the real numbers \n",
    "#a!=0\n",
    "\n",
    "import cmath\n",
    " \n",
    "a=float(input('Enter the value of a:'))\n",
    "b=float(input('Enter the value of b:'))\n",
    "c=float(input('Enter the value of c:'))\n",
    "\n",
    "# calculate the discriminant\n",
    "d = (b**2) - (4*a*c)\n",
    "root1=-b**2+ cmath.sqrt(d)/2*a\n",
    "root2=-b**2- cmath.sqrt(d)/2*a\n",
    "print('The roots one is',root1,'and the roots two is',root2)  # print the roots"
   ]
  },
  {
   "cell_type": "code",
   "execution_count": 12,
   "metadata": {},
   "outputs": [
    {
     "name": "stdout",
     "output_type": "stream",
     "text": [
      "Value of temp_variable is: 12\n",
      "the value of x is: 15\n"
     ]
    }
   ],
   "source": [
    "# swap values by using two variables\n",
    "x=12\n",
    "y=15\n",
    "temp_variable=x\n",
    "print(\"Value of temp_variable is:\",temp_variable)\n",
    "x=y\n",
    "print('the value of x is:',x)\n",
    "\n"
   ]
  },
  {
   "cell_type": "code",
   "execution_count": 1,
   "metadata": {},
   "outputs": [
    {
     "name": "stdout",
     "output_type": "stream",
     "text": [
      "2\n"
     ]
    }
   ],
   "source": [
    "import random\n",
    "num=random.randint(1,6)\n",
    "print(num)"
   ]
  },
  {
   "cell_type": "code",
   "execution_count": 2,
   "metadata": {},
   "outputs": [
    {
     "name": "stdout",
     "output_type": "stream",
     "text": [
      "93.2\n"
     ]
    }
   ],
   "source": [
    "# calsius to farenheit \n",
    "calsius=float(input('Enter temperature in celsius:'))\n",
    "farenheit=(calsius*9/5)+32\n",
    "print(farenheit)"
   ]
  },
  {
   "cell_type": "code",
   "execution_count": 7,
   "metadata": {},
   "outputs": [
    {
     "name": "stdout",
     "output_type": "stream",
     "text": [
      "2004 is a leap year\n"
     ]
    }
   ],
   "source": [
    "# leap year \n",
    "year=int(input('Enter a Year:'))\n",
    "if year%400==0 and year%100==0:\n",
    "    print(year,'is a leap year')\n",
    "elif year%4==0 and year%100!=0:\n",
    "    print(year,'is a leap year')\n",
    "else:\n",
    "    print(year,'is not a leap year')"
   ]
  },
  {
   "cell_type": "code",
   "execution_count": null,
   "metadata": {},
   "outputs": [
    {
     "name": "stdout",
     "output_type": "stream",
     "text": [
      "3 is not a prime number\n"
     ]
    }
   ],
   "source": [
    "# prime number\n",
    "n=int(input('Enter a number here:'))\n",
    "if n==1:\n",
    "    print(n,'is not a prime number')\n",
    "if n >1:\n",
    "    for i in range (2,n):\n",
    "        if n%i==0:\n",
    "            print(n,\"is not a prime number\")\n",
    "            break\n",
    "        else:\n",
    "            print(n,\"is a prime number\")\n",
    "            break\n",
    "    "
   ]
  },
  {
   "cell_type": "code",
   "execution_count": null,
   "metadata": {},
   "outputs": [],
   "source": [
    "# prime numbers in an interval\n",
    "lower=int(input('Enter the Lower number Here:'))\n",
    "upper=int(input('Enter the Upper number Here:'))\n",
    "for i in range (lower,upper):\n",
    "    if i>1:\n",
    "        for i in range(2,i):\n",
    "            if \n",
    "         \n"
   ]
  }
 ],
 "metadata": {
  "kernelspec": {
   "display_name": "Python 3",
   "language": "python",
   "name": "python3"
  },
  "language_info": {
   "codemirror_mode": {
    "name": "ipython",
    "version": 3
   },
   "file_extension": ".py",
   "mimetype": "text/x-python",
   "name": "python",
   "nbconvert_exporter": "python",
   "pygments_lexer": "ipython3",
   "version": "3.13.0"
  }
 },
 "nbformat": 4,
 "nbformat_minor": 2
}
