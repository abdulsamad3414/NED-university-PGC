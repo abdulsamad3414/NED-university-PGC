{
 "cells": [
  {
   "cell_type": "code",
   "execution_count": 4,
   "metadata": {},
   "outputs": [
    {
     "name": "stdout",
     "output_type": "stream",
     "text": [
      "The roots one is (-4+3.4641016151377544j) and the roots two is (-4-3.4641016151377544j)\n"
     ]
    }
   ],
   "source": [
    "# find the quadratic equation \n",
    "# a,b,c are the real numbers \n",
    "#a!=0\n",
    "\n",
    "import cmath\n",
    " \n",
    "a=float(input('Enter the value of a:'))\n",
    "b=float(input('Enter the value of b:'))\n",
    "c=float(input('Enter the value of c:'))\n",
    "\n",
    "# calculate the discriminant\n",
    "d = (b**2) - (4*a*c)\n",
    "root1=-b**2+ cmath.sqrt(d)/2*a\n",
    "root2=-b**2- cmath.sqrt(d)/2*a\n",
    "print('The roots one is',root1,'and the roots two is',root2)  # print the roots"
   ]
  },
  {
   "cell_type": "code",
   "execution_count": 12,
   "metadata": {},
   "outputs": [
    {
     "name": "stdout",
     "output_type": "stream",
     "text": [
      "Value of temp_variable is: 12\n",
      "the value of x is: 15\n"
     ]
    }
   ],
   "source": [
    "# swap values by using two variables\n",
    "x=12\n",
    "y=15\n",
    "temp_variable=x\n",
    "print(\"Value of temp_variable is:\",temp_variable)\n",
    "x=y\n",
    "print('the value of x is:',x)\n",
    "\n"
   ]
  }
 ],
 "metadata": {
  "kernelspec": {
   "display_name": "Python 3",
   "language": "python",
   "name": "python3"
  },
  "language_info": {
   "codemirror_mode": {
    "name": "ipython",
    "version": 3
   },
   "file_extension": ".py",
   "mimetype": "text/x-python",
   "name": "python",
   "nbconvert_exporter": "python",
   "pygments_lexer": "ipython3",
   "version": "3.13.0"
  }
 },
 "nbformat": 4,
 "nbformat_minor": 2
}
