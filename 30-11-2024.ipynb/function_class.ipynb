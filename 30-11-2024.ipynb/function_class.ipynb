{
 "cells": [
  {
   "cell_type": "code",
   "execution_count": 7,
   "metadata": {},
   "outputs": [
    {
     "name": "stdout",
     "output_type": "stream",
     "text": [
      "7.0\n",
      "-1.0\n",
      "0.75\n",
      "12.0\n"
     ]
    }
   ],
   "source": [
    "# add /multi/divi/sub by function \n",
    "def sum(num1,num2):\n",
    "    return num1+num2\n",
    "def sub(num1,num2):\n",
    "    return num1-num2\n",
    "def div(num1,num2):\n",
    "    return num1/num2\n",
    "def multi(num1,num2):\n",
    "    return num1*num2\n",
    "num1=float(input('Enter the first number:'))\n",
    "num2=float(input('Enter the second number:'))\n",
    "print(sum(num1,num2))\n",
    "print(sub(num1,num2))\n",
    "print(div(num1,num2))\n",
    "print(multi(num1,num2))  "
   ]
  },
  {
   "cell_type": "markdown",
   "metadata": {},
   "source": [
    "# Scope of Variable"
   ]
  },
  {
   "cell_type": "code",
   "execution_count": 1,
   "metadata": {},
   "outputs": [
    {
     "name": "stdout",
     "output_type": "stream",
     "text": [
      "2\n",
      "8\n"
     ]
    }
   ],
   "source": [
    "def f(y):\n",
    "    x=1\n",
    "    x+=1\n",
    "    print(x)\n",
    "x=8\n",
    "f(x)\n",
    "print(x)"
   ]
  },
  {
   "cell_type": "code",
   "execution_count": 9,
   "metadata": {},
   "outputs": [
    {
     "name": "stdout",
     "output_type": "stream",
     "text": [
      "2\n",
      "5\n"
     ]
    }
   ],
   "source": [
    "def f(y):\n",
    "    y=1\n",
    "    y+=1\n",
    "    print(y)\n",
    "x=5\n",
    "f(x)\n",
    "print(x)"
   ]
  },
  {
   "cell_type": "code",
   "execution_count": 10,
   "metadata": {},
   "outputs": [
    {
     "name": "stdout",
     "output_type": "stream",
     "text": [
      "3\n",
      "5\n"
     ]
    }
   ],
   "source": [
    "def f(y):\n",
    "    y=2\n",
    "    y+=1\n",
    "    print(y)\n",
    "x=5\n",
    "f(x)\n",
    "print(x)"
   ]
  },
  {
   "cell_type": "code",
   "execution_count": 3,
   "metadata": {},
   "outputs": [
    {
     "ename": "UnboundLocalError",
     "evalue": "cannot access local variable 'x' where it is not associated with a value",
     "output_type": "error",
     "traceback": [
      "\u001b[1;31m---------------------------------------------------------------------------\u001b[0m",
      "\u001b[1;31mUnboundLocalError\u001b[0m                         Traceback (most recent call last)",
      "Cell \u001b[1;32mIn[3], line 5\u001b[0m\n\u001b[0;32m      3\u001b[0m     \u001b[38;5;28mprint\u001b[39m(x)\n\u001b[0;32m      4\u001b[0m x\u001b[38;5;241m=\u001b[39m\u001b[38;5;241m5\u001b[39m\n\u001b[1;32m----> 5\u001b[0m \u001b[43mh\u001b[49m\u001b[43m(\u001b[49m\u001b[43mx\u001b[49m\u001b[43m)\u001b[49m\n\u001b[0;32m      6\u001b[0m \u001b[38;5;28mprint\u001b[39m(x)\n",
      "Cell \u001b[1;32mIn[3], line 2\u001b[0m, in \u001b[0;36mh\u001b[1;34m(y)\u001b[0m\n\u001b[0;32m      1\u001b[0m \u001b[38;5;28;01mdef\u001b[39;00m \u001b[38;5;21mh\u001b[39m(y):\n\u001b[1;32m----> 2\u001b[0m     \u001b[43mx\u001b[49m\u001b[38;5;241m+\u001b[39m\u001b[38;5;241m=\u001b[39m\u001b[38;5;241m1\u001b[39m\n\u001b[0;32m      3\u001b[0m     \u001b[38;5;28mprint\u001b[39m(x)\n",
      "\u001b[1;31mUnboundLocalError\u001b[0m: cannot access local variable 'x' where it is not associated with a value"
     ]
    }
   ],
   "source": [
    "def h(y):\n",
    "    x+=1\n",
    "    print(x)\n",
    "x=5\n",
    "h(x)\n",
    "print(x)"
   ]
  },
  {
   "cell_type": "code",
   "execution_count": 4,
   "metadata": {},
   "outputs": [
    {
     "name": "stdout",
     "output_type": "stream",
     "text": [
      "in f (x):x= 4\n",
      "in main program scope :z= 4\n",
      "in main program scope :x= 3\n"
     ]
    }
   ],
   "source": [
    "def f(x):\n",
    "    x=x+1\n",
    "    print('in f (x):x=',x)\n",
    "    return x\n",
    "\n",
    "x=3\n",
    "z=f(x)\n",
    "print('in main program scope :z=',z)\n",
    "print('in main program scope :x=',x)"
   ]
  },
  {
   "cell_type": "code",
   "execution_count": 6,
   "metadata": {},
   "outputs": [
    {
     "name": "stdout",
     "output_type": "stream",
     "text": [
      "in f (x):x= 4\n",
      "in main program scope :z= None\n",
      "in main program scope :x= 3\n"
     ]
    }
   ],
   "source": [
    "# without return\n",
    "def f(x):\n",
    "    x=x+1\n",
    "    print('in f (x):x=',x)\n",
    "    \n",
    "\n",
    "x=3\n",
    "z=f(x)\n",
    "print('in main program scope :z=',z)\n",
    "print('in main program scope :x=',x)"
   ]
  },
  {
   "cell_type": "markdown",
   "metadata": {},
   "source": [
    "# Nested Function "
   ]
  },
  {
   "cell_type": "code",
   "execution_count": 5,
   "metadata": {},
   "outputs": [
    {
     "name": "stdout",
     "output_type": "stream",
     "text": [
      "Hello from outer function\n",
      "Hello from inner function\n"
     ]
    }
   ],
   "source": [
    "def function1(): # this is my outer function \n",
    "    print('Hello from outer function')\n",
    "    def function2():\n",
    "        print('Hello from inner function')\n",
    "    function2()   # here function2 calling\n",
    "\n",
    "function1() # here function1 calling"
   ]
  },
  {
   "cell_type": "code",
   "execution_count": 14,
   "metadata": {},
   "outputs": [
    {
     "name": "stdout",
     "output_type": "stream",
     "text": [
      "<function num1.<locals>.num2 at 0x000002239C474E00>\n",
      "50\n"
     ]
    }
   ],
   "source": [
    "def num1(x):\n",
    "    def num2(y):\n",
    "        return x*y\n",
    "    return num2\n",
    "res=num1(10)\n",
    "print(res)\n",
    "print(res(5))  # this is nested function due to which (5 )bear "
   ]
  },
  {
   "cell_type": "code",
   "execution_count": 15,
   "metadata": {},
   "outputs": [
    {
     "name": "stdout",
     "output_type": "stream",
     "text": [
      "<function num.<locals>.power at 0x000002239C4749A0>\n",
      "32\n"
     ]
    }
   ],
   "source": [
    "def num(x):\n",
    "    def power(y):\n",
    "        return x**y\n",
    "    return power\n",
    "res=num(2)\n",
    "print(res)\n",
    "print(res(5))"
   ]
  },
  {
   "cell_type": "code",
   "execution_count": 6,
   "metadata": {},
   "outputs": [
    {
     "name": "stdout",
     "output_type": "stream",
     "text": [
      "<function num.<locals>.power at 0x00000233F7DFC4A0>\n"
     ]
    },
    {
     "ename": "NameError",
     "evalue": "name 'z' is not defined",
     "output_type": "error",
     "traceback": [
      "\u001b[1;31m---------------------------------------------------------------------------\u001b[0m",
      "\u001b[1;31mNameError\u001b[0m                                 Traceback (most recent call last)",
      "Cell \u001b[1;32mIn[6], line 10\u001b[0m\n\u001b[0;32m      8\u001b[0m res\u001b[38;5;241m=\u001b[39mnum(\u001b[38;5;241m2\u001b[39m)\n\u001b[0;32m      9\u001b[0m \u001b[38;5;28mprint\u001b[39m(res)\n\u001b[1;32m---> 10\u001b[0m \u001b[38;5;28mprint\u001b[39m(\u001b[43mres\u001b[49m\u001b[43m(\u001b[49m\u001b[38;5;241;43m5\u001b[39;49m\u001b[43m)\u001b[49m)\n\u001b[0;32m     11\u001b[0m \u001b[38;5;28mprint\u001b[39m(product(\u001b[38;5;241m7\u001b[39m))\n",
      "Cell \u001b[1;32mIn[6], line 5\u001b[0m, in \u001b[0;36mnum.<locals>.power\u001b[1;34m(y)\u001b[0m\n\u001b[0;32m      3\u001b[0m \u001b[38;5;28;01mdef\u001b[39;00m \u001b[38;5;21mproduct\u001b[39m(z):\n\u001b[0;32m      4\u001b[0m     \u001b[38;5;28;01mreturn\u001b[39;00m x \u001b[38;5;241m*\u001b[39m y \u001b[38;5;241m*\u001b[39m z\n\u001b[1;32m----> 5\u001b[0m \u001b[38;5;28;01mreturn\u001b[39;00m product(x,y,\u001b[43mz\u001b[49m)\n\u001b[0;32m      6\u001b[0m \u001b[38;5;28;01mreturn\u001b[39;00m x\u001b[38;5;241m*\u001b[39m\u001b[38;5;241m*\u001b[39my\n",
      "\u001b[1;31mNameError\u001b[0m: name 'z' is not defined"
     ]
    }
   ],
   "source": [
    "def num(x):\n",
    "    def power(y):\n",
    "        def product(z):\n",
    "            return x * y * z\n",
    "        return product(x,y,z)\n",
    "        return x**y\n",
    "    return power\n",
    "res=num(2)\n",
    "print(res)\n",
    "print(res(5))\n",
    "print(product(7))"
   ]
  },
  {
   "cell_type": "code",
   "execution_count": 23,
   "metadata": {},
   "outputs": [
    {
     "name": "stdout",
     "output_type": "stream",
     "text": [
      "<function num1.<locals>.num2 at 0x000002239C579C60>\n",
      "250\n"
     ]
    }
   ],
   "source": [
    "def num1(x):\n",
    "  def num2(y):\n",
    "    def num3(z):\n",
    "      return x * y *z;\n",
    "    return num3;\n",
    "  return num2;   \n",
    "\n",
    "res = num1(10)\n",
    "print(res)\n",
    "res1 = res(5)\n",
    "print(res1(5))"
   ]
  },
  {
   "cell_type": "code",
   "execution_count": 24,
   "metadata": {},
   "outputs": [
    {
     "name": "stdout",
     "output_type": "stream",
     "text": [
      "<function name1.<locals>.name2 at 0x000002239C65C220>\n",
      "MNihalIqbal\n"
     ]
    }
   ],
   "source": [
    "def name1(x):\n",
    "  def name2(y):\n",
    "    def name3(z):\n",
    "      return x+y+z;\n",
    "    return name3;\n",
    "  return name2;   \n",
    "\n",
    "res = name1('M')\n",
    "print(res)\n",
    "res1 = res('Nihal')\n",
    "print(res1(\"Iqbal\"))\n"
   ]
  },
  {
   "cell_type": "code",
   "execution_count": 25,
   "metadata": {},
   "outputs": [
    {
     "name": "stdout",
     "output_type": "stream",
     "text": [
      "Hasan Raza Ali\n"
     ]
    }
   ],
   "source": [
    "def first_name():\n",
    "    return \"Hasan\"\n",
    "\n",
    "def second_name():\n",
    "    return first_name() + \" \" + \"Raza\"\n",
    "\n",
    "def third_name():\n",
    "    return second_name() + \" \" + \"Ali\"\n",
    "print(third_name())"
   ]
  },
  {
   "cell_type": "code",
   "execution_count": 31,
   "metadata": {},
   "outputs": [
    {
     "name": "stdout",
     "output_type": "stream",
     "text": [
      "<function fname.<locals>.mname at 0x000002239C69A020>\n",
      "Adul\n"
     ]
    }
   ],
   "source": [
    "def fname(name1):\n",
    "    def mname(name2):\n",
    "        def lname(name3):\n",
    "            return name3\n",
    "        return lname\n",
    "    return mname\n",
    "Fname=fname('abdul')\n",
    "print(Fname)\n",
    "Fname1=Fname\n",
    "print('Adul')\n",
    "\n"
   ]
  }
 ],
 "metadata": {
  "kernelspec": {
   "display_name": "Python 3",
   "language": "python",
   "name": "python3"
  },
  "language_info": {
   "codemirror_mode": {
    "name": "ipython",
    "version": 3
   },
   "file_extension": ".py",
   "mimetype": "text/x-python",
   "name": "python",
   "nbconvert_exporter": "python",
   "pygments_lexer": "ipython3",
   "version": "3.13.0"
  }
 },
 "nbformat": 4,
 "nbformat_minor": 2
}
