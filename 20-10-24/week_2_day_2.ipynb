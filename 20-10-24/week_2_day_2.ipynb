{
 "cells": [
  {
   "cell_type": "code",
   "execution_count": 1,
   "metadata": {},
   "outputs": [
    {
     "data": {
      "text/plain": [
       "True"
      ]
     },
     "execution_count": 1,
     "metadata": {},
     "output_type": "execute_result"
    }
   ],
   "source": [
    "# take an input from a user your full name ->first name exist name \n",
    "# (in ,not in ))\n",
    "First_name= (input(\"First name\"))\n",
    "Full_name= (input(\"Full name\"))\n",
    "First_name in Full_name\n",
    "First_name not in Full_name"
   ]
  },
  {
   "cell_type": "markdown",
   "metadata": {},
   "source": [
    "# other data types in python \n",
    "# 1.list  # list is a collection which store different datatype in list representative by [] and duplication allowed\n",
    "# 2.tuple \n",
    "# 3.set\n",
    "# 4.dictionary"
   ]
  },
  {
   "cell_type": "code",
   "execution_count": 2,
   "metadata": {},
   "outputs": [
    {
     "name": "stdout",
     "output_type": "stream",
     "text": [
      "[]\n",
      "<class 'list'>\n"
     ]
    }
   ],
   "source": [
    "# declearing empy list \n",
    "fruit=[]   # not contain any variable\n",
    "print(fruit)\n",
    "print(type(fruit))"
   ]
  },
  {
   "cell_type": "code",
   "execution_count": 3,
   "metadata": {},
   "outputs": [
    {
     "name": "stdout",
     "output_type": "stream",
     "text": [
      "['mango', 'banana', 'graphs', 'avacado', 'berry']\n",
      "<class 'list'>\n"
     ]
    },
    {
     "data": {
      "text/plain": [
       "5"
      ]
     },
     "execution_count": 3,
     "metadata": {},
     "output_type": "execute_result"
    }
   ],
   "source": [
    "fruit=['mango','banana','graphs','avacado','berry']\n",
    "print (fruit)\n",
    "print(type(fruit))\n",
    "len(fruit)"
   ]
  },
  {
   "cell_type": "code",
   "execution_count": 4,
   "metadata": {},
   "outputs": [
    {
     "name": "stdout",
     "output_type": "stream",
     "text": [
      "['mango', 'banana', 'graphs', 'avacado', 'berry', 'apple']\n"
     ]
    }
   ],
   "source": [
    "# Addin element in a list by using append \n",
    "fruit.append('apple')\n",
    "print(fruit)"
   ]
  },
  {
   "cell_type": "code",
   "execution_count": 5,
   "metadata": {},
   "outputs": [
    {
     "name": "stdout",
     "output_type": "stream",
     "text": [
      "['mango', 'banana', 'graphs', 'avacado', 'berry', 'apple', 'Dragon fruit']\n"
     ]
    }
   ],
   "source": [
    "fruit.append('Dragon fruit')\n",
    "print(fruit)\n"
   ]
  },
  {
   "cell_type": "code",
   "execution_count": 6,
   "metadata": {},
   "outputs": [
    {
     "name": "stdout",
     "output_type": "stream",
     "text": [
      "['graphs', 'berry', 'Dragon fruit']\n",
      "['banana', 'avacado', 'apple']\n"
     ]
    }
   ],
   "source": [
    "#indexing always started with 0 and its represent the position of an elements  in the list[0,1,2,3]\n",
    "# print (fruit[0])\n",
    "# print (fruit[4])\n",
    "# print(fruit[]) # this is invalid sytax\n",
    "# print (fruit[:]) # inclusive : exclusive \n",
    "# print (fruit[0:4])\n",
    "# print(fruit[1:6])\n",
    "# print (fruit[-1])\n",
    "# print (fruit[0::2]) #inclusive :exclusive :steps\n",
    "print (fruit[2::2])\n",
    "print (fruit[1:6:2])\n",
    "# print (fruit[0:])\n",
    "# print(fruit[:])\n",
    "# print (fruit[:7])"
   ]
  },
  {
   "cell_type": "code",
   "execution_count": 7,
   "metadata": {},
   "outputs": [
    {
     "name": "stdout",
     "output_type": "stream",
     "text": [
      "['banana', 'graphs', 'avacado']\n",
      "['mango', 'banana', 'graphs', 'avacado', 'berry', 'apple', 'Dragon fruit']\n",
      "['mango', 'banana', 'graphs']\n",
      "['mango', 'graphs', 'berry', 'Dragon fruit']\n",
      "['Dragon fruit', 'apple', 'berry', 'avacado', 'graphs', 'banana', 'mango']\n",
      "['mango', 'banana', 'graphs', 'avacado', 'berry', 'apple']\n"
     ]
    }
   ],
   "source": [
    "#Negative indexing \n",
    "# print (fruit[-5:-1])\n",
    "print (fruit[-6:-3:1])\n",
    "# print(fruit[-6:-1:2])\n",
    "# print (fruit[-7:-6:1])\n",
    "print(fruit)\n",
    "print(fruit[:3])\n",
    "print(fruit[:7:2])\n",
    "print(fruit[::-1])\n",
    "print(fruit[:-1])"
   ]
  },
  {
   "cell_type": "code",
   "execution_count": 8,
   "metadata": {},
   "outputs": [
    {
     "name": "stdout",
     "output_type": "stream",
     "text": [
      "['mango', 'banana', 'graphs', 'avacado', 'berry', 'apple', 'Dragon fruit']\n",
      "graphs\n",
      "[]\n",
      "['graphs', 'avacado', 'berry', 'apple']\n",
      "['graphs', 'berry', 'Dragon fruit']\n",
      "['graphs', 'banana', 'mango']\n",
      "['banana']\n",
      "['banana', 'avacado', 'apple']\n"
     ]
    }
   ],
   "source": [
    "# negative indexing \n",
    "print(fruit)\n",
    "print(fruit[-5])\n",
    "print(fruit[-1:-5]) # this is not a valid slicing operation in python, it will throw an error\n",
    "print(fruit[-5:-1])\n",
    "print(fruit[-5::2])\n",
    "print(fruit[-5::-1]) # here stpes move in backward direction \n",
    "print(fruit[-6::-2]) # steps move in backword direction\n",
    "print(fruit[-6::2]) #steps move in forward direction"
   ]
  },
  {
   "cell_type": "code",
   "execution_count": 9,
   "metadata": {},
   "outputs": [
    {
     "name": "stdout",
     "output_type": "stream",
     "text": [
      "['mango', 'Apricot', 'banana', 'graphs', 'avacado', 'berry', 'apple', 'Dragon fruit']\n"
     ]
    }
   ],
   "source": [
    "# insert \n",
    "fruit.insert(1,'Apricot')\n",
    "print(fruit)"
   ]
  },
  {
   "cell_type": "code",
   "execution_count": 10,
   "metadata": {},
   "outputs": [
    {
     "name": "stdout",
     "output_type": "stream",
     "text": [
      "['mango', 'Apricot', 'banana', 'graphs', 'avacado', 'watermelon', 'berry', 'apple', 'Dragon fruit']\n"
     ]
    }
   ],
   "source": [
    "fruit.insert(5,'watermelon')\n",
    "print(fruit)"
   ]
  },
  {
   "cell_type": "code",
   "execution_count": 11,
   "metadata": {},
   "outputs": [
    {
     "name": "stdout",
     "output_type": "stream",
     "text": [
      "['mango', 'Apricot', 'banana', 'graphs', 'avacado', 'watermelon', 'berry', 'apple']\n"
     ]
    }
   ],
   "source": [
    "# pop always delete an element from the end \n",
    "fruit.pop()\n",
    "print (fruit)"
   ]
  },
  {
   "cell_type": "code",
   "execution_count": 12,
   "metadata": {},
   "outputs": [
    {
     "name": "stdout",
     "output_type": "stream",
     "text": [
      "['mango', 'Apricot', 'banana', 'graphs', 'watermelon', 'berry', 'apple']\n"
     ]
    }
   ],
   "source": [
    "# pop indexing \n",
    "fruit.pop(-4)\n",
    "print (fruit)"
   ]
  },
  {
   "cell_type": "code",
   "execution_count": 13,
   "metadata": {},
   "outputs": [
    {
     "name": "stdout",
     "output_type": "stream",
     "text": [
      "['mango', 'Apricot', 'banana', 'graphs', 'berry', 'apple']\n"
     ]
    }
   ],
   "source": [
    "# remove\n",
    "fruit.remove('watermelon') # this is always treat string not intger\n",
    "print(fruit)"
   ]
  },
  {
   "cell_type": "code",
   "execution_count": 14,
   "metadata": {},
   "outputs": [
    {
     "data": {
      "text/plain": [
       "6"
      ]
     },
     "execution_count": 14,
     "metadata": {},
     "output_type": "execute_result"
    }
   ],
   "source": [
    "len(fruit)"
   ]
  },
  {
   "cell_type": "code",
   "execution_count": 15,
   "metadata": {},
   "outputs": [
    {
     "name": "stdout",
     "output_type": "stream",
     "text": [
      "['mango', 'banana', 'graphs', 'berry', 'apple']\n"
     ]
    }
   ],
   "source": [
    "fruit.pop(1)   #pop take only integer not string /indexing mention \n",
    "print (fruit)"
   ]
  },
  {
   "cell_type": "code",
   "execution_count": 16,
   "metadata": {},
   "outputs": [
    {
     "name": "stdout",
     "output_type": "stream",
     "text": [
      "['mango', 'banana', 'graphs', 'berry', 'apple']\n"
     ]
    }
   ],
   "source": [
    "print(fruit)"
   ]
  },
  {
   "cell_type": "code",
   "execution_count": 17,
   "metadata": {},
   "outputs": [
    {
     "name": "stdout",
     "output_type": "stream",
     "text": [
      "['Melon', 'Mango', 'kiwi']\n"
     ]
    }
   ],
   "source": [
    "fruits_in_summer=['Melon','Mango','kiwi']\n",
    "print(fruits_in_summer)"
   ]
  },
  {
   "cell_type": "code",
   "execution_count": 18,
   "metadata": {},
   "outputs": [
    {
     "name": "stdout",
     "output_type": "stream",
     "text": [
      "['mango', 'banana', 'graphs', 'berry', 'apple', ['Melon', 'Mango', 'kiwi']]\n"
     ]
    }
   ],
   "source": [
    "fruit.append(fruits_in_summer)\n",
    "print(fruit)"
   ]
  },
  {
   "cell_type": "code",
   "execution_count": 19,
   "metadata": {},
   "outputs": [
    {
     "data": {
      "text/plain": [
       "['mango', 'banana', 'graphs', 'berry', 'apple', ['Melon', 'Mango', 'kiwi']]"
      ]
     },
     "execution_count": 19,
     "metadata": {},
     "output_type": "execute_result"
    }
   ],
   "source": [
    "fruit"
   ]
  },
  {
   "cell_type": "code",
   "execution_count": 20,
   "metadata": {},
   "outputs": [
    {
     "name": "stdout",
     "output_type": "stream",
     "text": [
      "['Mango', 'kiwi']\n"
     ]
    },
    {
     "data": {
      "text/plain": [
       "'kiwi'"
      ]
     },
     "execution_count": 20,
     "metadata": {},
     "output_type": "execute_result"
    }
   ],
   "source": [
    "# multi dimensionaly indexing \n",
    "print(fruit[5][1:]) # usee this parent and child indexing concapts\n",
    "# in above list we extract mango and kiwi by parent and child indexing \n",
    "fruit\n",
    "fruit[5][:1]\n",
    "fruit[5][-1]"
   ]
  },
  {
   "cell_type": "code",
   "execution_count": 21,
   "metadata": {},
   "outputs": [
    {
     "data": {
      "text/plain": [
       "1"
      ]
     },
     "execution_count": 21,
     "metadata": {},
     "output_type": "execute_result"
    }
   ],
   "source": [
    "fruit.count('apple')"
   ]
  },
  {
   "cell_type": "code",
   "execution_count": 25,
   "metadata": {},
   "outputs": [
    {
     "name": "stdout",
     "output_type": "stream",
     "text": [
      "None\n",
      "['mango', 'banana', 'graphs', 'berry', 'apple', ['Melon', 'Mango', 'kiwi']]\n"
     ]
    }
   ],
   "source": [
    "fruit.reverse()\n",
    "fruit\n",
    "print(fruit.reverse())\n",
    "print(fruit)"
   ]
  }
 ],
 "metadata": {
  "kernelspec": {
   "display_name": "Python 3",
   "language": "python",
   "name": "python3"
  },
  "language_info": {
   "codemirror_mode": {
    "name": "ipython",
    "version": 3
   },
   "file_extension": ".py",
   "mimetype": "text/x-python",
   "name": "python",
   "nbconvert_exporter": "python",
   "pygments_lexer": "ipython3",
   "version": "3.13.0"
  }
 },
 "nbformat": 4,
 "nbformat_minor": 2
}
