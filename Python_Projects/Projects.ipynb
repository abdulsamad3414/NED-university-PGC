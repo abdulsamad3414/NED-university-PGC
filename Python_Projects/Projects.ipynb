{
 "cells": [
  {
   "cell_type": "markdown",
   "metadata": {},
   "source": [
    "# Rock,Paper and Scissors Game "
   ]
  },
  {
   "cell_type": "code",
   "execution_count": 25,
   "metadata": {},
   "outputs": [
    {
     "name": "stdout",
     "output_type": "stream",
     "text": [
      "Enter your choice:,Type \n",
      "      0 for Rock ,\n",
      "      1 for Paper ,\n",
      "      2 for Scissors:\n",
      "      you chosed 1\n",
      "Computer_Choice\n",
      "0\n",
      "You win\n"
     ]
    }
   ],
   "source": [
    "import random \n",
    "user_input=int(input('Enter your choice:,Type 0 for Rock ,1 for Paper ,2 for Scissors:'))\n",
    "print('''Enter your choice:,Type \n",
    "      0 for Rock ,\n",
    "      1 for Paper ,\n",
    "      2 for Scissors:\n",
    "      you chosed''',user_input)\n",
    "computer_choice=random.randint(0,2)\n",
    "print('Computer_Choice')\n",
    "print(computer_choice)\n",
    "if user_input==computer_choice:\n",
    "    print('Draw the Game')\n",
    "elif computer_choice>user_input:\n",
    "    print('you lose')\n",
    "elif computer_choice<user_input:\n",
    "    print('You win')"
   ]
  },
  {
   "cell_type": "code",
   "execution_count": null,
   "metadata": {},
   "outputs": [],
   "source": [
    "import random\n",
    "l=[\"rock\",\"scissor\",\"paper\"]\n",
    "\"\"\"\n",
    "rock vs paper--->paper wins \n",
    "paper vs scissor--->scissor wins\n",
    "scissor vs rock--->rock wins \n",
    "\"\"\"\n",
    "while True:\n",
    "    user=input(\"enter your choice (rock/scissor/paper):\")\n",
    "    if user not in l:\n",
    "        print(\"invalid input\")\n",
    "    else:\n",
    "        "
   ]
  }
 ],
 "metadata": {
  "kernelspec": {
   "display_name": "Python 3",
   "language": "python",
   "name": "python3"
  },
  "language_info": {
   "codemirror_mode": {
    "name": "ipython",
    "version": 3
   },
   "file_extension": ".py",
   "mimetype": "text/x-python",
   "name": "python",
   "nbconvert_exporter": "python",
   "pygments_lexer": "ipython3",
   "version": "3.13.1"
  }
 },
 "nbformat": 4,
 "nbformat_minor": 2
}
