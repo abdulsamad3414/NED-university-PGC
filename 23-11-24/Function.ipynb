{
 "cells": [
  {
   "cell_type": "markdown",
   "metadata": {},
   "source": [
    "# Create a list "
   ]
  },
  {
   "cell_type": "code",
   "execution_count": 1,
   "metadata": {},
   "outputs": [
    {
     "name": "stdout",
     "output_type": "stream",
     "text": [
      "['banan', 'tomato', 23]\n",
      "12\n",
      "onion\n",
      "apple\n"
     ]
    }
   ],
   "source": [
    "list=['apple','onion',12,['banan','tomato',23]]\n",
    "n=len(list)\n",
    "for i in range(n,0,-1):\n",
    "    print(list[i-1])"
   ]
  },
  {
   "cell_type": "code",
   "execution_count": 11,
   "metadata": {},
   "outputs": [
    {
     "name": "stdout",
     "output_type": "stream",
     "text": [
      "1 \n",
      "1 2 \n",
      "1 2 3 \n",
      "1 2 3 4 \n",
      "1 2 3 4 5 \n"
     ]
    }
   ],
   "source": [
    "rows=int(input('Enter number of Rows'))\n",
    "for i in range(1,rows+1):\n",
    "    for j in range(1,i+1):\n",
    "        print(j,end=' ')\n",
    "    \n",
    "        # for k in range(i-1,0,-1):\n",
    "        #  print(k,end=' ')\n",
    "\n",
    "    print()"
   ]
  },
  {
   "cell_type": "code",
   "execution_count": 18,
   "metadata": {},
   "outputs": [
    {
     "name": "stdout",
     "output_type": "stream",
     "text": [
      "1 2 3 4 5 \n",
      "6 7 8 9 \n",
      "10 11 12 \n",
      "13 14 \n",
      "15 \n",
      "\n"
     ]
    }
   ],
   "source": [
    "# Reverse triangle of stars\n",
    "k=1\n",
    "rows=int(input('Enter number of Rows'))\n",
    "for i in range(1,rows+1):\n",
    "    for j in range(1,rows-i+1):\n",
    "        print(k,end=' ')\n",
    "        k+=1\n",
    "    print()"
   ]
  },
  {
   "cell_type": "code",
   "execution_count": null,
   "metadata": {},
   "outputs": [
    {
     "name": "stdout",
     "output_type": "stream",
     "text": [
      "1 \n",
      "1 2 1 \n",
      "1 2 3 2 1 \n",
      "1 2 3 4 3 2 1 \n",
      "1 2 3 4 5 4 3 2 1 \n",
      "1 2 3 4 5 6 5 4 3 2 1 \n"
     ]
    }
   ],
   "source": [
    "# in this loop we will decrement by one in 3rd loop \n",
    "row=int(input('Enter a number here:'))\n",
    "for i in range (1,row+1):\n",
    "    # print(i)\n",
    "    for j in range (1,i+1):\n",
    "        print(j,end=' ')\n",
    "    for k in range (i-1,0,-1):\n",
    "        print(k,end=' ')\n",
    "    print()"
   ]
  },
  {
   "cell_type": "code",
   "execution_count": 19,
   "metadata": {},
   "outputs": [
    {
     "name": "stdout",
     "output_type": "stream",
     "text": [
      "@ @ @ @ \n",
      "@ @ @ @ \n",
      "@ @ @ @ \n",
      "@ @ @ @ \n"
     ]
    }
   ],
   "source": [
    "# make a square of dollar sign through loops \n",
    "row=int(input('Enter a number here :'))\n",
    "column=int(input('Enter a number here :'))\n",
    "symbol=input('Enter a symbol here :')\n",
    "for i in range (row):\n",
    "    for j in range (column):\n",
    "        print(symbol,end=\" \")\n",
    "    print()"
   ]
  },
  {
   "cell_type": "code",
   "execution_count": 21,
   "metadata": {},
   "outputs": [
    {
     "name": "stdout",
     "output_type": "stream",
     "text": [
      "@ @ @ @ \n",
      "@ @ @ @ \n",
      "@ @ @ @ \n",
      "@ @ @ @ \n"
     ]
    }
   ],
   "source": [
    "# above code we use in an other method \n",
    "for i in range (1,4+1):\n",
    "    for j in range (1,5):\n",
    "        print(\"@\",end=\" \")\n",
    "    print()"
   ]
  },
  {
   "cell_type": "markdown",
   "metadata": {},
   "source": [
    "# Functions \n",
    "1. use again and again \n",
    "2. Representative by Def and () these coulmns "
   ]
  },
  {
   "cell_type": "code",
   "execution_count": 1,
   "metadata": {},
   "outputs": [],
   "source": [
    "# Creat a function \n",
    "def welcom():\n",
    "    print('Good Morning, Samad have a nice day')"
   ]
  },
  {
   "cell_type": "code",
   "execution_count": 2,
   "metadata": {},
   "outputs": [
    {
     "name": "stdout",
     "output_type": "stream",
     "text": [
      "Good Morning, Samad have a nice day\n"
     ]
    }
   ],
   "source": [
    "welcom()"
   ]
  },
  {
   "cell_type": "code",
   "execution_count": 12,
   "metadata": {},
   "outputs": [
    {
     "name": "stdout",
     "output_type": "stream",
     "text": [
      "Good Morning, samad How are you today\n"
     ]
    }
   ],
   "source": [
    "def welcome(name):\n",
    "    print('Good Morning,',name, 'How are you today')\n",
    "welcome('samad')"
   ]
  },
  {
   "cell_type": "code",
   "execution_count": 8,
   "metadata": {},
   "outputs": [
    {
     "name": "stdout",
     "output_type": "stream",
     "text": [
      "Good Morning samad have a nice day\n"
     ]
    }
   ],
   "source": [
    "def welcome(name):\n",
    "    print('Good Morning',name,'have a nice day')\n",
    "\n",
    "welcome(\"samad\")\n"
   ]
  },
  {
   "cell_type": "code",
   "execution_count": 9,
   "metadata": {},
   "outputs": [
    {
     "name": "stdout",
     "output_type": "stream",
     "text": [
      "Good Morning  fahad have a nice day bro!\n"
     ]
    }
   ],
   "source": [
    "# make the above code dynamically \n",
    "def welcome(name):\n",
    "    print('Good Morning ',name ,\"have a nice day bro!\")\n",
    "name = input(\"Enter your name:\")\n",
    "welcome(name)"
   ]
  },
  {
   "cell_type": "code",
   "execution_count": 10,
   "metadata": {},
   "outputs": [
    {
     "name": "stdout",
     "output_type": "stream",
     "text": [
      "The sum of 10 and 12 is 22\n",
      "The Subtract of 10 and 12 is -2\n",
      "The Product of  10 and 12 is 120\n",
      "The Division of 10 and 12 is 0.8333333333333334\n"
     ]
    }
   ],
   "source": [
    "def cal(num1,num2):\n",
    "    print('The sum of',num1,'and',num2,'is',num1+num2)\n",
    "    print('The Subtract of',num1,'and',num2,'is',num1-num2)\n",
    "    print('The Product of ',num1,'and',num2,'is',num1*num2)\n",
    "    print('The Division of',num1,'and',num2,'is',num1/num2)\n",
    "num1=int(input('Enter the first number:'))\n",
    "num2=int(input('Enter the second number:'))\n",
    "cal(num1,num2)"
   ]
  },
  {
   "cell_type": "code",
   "execution_count": null,
   "metadata": {},
   "outputs": [
    {
     "name": "stdout",
     "output_type": "stream",
     "text": [
      "2 is the Even \n"
     ]
    }
   ],
   "source": [
    "# Check this is an odd or even number \n",
    "def user_input(num):\n",
    "    if num%2==0:\n",
    "        print(num,\"is the Even \")\n",
    "    else:\n",
    "        print(num,\"is the Odd \")\n",
    "num=int(input('Enter a number here :'))\n",
    "user_input(num)"
   ]
  },
  {
   "cell_type": "code",
   "execution_count": 1,
   "metadata": {},
   "outputs": [
    {
     "data": {
      "text/plain": [
       "8"
      ]
     },
     "execution_count": 1,
     "metadata": {},
     "output_type": "execute_result"
    }
   ],
   "source": [
    "# another way to add these two numbers \n",
    "# this types of functions called argument and parameter less function \n",
    "def add():  # no parameter  \n",
    "    num1=int(input(\"number1\"))\n",
    "    num2=int(input(\"number2\"))\n",
    "    result=num1+num2\n",
    "    return result\n",
    "add()  # no argument "
   ]
  },
  {
   "cell_type": "code",
   "execution_count": 2,
   "metadata": {},
   "outputs": [
    {
     "ename": "NameError",
     "evalue": "name 'num' is not defined",
     "output_type": "error",
     "traceback": [
      "\u001b[1;31m---------------------------------------------------------------------------\u001b[0m",
      "\u001b[1;31mNameError\u001b[0m                                 Traceback (most recent call last)",
      "Cell \u001b[1;32mIn[2], line 9\u001b[0m\n\u001b[0;32m      7\u001b[0m num2\u001b[38;5;241m=\u001b[39m\u001b[38;5;28mint\u001b[39m (\u001b[38;5;28minput\u001b[39m (\u001b[38;5;124m\"\u001b[39m\u001b[38;5;124mEnter a second number here \u001b[39m\u001b[38;5;124m\"\u001b[39m))\n\u001b[0;32m      8\u001b[0m num3\u001b[38;5;241m=\u001b[39m\u001b[38;5;28mint\u001b[39m(\u001b[38;5;28minput\u001b[39m(\u001b[38;5;124m'\u001b[39m\u001b[38;5;124mEnter a third number here :\u001b[39m\u001b[38;5;124m'\u001b[39m))\n\u001b[1;32m----> 9\u001b[0m \u001b[43mcheck\u001b[49m\u001b[43m(\u001b[49m\u001b[43m)\u001b[49m\n",
      "Cell \u001b[1;32mIn[2], line 2\u001b[0m, in \u001b[0;36mcheck\u001b[1;34m()\u001b[0m\n\u001b[0;32m      1\u001b[0m \u001b[38;5;28;01mdef\u001b[39;00m \u001b[38;5;21mcheck\u001b[39m():\n\u001b[1;32m----> 2\u001b[0m     \u001b[38;5;28;01mif\u001b[39;00m \u001b[43mnum\u001b[49m\u001b[38;5;241m%\u001b[39m\u001b[38;5;241m2\u001b[39m\u001b[38;5;241m==\u001b[39m\u001b[38;5;241m0\u001b[39m:\n\u001b[0;32m      3\u001b[0m         \u001b[38;5;28mprint\u001b[39m(\u001b[38;5;124m\"\u001b[39m\u001b[38;5;124mNumber is even\u001b[39m\u001b[38;5;124m\"\u001b[39m)\n\u001b[0;32m      4\u001b[0m     \u001b[38;5;28;01melse\u001b[39;00m:\n",
      "\u001b[1;31mNameError\u001b[0m: name 'num' is not defined"
     ]
    }
   ],
   "source": [
    "def check():\n",
    "    if num%2==0:\n",
    "        print(\"Number is even\")\n",
    "    else:\n",
    "        print(\"Number is odd\")\n",
    "num1=int(input('Enter a first number here :'))\n",
    "num2=int (input (\"Enter a second number here \"))\n",
    "num3=int(input('Enter a third number here :'))\n",
    "check()"
   ]
  },
  {
   "cell_type": "code",
   "execution_count": 6,
   "metadata": {},
   "outputs": [
    {
     "name": "stdout",
     "output_type": "stream",
     "text": [
      "Area of circle is: 78.55\n",
      "Circumference of circle is: 31.419999999999998\n"
     ]
    }
   ],
   "source": [
    "# create a function and calculate the area of circle and circumference of circle\n",
    "def calculate_area_of_circle_and_circumference():\n",
    "    pi=3.142\n",
    "    r=float(input('Enter the value of radius of circle:'))\n",
    "    area_of_circle=pi*r**2\n",
    "    circumference_of_circle=2*pi*r\n",
    "    print('Area of circle is:',area_of_circle)\n",
    "    print('Circumference of circle is:',circumference_of_circle)\n",
    "calculate_area_of_circle_and_circumference()"
   ]
  },
  {
   "cell_type": "code",
   "execution_count": 9,
   "metadata": {},
   "outputs": [
    {
     "data": {
      "text/plain": [
       "(314.0, 62.800000000000004)"
      ]
     },
     "execution_count": 9,
     "metadata": {},
     "output_type": "execute_result"
    }
   ],
   "source": [
    "# another method # To calculate area and circumference of circle\n",
    "\n",
    "def area_circumference_circle(radius):\n",
    "    pi=3.14\n",
    "    area = pi * radius ** 2\n",
    "    circumference = 2 * pi * radius\n",
    "    return area, circumference\n",
    "radius=float(input('Enter a radius of circle:'))\n",
    "area_circumference_circle(radius)"
   ]
  }
 ],
 "metadata": {
  "kernelspec": {
   "display_name": "Python 3",
   "language": "python",
   "name": "python3"
  },
  "language_info": {
   "codemirror_mode": {
    "name": "ipython",
    "version": 3
   },
   "file_extension": ".py",
   "mimetype": "text/x-python",
   "name": "python",
   "nbconvert_exporter": "python",
   "pygments_lexer": "ipython3",
   "version": "3.13.0"
  }
 },
 "nbformat": 4,
 "nbformat_minor": 2
}
