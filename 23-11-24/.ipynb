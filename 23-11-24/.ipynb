{
 "cells": [
  {
   "cell_type": "markdown",
   "metadata": {},
   "source": [
    "# Create a list "
   ]
  },
  {
   "cell_type": "code",
   "execution_count": 1,
   "metadata": {},
   "outputs": [
    {
     "name": "stdout",
     "output_type": "stream",
     "text": [
      "['banan', 'tomato', 23]\n",
      "12\n",
      "onion\n",
      "apple\n"
     ]
    }
   ],
   "source": [
    "list=['apple','onion',12,['banan','tomato',23]]\n",
    "n=len(list)\n",
    "for i in range(n,0,-1):\n",
    "    print(list[i-1])"
   ]
  },
  {
   "cell_type": "code",
   "execution_count": null,
   "metadata": {},
   "outputs": [
    {
     "name": "stdout",
     "output_type": "stream",
     "text": [
      "1 1 \n",
      "1 1 2 1 \n",
      "1 1 2 1 3 1 \n",
      "1 1 2 1 3 1 4 1 \n"
     ]
    }
   ],
   "source": [
    "rows=int(input('Enter number of Rows'))\n",
    "for i in range(1,rows+1):\n",
    "    for j in range(1,i+1):\n",
    "        print(j,end=' ')\n",
    "    for k in range(i-1,0,-1):\n",
    "        print(k,end=' ')\n",
    "\n",
    "    print()"
   ]
  },
  {
   "cell_type": "code",
   "execution_count": 8,
   "metadata": {},
   "outputs": [],
   "source": [
    "def welcom():\n",
    "    print('Good Morning, Samad have a nice day')"
   ]
  },
  {
   "cell_type": "code",
   "execution_count": 9,
   "metadata": {},
   "outputs": [
    {
     "name": "stdout",
     "output_type": "stream",
     "text": [
      "Good Morning, Samad have a nice day\n"
     ]
    }
   ],
   "source": [
    "welcom()"
   ]
  },
  {
   "cell_type": "code",
   "execution_count": 12,
   "metadata": {},
   "outputs": [
    {
     "name": "stdout",
     "output_type": "stream",
     "text": [
      "Good Morning, samad How are you today\n"
     ]
    }
   ],
   "source": [
    "def welcome(name):\n",
    "    print('Good Morning,',name, 'How are you today')\n",
    "welcome('samad')"
   ]
  },
  {
   "cell_type": "code",
   "execution_count": 13,
   "metadata": {},
   "outputs": [
    {
     "name": "stdout",
     "output_type": "stream",
     "text": [
      "Good Morning samad have a nice day\n"
     ]
    }
   ],
   "source": [
    "def welcome(name):\n",
    "    print('Good Morning',name,'have a nice day')\n",
    "name=input('Enter your name ')\n",
    "welcome(name)"
   ]
  },
  {
   "cell_type": "code",
   "execution_count": 17,
   "metadata": {},
   "outputs": [
    {
     "name": "stdout",
     "output_type": "stream",
     "text": [
      "The sum of 3 and 3 is 6\n"
     ]
    }
   ],
   "source": [
    "def add(num1,num2):\n",
    "    print('The sum of',num1,'and',num2,'is',num1+num2)\n",
    "num1=int(input('Enter the first number:'))\n",
    "num2=int(input('Enter the second number:'))\n",
    "add(num1,num2)"
   ]
  },
  {
   "cell_type": "code",
   "execution_count": 23,
   "metadata": {},
   "outputs": [],
   "source": [
    "# Discuss \n",
    "def add():\n",
    "    num1=int(input(\"number1\"))\n",
    "    num2=int(input(\"number2\"))\n",
    "    result=num1+num2\n",
    "    return result()"
   ]
  },
  {
   "cell_type": "code",
   "execution_count": 29,
   "metadata": {},
   "outputs": [
    {
     "name": "stdout",
     "output_type": "stream",
     "text": [
      "number is Even. 34\n"
     ]
    }
   ],
   "source": [
    "# even and odd \n",
    "def check_even_odd(number):\n",
    "    if number % 2 == 0:\n",
    "        print(\"number is Even.\",number)\n",
    "    else:\n",
    "        print(\"number is Odd.\",number)\n",
    "\n",
    "# input from user\n",
    "number=int(input('Enter a number here'))\n",
    "check_even_odd(number)"
   ]
  },
  {
   "cell_type": "code",
   "execution_count": 32,
   "metadata": {},
   "outputs": [
    {
     "data": {
      "text/plain": [
       "(3629.84, 213.52)"
      ]
     },
     "execution_count": 32,
     "metadata": {},
     "output_type": "execute_result"
    }
   ],
   "source": [
    "# To calculate area and circumference of circle\n",
    "\n",
    "def area_circumference_circle(radius):\n",
    "    pi=3.14\n",
    "    area = pi * radius ** 2\n",
    "    circumference = 2 * pi * radius\n",
    "    return area, circumference\n",
    "radius=float(input('Enter a radius of circle:'))\n",
    "area_circumference_circle(radius)"
   ]
  }
 ],
 "metadata": {
  "kernelspec": {
   "display_name": "Python 3",
   "language": "python",
   "name": "python3"
  },
  "language_info": {
   "codemirror_mode": {
    "name": "ipython",
    "version": 3
   },
   "file_extension": ".py",
   "mimetype": "text/x-python",
   "name": "python",
   "nbconvert_exporter": "python",
   "pygments_lexer": "ipython3",
   "version": "3.13.0"
  }
 },
 "nbformat": 4,
 "nbformat_minor": 2
}
