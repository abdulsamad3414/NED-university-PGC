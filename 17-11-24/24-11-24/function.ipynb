{
 "cells": [
  {
   "cell_type": "markdown",
   "metadata": {},
   "source": [
    "# Functions\n",
    "1. Block of statements that perform a spcific task \n",
    "2. It is use again and again in the program\n",
    "3. Give input and print output.\n",
    "4. There are two types of functions in python\n",
    "   1. built-in \n",
    "   2. user define \n",
    "5. Representative of def in python "
   ]
  },
  {
   "cell_type": "code",
   "execution_count": 1,
   "metadata": {},
   "outputs": [],
   "source": [
    "# Lets create a funtion with docstring\n",
    "def is_even(num):\n",
    "    \"\"\"This function return if a given number is odd or even \n",
    "    input any valid number\n",
    "    output even/odd\n",
    "    created 11/24/2024 by Eng.Abdul-Samad\"\"\"\n",
    "    if type(num)==int:\n",
    "        if num % 2 == 0:\n",
    "            return 'Even'\n",
    "        else:\n",
    "            return 'odd'   # No output will be visible because we didnt call this function \n",
    "    else:\n",
    "        print('Please insert a valid number')"
   ]
  },
  {
   "cell_type": "code",
   "execution_count": 12,
   "metadata": {},
   "outputs": [
    {
     "name": "stdout",
     "output_type": "stream",
     "text": [
      "3.571428571428571\n"
     ]
    }
   ],
   "source": [
    "def gmean(a,b):\n",
    "    if (a>b):\n",
    "        print('Number one is graeter ')\n",
    "    else:\n",
    "        print('Number two is greater ')\n",
    "a=3\n",
    "b=4\n",
    "gmean=a+b/(a+b)\n",
    "print(gmean)"
   ]
  },
  {
   "cell_type": "code",
   "execution_count": 2,
   "metadata": {},
   "outputs": [
    {
     "name": "stdout",
     "output_type": "stream",
     "text": [
      "odd\n",
      "Even\n",
      "odd\n",
      "Even\n",
      "odd\n",
      "Even\n",
      "odd\n",
      "Even\n",
      "odd\n",
      "Even\n"
     ]
    }
   ],
   "source": [
    "# Using the above function \n",
    "for i in range (1,11):\n",
    "    x=is_even(i)  # We called function and pass i in this checked the number is even or odd\n",
    "    print(x)"
   ]
  },
  {
   "cell_type": "code",
   "execution_count": 18,
   "metadata": {},
   "outputs": [
    {
     "name": "stdout",
     "output_type": "stream",
     "text": [
      "Please insert a valid number\n"
     ]
    }
   ],
   "source": [
    "is_even(\"skksks\")"
   ]
  },
  {
   "cell_type": "markdown",
   "metadata": {},
   "source": [
    "# Types of Arguments\n",
    "1. Default Argument\n",
    "2. Positional Argument\n",
    "3. Keyword Argument"
   ]
  },
  {
   "cell_type": "code",
   "execution_count": null,
   "metadata": {},
   "outputs": [],
   "source": [
    "# 1. Default Argument\n",
    "\n",
    "def power (a=1,b=1):\n",
    "    return a**b"
   ]
  },
  {
   "cell_type": "code",
   "execution_count": 22,
   "metadata": {},
   "outputs": [
    {
     "data": {
      "text/plain": [
       "16"
      ]
     },
     "execution_count": 22,
     "metadata": {},
     "output_type": "execute_result"
    }
   ],
   "source": [
    "power(2,4)"
   ]
  },
  {
   "cell_type": "code",
   "execution_count": null,
   "metadata": {},
   "outputs": [
    {
     "data": {
      "text/plain": [
       "35184372088832"
      ]
     },
     "execution_count": 23,
     "metadata": {},
     "output_type": "execute_result"
    }
   ],
   "source": [
    "# Positional Argument\n",
    "power (2,45)   # means follow the orders a=2 and b=45"
   ]
  },
  {
   "cell_type": "code",
   "execution_count": null,
   "metadata": {},
   "outputs": [
    {
     "data": {
      "text/plain": [
       "64"
      ]
     },
     "execution_count": 25,
     "metadata": {},
     "output_type": "execute_result"
    }
   ],
   "source": [
    "# Keyword Argument\n",
    "power(b=3,a=4)  # 4**3 Means a jahan bi ho usko 4 milay and b jahan bi ho usko 3 milay"
   ]
  },
  {
   "cell_type": "code",
   "execution_count": 3,
   "metadata": {},
   "outputs": [
    {
     "name": "stdout",
     "output_type": "stream",
     "text": [
      "apple\n",
      "banana\n",
      "cherry\n"
     ]
    }
   ],
   "source": [
    "def my_function(food):\n",
    "  for x in food:\n",
    "    print(x)\n",
    "\n",
    "fruits = [\"apple\", \"banana\", \"cherry\"]\n",
    "\n",
    "my_function(fruits)"
   ]
  },
  {
   "cell_type": "code",
   "execution_count": 8,
   "metadata": {},
   "outputs": [
    {
     "name": "stdout",
     "output_type": "stream",
     "text": [
      "15\n",
      "25\n",
      "45\n"
     ]
    }
   ],
   "source": [
    "def my_function(x):\n",
    "  return 5 * x\n",
    "\n",
    "print(my_function(3))\n",
    "print(my_function(5))\n",
    "print(my_function(9))"
   ]
  },
  {
   "cell_type": "code",
   "execution_count": null,
   "metadata": {},
   "outputs": [],
   "source": [
    "# *args\n",
    "# Allows us to pass a variable number of non -keyword arguments to a function \n",
    "\n",
    "def multiple(*args):\n",
    "    product=1\n",
    "    for i in args:\n",
    "        product=product*i\n",
    "    return product\n"
   ]
  },
  {
   "cell_type": "code",
   "execution_count": 27,
   "metadata": {},
   "outputs": [
    {
     "data": {
      "text/plain": [
       "24"
      ]
     },
     "execution_count": 27,
     "metadata": {},
     "output_type": "execute_result"
    }
   ],
   "source": [
    "multiple(1,2,3,4)"
   ]
  },
  {
   "cell_type": "code",
   "execution_count": null,
   "metadata": {},
   "outputs": [],
   "source": [
    "# **kwargs\n",
    "# **kwargs allows us to pass any number of keyword arguments.\n",
    "# Keyword argument mean that they contain a key and a value pair, like a python dictionary.\n",
    "\n",
    "def display(**kwargs):    # It works as a dictionary \n",
    "    for (key,value) in kwargs.items():\n",
    "        print(key,'..>',value)"
   ]
  },
  {
   "cell_type": "code",
   "execution_count": 2,
   "metadata": {},
   "outputs": [
    {
     "name": "stdout",
     "output_type": "stream",
     "text": [
      "Pakistan ..> Islamaabad\n",
      "srilanka ..> columbo\n",
      "india ..> dehli\n"
     ]
    }
   ],
   "source": [
    "display(Pakistan='Islamaabad',srilanka='columbo',india='dehli')"
   ]
  },
  {
   "cell_type": "markdown",
   "metadata": {},
   "source": [
    "# Variable Scope \n",
    "1. There are 2 types of variable scope in Python: Local and Global.\n",
    "  1. Local variable :which lye in function scope \n",
    "  2. Global variable: Which lye in program scope"
   ]
  },
  {
   "cell_type": "code",
   "execution_count": null,
   "metadata": {},
   "outputs": [],
   "source": []
  },
  {
   "cell_type": "code",
   "execution_count": 3,
   "metadata": {},
   "outputs": [
    {
     "name": "stdout",
     "output_type": "stream",
     "text": [
      "15\n"
     ]
    }
   ],
   "source": [
    "a=5\n",
    "b=10\n",
    "sum=(a+b)\n",
    "print(sum)"
   ]
  },
  {
   "cell_type": "code",
   "execution_count": 4,
   "metadata": {},
   "outputs": [
    {
     "name": "stdout",
     "output_type": "stream",
     "text": [
      "33\n"
     ]
    }
   ],
   "source": [
    "a=10\n",
    "b=23\n",
    "sum=a+b\n",
    "print(sum)"
   ]
  },
  {
   "cell_type": "code",
   "execution_count": 1,
   "metadata": {},
   "outputs": [
    {
     "name": "stdout",
     "output_type": "stream",
     "text": [
      "Welcome to the sum function\n"
     ]
    }
   ],
   "source": [
    "# create a function \n",
    "def sumfunction():   # Define function \n",
    "    print('Welcome to the sum function')\n",
    "sumfunction()    # For calling function with no value"
   ]
  },
  {
   "cell_type": "code",
   "execution_count": 2,
   "metadata": {},
   "outputs": [
    {
     "name": "stdout",
     "output_type": "stream",
     "text": [
      "30\n"
     ]
    }
   ],
   "source": [
    "# Parameter function\n",
    "def parameter_function(a,b):\n",
    "    print(a+b)\n",
    "n1=10\n",
    "n2=20\n",
    "parameter_function(n1,n2)"
   ]
  },
  {
   "cell_type": "code",
   "execution_count": 3,
   "metadata": {},
   "outputs": [
    {
     "name": "stdout",
     "output_type": "stream",
     "text": [
      "50\n"
     ]
    }
   ],
   "source": [
    "# calling above parametic function because we can call multiple times\n",
    "parameter_function(20,30)"
   ]
  },
  {
   "cell_type": "code",
   "execution_count": 5,
   "metadata": {},
   "outputs": [
    {
     "data": {
      "text/plain": [
       "10"
      ]
     },
     "execution_count": 5,
     "metadata": {},
     "output_type": "execute_result"
    }
   ],
   "source": [
    "# return type function\n",
    "def sum_data(a=1,b=2):\n",
    "    c=a+b\n",
    "    return c\n",
    "sum_data(2,8)"
   ]
  },
  {
   "cell_type": "code",
   "execution_count": 9,
   "metadata": {},
   "outputs": [
    {
     "name": "stdout",
     "output_type": "stream",
     "text": [
      "Original list: [1, 2, 3, 4, 5]\n",
      "Squared list: [1, 4, 9, 16, 25]\n"
     ]
    }
   ],
   "source": [
    "def square_elements(numbers):\n",
    "   \n",
    "    return [num ** 2 for num in numbers]\n",
    "input_list = [1, 2, 3, 4, 5]\n",
    "squared_list = square_elements(input_list)\n",
    "print(\"Original list:\", input_list)\n",
    "print(\"Squared list:\", squared_list)\n"
   ]
  },
  {
   "cell_type": "code",
   "execution_count": 10,
   "metadata": {},
   "outputs": [
    {
     "name": "stdout",
     "output_type": "stream",
     "text": [
      "original list [2, 3, 4, 5]\n"
     ]
    },
    {
     "data": {
      "text/plain": [
       "[4, 9, 16, 25]"
      ]
     },
     "execution_count": 10,
     "metadata": {},
     "output_type": "execute_result"
    }
   ],
   "source": [
    "def list_square(num_list):\n",
    "    temp_list=[]\n",
    "    for num in num_list:\n",
    "        temp_list.append(num**2)\n",
    "    return temp_list\n",
    "num_list=[2,3,4,5]\n",
    "print(\"original list\",num_list)\n",
    "list_square(num_list)"
   ]
  },
  {
   "cell_type": "code",
   "execution_count": 11,
   "metadata": {},
   "outputs": [
    {
     "name": "stdout",
     "output_type": "stream",
     "text": [
      "the orginal list  [1, 2, 3, 4, 5]\n"
     ]
    },
    {
     "data": {
      "text/plain": [
       "15"
      ]
     },
     "execution_count": 11,
     "metadata": {},
     "output_type": "execute_result"
    }
   ],
   "source": [
    "def sum_list(num1_list):\n",
    "    sum=0\n",
    "    for i in num1_list:\n",
    "        sum=sum+i\n",
    "    return sum\n",
    "num1_list=[1,2,3,4,5]\n",
    "print('the orginal list ',num1_list)\n",
    "sum_list(num1_list)"
   ]
  },
  {
   "cell_type": "code",
   "execution_count": 12,
   "metadata": {},
   "outputs": [
    {
     "name": "stdout",
     "output_type": "stream",
     "text": [
      "the orginal tuple (1, 2, 3, 4)\n"
     ]
    },
    {
     "data": {
      "text/plain": [
       "24"
      ]
     },
     "execution_count": 12,
     "metadata": {},
     "output_type": "execute_result"
    }
   ],
   "source": [
    "def tup(tup_list):\n",
    "    pro=1\n",
    "    for i in tup_list:\n",
    "        pro*=i\n",
    "    return pro\n",
    "tup_list=(1,2,3,4)\n",
    "print(\"the orginal tuple\",tup_list)\n",
    "tup(tup_list)"
   ]
  },
  {
   "cell_type": "code",
   "execution_count": 13,
   "metadata": {},
   "outputs": [
    {
     "name": "stdout",
     "output_type": "stream",
     "text": [
      "Number is Even\n"
     ]
    }
   ],
   "source": [
    "def is_a_valid_even(num):\n",
    "    if type(num)==int:\n",
    "        if num % 2 == 0:\n",
    "            print('Number is Even')\n",
    "        else:\n",
    "            print('Number is Odd')\n",
    "    else:\n",
    "        print('Invalid Input')\n",
    "is_a_valid_even(78)\n"
   ]
  },
  {
   "cell_type": "code",
   "execution_count": 14,
   "metadata": {},
   "outputs": [
    {
     "name": "stdout",
     "output_type": "stream",
     "text": [
      "Number is Odd\n",
      "Number is Even\n",
      "Number is Odd\n",
      "Number is Even\n",
      "Number is Odd\n",
      "Number is Even\n",
      "Number is Odd\n",
      "Number is Even\n",
      "Number is Odd\n"
     ]
    }
   ],
   "source": [
    "for i in range (1,10):\n",
    "    is_a_valid_even(i)   # We called function in it like i "
   ]
  },
  {
   "cell_type": "markdown",
   "metadata": {},
   "source": [
    "# There are  three types of function \n",
    "1. Default Arguments\n",
    "2. Positional Arguments\n",
    "3. keyword Arguments"
   ]
  },
  {
   "cell_type": "code",
   "execution_count": 15,
   "metadata": {},
   "outputs": [
    {
     "data": {
      "text/plain": [
       "1"
      ]
     },
     "execution_count": 15,
     "metadata": {},
     "output_type": "execute_result"
    }
   ],
   "source": [
    "def power(a=1,b=1): # This is called Defulat Argument we can use for fixinf errors in code \n",
    "    return a**b \n",
    "power()"
   ]
  },
  {
   "cell_type": "code",
   "execution_count": 16,
   "metadata": {},
   "outputs": [
    {
     "data": {
      "text/plain": [
       "8"
      ]
     },
     "execution_count": 16,
     "metadata": {},
     "output_type": "execute_result"
    }
   ],
   "source": [
    "# Positional Arguments\n",
    "power (2,3) # overwrite the above function "
   ]
  },
  {
   "cell_type": "code",
   "execution_count": 17,
   "metadata": {},
   "outputs": [
    {
     "name": "stdout",
     "output_type": "stream",
     "text": [
      "(2, 3, 4, 5)\n"
     ]
    },
    {
     "data": {
      "text/plain": [
       "120"
      ]
     },
     "execution_count": 17,
     "metadata": {},
     "output_type": "execute_result"
    }
   ],
   "source": [
    "# *args ,*keywargs    \n",
    "def product(*args):\n",
    "    product=1\n",
    "    for i in args:\n",
    "        product=product*i\n",
    "    print(args)\n",
    "    return product\n",
    "product(2,3,4,5)"
   ]
  },
  {
   "cell_type": "code",
   "execution_count": 18,
   "metadata": {},
   "outputs": [
    {
     "name": "stdout",
     "output_type": "stream",
     "text": [
      "Personal Details:\n",
      "  name: John Doe\n",
      "  email: john.doe@example.com\n",
      "  education: BS in Computer Science\n",
      "  experience: 3 years as a Data Analyst\n",
      "\n",
      "Skills and Projects:\n",
      "\n"
     ]
    }
   ],
   "source": [
    "def build_portfolio(*skills_and_projects, **personal_details):\n",
    "    portfolio = {}\n",
    "    portfolio['Personal Details'] = personal_details\n",
    "    portfolio['Skills and Projects'] = skills_and_projects\n",
    "\n",
    "    return portfolio\n",
    "portfolio = build_portfolio(\n",
    "    name=\"John Doe\",\n",
    "    email=\"john.doe@example.com\",\n",
    "    education=\"BS in Computer Science\",\n",
    "    experience=\"3 years as a Data Analyst\"\n",
    ")\n",
    "\n",
    "# Display the portfolio\n",
    "for section, content in portfolio.items():\n",
    "    print(f\"{section}:\")\n",
    "    if isinstance(content, tuple):\n",
    "        for item in content:\n",
    "            print(f\"  - {item}\")\n",
    "    elif isinstance(content, dict):\n",
    "        for key, value in content.items():\n",
    "            print(f\"  {key}: {value}\")\n",
    "    print()\n"
   ]
  },
  {
   "cell_type": "code",
   "execution_count": null,
   "metadata": {},
   "outputs": [],
   "source": [
    "def user_details(*args):\n",
    "    print(args)\n",
    "name =input('Enter your name')\n",
    "gender=input('Enter your gender')\n",
    "age=int(input('Enter your age '))\n",
    "specialization=input('Enter your specialization')\n",
    "user_details(name,gender,age,specialization)"
   ]
  },
  {
   "cell_type": "code",
   "execution_count": null,
   "metadata": {},
   "outputs": [
    {
     "name": "stdout",
     "output_type": "stream",
     "text": [
      "name ....> sama\n",
      "gender ....> ma\n",
      "age ....> 23\n",
      "specialization ....> ds\n"
     ]
    }
   ],
   "source": [
    "def capital_of_country(**kwargs):\n",
    "    for key,value in kwargs.items():\n",
    "        print(key,'....>',value)\n",
    "name =input('Enter your name')\n",
    "gender=input('Enter your gender')\n",
    "age=int(input('Enter your age '))\n",
    "specialization=input('Enter your specialization')\n",
    "capital_of_country(name=name ,gender=gender,age=age,specialization=specialization)"
   ]
  },
  {
   "cell_type": "code",
   "execution_count": null,
   "metadata": {},
   "outputs": [
    {
     "name": "stdout",
     "output_type": "stream",
     "text": [
      "university_name ... ned\n",
      "Job ... ra\n",
      "Location ... mashriq\n"
     ]
    }
   ],
   "source": [
    "def My_introduction(**kwargs):\n",
    "    for key,value in kwargs.items():\n",
    "        print(key,'...',value)\n",
    "university_name =input('Enter your Uni.name')\n",
    "Job=input('Enter your Job')\n",
    "Location=input('Enter your Location')\n",
    "# specialization=input('Enter your specialization')\n",
    "My_introduction(university_name=university_name ,Job=Job,Location=Location)"
   ]
  }
 ],
 "metadata": {
  "kernelspec": {
   "display_name": "Python 3",
   "language": "python",
   "name": "python3"
  },
  "language_info": {
   "codemirror_mode": {
    "name": "ipython",
    "version": 3
   },
   "file_extension": ".py",
   "mimetype": "text/x-python",
   "name": "python",
   "nbconvert_exporter": "python",
   "pygments_lexer": "ipython3",
   "version": "3.13.0"
  }
 },
 "nbformat": 4,
 "nbformat_minor": 2
}
