{
 "cells": [
  {
   "cell_type": "markdown",
   "metadata": {},
   "source": [
    "# Functions\n",
    "1. Block of statements that perform a spcific task \n",
    "2. It is use again and again in the program\n",
    "3. Give input and print output.\n",
    "4. There are two types of functions in python\n",
    "   1. built-in \n",
    "   2. user define \n",
    "5. Representative of def in python "
   ]
  },
  {
   "cell_type": "code",
   "execution_count": 20,
   "metadata": {},
   "outputs": [],
   "source": [
    "# Lets create a funtion with docstring\n",
    "def is_even(num):\n",
    "    \"\"\"This function return if a given number is odd or even \n",
    "    input any valid number\n",
    "    output even/odd\n",
    "    created 11/24/2024 by Eng.Abdul-Samad\"\"\"\n",
    "    if type(num)==int:\n",
    "        if num % 2 == 0:\n",
    "            return 'Even'\n",
    "        else:\n",
    "            return 'odd'   # No output will be visible because we didnt call this function \n",
    "    else:\n",
    "        print('Please insert a valid number')"
   ]
  },
  {
   "cell_type": "code",
   "execution_count": 21,
   "metadata": {},
   "outputs": [
    {
     "name": "stdout",
     "output_type": "stream",
     "text": [
      "3.571428571428571\n"
     ]
    }
   ],
   "source": [
    "def gmean(a,b):\n",
    "    if (a>b):\n",
    "        print('Number one is graeter ')\n",
    "    else:\n",
    "        print('Number two is greater ')\n",
    "a=3\n",
    "b=4\n",
    "gmean=a+b/(a+b)\n",
    "print(gmean)"
   ]
  },
  {
   "cell_type": "code",
   "execution_count": 22,
   "metadata": {},
   "outputs": [
    {
     "name": "stdout",
     "output_type": "stream",
     "text": [
      "odd\n",
      "Even\n",
      "odd\n",
      "Even\n",
      "odd\n",
      "Even\n",
      "odd\n",
      "Even\n",
      "odd\n",
      "Even\n"
     ]
    }
   ],
   "source": [
    "# Using the above function \n",
    "for i in range (1,11):\n",
    "    x=is_even(i)  # We called function and pass i in this checked the number is even or odd\n",
    "    print(x)"
   ]
  },
  {
   "cell_type": "code",
   "execution_count": 23,
   "metadata": {},
   "outputs": [
    {
     "name": "stdout",
     "output_type": "stream",
     "text": [
      "Please insert a valid number\n"
     ]
    }
   ],
   "source": [
    "is_even(\"skksks\")"
   ]
  },
  {
   "cell_type": "markdown",
   "metadata": {},
   "source": [
    "# Parameters vs Arguments\n",
    "1. Parameters /formal arguments are variables that are passed to a function when it is input values of functions. def add(a,b) \n",
    "2. Arugments /actual arguments are the values that are passed to a function when it is called during function calling . add(1,2)"
   ]
  },
  {
   "cell_type": "code",
   "execution_count": 24,
   "metadata": {},
   "outputs": [
    {
     "name": "stdout",
     "output_type": "stream",
     "text": [
      "principle amount is :  1000\n",
      "Number of interest :  2\n",
      "Rate of interest :  5\n",
      "Simple Interest is :  100.0\n",
      "--------------------\n",
      "principle amount is :  2000\n",
      "Number of interest :  4\n",
      "Rate of interest :  2.23\n",
      "Simple Interest is :  178.4\n"
     ]
    }
   ],
   "source": [
    "# Calculation of simple interest\n",
    "def simple_interest(p,n,r):\n",
    "    print(\"principle amount is : \",p)\n",
    "    print(\"Number of interest : \",n)\n",
    "    print(\"Rate of interest : \",r)\n",
    "    si=(p*n*r)/100\n",
    "    print('Simple Interest is : ',si)\n",
    "\n",
    "# Now calling the function\n",
    "simple_interest(1000,2,5)\n",
    "print('-'*20)\n",
    "simple_interest(2000,4,2.23)\n",
    "    "
   ]
  },
  {
   "cell_type": "markdown",
   "metadata": {},
   "source": [
    "# Identifier \n",
    "\n",
    "is the name we give to identify a variable, function, class, module or other object\n",
    "\n",
    "There are four types of identifiers \n",
    "\n",
    "Local identifier \n",
    "\n",
    "Global identifier\n",
    "\n",
    "Non-local Identifier \n",
    "\n",
    "Buil-in identifier "
   ]
  },
  {
   "cell_type": "code",
   "execution_count": 25,
   "metadata": {},
   "outputs": [
    {
     "name": "stdout",
     "output_type": "stream",
     "text": [
      "samad has a age  28\n"
     ]
    }
   ],
   "source": [
    "# Local Identifier \n",
    "def display(name ): # This is parameter\n",
    "    age=28    # Local variable which is pass inside the function body \n",
    "    print(name ,'has a age ',age)\n",
    "display('samad')  # This is called Local Argument/argument\n",
    "# print(age) # Age cannt access outside of function because it define inside the function \n"
   ]
  },
  {
   "cell_type": "code",
   "execution_count": 26,
   "metadata": {},
   "outputs": [
    {
     "name": "stdout",
     "output_type": "stream",
     "text": [
      "samad has a age  28\n",
      "{'name': 'samad', 'age': 28}\n",
      "2\n"
     ]
    }
   ],
   "source": [
    "# how do we know locals in our programm\n",
    "def display(name ): # This is parameter\n",
    "    age=28    # Local variable which is pass inside the function body \n",
    "    print(name ,'has a age ',age)\n",
    "    findings_local_variable=locals() #by this we found local varibeles in our progam \n",
    "    print(findings_local_variable)\n",
    "    print(len(findings_local_variable)) # By this we found how many local variables in our program\n",
    "display('samad')  # This is called Local Argument/argument"
   ]
  },
  {
   "cell_type": "markdown",
   "metadata": {},
   "source": [
    "# Global Variable/Global Identifiers\n",
    "\n",
    "these types of variables which does not declear in class or function "
   ]
  },
  {
   "cell_type": "code",
   "execution_count": 27,
   "metadata": {},
   "outputs": [
    {
     "name": "stdout",
     "output_type": "stream",
     "text": [
      "inside function , 20\n",
      "25\n",
      "out side of function pakistan\n",
      "{'__name__': '__main__', '__doc__': 'Automatically created module for IPython interactive environment', '__package__': None, '__loader__': None, '__spec__': None, '__builtin__': <module 'builtins' (built-in)>, '__builtins__': <module 'builtins' (built-in)>, '_ih': ['', '# Positional Argument\\npower (2,45)   # means follow the orders a=2 and b=45\\n               # order of parameter and order of argument must be same ', '# Lets create a funtion with docstring\\ndef is_even(num):\\n    \"\"\"This function return if a given number is odd or even \\n    input any valid number\\n    output even/odd\\n    created 11/24/2024 by Eng.Abdul-Samad\"\"\"\\n    if type(num)==int:\\n        if num % 2 == 0:\\n            return \\'Even\\'\\n        else:\\n            return \\'odd\\'   # No output will be visible because we didnt call this function \\n    else:\\n        print(\\'Please insert a valid number\\')', \"def gmean(a,b):\\n    if (a>b):\\n        print('Number one is graeter ')\\n    else:\\n        print('Number two is greater ')\\na=3\\nb=4\\ngmean=a+b/(a+b)\\nprint(gmean)\", '# Using the above function \\nfor i in range (1,11):\\n    x=is_even(i)  # We called function and pass i in this checked the number is even or odd\\n    print(x)', 'is_even(\"skksks\")', '# Calculation of simple interest\\ndef simple_interest(p,n,r):\\n    print(\"principle amount is : \",p)\\n    print(\"Number of interest : \",n)\\n    print(\"Rate of interest : \",r)\\n    si=(p*n*r)/100\\n    print(\\'Simple Interest is : \\',si)\\n\\n# Now calling the function\\nsimple_interest(1000,2,5)\\nprint(\\'-\\'*20)\\nsimple_interest(2000,4,2.23)\\n    ', \"# Local Identifier \\ndef display(name ): # This is parameter\\n    age=28    # Local variable which is pass inside the function body \\n    print(name ,'has a age ',age)\\ndisplay('samad')  # This is called Local Argument/argument\\n# print(age) # Age cannt access outside of function because it define inside the function \", \"# how do we know locals in our programm\\ndef display(name ): # This is parameter\\n    age=28    # Local variable which is pass inside the function body \\n    print(name ,'has a age ',age)\\n    findings_local_variable=locals() #by this we found local varibeles in our progam \\n    print(findings_local_variable)\\n    print(len(findings_local_variable)) # By this we found how many local variables in our program\\ndisplay('samad')  # This is called Local Argument/argument\", \"# Global Varible \\ncountry='pakistan' # this is called global variable \\ndef number():\\n    num=20\\n    print('inside function ,',num) # local\\n    num=num+5\\n    print(num) # overwite\\nnumber()\\nprint('out side of function',country) # global print \\n\\n# Chcking global identifiers like a locals()\\n\\nglobal_variable=globals()\\nprint(global_variable)  # all are ly in global variables \", \"num=10 # Gloabl variable \\ndef display():\\n    num=num+5\\n    print('inside the function',num)\\ndisplay()  # cannt acces and show unbounded error in this we resolved into next program\\nprint('out side of the function',num)\", '# Lets create a funtion with docstring\\ndef is_even(num):\\n    \"\"\"This function return if a given number is odd or even \\n    input any valid number\\n    output even/odd\\n    created 11/24/2024 by Eng.Abdul-Samad\"\"\"\\n    if type(num)==int:\\n        if num % 2 == 0:\\n            return \\'Even\\'\\n        else:\\n            return \\'odd\\'   # No output will be visible because we didnt call this function \\n    else:\\n        print(\\'Please insert a valid number\\')', \"def gmean(a,b):\\n    if (a>b):\\n        print('Number one is graeter ')\\n    else:\\n        print('Number two is greater ')\\na=3\\nb=4\\ngmean=a+b/(a+b)\\nprint(gmean)\", '# Using the above function \\nfor i in range (1,11):\\n    x=is_even(i)  # We called function and pass i in this checked the number is even or odd\\n    print(x)', 'is_even(\"skksks\")', '# Calculation of simple interest\\ndef simple_interest(p,n,r):\\n    print(\"principle amount is : \",p)\\n    print(\"Number of interest : \",n)\\n    print(\"Rate of interest : \",r)\\n    si=(p*n*r)/100\\n    print(\\'Simple Interest is : \\',si)\\n\\n# Now calling the function\\nsimple_interest(1000,2,5)\\nprint(\\'-\\'*20)\\nsimple_interest(2000,4,2.23)\\n    ', \"# Local Identifier \\ndef display(name ): # This is parameter\\n    age=28    # Local variable which is pass inside the function body \\n    print(name ,'has a age ',age)\\ndisplay('samad')  # This is called Local Argument/argument\\n# print(age) # Age cannt access outside of function because it define inside the function \", \"# how do we know locals in our programm\\ndef display(name ): # This is parameter\\n    age=28    # Local variable which is pass inside the function body \\n    print(name ,'has a age ',age)\\n    findings_local_variable=locals() #by this we found local varibeles in our progam \\n    print(findings_local_variable)\\n    print(len(findings_local_variable)) # By this we found how many local variables in our program\\ndisplay('samad')  # This is called Local Argument/argument\", \"# Global Varible \\ncountry='pakistan' # this is called global variable \\ndef number():\\n    num=20\\n    print('inside function ,',num) # local\\n    num=num+5\\n    print(num) # overwite\\nnumber()\\nprint('out side of function',country) # global print \\n\\n# Chcking global identifiers like a locals()\\n\\nglobal_variable=globals()\\nprint(global_variable)  # all are ly in global variables \", \"num=10 # Gloabl variable \\ndef display():\\n    num=num+5\\n    print('inside the function',num)\\ndisplay()  # cannt acces and show unbounded error in this we resolved into next program\\nprint('out side of the function',num)\", '# Lets create a funtion with docstring\\ndef is_even(num):\\n    \"\"\"This function return if a given number is odd or even \\n    input any valid number\\n    output even/odd\\n    created 11/24/2024 by Eng.Abdul-Samad\"\"\"\\n    if type(num)==int:\\n        if num % 2 == 0:\\n            return \\'Even\\'\\n        else:\\n            return \\'odd\\'   # No output will be visible because we didnt call this function \\n    else:\\n        print(\\'Please insert a valid number\\')', \"def gmean(a,b):\\n    if (a>b):\\n        print('Number one is graeter ')\\n    else:\\n        print('Number two is greater ')\\na=3\\nb=4\\ngmean=a+b/(a+b)\\nprint(gmean)\", '# Using the above function \\nfor i in range (1,11):\\n    x=is_even(i)  # We called function and pass i in this checked the number is even or odd\\n    print(x)', 'is_even(\"skksks\")', '# Calculation of simple interest\\ndef simple_interest(p,n,r):\\n    print(\"principle amount is : \",p)\\n    print(\"Number of interest : \",n)\\n    print(\"Rate of interest : \",r)\\n    si=(p*n*r)/100\\n    print(\\'Simple Interest is : \\',si)\\n\\n# Now calling the function\\nsimple_interest(1000,2,5)\\nprint(\\'-\\'*20)\\nsimple_interest(2000,4,2.23)\\n    ', \"# Local Identifier \\ndef display(name ): # This is parameter\\n    age=28    # Local variable which is pass inside the function body \\n    print(name ,'has a age ',age)\\ndisplay('samad')  # This is called Local Argument/argument\\n# print(age) # Age cannt access outside of function because it define inside the function \", \"# how do we know locals in our programm\\ndef display(name ): # This is parameter\\n    age=28    # Local variable which is pass inside the function body \\n    print(name ,'has a age ',age)\\n    findings_local_variable=locals() #by this we found local varibeles in our progam \\n    print(findings_local_variable)\\n    print(len(findings_local_variable)) # By this we found how many local variables in our program\\ndisplay('samad')  # This is called Local Argument/argument\", \"# Global Varible \\ncountry='pakistan' # this is called global variable \\ndef number():\\n    num=20\\n    print('inside function ,',num) # local\\n    num=num+5\\n    print(num) # overwite\\nnumber()\\nprint('out side of function',country) # global print \\n\\n# Chcking global identifiers like a locals()\\n\\nglobal_variable=globals()\\nprint(global_variable)  # all are ly in global variables \"], '_oh': {}, '_dh': [WindowsPath('d:/NED university PGC/17-11-24/24-11-24')], 'In': ['', '# Positional Argument\\npower (2,45)   # means follow the orders a=2 and b=45\\n               # order of parameter and order of argument must be same ', '# Lets create a funtion with docstring\\ndef is_even(num):\\n    \"\"\"This function return if a given number is odd or even \\n    input any valid number\\n    output even/odd\\n    created 11/24/2024 by Eng.Abdul-Samad\"\"\"\\n    if type(num)==int:\\n        if num % 2 == 0:\\n            return \\'Even\\'\\n        else:\\n            return \\'odd\\'   # No output will be visible because we didnt call this function \\n    else:\\n        print(\\'Please insert a valid number\\')', \"def gmean(a,b):\\n    if (a>b):\\n        print('Number one is graeter ')\\n    else:\\n        print('Number two is greater ')\\na=3\\nb=4\\ngmean=a+b/(a+b)\\nprint(gmean)\", '# Using the above function \\nfor i in range (1,11):\\n    x=is_even(i)  # We called function and pass i in this checked the number is even or odd\\n    print(x)', 'is_even(\"skksks\")', '# Calculation of simple interest\\ndef simple_interest(p,n,r):\\n    print(\"principle amount is : \",p)\\n    print(\"Number of interest : \",n)\\n    print(\"Rate of interest : \",r)\\n    si=(p*n*r)/100\\n    print(\\'Simple Interest is : \\',si)\\n\\n# Now calling the function\\nsimple_interest(1000,2,5)\\nprint(\\'-\\'*20)\\nsimple_interest(2000,4,2.23)\\n    ', \"# Local Identifier \\ndef display(name ): # This is parameter\\n    age=28    # Local variable which is pass inside the function body \\n    print(name ,'has a age ',age)\\ndisplay('samad')  # This is called Local Argument/argument\\n# print(age) # Age cannt access outside of function because it define inside the function \", \"# how do we know locals in our programm\\ndef display(name ): # This is parameter\\n    age=28    # Local variable which is pass inside the function body \\n    print(name ,'has a age ',age)\\n    findings_local_variable=locals() #by this we found local varibeles in our progam \\n    print(findings_local_variable)\\n    print(len(findings_local_variable)) # By this we found how many local variables in our program\\ndisplay('samad')  # This is called Local Argument/argument\", \"# Global Varible \\ncountry='pakistan' # this is called global variable \\ndef number():\\n    num=20\\n    print('inside function ,',num) # local\\n    num=num+5\\n    print(num) # overwite\\nnumber()\\nprint('out side of function',country) # global print \\n\\n# Chcking global identifiers like a locals()\\n\\nglobal_variable=globals()\\nprint(global_variable)  # all are ly in global variables \", \"num=10 # Gloabl variable \\ndef display():\\n    num=num+5\\n    print('inside the function',num)\\ndisplay()  # cannt acces and show unbounded error in this we resolved into next program\\nprint('out side of the function',num)\", '# Lets create a funtion with docstring\\ndef is_even(num):\\n    \"\"\"This function return if a given number is odd or even \\n    input any valid number\\n    output even/odd\\n    created 11/24/2024 by Eng.Abdul-Samad\"\"\"\\n    if type(num)==int:\\n        if num % 2 == 0:\\n            return \\'Even\\'\\n        else:\\n            return \\'odd\\'   # No output will be visible because we didnt call this function \\n    else:\\n        print(\\'Please insert a valid number\\')', \"def gmean(a,b):\\n    if (a>b):\\n        print('Number one is graeter ')\\n    else:\\n        print('Number two is greater ')\\na=3\\nb=4\\ngmean=a+b/(a+b)\\nprint(gmean)\", '# Using the above function \\nfor i in range (1,11):\\n    x=is_even(i)  # We called function and pass i in this checked the number is even or odd\\n    print(x)', 'is_even(\"skksks\")', '# Calculation of simple interest\\ndef simple_interest(p,n,r):\\n    print(\"principle amount is : \",p)\\n    print(\"Number of interest : \",n)\\n    print(\"Rate of interest : \",r)\\n    si=(p*n*r)/100\\n    print(\\'Simple Interest is : \\',si)\\n\\n# Now calling the function\\nsimple_interest(1000,2,5)\\nprint(\\'-\\'*20)\\nsimple_interest(2000,4,2.23)\\n    ', \"# Local Identifier \\ndef display(name ): # This is parameter\\n    age=28    # Local variable which is pass inside the function body \\n    print(name ,'has a age ',age)\\ndisplay('samad')  # This is called Local Argument/argument\\n# print(age) # Age cannt access outside of function because it define inside the function \", \"# how do we know locals in our programm\\ndef display(name ): # This is parameter\\n    age=28    # Local variable which is pass inside the function body \\n    print(name ,'has a age ',age)\\n    findings_local_variable=locals() #by this we found local varibeles in our progam \\n    print(findings_local_variable)\\n    print(len(findings_local_variable)) # By this we found how many local variables in our program\\ndisplay('samad')  # This is called Local Argument/argument\", \"# Global Varible \\ncountry='pakistan' # this is called global variable \\ndef number():\\n    num=20\\n    print('inside function ,',num) # local\\n    num=num+5\\n    print(num) # overwite\\nnumber()\\nprint('out side of function',country) # global print \\n\\n# Chcking global identifiers like a locals()\\n\\nglobal_variable=globals()\\nprint(global_variable)  # all are ly in global variables \", \"num=10 # Gloabl variable \\ndef display():\\n    num=num+5\\n    print('inside the function',num)\\ndisplay()  # cannt acces and show unbounded error in this we resolved into next program\\nprint('out side of the function',num)\", '# Lets create a funtion with docstring\\ndef is_even(num):\\n    \"\"\"This function return if a given number is odd or even \\n    input any valid number\\n    output even/odd\\n    created 11/24/2024 by Eng.Abdul-Samad\"\"\"\\n    if type(num)==int:\\n        if num % 2 == 0:\\n            return \\'Even\\'\\n        else:\\n            return \\'odd\\'   # No output will be visible because we didnt call this function \\n    else:\\n        print(\\'Please insert a valid number\\')', \"def gmean(a,b):\\n    if (a>b):\\n        print('Number one is graeter ')\\n    else:\\n        print('Number two is greater ')\\na=3\\nb=4\\ngmean=a+b/(a+b)\\nprint(gmean)\", '# Using the above function \\nfor i in range (1,11):\\n    x=is_even(i)  # We called function and pass i in this checked the number is even or odd\\n    print(x)', 'is_even(\"skksks\")', '# Calculation of simple interest\\ndef simple_interest(p,n,r):\\n    print(\"principle amount is : \",p)\\n    print(\"Number of interest : \",n)\\n    print(\"Rate of interest : \",r)\\n    si=(p*n*r)/100\\n    print(\\'Simple Interest is : \\',si)\\n\\n# Now calling the function\\nsimple_interest(1000,2,5)\\nprint(\\'-\\'*20)\\nsimple_interest(2000,4,2.23)\\n    ', \"# Local Identifier \\ndef display(name ): # This is parameter\\n    age=28    # Local variable which is pass inside the function body \\n    print(name ,'has a age ',age)\\ndisplay('samad')  # This is called Local Argument/argument\\n# print(age) # Age cannt access outside of function because it define inside the function \", \"# how do we know locals in our programm\\ndef display(name ): # This is parameter\\n    age=28    # Local variable which is pass inside the function body \\n    print(name ,'has a age ',age)\\n    findings_local_variable=locals() #by this we found local varibeles in our progam \\n    print(findings_local_variable)\\n    print(len(findings_local_variable)) # By this we found how many local variables in our program\\ndisplay('samad')  # This is called Local Argument/argument\", \"# Global Varible \\ncountry='pakistan' # this is called global variable \\ndef number():\\n    num=20\\n    print('inside function ,',num) # local\\n    num=num+5\\n    print(num) # overwite\\nnumber()\\nprint('out side of function',country) # global print \\n\\n# Chcking global identifiers like a locals()\\n\\nglobal_variable=globals()\\nprint(global_variable)  # all are ly in global variables \"], 'Out': {}, 'get_ipython': <bound method InteractiveShell.get_ipython of <ipykernel.zmqshell.ZMQInteractiveShell object at 0x0000022694186F90>>, 'exit': <IPython.core.autocall.ZMQExitAutocall object at 0x0000022694218830>, 'quit': <IPython.core.autocall.ZMQExitAutocall object at 0x0000022694218830>, 'open': <function open at 0x0000022691F71F80>, '_': '', '__': '', '___': '', '__vsc_ipynb_file__': 'd:\\\\NED university PGC\\\\17-11-24\\\\24-11-24\\\\function.ipynb', '_i': \"# how do we know locals in our programm\\ndef display(name ): # This is parameter\\n    age=28    # Local variable which is pass inside the function body \\n    print(name ,'has a age ',age)\\n    findings_local_variable=locals() #by this we found local varibeles in our progam \\n    print(findings_local_variable)\\n    print(len(findings_local_variable)) # By this we found how many local variables in our program\\ndisplay('samad')  # This is called Local Argument/argument\", '_ii': \"# Local Identifier \\ndef display(name ): # This is parameter\\n    age=28    # Local variable which is pass inside the function body \\n    print(name ,'has a age ',age)\\ndisplay('samad')  # This is called Local Argument/argument\\n# print(age) # Age cannt access outside of function because it define inside the function \", '_iii': '# Calculation of simple interest\\ndef simple_interest(p,n,r):\\n    print(\"principle amount is : \",p)\\n    print(\"Number of interest : \",n)\\n    print(\"Rate of interest : \",r)\\n    si=(p*n*r)/100\\n    print(\\'Simple Interest is : \\',si)\\n\\n# Now calling the function\\nsimple_interest(1000,2,5)\\nprint(\\'-\\'*20)\\nsimple_interest(2000,4,2.23)\\n    ', '_i1': '# Positional Argument\\npower (2,45)   # means follow the orders a=2 and b=45\\n               # order of parameter and order of argument must be same ', '_i2': '# Lets create a funtion with docstring\\ndef is_even(num):\\n    \"\"\"This function return if a given number is odd or even \\n    input any valid number\\n    output even/odd\\n    created 11/24/2024 by Eng.Abdul-Samad\"\"\"\\n    if type(num)==int:\\n        if num % 2 == 0:\\n            return \\'Even\\'\\n        else:\\n            return \\'odd\\'   # No output will be visible because we didnt call this function \\n    else:\\n        print(\\'Please insert a valid number\\')', 'is_even': <function is_even at 0x00000226949618A0>, '_i3': \"def gmean(a,b):\\n    if (a>b):\\n        print('Number one is graeter ')\\n    else:\\n        print('Number two is greater ')\\na=3\\nb=4\\ngmean=a+b/(a+b)\\nprint(gmean)\", 'gmean': 3.571428571428571, 'a': 3, 'b': 4, '_i4': '# Using the above function \\nfor i in range (1,11):\\n    x=is_even(i)  # We called function and pass i in this checked the number is even or odd\\n    print(x)', 'i': 10, 'x': 'Even', '_i5': 'is_even(\"skksks\")', '_i6': '# Calculation of simple interest\\ndef simple_interest(p,n,r):\\n    print(\"principle amount is : \",p)\\n    print(\"Number of interest : \",n)\\n    print(\"Rate of interest : \",r)\\n    si=(p*n*r)/100\\n    print(\\'Simple Interest is : \\',si)\\n\\n# Now calling the function\\nsimple_interest(1000,2,5)\\nprint(\\'-\\'*20)\\nsimple_interest(2000,4,2.23)\\n    ', 'simple_interest': <function simple_interest at 0x0000022694961F80>, '_i7': \"# Local Identifier \\ndef display(name ): # This is parameter\\n    age=28    # Local variable which is pass inside the function body \\n    print(name ,'has a age ',age)\\ndisplay('samad')  # This is called Local Argument/argument\\n# print(age) # Age cannt access outside of function because it define inside the function \", 'display': <function display at 0x00000226949623E0>, '_i8': \"# how do we know locals in our programm\\ndef display(name ): # This is parameter\\n    age=28    # Local variable which is pass inside the function body \\n    print(name ,'has a age ',age)\\n    findings_local_variable=locals() #by this we found local varibeles in our progam \\n    print(findings_local_variable)\\n    print(len(findings_local_variable)) # By this we found how many local variables in our program\\ndisplay('samad')  # This is called Local Argument/argument\", '_i9': \"# Global Varible \\ncountry='pakistan' # this is called global variable \\ndef number():\\n    num=20\\n    print('inside function ,',num) # local\\n    num=num+5\\n    print(num) # overwite\\nnumber()\\nprint('out side of function',country) # global print \\n\\n# Chcking global identifiers like a locals()\\n\\nglobal_variable=globals()\\nprint(global_variable)  # all are ly in global variables \", 'country': 'pakistan', 'number': <function number at 0x00000226949600E0>, 'global_variable': {...}, '_i10': \"num=10 # Gloabl variable \\ndef display():\\n    num=num+5\\n    print('inside the function',num)\\ndisplay()  # cannt acces and show unbounded error in this we resolved into next program\\nprint('out side of the function',num)\", 'num': 10, '_i11': '# Lets create a funtion with docstring\\ndef is_even(num):\\n    \"\"\"This function return if a given number is odd or even \\n    input any valid number\\n    output even/odd\\n    created 11/24/2024 by Eng.Abdul-Samad\"\"\"\\n    if type(num)==int:\\n        if num % 2 == 0:\\n            return \\'Even\\'\\n        else:\\n            return \\'odd\\'   # No output will be visible because we didnt call this function \\n    else:\\n        print(\\'Please insert a valid number\\')', '_i12': \"def gmean(a,b):\\n    if (a>b):\\n        print('Number one is graeter ')\\n    else:\\n        print('Number two is greater ')\\na=3\\nb=4\\ngmean=a+b/(a+b)\\nprint(gmean)\", '_i13': '# Using the above function \\nfor i in range (1,11):\\n    x=is_even(i)  # We called function and pass i in this checked the number is even or odd\\n    print(x)', '_i14': 'is_even(\"skksks\")', '_i15': '# Calculation of simple interest\\ndef simple_interest(p,n,r):\\n    print(\"principle amount is : \",p)\\n    print(\"Number of interest : \",n)\\n    print(\"Rate of interest : \",r)\\n    si=(p*n*r)/100\\n    print(\\'Simple Interest is : \\',si)\\n\\n# Now calling the function\\nsimple_interest(1000,2,5)\\nprint(\\'-\\'*20)\\nsimple_interest(2000,4,2.23)\\n    ', '_i16': \"# Local Identifier \\ndef display(name ): # This is parameter\\n    age=28    # Local variable which is pass inside the function body \\n    print(name ,'has a age ',age)\\ndisplay('samad')  # This is called Local Argument/argument\\n# print(age) # Age cannt access outside of function because it define inside the function \", '_i17': \"# how do we know locals in our programm\\ndef display(name ): # This is parameter\\n    age=28    # Local variable which is pass inside the function body \\n    print(name ,'has a age ',age)\\n    findings_local_variable=locals() #by this we found local varibeles in our progam \\n    print(findings_local_variable)\\n    print(len(findings_local_variable)) # By this we found how many local variables in our program\\ndisplay('samad')  # This is called Local Argument/argument\", '_i18': \"# Global Varible \\ncountry='pakistan' # this is called global variable \\ndef number():\\n    num=20\\n    print('inside function ,',num) # local\\n    num=num+5\\n    print(num) # overwite\\nnumber()\\nprint('out side of function',country) # global print \\n\\n# Chcking global identifiers like a locals()\\n\\nglobal_variable=globals()\\nprint(global_variable)  # all are ly in global variables \", '_i19': \"num=10 # Gloabl variable \\ndef display():\\n    num=num+5\\n    print('inside the function',num)\\ndisplay()  # cannt acces and show unbounded error in this we resolved into next program\\nprint('out side of the function',num)\", '_i20': '# Lets create a funtion with docstring\\ndef is_even(num):\\n    \"\"\"This function return if a given number is odd or even \\n    input any valid number\\n    output even/odd\\n    created 11/24/2024 by Eng.Abdul-Samad\"\"\"\\n    if type(num)==int:\\n        if num % 2 == 0:\\n            return \\'Even\\'\\n        else:\\n            return \\'odd\\'   # No output will be visible because we didnt call this function \\n    else:\\n        print(\\'Please insert a valid number\\')', '_i21': \"def gmean(a,b):\\n    if (a>b):\\n        print('Number one is graeter ')\\n    else:\\n        print('Number two is greater ')\\na=3\\nb=4\\ngmean=a+b/(a+b)\\nprint(gmean)\", '_i22': '# Using the above function \\nfor i in range (1,11):\\n    x=is_even(i)  # We called function and pass i in this checked the number is even or odd\\n    print(x)', '_i23': 'is_even(\"skksks\")', '_i24': '# Calculation of simple interest\\ndef simple_interest(p,n,r):\\n    print(\"principle amount is : \",p)\\n    print(\"Number of interest : \",n)\\n    print(\"Rate of interest : \",r)\\n    si=(p*n*r)/100\\n    print(\\'Simple Interest is : \\',si)\\n\\n# Now calling the function\\nsimple_interest(1000,2,5)\\nprint(\\'-\\'*20)\\nsimple_interest(2000,4,2.23)\\n    ', '_i25': \"# Local Identifier \\ndef display(name ): # This is parameter\\n    age=28    # Local variable which is pass inside the function body \\n    print(name ,'has a age ',age)\\ndisplay('samad')  # This is called Local Argument/argument\\n# print(age) # Age cannt access outside of function because it define inside the function \", '_i26': \"# how do we know locals in our programm\\ndef display(name ): # This is parameter\\n    age=28    # Local variable which is pass inside the function body \\n    print(name ,'has a age ',age)\\n    findings_local_variable=locals() #by this we found local varibeles in our progam \\n    print(findings_local_variable)\\n    print(len(findings_local_variable)) # By this we found how many local variables in our program\\ndisplay('samad')  # This is called Local Argument/argument\", '_i27': \"# Global Varible \\ncountry='pakistan' # this is called global variable \\ndef number():\\n    num=20\\n    print('inside function ,',num) # local\\n    num=num+5\\n    print(num) # overwite\\nnumber()\\nprint('out side of function',country) # global print \\n\\n# Chcking global identifiers like a locals()\\n\\nglobal_variable=globals()\\nprint(global_variable)  # all are ly in global variables \"}\n"
     ]
    }
   ],
   "source": [
    "# Global Varible \n",
    "country='pakistan' # this is called global variable \n",
    "def number():\n",
    "    num=20\n",
    "    print('inside function ,',num) # local\n",
    "    num=num+5\n",
    "    print(num) # overwite\n",
    "number()\n",
    "print('out side of function',country) # global print \n",
    "\n",
    "# Chcking global identifiers like a locals()\n",
    "\n",
    "global_variable=globals()\n",
    "print(global_variable)  # all are ly in global variables "
   ]
  },
  {
   "cell_type": "code",
   "execution_count": 28,
   "metadata": {},
   "outputs": [
    {
     "ename": "UnboundLocalError",
     "evalue": "cannot access local variable 'num' where it is not associated with a value",
     "output_type": "error",
     "traceback": [
      "\u001b[1;31m---------------------------------------------------------------------------\u001b[0m",
      "\u001b[1;31mUnboundLocalError\u001b[0m                         Traceback (most recent call last)",
      "Cell \u001b[1;32mIn[28], line 5\u001b[0m\n\u001b[0;32m      3\u001b[0m     num\u001b[38;5;241m=\u001b[39mnum\u001b[38;5;241m+\u001b[39m\u001b[38;5;241m5\u001b[39m\n\u001b[0;32m      4\u001b[0m     \u001b[38;5;28mprint\u001b[39m(\u001b[38;5;124m'\u001b[39m\u001b[38;5;124minside the function\u001b[39m\u001b[38;5;124m'\u001b[39m,num)\n\u001b[1;32m----> 5\u001b[0m \u001b[43mdisplay\u001b[49m\u001b[43m(\u001b[49m\u001b[43m)\u001b[49m  \u001b[38;5;66;03m# cannt acces and show unbounded error in this we resolved into next program\u001b[39;00m\n\u001b[0;32m      6\u001b[0m \u001b[38;5;28mprint\u001b[39m(\u001b[38;5;124m'\u001b[39m\u001b[38;5;124mout side of the function\u001b[39m\u001b[38;5;124m'\u001b[39m,num)\n",
      "Cell \u001b[1;32mIn[28], line 3\u001b[0m, in \u001b[0;36mdisplay\u001b[1;34m()\u001b[0m\n\u001b[0;32m      2\u001b[0m \u001b[38;5;28;01mdef\u001b[39;00m \u001b[38;5;21mdisplay\u001b[39m():\n\u001b[1;32m----> 3\u001b[0m     num\u001b[38;5;241m=\u001b[39m\u001b[43mnum\u001b[49m\u001b[38;5;241m+\u001b[39m\u001b[38;5;241m5\u001b[39m\n\u001b[0;32m      4\u001b[0m     \u001b[38;5;28mprint\u001b[39m(\u001b[38;5;124m'\u001b[39m\u001b[38;5;124minside the function\u001b[39m\u001b[38;5;124m'\u001b[39m,num)\n",
      "\u001b[1;31mUnboundLocalError\u001b[0m: cannot access local variable 'num' where it is not associated with a value"
     ]
    }
   ],
   "source": [
    "num=10 # Gloabl variable \n",
    "def display():\n",
    "    num=num+5\n",
    "    print('inside the function',num)\n",
    "display()  # cannt acces and show unbounded error in this we resolved into next program\n",
    "print('out side of the function',num)"
   ]
  },
  {
   "cell_type": "code",
   "execution_count": null,
   "metadata": {},
   "outputs": [
    {
     "name": "stdout",
     "output_type": "stream",
     "text": [
      "inside the function 15\n",
      "out side of the function 15\n"
     ]
    }
   ],
   "source": [
    "num=10 # Gloabl variable \n",
    "def display():\n",
    "    global num # make the num as a global \n",
    "    num=num+5\n",
    "    print('inside the function',num)\n",
    "display()  # cannt acces and show unbounded error in this we resolved into next program\n",
    "print('out side of the function',num)"
   ]
  },
  {
   "cell_type": "code",
   "execution_count": null,
   "metadata": {},
   "outputs": [
    {
     "name": "stdout",
     "output_type": "stream",
     "text": [
      "hye\n",
      "Simple Interest is :  207.0\n",
      "The total payable amount is  307.0\n"
     ]
    }
   ],
   "source": [
    "# Need of return statements\n",
    "def simple_interest(p,n,r):\n",
    "    si=(p*n*r)/100\n",
    "    print('Simple Interest is : ',si)\n",
    "    return si\n",
    "    print('Helo world')   # this will not print after return statements\n",
    "print('hye')\n",
    "P=100\n",
    "R=23\n",
    "N=9\n",
    "si=simple_interest(P,N,R) # after return this will give on this stage now we can use from here \n",
    "Total=si+P\n",
    "print('The total payable amount is ',Total)"
   ]
  },
  {
   "cell_type": "code",
   "execution_count": null,
   "metadata": {},
   "outputs": [
    {
     "name": "stdout",
     "output_type": "stream",
     "text": [
      "None\n"
     ]
    }
   ],
   "source": [
    "# You can return any type of python object\n",
    "\n",
    "def display():\n",
    "    return\n",
    "print (display())"
   ]
  },
  {
   "cell_type": "code",
   "execution_count": null,
   "metadata": {},
   "outputs": [
    {
     "name": "stdout",
     "output_type": "stream",
     "text": [
      "10\n"
     ]
    }
   ],
   "source": [
    "def display():\n",
    "    return 10\n",
    "print (display())"
   ]
  },
  {
   "cell_type": "code",
   "execution_count": null,
   "metadata": {},
   "outputs": [
    {
     "name": "stdout",
     "output_type": "stream",
     "text": [
      "[10, 20, 29, 'samad']\n",
      "[10, 20, 29, 'samad']\n"
     ]
    }
   ],
   "source": [
    "def display():\n",
    "    return [10,20,29,'samad']\n",
    "print (display())\n",
    "g=display() # we store in function calling then utilize from here for further working \n",
    "print(g)"
   ]
  },
  {
   "cell_type": "code",
   "execution_count": null,
   "metadata": {},
   "outputs": [
    {
     "data": {
      "text/plain": [
       "-1"
      ]
     },
     "execution_count": 8,
     "metadata": {},
     "output_type": "execute_result"
    }
   ],
   "source": [
    "# You can return multiple values \n",
    "def calc(a,b):\n",
    "    add=a+b\n",
    "    sub=a-b\n",
    "    return sub # this return only sub in one time not add \n",
    "    return add\n",
    "a=2\n",
    "b=1\n",
    "calc(b,a)"
   ]
  },
  {
   "cell_type": "code",
   "execution_count": null,
   "metadata": {},
   "outputs": [
    {
     "data": {
      "text/plain": [
       "(-1, 3)"
      ]
     },
     "execution_count": 9,
     "metadata": {},
     "output_type": "execute_result"
    }
   ],
   "source": [
    "# You can return multiple values \n",
    "def calc(a,b):\n",
    "    add=a+b\n",
    "    sub=a-b\n",
    "    return sub ,add # Now return both \n",
    "a=2\n",
    "b=1\n",
    "calc(b,a)"
   ]
  },
  {
   "cell_type": "code",
   "execution_count": null,
   "metadata": {},
   "outputs": [
    {
     "name": "stdout",
     "output_type": "stream",
     "text": [
      "None\n"
     ]
    }
   ],
   "source": [
    "def calc(a,b):\n",
    "    if a<0: # Here restrict negative value so retrun \n",
    "        return \n",
    "    add=a+b\n",
    "    sub=a-b\n",
    "    return sub ,add # Now return both \n",
    "a=-9    # This value cannot unpack due to negative sign \n",
    "b=1\n",
    "va=calc(a,b)\n",
    "print(va)"
   ]
  },
  {
   "cell_type": "code",
   "execution_count": null,
   "metadata": {},
   "outputs": [
    {
     "name": "stdout",
     "output_type": "stream",
     "text": [
      "(8, 10)\n"
     ]
    }
   ],
   "source": [
    "def calc(a,b):\n",
    "    if a<0: # Here restrict negative value so retrun \n",
    "        return \n",
    "    add=a+b\n",
    "    sub=a-b\n",
    "    return sub ,add # Now return both \n",
    "a=9\n",
    "b=1\n",
    "va=calc(a,b)\n",
    "print(va)"
   ]
  },
  {
   "cell_type": "code",
   "execution_count": null,
   "metadata": {},
   "outputs": [
    {
     "name": "stdout",
     "output_type": "stream",
     "text": [
      "Hello world\n",
      "Hello world\n"
     ]
    }
   ],
   "source": [
    "# creating aliases for function \n",
    "def display():\n",
    "    print('Hello world')\n",
    "\n",
    "var=display # this var is called aliase name  for function display\n",
    "var1=display()\n",
    "display()"
   ]
  },
  {
   "cell_type": "code",
   "execution_count": null,
   "metadata": {},
   "outputs": [
    {
     "ename": "IndentationError",
     "evalue": "expected an indented block after function definition on line 6 (3516324235.py, line 7)",
     "output_type": "error",
     "traceback": [
      "\u001b[1;36m  Cell \u001b[1;32mIn[1], line 7\u001b[1;36m\u001b[0m\n\u001b[1;33m    print('welcome')\u001b[0m\n\u001b[1;37m    ^\u001b[0m\n\u001b[1;31mIndentationError\u001b[0m\u001b[1;31m:\u001b[0m expected an indented block after function definition on line 6\n"
     ]
    }
   ],
   "source": [
    "# Nested Function \n",
    "def outer():\n",
    "    print('Hello World')\n",
    "    def inner():\n",
    "        def inner1():\n",
    "            def inner2():\n",
    "    print('welcome')\n",
    "    inner() # inner function calling must otherwise didnot work\n",
    "outer()\n",
    "\n",
    "# Now calling inner function ka ya work karta ha ya nea \n",
    "# inner()  # this will not be workable because this is out of inner function\n"
   ]
  },
  {
   "cell_type": "markdown",
   "metadata": {},
   "source": [
    "# Types of Arguments\n",
    "1. Default Argument\n",
    "2. Positional Argument\n",
    "3. Keyword Argument"
   ]
  },
  {
   "cell_type": "code",
   "execution_count": null,
   "metadata": {},
   "outputs": [],
   "source": [
    "# 1. Default Argument\n",
    "\n",
    "def power (a=1,b=1):\n",
    "    return a**b"
   ]
  },
  {
   "cell_type": "code",
   "execution_count": null,
   "metadata": {},
   "outputs": [
    {
     "data": {
      "text/plain": [
       "16"
      ]
     },
     "execution_count": 3,
     "metadata": {},
     "output_type": "execute_result"
    }
   ],
   "source": [
    "power(2,4)"
   ]
  },
  {
   "cell_type": "code",
   "execution_count": null,
   "metadata": {},
   "outputs": [
    {
     "name": "stdout",
     "output_type": "stream",
     "text": [
      "{'apple': 1.0, 'mangoes': 2.8}\n",
      "RS\n",
      "3.8\n"
     ]
    }
   ],
   "source": [
    "def total_cost(items,currency='US'):\n",
    "    print(items)\n",
    "    print(currency)\n",
    "    total=sum(items.values())\n",
    "    print(total)\n",
    "cart={'apple':1.00,'mangoes':2.8}\n",
    "total_cost(cart,'RS')  # overite the default value of currency with 'RS' for this call only"
   ]
  },
  {
   "cell_type": "code",
   "execution_count": null,
   "metadata": {},
   "outputs": [
    {
     "name": "stdout",
     "output_type": "stream",
     "text": [
      "{}\n",
      "US\n",
      "0\n"
     ]
    }
   ],
   "source": [
    "def total_cost(items={},currency='US'):\n",
    "    print(items)\n",
    "    print(currency)\n",
    "    total=sum(items.values())\n",
    "    print(total)\n",
    "cart={'apple':1.00,'mangoes':2.8}\n",
    "total_cost()  # only take none value due to default argument"
   ]
  },
  {
   "cell_type": "code",
   "execution_count": 29,
   "metadata": {},
   "outputs": [
    {
     "name": "stdout",
     "output_type": "stream",
     "text": [
      "rs\n",
      "US\n"
     ]
    }
   ],
   "source": [
    "def total_cost(items={},currency='US'):\n",
    "    print(items)\n",
    "    print(currency)\n",
    "cart={'apple':1.00,'mangoes':2.8}\n",
    "total_cost('rs')"
   ]
  },
  {
   "cell_type": "code",
   "execution_count": null,
   "metadata": {},
   "outputs": [
    {
     "name": "stdout",
     "output_type": "stream",
     "text": [
      "your name is samad and age is 23\n"
     ]
    }
   ],
   "source": [
    "# Defulat Arguments on mutable datatypes \n",
    "def details(name,age=0):\n",
    "    print('your name is',name,'and age is',age)\n",
    "details('samad',23) # priorty is more than default value"
   ]
  },
  {
   "cell_type": "code",
   "execution_count": null,
   "metadata": {},
   "outputs": [
    {
     "ename": "NameError",
     "evalue": "name 'power' is not defined",
     "output_type": "error",
     "traceback": [
      "\u001b[1;31m---------------------------------------------------------------------------\u001b[0m",
      "\u001b[1;31mNameError\u001b[0m                                 Traceback (most recent call last)",
      "Cell \u001b[1;32mIn[1], line 2\u001b[0m\n\u001b[0;32m      1\u001b[0m \u001b[38;5;66;03m# Positional Argument\u001b[39;00m\n\u001b[1;32m----> 2\u001b[0m \u001b[43mpower\u001b[49m (\u001b[38;5;241m2\u001b[39m,\u001b[38;5;241m45\u001b[39m)   \u001b[38;5;66;03m# means follow the orders a=2 and b=45\u001b[39;00m\n\u001b[0;32m      3\u001b[0m                \u001b[38;5;66;03m# order of parameter and order of argument must be same \u001b[39;00m\n",
      "\u001b[1;31mNameError\u001b[0m: name 'power' is not defined"
     ]
    }
   ],
   "source": [
    "# Positional Argument\n",
    "power (2,45)   # means follow the orders a=2 and b=45\n",
    "               # order of parameter and order of argument must be same "
   ]
  },
  {
   "cell_type": "code",
   "execution_count": null,
   "metadata": {},
   "outputs": [
    {
     "data": {
      "text/plain": [
       "64"
      ]
     },
     "execution_count": 37,
     "metadata": {},
     "output_type": "execute_result"
    }
   ],
   "source": [
    "# Keyword Argument\n",
    "power(b=3,a=4)  # 4**3 Means a jahan bi ho usko 4 milay and b jahan bi ho usko 3 milay"
   ]
  },
  {
   "cell_type": "code",
   "execution_count": null,
   "metadata": {},
   "outputs": [
    {
     "name": "stdout",
     "output_type": "stream",
     "text": [
      "apple\n",
      "banana\n",
      "cherry\n"
     ]
    }
   ],
   "source": [
    "def my_function(food):\n",
    "  for x in food:\n",
    "    print(x)\n",
    "\n",
    "fruits = [\"apple\", \"banana\", \"cherry\"]\n",
    "\n",
    "my_function(fruits)"
   ]
  },
  {
   "cell_type": "code",
   "execution_count": null,
   "metadata": {},
   "outputs": [
    {
     "name": "stdout",
     "output_type": "stream",
     "text": [
      "15\n",
      "25\n",
      "45\n"
     ]
    }
   ],
   "source": [
    "def my_function(x):\n",
    "  return 5 * x\n",
    "\n",
    "print(my_function(3))\n",
    "print(my_function(5))\n",
    "print(my_function(9))"
   ]
  },
  {
   "cell_type": "code",
   "execution_count": null,
   "metadata": {},
   "outputs": [],
   "source": [
    "# *args\n",
    "# Allows us to pass a variable number of non -keyword arguments to a function \n",
    "\n",
    "def multiple(*args):\n",
    "    product=1\n",
    "    for i in args:\n",
    "        product=product*i\n",
    "    return product\n"
   ]
  },
  {
   "cell_type": "code",
   "execution_count": null,
   "metadata": {},
   "outputs": [
    {
     "data": {
      "text/plain": [
       "24"
      ]
     },
     "execution_count": 41,
     "metadata": {},
     "output_type": "execute_result"
    }
   ],
   "source": [
    "multiple(1,2,3,4)"
   ]
  },
  {
   "cell_type": "code",
   "execution_count": null,
   "metadata": {},
   "outputs": [],
   "source": [
    "# **kwargs\n",
    "# **kwargs allows us to pass any number of keyword arguments.\n",
    "# Keyword argument mean that they contain a key and a value pair, like a python dictionary.\n",
    "\n",
    "def display(**kwargs):    # It works as a dictionary \n",
    "    for (key,value) in kwargs.items():\n",
    "        print(key,'..>',value)"
   ]
  },
  {
   "cell_type": "code",
   "execution_count": null,
   "metadata": {},
   "outputs": [
    {
     "name": "stdout",
     "output_type": "stream",
     "text": [
      "Pakistan ..> Islamaabad\n",
      "srilanka ..> columbo\n",
      "india ..> dehli\n"
     ]
    }
   ],
   "source": [
    "display(Pakistan='Islamaabad',srilanka='columbo',india='dehli')"
   ]
  },
  {
   "cell_type": "markdown",
   "metadata": {},
   "source": [
    "# Variable Scope \n",
    "1. There are 2 types of variable scope in Python: Local and Global.\n",
    "  1. Local variable :which lye in function scope \n",
    "  2. Global variable: Which lye in program scope"
   ]
  },
  {
   "cell_type": "code",
   "execution_count": null,
   "metadata": {},
   "outputs": [],
   "source": []
  },
  {
   "cell_type": "code",
   "execution_count": null,
   "metadata": {},
   "outputs": [
    {
     "name": "stdout",
     "output_type": "stream",
     "text": [
      "15\n"
     ]
    }
   ],
   "source": [
    "a=5\n",
    "b=10\n",
    "sum=(a+b)\n",
    "print(sum)"
   ]
  },
  {
   "cell_type": "code",
   "execution_count": null,
   "metadata": {},
   "outputs": [
    {
     "name": "stdout",
     "output_type": "stream",
     "text": [
      "33\n"
     ]
    }
   ],
   "source": [
    "a=10\n",
    "b=23\n",
    "sum=a+b\n",
    "print(sum)"
   ]
  },
  {
   "cell_type": "code",
   "execution_count": null,
   "metadata": {},
   "outputs": [
    {
     "name": "stdout",
     "output_type": "stream",
     "text": [
      "Welcome to the sum function\n"
     ]
    }
   ],
   "source": [
    "# create a function \n",
    "def sumfunction():   # Define function \n",
    "    print('Welcome to the sum function')\n",
    "sumfunction()    # For calling function with no value"
   ]
  },
  {
   "cell_type": "code",
   "execution_count": null,
   "metadata": {},
   "outputs": [
    {
     "name": "stdout",
     "output_type": "stream",
     "text": [
      "30\n"
     ]
    }
   ],
   "source": [
    "# Parameter function\n",
    "def parameter_function(a,b):\n",
    "    print(a+b)\n",
    "n1=10\n",
    "n2=20\n",
    "parameter_function(n1,n2)"
   ]
  },
  {
   "cell_type": "code",
   "execution_count": null,
   "metadata": {},
   "outputs": [
    {
     "name": "stdout",
     "output_type": "stream",
     "text": [
      "50\n"
     ]
    }
   ],
   "source": [
    "# calling above parametic function because we can call multiple times\n",
    "parameter_function(20,30)"
   ]
  },
  {
   "cell_type": "code",
   "execution_count": null,
   "metadata": {},
   "outputs": [
    {
     "data": {
      "text/plain": [
       "10"
      ]
     },
     "execution_count": 49,
     "metadata": {},
     "output_type": "execute_result"
    }
   ],
   "source": [
    "# return type function\n",
    "def sum_data(a=1,b=2):\n",
    "    c=a+b\n",
    "    return c\n",
    "sum_data(2,8)"
   ]
  },
  {
   "cell_type": "code",
   "execution_count": null,
   "metadata": {},
   "outputs": [
    {
     "name": "stdout",
     "output_type": "stream",
     "text": [
      "Original list: [1, 2, 3, 4, 5]\n",
      "Squared list: [1, 4, 9, 16, 25]\n"
     ]
    }
   ],
   "source": [
    "def square_elements(numbers):\n",
    "   \n",
    "    return [num ** 2 for num in numbers]\n",
    "input_list = [1, 2, 3, 4, 5]\n",
    "squared_list = square_elements(input_list)\n",
    "print(\"Original list:\", input_list)\n",
    "print(\"Squared list:\", squared_list)\n"
   ]
  },
  {
   "cell_type": "code",
   "execution_count": null,
   "metadata": {},
   "outputs": [
    {
     "name": "stdout",
     "output_type": "stream",
     "text": [
      "original list [2, 3, 4, 5]\n"
     ]
    },
    {
     "data": {
      "text/plain": [
       "[4, 9, 16, 25]"
      ]
     },
     "execution_count": 51,
     "metadata": {},
     "output_type": "execute_result"
    }
   ],
   "source": [
    "def list_square(num_list):\n",
    "    temp_list=[]\n",
    "    for num in num_list:\n",
    "        temp_list.append(num**2)\n",
    "    return temp_list\n",
    "num_list=[2,3,4,5]\n",
    "print(\"original list\",num_list)\n",
    "list_square(num_list)"
   ]
  },
  {
   "cell_type": "code",
   "execution_count": null,
   "metadata": {},
   "outputs": [
    {
     "name": "stdout",
     "output_type": "stream",
     "text": [
      "the orginal list  [1, 2, 3, 4, 5]\n"
     ]
    },
    {
     "data": {
      "text/plain": [
       "15"
      ]
     },
     "execution_count": 52,
     "metadata": {},
     "output_type": "execute_result"
    }
   ],
   "source": [
    "def sum_list(num1_list):\n",
    "    sum=0\n",
    "    for i in num1_list:\n",
    "        sum=sum+i\n",
    "    return sum\n",
    "num1_list=[1,2,3,4,5]\n",
    "print('the orginal list ',num1_list)\n",
    "sum_list(num1_list)"
   ]
  },
  {
   "cell_type": "code",
   "execution_count": null,
   "metadata": {},
   "outputs": [
    {
     "name": "stdout",
     "output_type": "stream",
     "text": [
      "the orginal tuple (1, 2, 3, 4)\n"
     ]
    },
    {
     "data": {
      "text/plain": [
       "24"
      ]
     },
     "execution_count": 53,
     "metadata": {},
     "output_type": "execute_result"
    }
   ],
   "source": [
    "def tup(tup_list):\n",
    "    pro=1\n",
    "    for i in tup_list:\n",
    "        pro*=i\n",
    "    return pro\n",
    "tup_list=(1,2,3,4)\n",
    "print(\"the orginal tuple\",tup_list)\n",
    "tup(tup_list)"
   ]
  },
  {
   "cell_type": "code",
   "execution_count": null,
   "metadata": {},
   "outputs": [
    {
     "name": "stdout",
     "output_type": "stream",
     "text": [
      "Number is Even\n"
     ]
    }
   ],
   "source": [
    "def is_a_valid_even(num):\n",
    "    if type(num)==int:\n",
    "        if num % 2 == 0:\n",
    "            print('Number is Even')\n",
    "        else:\n",
    "            print('Number is Odd')\n",
    "    else:\n",
    "        print('Invalid Input')\n",
    "is_a_valid_even(78)\n"
   ]
  },
  {
   "cell_type": "code",
   "execution_count": null,
   "metadata": {},
   "outputs": [
    {
     "name": "stdout",
     "output_type": "stream",
     "text": [
      "Number is Odd\n",
      "Number is Even\n",
      "Number is Odd\n",
      "Number is Even\n",
      "Number is Odd\n",
      "Number is Even\n",
      "Number is Odd\n",
      "Number is Even\n",
      "Number is Odd\n"
     ]
    }
   ],
   "source": [
    "for i in range (1,10):\n",
    "    is_a_valid_even(i)   # We called function in it like i "
   ]
  },
  {
   "cell_type": "markdown",
   "metadata": {},
   "source": [
    "# There are  three types of function \n",
    "1. Default Arguments\n",
    "2. Positional Arguments\n",
    "3. keyword Arguments"
   ]
  },
  {
   "cell_type": "code",
   "execution_count": null,
   "metadata": {},
   "outputs": [
    {
     "data": {
      "text/plain": [
       "1"
      ]
     },
     "execution_count": 56,
     "metadata": {},
     "output_type": "execute_result"
    }
   ],
   "source": [
    "def power(a=1,b=1): # This is called Defulat Argument we can use for fixinf errors in code \n",
    "    return a**b \n",
    "power()"
   ]
  },
  {
   "cell_type": "code",
   "execution_count": null,
   "metadata": {},
   "outputs": [
    {
     "data": {
      "text/plain": [
       "8"
      ]
     },
     "execution_count": 57,
     "metadata": {},
     "output_type": "execute_result"
    }
   ],
   "source": [
    "# Positional Arguments\n",
    "power (2,3) # overwrite the above function "
   ]
  },
  {
   "cell_type": "code",
   "execution_count": null,
   "metadata": {},
   "outputs": [
    {
     "name": "stdout",
     "output_type": "stream",
     "text": [
      "(2, 3, 4, 5)\n"
     ]
    },
    {
     "data": {
      "text/plain": [
       "120"
      ]
     },
     "execution_count": 58,
     "metadata": {},
     "output_type": "execute_result"
    }
   ],
   "source": [
    "# *args ,*keywargs    \n",
    "def product(*args):\n",
    "    product=1\n",
    "    for i in args:\n",
    "        product=product*i\n",
    "    print(args)\n",
    "    return product\n",
    "product(2,3,4,5)"
   ]
  },
  {
   "cell_type": "code",
   "execution_count": null,
   "metadata": {},
   "outputs": [
    {
     "name": "stdout",
     "output_type": "stream",
     "text": [
      "Personal Details:\n",
      "  name: John Doe\n",
      "  email: john.doe@example.com\n",
      "  education: BS in Computer Science\n",
      "  experience: 3 years as a Data Analyst\n",
      "\n",
      "Skills and Projects:\n",
      "\n"
     ]
    }
   ],
   "source": [
    "def build_portfolio(*skills_and_projects, **personal_details):\n",
    "    portfolio = {}\n",
    "    portfolio['Personal Details'] = personal_details\n",
    "    portfolio['Skills and Projects'] = skills_and_projects\n",
    "\n",
    "    return portfolio\n",
    "portfolio = build_portfolio(\n",
    "    name=\"John Doe\",\n",
    "    email=\"john.doe@example.com\",\n",
    "    education=\"BS in Computer Science\",\n",
    "    experience=\"3 years as a Data Analyst\"\n",
    ")\n",
    "\n",
    "# Display the portfolio\n",
    "for section, content in portfolio.items():\n",
    "    print(f\"{section}:\")\n",
    "    if isinstance(content, tuple):\n",
    "        for item in content:\n",
    "            print(f\"  - {item}\")\n",
    "    elif isinstance(content, dict):\n",
    "        for key, value in content.items():\n",
    "            print(f\"  {key}: {value}\")\n",
    "    print()\n"
   ]
  },
  {
   "cell_type": "code",
   "execution_count": null,
   "metadata": {},
   "outputs": [
    {
     "ename": "ValueError",
     "evalue": "invalid literal for int() with base 10: 'ksksk'",
     "output_type": "error",
     "traceback": [
      "\u001b[1;31m---------------------------------------------------------------------------\u001b[0m",
      "\u001b[1;31mValueError\u001b[0m                                Traceback (most recent call last)",
      "Cell \u001b[1;32mIn[60], line 5\u001b[0m\n\u001b[0;32m      3\u001b[0m name \u001b[38;5;241m=\u001b[39m\u001b[38;5;28minput\u001b[39m(\u001b[38;5;124m'\u001b[39m\u001b[38;5;124mEnter your name\u001b[39m\u001b[38;5;124m'\u001b[39m)\n\u001b[0;32m      4\u001b[0m gender\u001b[38;5;241m=\u001b[39m\u001b[38;5;28minput\u001b[39m(\u001b[38;5;124m'\u001b[39m\u001b[38;5;124mEnter your gender\u001b[39m\u001b[38;5;124m'\u001b[39m)\n\u001b[1;32m----> 5\u001b[0m age\u001b[38;5;241m=\u001b[39m\u001b[38;5;28;43mint\u001b[39;49m\u001b[43m(\u001b[49m\u001b[38;5;28;43minput\u001b[39;49m\u001b[43m(\u001b[49m\u001b[38;5;124;43m'\u001b[39;49m\u001b[38;5;124;43mEnter your age \u001b[39;49m\u001b[38;5;124;43m'\u001b[39;49m\u001b[43m)\u001b[49m\u001b[43m)\u001b[49m\n\u001b[0;32m      6\u001b[0m specialization\u001b[38;5;241m=\u001b[39m\u001b[38;5;28minput\u001b[39m(\u001b[38;5;124m'\u001b[39m\u001b[38;5;124mEnter your specialization\u001b[39m\u001b[38;5;124m'\u001b[39m)\n\u001b[0;32m      7\u001b[0m user_details(name,gender,age,specialization)\n",
      "\u001b[1;31mValueError\u001b[0m: invalid literal for int() with base 10: 'ksksk'"
     ]
    }
   ],
   "source": [
    "def user_details(*args):\n",
    "    print(args)\n",
    "name =input('Enter your name')\n",
    "gender=input('Enter your gender')\n",
    "age=int(input('Enter your age '))\n",
    "specialization=input('Enter your specialization')\n",
    "user_details(name,gender,age,specialization)"
   ]
  },
  {
   "cell_type": "code",
   "execution_count": null,
   "metadata": {},
   "outputs": [
    {
     "name": "stdout",
     "output_type": "stream",
     "text": [
      "name ....> sama\n",
      "gender ....> ma\n",
      "age ....> 23\n",
      "specialization ....> ds\n"
     ]
    }
   ],
   "source": [
    "def capital_of_country(**kwargs):\n",
    "    for key,value in kwargs.items():\n",
    "        print(key,'....>',value)\n",
    "name =input('Enter your name')\n",
    "gender=input('Enter your gender')\n",
    "age=int(input('Enter your age '))\n",
    "specialization=input('Enter your specialization')\n",
    "capital_of_country(name=name ,gender=gender,age=age,specialization=specialization)"
   ]
  },
  {
   "cell_type": "code",
   "execution_count": null,
   "metadata": {},
   "outputs": [
    {
     "name": "stdout",
     "output_type": "stream",
     "text": [
      "university_name ... ned\n",
      "Job ... ra\n",
      "Location ... mashriq\n"
     ]
    }
   ],
   "source": [
    "def My_introduction(**kwargs):\n",
    "    for key,value in kwargs.items():\n",
    "        print(key,'...',value)\n",
    "university_name =input('Enter your Uni.name')\n",
    "Job=input('Enter your Job')\n",
    "Location=input('Enter your Location')\n",
    "# specialization=input('Enter your specialization')\n",
    "My_introduction(university_name=university_name ,Job=Job,Location=Location)"
   ]
  }
 ],
 "metadata": {
  "kernelspec": {
   "display_name": "Python 3",
   "language": "python",
   "name": "python3"
  },
  "language_info": {
   "codemirror_mode": {
    "name": "ipython",
    "version": 3
   },
   "file_extension": ".py",
   "mimetype": "text/x-python",
   "name": "python",
   "nbconvert_exporter": "python",
   "pygments_lexer": "ipython3",
   "version": "3.13.0"
  }
 },
 "nbformat": 4,
 "nbformat_minor": 2
}
