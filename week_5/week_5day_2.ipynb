{
 "cells": [
  {
   "cell_type": "markdown",
   "metadata": {},
   "source": [
    "# SETS\n",
    "\n",
    "1. A set is an unordered collection ((3,2,1)<==== the answer will be random some time appear 2,3,1 and sometime 1,2,3)\n",
    "2. Unique and no duplicate allowed in set.\n",
    "3. Must be immutable (cannot be changed) like a tuble \n",
    "4. A set itself mutable (we can add and remove items from it)\n",
    "5. Representation of set is in curly brackets {} or using set() function."
   ]
  },
  {
   "cell_type": "code",
   "execution_count": null,
   "metadata": {},
   "outputs": [
    {
     "name": "stdout",
     "output_type": "stream",
     "text": [
      "<class 'tuple'>\n",
      "<class 'dict'>\n",
      "<class 'set'>\n",
      "<class 'set'>\n"
     ]
    }
   ],
   "source": [
    "S=()\n",
    "s={} # empty bracket is also called a dictionary\n",
    "p=set() # this set is empty\n",
    "p1={1,2,3} # this is set with 3 elements because elements present in it\n",
    "print(type(S))\n",
    "print(type(s))\n",
    "print(type(p))\n",
    "print(type(p1))"
   ]
  },
  {
   "cell_type": "code",
   "execution_count": null,
   "metadata": {},
   "outputs": [
    {
     "name": "stdout",
     "output_type": "stream",
     "text": [
      "{2, 3, 5, 6}\n"
     ]
    }
   ],
   "source": [
    "s={5,6,3,2,2} # jis sequece ma elements ko declear karaingay us order ma nea milaygain or no duplicate values \n",
    "print(s)"
   ]
  },
  {
   "cell_type": "code",
   "execution_count": null,
   "metadata": {},
   "outputs": [
    {
     "name": "stdout",
     "output_type": "stream",
     "text": [
      "{1, 2, 3, 5}\n",
      "{1, 2, 4, 5, 8, (1, 2, 6, 3)}\n"
     ]
    }
   ],
   "source": [
    "s={2,5,1,3}\n",
    "print(s)\n",
    "# s={2,5,1,3,{1,2,34,4}} # means mutable type is not allowed in set the think is that set is mutable type due to which not allowed \n",
    "# print(s)\n",
    "# slist={2,3,4,5,6,7,[1,2,3,4,5]} # in this we pass list in set but list is mutable type is not allowed in set the think is that set is mutable type due to which not allowed\n",
    "# print(slist)\n",
    "s1={2,4,5,8,1,(1,2,6,3)} # in this we pass tuple in set and tuple is immutable type is allowed in set\n",
    "print(s1)\n"
   ]
  },
  {
   "cell_type": "code",
   "execution_count": null,
   "metadata": {},
   "outputs": [
    {
     "name": "stdout",
     "output_type": "stream",
     "text": [
      "{'samad', False, 12.4}\n",
      "{'samad', False, 12.4, True}\n"
     ]
    }
   ],
   "source": [
    "s={'samad',12.4,False,0}  # is this case 0 and false equal 1 and true are equal and it pass only a one time in set becasue no duplicate allowed in this data type\n",
    "print(s)\n",
    "s={'samad',12.4,False,0,True,1,1} # no duplicate allowed in this data type\n",
    "print(s)"
   ]
  },
  {
   "cell_type": "code",
   "execution_count": null,
   "metadata": {},
   "outputs": [
    {
     "name": "stdout",
     "output_type": "stream",
     "text": [
      "{'mango', 'apple'}\n",
      "<class 'set'>\n"
     ]
    }
   ],
   "source": [
    "fruits=['apple','mango'] #this is convert into set caled type casting \n",
    "fruits=set(['apple','mango']) # here type casting is done list converted into set just rewrite set()\n",
    "print(fruits)\n",
    "print(type(fruits))"
   ]
  },
  {
   "cell_type": "code",
   "execution_count": 7,
   "metadata": {},
   "outputs": [
    {
     "data": {
      "text/plain": [
       "True"
      ]
     },
     "execution_count": 7,
     "metadata": {},
     "output_type": "execute_result"
    }
   ],
   "source": [
    "s1={1,2,3,4}\n",
    "s2={3,2,1,4}\n",
    "s1==s2"
   ]
  },
  {
   "cell_type": "code",
   "execution_count": 8,
   "metadata": {},
   "outputs": [
    {
     "data": {
      "text/plain": [
       "False"
      ]
     },
     "execution_count": 8,
     "metadata": {},
     "output_type": "execute_result"
    }
   ],
   "source": [
    "s1={1,3,5,7,6}\n",
    "s2={2,4,6,7,8}\n",
    "s1==s2"
   ]
  },
  {
   "cell_type": "code",
   "execution_count": 11,
   "metadata": {},
   "outputs": [
    {
     "ename": "TypeError",
     "evalue": "'set' object is not subscriptable",
     "output_type": "error",
     "traceback": [
      "\u001b[1;31m---------------------------------------------------------------------------\u001b[0m",
      "\u001b[1;31mTypeError\u001b[0m                                 Traceback (most recent call last)",
      "Cell \u001b[1;32mIn[11], line 2\u001b[0m\n\u001b[0;32m      1\u001b[0m \u001b[38;5;66;03m#acessing \u001b[39;00m\n\u001b[1;32m----> 2\u001b[0m \u001b[38;5;28mprint\u001b[39m(\u001b[43ms1\u001b[49m\u001b[43m[\u001b[49m\u001b[38;5;241;43m0\u001b[39;49m\u001b[43m]\u001b[49m)\n",
      "\u001b[1;31mTypeError\u001b[0m: 'set' object is not subscriptable"
     ]
    }
   ],
   "source": [
    "# #acessing \n",
    "# print(s1[0])"
   ]
  },
  {
   "cell_type": "code",
   "execution_count": 13,
   "metadata": {},
   "outputs": [
    {
     "name": "stdout",
     "output_type": "stream",
     "text": [
      "{1, 2, 3, 4, 5}\n"
     ]
    }
   ],
   "source": [
    "s={1,2,3,4}\n",
    "s.add(5)\n",
    "print(s)"
   ]
  },
  {
   "cell_type": "code",
   "execution_count": 30,
   "metadata": {},
   "outputs": [
    {
     "name": "stdout",
     "output_type": "stream",
     "text": [
      "{1, 2, 3, 4, 5, 6, 10, 13}\n"
     ]
    }
   ],
   "source": [
    "s.add(6)\n",
    "# print(s)\n",
    "s.update([2,3,4,5,6,10])\n",
    "print(s)"
   ]
  },
  {
   "cell_type": "code",
   "execution_count": 35,
   "metadata": {},
   "outputs": [
    {
     "name": "stdout",
     "output_type": "stream",
     "text": [
      "{2, 3, 5, 6, 'r', 'n', 'h', 10, 'm', 'a', 13, 'k', 'imran khan', 'i', ' '}\n"
     ]
    }
   ],
   "source": [
    "s.update(['imran khan'])\n",
    "print(s)"
   ]
  },
  {
   "cell_type": "code",
   "execution_count": 33,
   "metadata": {},
   "outputs": [
    {
     "data": {
      "text/plain": [
       "1"
      ]
     },
     "execution_count": 33,
     "metadata": {},
     "output_type": "execute_result"
    }
   ],
   "source": [
    "s.pop()"
   ]
  },
  {
   "cell_type": "code",
   "execution_count": 34,
   "metadata": {},
   "outputs": [],
   "source": [
    "s.remove(4)"
   ]
  },
  {
   "cell_type": "code",
   "execution_count": 36,
   "metadata": {},
   "outputs": [
    {
     "name": "stdout",
     "output_type": "stream",
     "text": [
      "{2, 3, 5, 6, 'r', 'n', 'h', 10, 'm', 'a', 13, 'k', 'imran khan', 'i', ' '}\n"
     ]
    }
   ],
   "source": [
    "print(s)"
   ]
  },
  {
   "cell_type": "code",
   "execution_count": 37,
   "metadata": {},
   "outputs": [
    {
     "data": {
      "text/plain": [
       "{2, 3, 4, 5, 6, 10, 12, 13}"
      ]
     },
     "execution_count": 37,
     "metadata": {},
     "output_type": "execute_result"
    }
   ],
   "source": [
    "#opeartion in set \n",
    "#union\n",
    "s3={2,3,4,5,6}\n",
    "s4={3,4,5,10,12,13}\n",
    "s3.union(s4)\n"
   ]
  },
  {
   "cell_type": "code",
   "execution_count": 38,
   "metadata": {},
   "outputs": [
    {
     "name": "stdout",
     "output_type": "stream",
     "text": [
      "{3, 4, 5}\n"
     ]
    }
   ],
   "source": [
    "# intersection (&)\n",
    "print(s3&s4)"
   ]
  },
  {
   "cell_type": "code",
   "execution_count": 40,
   "metadata": {},
   "outputs": [
    {
     "name": "stdout",
     "output_type": "stream",
     "text": [
      "{2, 6}\n",
      "{10, 12, 13}\n"
     ]
    }
   ],
   "source": [
    "#Difference\n",
    "print(s3-s4)\n",
    "print(s4-s3)"
   ]
  },
  {
   "cell_type": "code",
   "execution_count": 42,
   "metadata": {},
   "outputs": [
    {
     "name": "stdout",
     "output_type": "stream",
     "text": [
      "{2, 6, 10, 12, 13}\n",
      "{2, 6, 10, 12, 13}\n"
     ]
    }
   ],
   "source": [
    "#symmetric Diffrence (^)\n",
    "print (s3^s4)\n",
    "print(s4^s3)"
   ]
  },
  {
   "cell_type": "code",
   "execution_count": 44,
   "metadata": {},
   "outputs": [
    {
     "name": "stdout",
     "output_type": "stream",
     "text": [
      "{2, 3, 5, 6}\n"
     ]
    }
   ],
   "source": [
    "s3.discard(4)\n",
    "print(s3)"
   ]
  },
  {
   "cell_type": "code",
   "execution_count": 50,
   "metadata": {},
   "outputs": [
    {
     "name": "stdout",
     "output_type": "stream",
     "text": [
      "[6, 5, 3, 2]\n",
      "4\n",
      "16\n",
      "2\n",
      "6\n"
     ]
    }
   ],
   "source": [
    "print(sorted(s3,reverse=True))\n",
    "print(len(s3))\n",
    "print(sum(s3))\n",
    "print(min(s3))\n",
    "print(max(s3))"
   ]
  },
  {
   "cell_type": "code",
   "execution_count": null,
   "metadata": {},
   "outputs": [],
   "source": [
    "# frozen set \n"
   ]
  }
 ],
 "metadata": {
  "kernelspec": {
   "display_name": "Python 3",
   "language": "python",
   "name": "python3"
  },
  "language_info": {
   "codemirror_mode": {
    "name": "ipython",
    "version": 3
   },
   "file_extension": ".py",
   "mimetype": "text/x-python",
   "name": "python",
   "nbconvert_exporter": "python",
   "pygments_lexer": "ipython3",
   "version": "3.13.0"
  }
 },
 "nbformat": 4,
 "nbformat_minor": 2
}
