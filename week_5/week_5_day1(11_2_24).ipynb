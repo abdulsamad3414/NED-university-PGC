{
  "nbformat": 4,
  "nbformat_minor": 0,
  "metadata": {
    "colab": {
      "provenance": []
    },
    "kernelspec": {
      "name": "python3",
      "display_name": "Python 3"
    },
    "language_info": {
      "name": "python"
    }
  },
  "cells": [
    {
      "cell_type": "markdown",
      "source": [
        "# Dictionary\n"
      ],
      "metadata": {
        "id": "hFqUQ07rU7EH"
      }
    },
    {
      "cell_type": "code",
      "execution_count": null,
      "metadata": {
        "colab": {
          "base_uri": "https://localhost:8080/"
        },
        "id": "7Ib8R1iWSCDT",
        "outputId": "67cf6328-57b5-4744-a004-58ffb773f478"
      },
      "outputs": [
        {
          "output_type": "stream",
          "name": "stdout",
          "text": [
            "{'Name': 'samad', 'gender': 'Male', 'skill': ['data science', 'Ml', 'AI'], 'age': '28'}\n",
            "<class 'dict'>\n"
          ]
        }
      ],
      "source": [
        "person={'Name':'samad',\n",
        "        'gender':'Male',\n",
        "        'skill':['data science','Ml','AI'],\n",
        "        'age':'28'}\n",
        "\n",
        "print(person)\n",
        "print(type(person))\n"
      ]
    },
    {
      "cell_type": "code",
      "source": [
        "# only find out dictionary keys\n",
        "person.keys()"
      ],
      "metadata": {
        "colab": {
          "base_uri": "https://localhost:8080/"
        },
        "id": "Ws69K_mZUkNh",
        "outputId": "7121fd0c-6cc5-4e7e-b2dc-ee37c95d128e"
      },
      "execution_count": null,
      "outputs": [
        {
          "output_type": "execute_result",
          "data": {
            "text/plain": [
              "dict_keys(['Name', 'gender', 'skill', 'age'])"
            ]
          },
          "metadata": {},
          "execution_count": 35
        }
      ]
    },
    {
      "cell_type": "code",
      "source": [
        "# only find out the dictionary values\n",
        "person.values()"
      ],
      "metadata": {
        "colab": {
          "base_uri": "https://localhost:8080/"
        },
        "id": "N5Rd26buUtXN",
        "outputId": "260839eb-5e7e-4e3e-dee5-d538a72262db"
      },
      "execution_count": null,
      "outputs": [
        {
          "output_type": "execute_result",
          "data": {
            "text/plain": [
              "dict_values(['samad', 'Male', ['data science', 'Ml', 'AI'], '28'])"
            ]
          },
          "metadata": {},
          "execution_count": 36
        }
      ]
    },
    {
      "cell_type": "code",
      "source": [
        "# both print key and values print together and seperate it.\n",
        "person.items()"
      ],
      "metadata": {
        "colab": {
          "base_uri": "https://localhost:8080/"
        },
        "id": "8-1R97uZVPaL",
        "outputId": "3bb1e4f8-78f5-428c-c259-7686e85e5065"
      },
      "execution_count": null,
      "outputs": [
        {
          "output_type": "execute_result",
          "data": {
            "text/plain": [
              "dict_items([('Name', 'samad'), ('gender', 'Male'), ('skill', ['data science', 'Ml', 'AI']), ('age', '28')])"
            ]
          },
          "metadata": {},
          "execution_count": 37
        }
      ]
    },
    {
      "cell_type": "code",
      "source": [
        "#only find the specific key\n",
        "person.get('skill')"
      ],
      "metadata": {
        "colab": {
          "base_uri": "https://localhost:8080/"
        },
        "id": "X6AUTA5iV3zX",
        "outputId": "bb0122da-87ce-4045-bfee-1237d8cd8e02"
      },
      "execution_count": null,
      "outputs": [
        {
          "output_type": "execute_result",
          "data": {
            "text/plain": [
              "['data science', 'Ml', 'AI']"
            ]
          },
          "metadata": {},
          "execution_count": 38
        }
      ]
    },
    {
      "cell_type": "code",
      "source": [
        "person.get('Name')"
      ],
      "metadata": {
        "colab": {
          "base_uri": "https://localhost:8080/",
          "height": 35
        },
        "id": "MZ_hem00WCFd",
        "outputId": "0fb47644-b923-4199-fbaf-47c8884ab5d0"
      },
      "execution_count": null,
      "outputs": [
        {
          "output_type": "execute_result",
          "data": {
            "text/plain": [
              "'samad'"
            ],
            "application/vnd.google.colaboratory.intrinsic+json": {
              "type": "string"
            }
          },
          "metadata": {},
          "execution_count": 39
        }
      ]
    },
    {
      "cell_type": "code",
      "source": [
        "person.get('gender','age') # only take 1st key not 2nd"
      ],
      "metadata": {
        "colab": {
          "base_uri": "https://localhost:8080/",
          "height": 35
        },
        "id": "WAkNajjKWIhc",
        "outputId": "935eb7fc-3ef5-4d11-c48f-18138cef9c23"
      },
      "execution_count": null,
      "outputs": [
        {
          "output_type": "execute_result",
          "data": {
            "text/plain": [
              "'Male'"
            ],
            "application/vnd.google.colaboratory.intrinsic+json": {
              "type": "string"
            }
          },
          "metadata": {},
          "execution_count": 40
        }
      ]
    },
    {
      "cell_type": "code",
      "source": [
        "person1={'Name':'samad',\n",
        "        'gender':'Male',\n",
        "        'marks':{'python':70,'js':40},\n",
        "        'age':'28'}\n",
        "print(person1)\n",
        "print(type(person1))"
      ],
      "metadata": {
        "colab": {
          "base_uri": "https://localhost:8080/"
        },
        "id": "b1pC5-WaYHNS",
        "outputId": "e858f603-4b54-418d-9673-e80fcc92bf2d"
      },
      "execution_count": null,
      "outputs": [
        {
          "output_type": "stream",
          "name": "stdout",
          "text": [
            "{'Name': 'samad', 'gender': 'Male', 'marks': {'python': 70, 'js': 40}, 'age': '28'}\n",
            "<class 'dict'>\n"
          ]
        }
      ]
    },
    {
      "cell_type": "code",
      "source": [
        "person1.get('marks')['python']"
      ],
      "metadata": {
        "colab": {
          "base_uri": "https://localhost:8080/"
        },
        "id": "I9arhsnlYgpM",
        "outputId": "228f5b17-8fa0-4748-b67d-2af9ca56c12c"
      },
      "execution_count": null,
      "outputs": [
        {
          "output_type": "execute_result",
          "data": {
            "text/plain": [
              "70"
            ]
          },
          "metadata": {},
          "execution_count": 50
        }
      ]
    },
    {
      "cell_type": "code",
      "source": [
        "person.update(person1)\n",
        "print(person)"
      ],
      "metadata": {
        "colab": {
          "base_uri": "https://localhost:8080/"
        },
        "id": "ygHnNY4DZOjS",
        "outputId": "a3f79e42-e06a-4c02-b341-9ffe60df73e3"
      },
      "execution_count": null,
      "outputs": [
        {
          "output_type": "stream",
          "name": "stdout",
          "text": [
            "{'Name': 'samad', 'gender': 'Male', 'skill': ['data science', 'Ml', 'AI'], 'age': '28', 'marks': {'python': 70, 'js': 40}, 'organization': 'institute of space'}\n"
          ]
        }
      ]
    },
    {
      "cell_type": "code",
      "source": [
        "person.get('marks')"
      ],
      "metadata": {
        "colab": {
          "base_uri": "https://localhost:8080/"
        },
        "id": "rIf7No7HZnuS",
        "outputId": "641cb5e5-b583-41dd-8276-3cc5ea05b2b1"
      },
      "execution_count": null,
      "outputs": [
        {
          "output_type": "execute_result",
          "data": {
            "text/plain": [
              "{'python': 70, 'js': 40}"
            ]
          },
          "metadata": {},
          "execution_count": 54
        }
      ]
    },
    {
      "cell_type": "code",
      "source": [
        "#adding anything\n",
        "person['organization']='institute of space'\n"
      ],
      "metadata": {
        "id": "Ii4XXEQ4Z_wq"
      },
      "execution_count": null,
      "outputs": []
    },
    {
      "cell_type": "code",
      "source": [
        "print(person)"
      ],
      "metadata": {
        "colab": {
          "base_uri": "https://localhost:8080/"
        },
        "id": "pDqMvbGDbLlq",
        "outputId": "83eb11ab-5d85-4392-cbdd-72c8bb570fa1"
      },
      "execution_count": null,
      "outputs": [
        {
          "output_type": "stream",
          "name": "stdout",
          "text": [
            "{'Name': 'samad', 'gender': 'Male', 'skill': ['data science', 'Ml', 'AI'], 'age': '28', 'marks': {'python': 70, 'js': 40}, 'organization': 'institute of space'}\n"
          ]
        }
      ]
    },
    {
      "cell_type": "code",
      "source": [
        "person.update({'roll_no':32,'address':'pakistan'})\n",
        "print(person)"
      ],
      "metadata": {
        "colab": {
          "base_uri": "https://localhost:8080/"
        },
        "id": "GaxKLiskcigS",
        "outputId": "d06ea400-a702-4d0f-9065-2c0df43f54da"
      },
      "execution_count": null,
      "outputs": [
        {
          "output_type": "stream",
          "name": "stdout",
          "text": [
            "{'Name': 'samad', 'gender': 'Male', 'skill': ['data science', 'Ml', 'AI'], 'age': '28', 'marks': {'python': 70, 'js': 40}, 'organization': 'institute of space', 'roll_no': 32, 'address': 'pakistan'}\n"
          ]
        }
      ]
    },
    {
      "cell_type": "code",
      "source": [
        "person.copy()"
      ],
      "metadata": {
        "colab": {
          "base_uri": "https://localhost:8080/",
          "height": 141
        },
        "id": "SlBaBmh3c57p",
        "outputId": "33ff5995-712e-44c1-a23e-a645d69849e8"
      },
      "execution_count": null,
      "outputs": [
        {
          "output_type": "error",
          "ename": "TypeError",
          "evalue": "dict.copy() takes no arguments (1 given)",
          "traceback": [
            "\u001b[0;31m---------------------------------------------------------------------------\u001b[0m",
            "\u001b[0;31mTypeError\u001b[0m                                 Traceback (most recent call last)",
            "\u001b[0;32m<ipython-input-61-7a6bc9cd3c5f>\u001b[0m in \u001b[0;36m<cell line: 1>\u001b[0;34m()\u001b[0m\n\u001b[0;32m----> 1\u001b[0;31m \u001b[0mperson\u001b[0m\u001b[0;34m.\u001b[0m\u001b[0mcopy\u001b[0m\u001b[0;34m(\u001b[0m\u001b[0;34m'gender'\u001b[0m\u001b[0;34m)\u001b[0m\u001b[0;34m\u001b[0m\u001b[0;34m\u001b[0m\u001b[0m\n\u001b[0m",
            "\u001b[0;31mTypeError\u001b[0m: dict.copy() takes no arguments (1 given)"
          ]
        }
      ]
    },
    {
      "cell_type": "code",
      "source": [
        "sorted(person) # sorted by only keys values"
      ],
      "metadata": {
        "colab": {
          "base_uri": "https://localhost:8080/"
        },
        "id": "kAP9hDS6dOxZ",
        "outputId": "5eb9a070-123a-4f20-a61b-e5f77c00edcf"
      },
      "execution_count": null,
      "outputs": [
        {
          "output_type": "execute_result",
          "data": {
            "text/plain": [
              "['Name',\n",
              " 'address',\n",
              " 'age',\n",
              " 'gender',\n",
              " 'marks',\n",
              " 'organization',\n",
              " 'roll_no',\n",
              " 'skill']"
            ]
          },
          "metadata": {},
          "execution_count": 60
        }
      ]
    },
    {
      "cell_type": "code",
      "source": [
        "person.pop('gender') # only provide key"
      ],
      "metadata": {
        "colab": {
          "base_uri": "https://localhost:8080/",
          "height": 35
        },
        "id": "T9q8osd3exER",
        "outputId": "0ddedb7b-fb05-42fa-f7b8-c565dbebde54"
      },
      "execution_count": null,
      "outputs": [
        {
          "output_type": "execute_result",
          "data": {
            "text/plain": [
              "'Male'"
            ],
            "application/vnd.google.colaboratory.intrinsic+json": {
              "type": "string"
            }
          },
          "metadata": {},
          "execution_count": 63
        }
      ]
    },
    {
      "cell_type": "code",
      "source": [
        "person"
      ],
      "metadata": {
        "colab": {
          "base_uri": "https://localhost:8080/"
        },
        "id": "JEcHCksHe4D6",
        "outputId": "bae42ba0-b8c9-40e8-e2fe-82769ac883b7"
      },
      "execution_count": null,
      "outputs": [
        {
          "output_type": "execute_result",
          "data": {
            "text/plain": [
              "{'Name': 'samad',\n",
              " 'skill': ['data science', 'Ml', 'AI'],\n",
              " 'age': '28',\n",
              " 'marks': {'python': 70, 'js': 40},\n",
              " 'organization': 'institute of space',\n",
              " 'roll_no': 32,\n",
              " 'address': 'pakistan'}"
            ]
          },
          "metadata": {},
          "execution_count": 64
        }
      ]
    },
    {
      "cell_type": "code",
      "source": [
        "person.popitem() # last item deleted"
      ],
      "metadata": {
        "colab": {
          "base_uri": "https://localhost:8080/"
        },
        "id": "rROSqWmCfpQL",
        "outputId": "4ccce111-3b92-42e9-b657-6f02a006684b"
      },
      "execution_count": null,
      "outputs": [
        {
          "output_type": "execute_result",
          "data": {
            "text/plain": [
              "('address', 'pakistan')"
            ]
          },
          "metadata": {},
          "execution_count": 65
        }
      ]
    },
    {
      "cell_type": "code",
      "source": [
        "person"
      ],
      "metadata": {
        "colab": {
          "base_uri": "https://localhost:8080/"
        },
        "id": "QSS-tyTKfyvm",
        "outputId": "34e64a2f-8cf3-4354-f98d-9a4e99cf32f2"
      },
      "execution_count": null,
      "outputs": [
        {
          "output_type": "execute_result",
          "data": {
            "text/plain": [
              "{'Name': 'samad',\n",
              " 'skill': ['data science', 'Ml', 'AI'],\n",
              " 'age': '28',\n",
              " 'marks': {'python': 70, 'js': 40},\n",
              " 'organization': 'institute of space',\n",
              " 'roll_no': 32}"
            ]
          },
          "metadata": {},
          "execution_count": 66
        }
      ]
    },
    {
      "cell_type": "code",
      "source": [
        "person['profession']='Electrical Engineer'"
      ],
      "metadata": {
        "id": "_mgk2L5wgiNi"
      },
      "execution_count": null,
      "outputs": []
    },
    {
      "cell_type": "code",
      "source": [
        "person.del"
      ],
      "metadata": {
        "colab": {
          "base_uri": "https://localhost:8080/",
          "height": 106
        },
        "id": "Qz_YJ_wwgqO6",
        "outputId": "471d9031-75d4-4e3a-dc98-a745755a537d"
      },
      "execution_count": null,
      "outputs": [
        {
          "output_type": "error",
          "ename": "SyntaxError",
          "evalue": "invalid syntax (<ipython-input-70-5fd3c519cc68>, line 1)",
          "traceback": [
            "\u001b[0;36m  File \u001b[0;32m\"<ipython-input-70-5fd3c519cc68>\"\u001b[0;36m, line \u001b[0;32m1\u001b[0m\n\u001b[0;31m    person.del()\u001b[0m\n\u001b[0m           ^\u001b[0m\n\u001b[0;31mSyntaxError\u001b[0m\u001b[0;31m:\u001b[0m invalid syntax\n"
          ]
        }
      ]
    },
    {
      "cell_type": "code",
      "source": [
        "import math"
      ],
      "metadata": {
        "id": "dR4qvpa4kY8H"
      },
      "execution_count": null,
      "outputs": []
    },
    {
      "cell_type": "code",
      "source": [
        "math.sin(90)"
      ],
      "metadata": {
        "colab": {
          "base_uri": "https://localhost:8080/"
        },
        "id": "XNtzW6D0kfOJ",
        "outputId": "bd06708b-6e47-4349-eee5-490587d8146f"
      },
      "execution_count": null,
      "outputs": [
        {
          "output_type": "execute_result",
          "data": {
            "text/plain": [
              "0.8939966636005579"
            ]
          },
          "metadata": {},
          "execution_count": 73
        }
      ]
    },
    {
      "cell_type": "code",
      "source": [
        "math.pi"
      ],
      "metadata": {
        "colab": {
          "base_uri": "https://localhost:8080/"
        },
        "id": "0gK2kkZ2klLv",
        "outputId": "9750aac2-6446-4473-fcad-37090f3905c1"
      },
      "execution_count": null,
      "outputs": [
        {
          "output_type": "execute_result",
          "data": {
            "text/plain": [
              "3.141592653589793"
            ]
          },
          "metadata": {},
          "execution_count": 74
        }
      ]
    },
    {
      "cell_type": "code",
      "source": [
        "math.sqrt(4)"
      ],
      "metadata": {
        "colab": {
          "base_uri": "https://localhost:8080/"
        },
        "id": "5F5xEdC_knlC",
        "outputId": "fbf85b25-e5a7-4205-9fd6-cef845e93243"
      },
      "execution_count": null,
      "outputs": [
        {
          "output_type": "execute_result",
          "data": {
            "text/plain": [
              "2.0"
            ]
          },
          "metadata": {},
          "execution_count": 75
        }
      ]
    },
    {
      "cell_type": "code",
      "source": [
        "math.pow(2,2)"
      ],
      "metadata": {
        "colab": {
          "base_uri": "https://localhost:8080/"
        },
        "id": "9HtBQOxcksUO",
        "outputId": "d6ee4a05-0861-4919-bd43-7948428f3bd6"
      },
      "execution_count": null,
      "outputs": [
        {
          "output_type": "execute_result",
          "data": {
            "text/plain": [
              "4.0"
            ]
          },
          "metadata": {},
          "execution_count": 78
        }
      ]
    },
    {
      "cell_type": "code",
      "source": [
        "math.factorial(6)"
      ],
      "metadata": {
        "colab": {
          "base_uri": "https://localhost:8080/"
        },
        "id": "p7ZWEzY_k4mg",
        "outputId": "306d0837-244b-4b1c-bed6-8fec84da449d"
      },
      "execution_count": null,
      "outputs": [
        {
          "output_type": "execute_result",
          "data": {
            "text/plain": [
              "720"
            ]
          },
          "metadata": {},
          "execution_count": 79
        }
      ]
    },
    {
      "cell_type": "code",
      "source": [
        "modulefinder"
      ],
      "metadata": {
        "colab": {
          "base_uri": "https://localhost:8080/",
          "height": 141
        },
        "id": "M71PKssHk-_N",
        "outputId": "0885a5c1-caed-4c14-a604-af36ea29683b"
      },
      "execution_count": null,
      "outputs": [
        {
          "output_type": "error",
          "ename": "NameError",
          "evalue": "name 'modulefinder' is not defined",
          "traceback": [
            "\u001b[0;31m---------------------------------------------------------------------------\u001b[0m",
            "\u001b[0;31mNameError\u001b[0m                                 Traceback (most recent call last)",
            "\u001b[0;32m<ipython-input-81-2774ea9bc5f3>\u001b[0m in \u001b[0;36m<cell line: 1>\u001b[0;34m()\u001b[0m\n\u001b[0;32m----> 1\u001b[0;31m \u001b[0mmodulefinder\u001b[0m\u001b[0;34m\u001b[0m\u001b[0;34m\u001b[0m\u001b[0m\n\u001b[0m",
            "\u001b[0;31mNameError\u001b[0m: name 'modulefinder' is not defined"
          ]
        }
      ]
    },
    {
      "cell_type": "code",
      "source": [
        "import keyword\n",
        "print (dir(keyword))"
      ],
      "metadata": {
        "colab": {
          "base_uri": "https://localhost:8080/"
        },
        "id": "F6k0wiqtlRE9",
        "outputId": "60e3763f-b4d5-4907-e29e-9a1370accbd4"
      },
      "execution_count": null,
      "outputs": [
        {
          "output_type": "stream",
          "name": "stdout",
          "text": [
            "['__all__', '__builtins__', '__cached__', '__doc__', '__file__', '__loader__', '__name__', '__package__', '__spec__', 'iskeyword', 'issoftkeyword', 'kwlist', 'softkwlist']\n"
          ]
        }
      ]
    },
    {
      "cell_type": "code",
      "source": [
        "import random"
      ],
      "metadata": {
        "id": "4bmbFI4ilcuf"
      },
      "execution_count": null,
      "outputs": []
    },
    {
      "cell_type": "code",
      "source": [
        "random.randint(1,100) #call any random numbers"
      ],
      "metadata": {
        "colab": {
          "base_uri": "https://localhost:8080/"
        },
        "id": "xaetpICJlnHX",
        "outputId": "c3ae41eb-a666-4293-c0c2-8f1f3e6a900c"
      },
      "execution_count": null,
      "outputs": [
        {
          "output_type": "execute_result",
          "data": {
            "text/plain": [
              "77"
            ]
          },
          "metadata": {},
          "execution_count": 89
        }
      ]
    },
    {
      "cell_type": "code",
      "source": [
        "# practice of list\n",
        "samad_list=[1,2,3,4,5]\n",
        "print(samad_list)\n",
        "print(type(samad_list))"
      ],
      "metadata": {
        "colab": {
          "base_uri": "https://localhost:8080/"
        },
        "id": "EuaSa9TIl6ox",
        "outputId": "2f118dc8-6174-4989-a4b4-1919ac1955ad"
      },
      "execution_count": null,
      "outputs": [
        {
          "output_type": "stream",
          "name": "stdout",
          "text": [
            "[1, 2, 3, 4, 5]\n",
            "<class 'list'>\n"
          ]
        }
      ]
    },
    {
      "cell_type": "code",
      "source": [
        "samad_list2=[2,3,4,5,6,7,7]\n",
        "print(samad_list+samad_list2)"
      ],
      "metadata": {
        "colab": {
          "base_uri": "https://localhost:8080/"
        },
        "id": "cACACoZYmsOU",
        "outputId": "1e017381-29c9-4838-a5c9-7187162c8c45"
      },
      "execution_count": null,
      "outputs": [
        {
          "output_type": "stream",
          "name": "stdout",
          "text": [
            "[1, 2, 3, 4, 5, [2, 3, 4, 5, 6, 7], 2, 3, 4, 5, 6, 7, 7]\n"
          ]
        }
      ]
    },
    {
      "cell_type": "code",
      "source": [
        "samad_list.append(samad_list2)"
      ],
      "metadata": {
        "id": "QxDamC07m6NF"
      },
      "execution_count": null,
      "outputs": []
    },
    {
      "cell_type": "code",
      "source": [
        "samad_list"
      ],
      "metadata": {
        "colab": {
          "base_uri": "https://localhost:8080/"
        },
        "id": "zlAjEbKJnCMj",
        "outputId": "199ad128-42b3-48a4-d89c-8ef1377fc615"
      },
      "execution_count": null,
      "outputs": [
        {
          "output_type": "execute_result",
          "data": {
            "text/plain": [
              "[1, 2, 3, 4, 5, [2, 3, 4, 5, 6, 7], [2, 3, 4, 5, 6, 7, 7]]"
            ]
          },
          "metadata": {},
          "execution_count": 101
        }
      ]
    },
    {
      "cell_type": "code",
      "source": [
        "samad_list2.count(6)"
      ],
      "metadata": {
        "colab": {
          "base_uri": "https://localhost:8080/"
        },
        "id": "3SsfGAzTnGr9",
        "outputId": "29a2d636-bdbd-42a0-eda4-6221ada9689c"
      },
      "execution_count": null,
      "outputs": [
        {
          "output_type": "execute_result",
          "data": {
            "text/plain": [
              "1"
            ]
          },
          "metadata": {},
          "execution_count": 103
        }
      ]
    },
    {
      "cell_type": "code",
      "source": [
        "samad_list.insert(1,2)"
      ],
      "metadata": {
        "id": "aRnZLHwlnc1L"
      },
      "execution_count": null,
      "outputs": []
    },
    {
      "cell_type": "code",
      "source": [
        "samad_list"
      ],
      "metadata": {
        "colab": {
          "base_uri": "https://localhost:8080/"
        },
        "id": "FxXy28MznmgE",
        "outputId": "2704915e-babe-4627-f991-bcd72dfd2083"
      },
      "execution_count": null,
      "outputs": [
        {
          "output_type": "execute_result",
          "data": {
            "text/plain": [
              "[1, 2, 2, 3, 4, 5, [2, 3, 4, 5, 6, 7], [2, 3, 4, 5, 6, 7, 7]]"
            ]
          },
          "metadata": {},
          "execution_count": 106
        }
      ]
    },
    {
      "cell_type": "markdown",
      "source": [
        "# conditional"
      ],
      "metadata": {
        "id": "30CYqOX2ojab"
      }
    },
    {
      "cell_type": "code",
      "source": [],
      "metadata": {
        "id": "BMuilfM7oix9"
      },
      "execution_count": null,
      "outputs": []
    }
  ]
}