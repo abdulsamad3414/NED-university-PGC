{
 "cells": [
  {
   "cell_type": "code",
   "execution_count": null,
   "metadata": {
    "colab": {
     "base_uri": "https://localhost:8080/"
    },
    "id": "uWCv2CIplqLu",
    "outputId": "78cd8a2a-9343-4d5a-9030-e25e7343d039"
   },
   "outputs": [
    {
     "name": "stdout",
     "output_type": "stream",
     "text": [
      "1\n",
      "we are learning python \n",
      "2\n",
      "2\n",
      "we are learning python \n",
      "3\n",
      "3\n",
      "we are learning python \n",
      "4\n",
      "4\n",
      "we are learning python \n",
      "5\n",
      "5\n",
      "we are learning python \n",
      "6\n",
      "6\n",
      "we are learning python \n",
      "7\n",
      "7\n",
      "we are learning python \n",
      "8\n",
      "8\n",
      "we are learning python \n",
      "9\n",
      "9\n",
      "we are learning python \n",
      "10\n",
      "out of loop\n"
     ]
    }
   ],
   "source": [
    "# while (condition):\n",
    "   # body of while\n",
    "\n",
    "i=1\n",
    "while i<10:\n",
    "  print(i)\n",
    "  print('we are learning python ')\n",
    "  i+=1\n",
    "  print(i)\n",
    "print('out of loop')\n"
   ]
  },
  {
   "cell_type": "code",
   "execution_count": null,
   "metadata": {
    "colab": {
     "base_uri": "https://localhost:8080/"
    },
    "id": "8qxAfKDmoT_o",
    "outputId": "efc41b35-a1d0-4aaf-de29-a30547bf4a07"
   },
   "outputs": [
    {
     "name": "stdout",
     "output_type": "stream",
     "text": [
      "Enter your Desire Number:1\n",
      "1 * 1 = 1\n",
      "1 * 2 = 2\n",
      "1 * 3 = 3\n",
      "1 * 4 = 4\n",
      "1 * 5 = 5\n",
      "1 * 6 = 6\n",
      "1 * 7 = 7\n",
      "1 * 8 = 8\n",
      "1 * 9 = 9\n",
      "1 * 10 = 10\n"
     ]
    }
   ],
   "source": [
    "# Take a number from user and print its table\n",
    "number=int(input('Enter your Desire Number:'))\n",
    "i=1\n",
    "while i<11:\n",
    "  print(number,'*',i,'=',number*i)\n",
    "  i+=1"
   ]
  },
  {
   "cell_type": "code",
   "execution_count": null,
   "metadata": {
    "colab": {
     "base_uri": "https://localhost:8080/"
    },
    "id": "QsK2hDbOrSFX",
    "outputId": "10373325-6186-4a9b-ddd6-b671f5e10509"
   },
   "outputs": [
    {
     "name": "stdout",
     "output_type": "stream",
     "text": [
      "1\n",
      "2\n",
      "3\n",
      "4\n",
      "6\n",
      "7\n",
      "8\n",
      "9\n",
      "10\n"
     ]
    }
   ],
   "source": [
    "i = 0\n",
    "while i < 10:\n",
    "    i += 1\n",
    "    if i == 5:\n",
    "        continue  # Skip the rest of the code in this iteration if i is 5\n",
    "    elif i == 6:\n",
    "        pass  # You could add any other logic here if needed\n",
    "    print(i)"
   ]
  },
  {
   "cell_type": "code",
   "execution_count": null,
   "metadata": {
    "id": "Pj78GhFov1_a"
   },
   "outputs": [],
   "source": [
    "# conditional statements\n",
    "# while loops\n",
    "# logic gates\n",
    "# list\n",
    "# dict"
   ]
  }
 ],
 "metadata": {
  "colab": {
   "provenance": []
  },
  "kernelspec": {
   "display_name": "Python 3",
   "name": "python3"
  },
  "language_info": {
   "name": "python"
  }
 },
 "nbformat": 4,
 "nbformat_minor": 0
}
