{
 "cells": [
  {
   "cell_type": "code",
   "execution_count": 5,
   "metadata": {
    "colab": {
     "base_uri": "https://localhost:8080/"
    },
    "id": "RhdHuhoApHCE",
    "outputId": "159892c4-62ee-4f33-835c-9e9022fd0ea8"
   },
   "outputs": [
    {
     "name": "stdout",
     "output_type": "stream",
     "text": [
      "you can cast a vote becasue you are excatly 18\n",
      "i am out of this loop\n"
     ]
    }
   ],
   "source": [
    "# Conditional statement\n",
    "#if, else\n",
    "age=18\n",
    "if age>18:\n",
    "  print ('you can cast a vote')\n",
    "elif age==18:\n",
    "  print(\"you can cast a vote becasue you are excatly 18\")\n",
    "else:\n",
    "  print('you cannt cast a vote')\n",
    "print (\"i am out of this loop\")\n"
   ]
  },
  {
   "cell_type": "code",
   "execution_count": 6,
   "metadata": {
    "colab": {
     "base_uri": "https://localhost:8080/"
    },
    "id": "xlh8qS54qxBE",
    "outputId": "0b5f4d6f-2aa2-47c3-f946-194c2929a66a"
   },
   "outputs": [
    {
     "name": "stdout",
     "output_type": "stream",
     "text": [
      "you can cast a vote\n"
     ]
    }
   ],
   "source": [
    "age=int(input(\"Enter your age:\"))\n",
    "if age >18:\n",
    "  print('you can cast a vote')\n",
    "elif age==18:\n",
    "  print(\"you can be cast a vote becasue you are excatly 18 year old \")\n",
    "else:\n",
    "  print('you can not a cast vote')"
   ]
  },
  {
   "cell_type": "code",
   "execution_count": null,
   "metadata": {},
   "outputs": [
    {
     "name": "stdout",
     "output_type": "stream",
     "text": [
      "Your name is too big\n"
     ]
    }
   ],
   "source": [
    "User_name=(input('Enter your Name Please:'))   # in this string comparision must be with string and integer comparision must be with int due to which we didnt use int function here\n",
    "name_length=len(User_name)\n",
    "if name_length>8:\n",
    "    print('Your name is too big')\n",
    "elif name_length<8:\n",
    "    print('your name length is too small')\n",
    "else:\n",
    "    print('Your name is moderate')\n",
    "\n"
   ]
  },
  {
   "cell_type": "code",
   "execution_count": 26,
   "metadata": {},
   "outputs": [
    {
     "name": "stdout",
     "output_type": "stream",
     "text": [
      "Your third number is larger than the others  4\n"
     ]
    }
   ],
   "source": [
    "# print a larger number \n",
    "number1=int(input(\"Enter any number here:\"))\n",
    "number2=int(input('Enter any number here:'))\n",
    "number3=int(input('Enter any number here:'))\n",
    "if number1>number2 and number1>number3:\n",
    "    print('Your number one is greter than the others',number1)\n",
    "elif number2>number1 & number2>number3:\n",
    "    print('Your second number is larger than the others ',number2)\n",
    "else:\n",
    "    print('Your third number is larger than the others ',number3)"
   ]
  },
  {
   "cell_type": "code",
   "execution_count": 1,
   "metadata": {},
   "outputs": [
    {
     "name": "stdout",
     "output_type": "stream",
     "text": [
      "The Positive Number\n"
     ]
    }
   ],
   "source": [
    "number=int(input('Enter the number here:'))\n",
    "if number>0:\n",
    "    print('The Positive Number')\n",
    "elif number==0:\n",
    "    print('The number is zero')\n",
    "else:\n",
    "    print('The number is negative')"
   ]
  },
  {
   "cell_type": "code",
   "execution_count": 4,
   "metadata": {},
   "outputs": [
    {
     "name": "stdout",
     "output_type": "stream",
     "text": [
      "please enter a valid number\n"
     ]
    }
   ],
   "source": [
    "user_input=input('Enter the number here:')\n",
    "if user_input.replace('.' ,'').replace('+' ,'').replace('-' ,'').isdigit():\n",
    "\n",
    "# Check if input is a digit\n",
    "    number=float(user_input)\n",
    "    if number>0:\n",
    "      print('The number is Positive Number')\n",
    "    elif number==0:\n",
    "      print('The number is zero')\n",
    "    else:\n",
    "      print('The number is negative')\n",
    "else:\n",
    " print('please enter a valid number')"
   ]
  },
  {
   "cell_type": "code",
   "execution_count": null,
   "metadata": {},
   "outputs": [],
   "source": []
  }
 ],
 "metadata": {
  "colab": {
   "provenance": []
  },
  "kernelspec": {
   "display_name": "Python 3",
   "name": "python3"
  },
  "language_info": {
   "codemirror_mode": {
    "name": "ipython",
    "version": 3
   },
   "file_extension": ".py",
   "mimetype": "text/x-python",
   "name": "python",
   "nbconvert_exporter": "python",
   "pygments_lexer": "ipython3",
   "version": "3.13.0"
  }
 },
 "nbformat": 4,
 "nbformat_minor": 0
}
