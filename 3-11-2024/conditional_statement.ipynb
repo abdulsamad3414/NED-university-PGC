{
 "cells": [
  {
   "cell_type": "code",
   "execution_count": 4,
   "metadata": {
    "colab": {
     "base_uri": "https://localhost:8080/"
    },
    "id": "RhdHuhoApHCE",
    "outputId": "159892c4-62ee-4f33-835c-9e9022fd0ea8"
   },
   "outputs": [
    {
     "name": "stdout",
     "output_type": "stream",
     "text": [
      "you can cast a vote becasue you are excatly 18\n",
      "i am out of this loop\n"
     ]
    }
   ],
   "source": [
    "# Conditional statement\n",
    "#if, else\n",
    "age=18\n",
    "if age>18:\n",
    "  print ('you can cast a vote')\n",
    "elif age==18:\n",
    "  print(\"you can cast a vote becasue you are excatly 18\")\n",
    "else:\n",
    "  print('you cannt cast a vote')\n",
    "print (\"i am out of this loop\")\n"
   ]
  },
  {
   "cell_type": "code",
   "execution_count": 5,
   "metadata": {
    "colab": {
     "base_uri": "https://localhost:8080/"
    },
    "id": "xlh8qS54qxBE",
    "outputId": "0b5f4d6f-2aa2-47c3-f946-194c2929a66a"
   },
   "outputs": [
    {
     "name": "stdout",
     "output_type": "stream",
     "text": [
      "you can cast a vote\n"
     ]
    }
   ],
   "source": [
    "age=int(input(\"Enter your age:\"))\n",
    "if age >18:\n",
    "  print('you can cast a vote')\n",
    "elif age==18:\n",
    "  print(\"you can be cast a vote becasue you are excatly 18 year old \")\n",
    "else:\n",
    "  print('you can not a cast vote')"
   ]
  },
  {
   "cell_type": "code",
   "execution_count": 6,
   "metadata": {},
   "outputs": [
    {
     "name": "stdout",
     "output_type": "stream",
     "text": [
      "your name length is too small\n"
     ]
    }
   ],
   "source": [
    "User_name=(input('Enter your Name Please:'))   # in this string comparision must be with string and integer comparision must be with int due to which we didnt use int function here\n",
    "name_length=len(User_name)\n",
    "if name_length>8:\n",
    "    print('Your name is too big')\n",
    "elif name_length<8:\n",
    "    print('your name length is too small')\n",
    "else:\n",
    "    print('Your name is moderate')\n",
    "\n"
   ]
  },
  {
   "cell_type": "code",
   "execution_count": 7,
   "metadata": {},
   "outputs": [
    {
     "name": "stdout",
     "output_type": "stream",
     "text": [
      "Your third number is larger than the others  23\n"
     ]
    }
   ],
   "source": [
    "# print a larger number \n",
    "number1=int(input(\"Enter any number here:\"))\n",
    "number2=int(input('Enter any number here:'))\n",
    "number3=int(input('Enter any number here:'))\n",
    "if number1>number2 and number1>number3:\n",
    "    print('Your number one is greter than the others',number1)\n",
    "elif number2>number1 & number2>number3:\n",
    "    print('Your second number is larger than the others ',number2)\n",
    "else:\n",
    "    print('Your third number is larger than the others ',number3)"
   ]
  },
  {
   "cell_type": "code",
   "execution_count": 8,
   "metadata": {},
   "outputs": [
    {
     "name": "stdout",
     "output_type": "stream",
     "text": [
      "The Positive Number\n"
     ]
    }
   ],
   "source": [
    "number=int(input('Enter the number here:'))\n",
    "if number>0:\n",
    "    print('The Positive Number')\n",
    "elif number==0:\n",
    "    print('The number is zero')\n",
    "else:\n",
    "    print('The number is negative')"
   ]
  },
  {
   "cell_type": "code",
   "execution_count": 9,
   "metadata": {},
   "outputs": [
    {
     "name": "stdout",
     "output_type": "stream",
     "text": [
      "The number is Positive Number\n"
     ]
    }
   ],
   "source": [
    "user_input=input('Enter the number here:')\n",
    "if user_input.replace('.' ,'').replace('+' ,'').replace('-' ,'').isdigit():\n",
    "\n",
    "# Check if input is a digit\n",
    "    number=float(user_input)\n",
    "    if number>0:\n",
    "      print('The number is Positive Number')\n",
    "    elif number==0:\n",
    "      print('The number is zero')\n",
    "    else:\n",
    "      print('The number is negative')\n",
    "else:\n",
    " print('please enter a valid number')"
   ]
  },
  {
   "cell_type": "markdown",
   "metadata": {},
   "source": [
    "# Write a program of Authentication username and password using Python must be correct \n",
    "\n",
    "1. username=abc@gmail.com\n",
    "2. password=12345"
   ]
  },
  {
   "cell_type": "code",
   "execution_count": 10,
   "metadata": {},
   "outputs": [
    {
     "name": "stdout",
     "output_type": "stream",
     "text": [
      "Login Failed\n"
     ]
    }
   ],
   "source": [
    "username=input('Enter a username here:')\n",
    "password=int(input('Enter a password here:'))\n",
    "if username=='abc@gmail.com' and password==12345:  # Password should be integer because we used int() function in password user defined \n",
    "    print('Login Success')\n",
    "else:\n",
    "    print('Login Failed')"
   ]
  },
  {
   "cell_type": "code",
   "execution_count": 11,
   "metadata": {},
   "outputs": [
    {
     "name": "stdout",
     "output_type": "stream",
     "text": [
      "Enter Correct Credentials.\n"
     ]
    }
   ],
   "source": [
    "username = input('Enter a username here: ')  # Fixed prompt formatting\n",
    "password = input('Enter password: ')  # Added a colon \":\" for consistency\n",
    "if username == 'a' and password == '2':\n",
    "    print('Login Success')\n",
    "elif username == 'a' and password != '2':\n",
    "    print('Password is incorrect. Re-enter your password.')  # Fixed typo and capitalization\n",
    "    password = input('Enter the password again: ')  # Added a space after \":\" and fixed formatting\n",
    "    if password == '2':\n",
    "        print('Now Welcome after one attempt')\n",
    "    else:\n",
    "        print('Your password is incorrect.')  # Fixed capitalization\n",
    "else:\n",
    "    print('Enter Correct Credentials.')"
   ]
  },
  {
   "cell_type": "code",
   "execution_count": 2,
   "metadata": {},
   "outputs": [
    {
     "name": "stdout",
     "output_type": "stream",
     "text": [
      "your Password is Incorrecr please Enter a Valid Password\n",
      "Sorry,Your password is incorrect\n"
     ]
    }
   ],
   "source": [
    "username1=input('Enter a Username here:')\n",
    "if 'b' in username1:\n",
    "  password1=input('Enter a password here:')\n",
    "  if username1=='ab' and password1=='12':\n",
    "    print('Login Sucessfully')\n",
    "  elif username1=='ab' and password1!='12':\n",
    "    print('your Password is Incorrecr please Enter a Valid Password')\n",
    "    password1=input('Re-Enter the password here: ')\n",
    "    if password1=='12':\n",
    "        print('welcome,login sucessfully')\n",
    "    else:\n",
    "       print('Sorry,Your password is incorrect')\n",
    "else:\n",
    "    print('Enter a valid Credentail')"
   ]
  },
  {
   "cell_type": "code",
   "execution_count": null,
   "metadata": {},
   "outputs": [
    {
     "name": "stdout",
     "output_type": "stream",
     "text": [
      "Invalid Username. Please try again.\n",
      "Invalid Username. Login failed.\n"
     ]
    }
   ],
   "source": [
    "username1 = input('Enter a Username here: ')\n",
    "password1 = input('Enter a Password here: ')\n",
    "\n",
    "if username1 == 'ab' and password1 == '12':\n",
    "    print('Login Successfully')\n",
    "else:\n",
    "    if username1 != 'ab': \n",
    "        print('Invalid Username. Please try again.')\n",
    "        username1 = input('Re-enter Username: ')\n",
    "    \n",
    "    if username1 == 'ab':  # Username is correct\n",
    "        print('Welcome! Now, please enter the password.')  # Added welcome message\n",
    "        password1 = input('Re-enter Password: ')\n",
    "        \n",
    "        if password1 == '12':  # Password is correct\n",
    "            print('Login Successfully')\n",
    "        else:\n",
    "            print('Incorrect Password. Login failed.')\n",
    "    else:\n",
    "        print('Invalid Username. Login failed.')\n"
   ]
  },
  {
   "cell_type": "markdown",
   "metadata": {},
   "source": [
    "# Electric unit calculation in Electricity bills\n"
   ]
  },
  {
   "cell_type": "code",
   "execution_count": 16,
   "metadata": {},
   "outputs": [
    {
     "name": "stdout",
     "output_type": "stream",
     "text": [
      "31950\n"
     ]
    }
   ],
   "source": [
    "No_of_units=int(input('Enter a Electric unit Please:'))\n",
    "if No_of_units<150:\n",
    "    cost_of_perunit=15\n",
    "    fix_charges=250\n",
    "    total_cost_of_less_than_150_units=fix_charges+(No_of_units*cost_of_perunit)\n",
    "    print(total_cost_of_less_than_150_units)\n",
    "elif No_of_units>150 and No_of_units<250:\n",
    "    cost_of_perunit=25\n",
    "    fix_charges=350\n",
    "    total_cost_of_greter_than_150_and_less_then_250_units= fix_charges+(No_of_units*cost_of_perunit)\n",
    "    print(total_cost_of_greter_than_150_and_less_then_250_units)\n",
    "elif No_of_units>250 and No_of_units<350:\n",
    "    cost_of_perunit=35\n",
    "    fix_charges=450\n",
    "    total_cost_of_greter_than_250_and_less_then_350_units= fix_charges+(No_of_units*cost_of_perunit)\n",
    "    print(total_cost_of_greter_than_250_and_less_then_350_units)\n",
    "else:\n",
    "\n",
    "    No_of_units>350\n",
    "    cost_of_perunit=45\n",
    "    fix_charges=450\n",
    "    total_cost_of_greter_than_350_units =fix_charges+(No_of_units*cost_of_perunit)\n",
    "    print(total_cost_of_greter_than_350_units)\n"
   ]
  },
  {
   "cell_type": "markdown",
   "metadata": {},
   "source": [
    "# Menu Driven Program"
   ]
  },
  {
   "cell_type": "code",
   "execution_count": 24,
   "metadata": {},
   "outputs": [],
   "source": [
    "import math\n",
    "option=input('''\n",
    "1-Addition\n",
    "2-Subtraction\n",
    "3-Multiplication\n",
    "4-Division\n",
    "5-Exponentiation\n",
    "6-factorial\n",
    "7-squareroot''')\n",
    "if option in ['1', '2', '3', '4', '5']:\n",
    " Num1=float(input('Enter the first Number'))\n",
    " Num2=float(input('Enter the second Number'))\n",
    " if option =='1':\n",
    "    print('The sum of two numbers are ',Num1+Num2)\n",
    " elif option =='2':\n",
    "    print('The difference of two numbers are ',Num1-Num2)\n",
    " elif option =='3':\n",
    "    print('The product of two numbers are ',Num1*Num2)\n",
    " elif option =='4':\n",
    "     if Num2!=0:\n",
    "        print('The division of two numbers are ',Num1/Num2)\n",
    "     else:\n",
    "        print('Error! Division by zero is not allowed')\n",
    " elif option =='5':\n",
    "    print('The exponentiation of two numbers are ',Num1**Num2)\n",
    " elif option =='6':\n",
    "    num=float(input('Enter any number here:'))\n",
    "    if num>=0:\n",
    "        print('Factorial of',num,'is',math.factorial(num))\n",
    "    else:\n",
    "        print('Error! Factorial is not defined for negative numbers')\n",
    " else:\n",
    "        print('Error! Square root is not defined for negative numbers')"
   ]
  },
  {
   "cell_type": "code",
   "execution_count": 18,
   "metadata": {},
   "outputs": [
    {
     "name": "stdout",
     "output_type": "stream",
     "text": [
      "Error! Factorial is only defined for non-negative integers.\n"
     ]
    }
   ],
   "source": [
    "import math\n",
    "\n",
    "option = input('''\n",
    "Choose an operation:\n",
    "1 - Addition\n",
    "2 - Subtraction\n",
    "3 - Multiplication\n",
    "4 - Division\n",
    "5 - Exponentiation\n",
    "6 - Factorial\n",
    "7 - Square Root\n",
    "Enter your choice: ''')\n",
    "\n",
    "if option in ['1', '2', '3', '4', '5']:\n",
    "    Num1 = float(input('Enter the first number: '))\n",
    "    Num2 = float(input('Enter the second number: '))\n",
    "    if option == '1':\n",
    "        print('The sum of the two numbers is:', Num1 + Num2)\n",
    "    elif option == '2':\n",
    "        print('The difference of the two numbers is:', Num1 - Num2)\n",
    "    elif option == '3':\n",
    "        print('The product of the two numbers is:', Num1 * Num2)\n",
    "    elif option == '4':\n",
    "        if Num2 != 0:\n",
    "            print('The division of the two numbers is:', Num1 / Num2)\n",
    "        else:\n",
    "            print('Error! Division by zero is not allowed.')\n",
    "    elif option == '5':\n",
    "        print('The exponentiation of the two numbers is:', Num1 ** Num2)\n",
    "\n",
    "elif option == '6':\n",
    "    Num = float(input('Enter a number: '))\n",
    "    if Num >= 0 :\n",
    "        print('The factorial of the number is:', math.factorial(int(Num)))\n",
    "    else:\n",
    "        print('Error! Factorial is only defined for non-negative integers.')\n",
    "\n",
    "elif option == '7':\n",
    "    Num = float(input('Enter a number: '))\n",
    "    if Num >= 0:\n",
    "        print('The square root of the number is:', math.sqrt(Num))\n",
    "    else:\n",
    "        print('Error! Square root is not defined for negative numbers.')\n",
    "\n",
    "else:\n",
    "    print('Invalid option! Please choose a valid operation.')\n"
   ]
  }
 ],
 "metadata": {
  "colab": {
   "provenance": []
  },
  "kernelspec": {
   "display_name": "Python 3",
   "name": "python3"
  },
  "language_info": {
   "codemirror_mode": {
    "name": "ipython",
    "version": 3
   },
   "file_extension": ".py",
   "mimetype": "text/x-python",
   "name": "python",
   "nbconvert_exporter": "python",
   "pygments_lexer": "ipython3",
   "version": "3.13.0"
  }
 },
 "nbformat": 4,
 "nbformat_minor": 0
}
