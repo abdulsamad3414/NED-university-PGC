{
 "cells": [
  {
   "cell_type": "markdown",
   "metadata": {},
   "source": [
    "# SETS\n",
    "\n",
    "1. A set is an unordered collection ((3,2,1)<==== the answer will be random some time appear 2,3,1 and sometime 1,2,3)\n",
    "2. Unique and no duplicate allowed in set.\n",
    "3. Must be immutable (cannot be changed) like a tuble \n",
    "4. A set itself mutable (we can add and remove items from it)\n",
    "5. Representation of set is in curly brackets {} or using set() function."
   ]
  },
  {
   "cell_type": "code",
   "execution_count": 75,
   "metadata": {},
   "outputs": [
    {
     "name": "stdout",
     "output_type": "stream",
     "text": [
      "<class 'tuple'>\n",
      "<class 'dict'>\n",
      "<class 'set'>\n",
      "<class 'set'>\n"
     ]
    }
   ],
   "source": [
    "S=()\n",
    "s={} # empty bracket is also called a dictionary\n",
    "p=set() # this set is empty\n",
    "p1={1,2,3} # this is set with 3 elements because elements present in it\n",
    "print(type(S))\n",
    "print(type(s))\n",
    "print(type(p))\n",
    "print(type(p1))"
   ]
  },
  {
   "cell_type": "code",
   "execution_count": 76,
   "metadata": {},
   "outputs": [
    {
     "name": "stdout",
     "output_type": "stream",
     "text": [
      "{2, 3, 5, 6}\n"
     ]
    }
   ],
   "source": [
    "s={5,6,3,2,2} # jis sequece ma elements ko declear karaingay us order ma nea milaygain or no duplicate values \n",
    "print(s)"
   ]
  },
  {
   "cell_type": "code",
   "execution_count": 77,
   "metadata": {},
   "outputs": [
    {
     "name": "stdout",
     "output_type": "stream",
     "text": [
      "{1, 2, 3, 5}\n",
      "{1, 2, 4, 5, 8, (1, 2, 6, 3)}\n"
     ]
    }
   ],
   "source": [
    "s={2,5,1,3}\n",
    "print(s)\n",
    "# s={2,5,1,3,{1,2,34,4}} # means mutable type is not allowed in set the think is that set is mutable type due to which not allowed \n",
    "# print(s)\n",
    "# slist={2,3,4,5,6,7,[1,2,3,4,5]} # in this we pass list in set but list is mutable type is not allowed in set the think is that set is mutable type due to which not allowed\n",
    "# print(slist)\n",
    "s1={2,4,5,8,1,(1,2,6,3)} # in this we pass tuple in set and tuple is immutable type is allowed in set\n",
    "print(s1)\n"
   ]
  },
  {
   "cell_type": "code",
   "execution_count": 78,
   "metadata": {},
   "outputs": [
    {
     "name": "stdout",
     "output_type": "stream",
     "text": [
      "{False, 'samad', 12.4}\n",
      "{False, True, 'samad', 12.4}\n"
     ]
    }
   ],
   "source": [
    "s={'samad',12.4,False,0}  # is this case 0 and false equal 1 and true are equal and it pass only a one time in set becasue no duplicate allowed in this data type\n",
    "print(s)\n",
    "s={'samad',12.4,False,0,True,1,1} # no duplicate allowed in this data type\n",
    "print(s)"
   ]
  },
  {
   "cell_type": "code",
   "execution_count": 79,
   "metadata": {},
   "outputs": [
    {
     "name": "stdout",
     "output_type": "stream",
     "text": [
      "{'mango', 'apple'}\n",
      "<class 'set'>\n"
     ]
    }
   ],
   "source": [
    "fruits=['apple','mango'] #this is convert into set caled type casting \n",
    "fruits=set(['apple','mango']) # here type casting is done list converted into set just rewrite set()\n",
    "print(fruits)\n",
    "print(type(fruits))"
   ]
  },
  {
   "cell_type": "code",
   "execution_count": 80,
   "metadata": {},
   "outputs": [
    {
     "data": {
      "text/plain": [
       "True"
      ]
     },
     "execution_count": 80,
     "metadata": {},
     "output_type": "execute_result"
    }
   ],
   "source": [
    "s1={1,2,3,4} # same elements i mean must be equal to another set because no sequence matter in set \n",
    "s2={3,2,1,4}\n",
    "s1==s2"
   ]
  },
  {
   "cell_type": "code",
   "execution_count": 81,
   "metadata": {},
   "outputs": [
    {
     "data": {
      "text/plain": [
       "False"
      ]
     },
     "execution_count": 81,
     "metadata": {},
     "output_type": "execute_result"
    }
   ],
   "source": [
    "s1={1,3,5,7,6}\n",
    "s2={2,4,6,7,8}\n",
    "s1==s2"
   ]
  },
  {
   "cell_type": "code",
   "execution_count": 82,
   "metadata": {},
   "outputs": [
    {
     "ename": "TypeError",
     "evalue": "'set' object is not subscriptable",
     "output_type": "error",
     "traceback": [
      "\u001b[1;31m---------------------------------------------------------------------------\u001b[0m",
      "\u001b[1;31mTypeError\u001b[0m                                 Traceback (most recent call last)",
      "Cell \u001b[1;32mIn[82], line 2\u001b[0m\n\u001b[0;32m      1\u001b[0m \u001b[38;5;66;03m# #Accessing \u001b[39;00m\n\u001b[1;32m----> 2\u001b[0m \u001b[38;5;28mprint\u001b[39m(\u001b[43ms1\u001b[49m\u001b[43m[\u001b[49m\u001b[38;5;241;43m0\u001b[39;49m\u001b[43m]\u001b[49m) \u001b[38;5;66;03m# this is unordered collection so we can't access by index\u001b[39;00m\n",
      "\u001b[1;31mTypeError\u001b[0m: 'set' object is not subscriptable"
     ]
    }
   ],
   "source": [
    "# #Accessing \n",
    "print(s1[0]) # this is unordered collection so we can't access by index"
   ]
  },
  {
   "cell_type": "code",
   "execution_count": null,
   "metadata": {},
   "outputs": [
    {
     "ename": "TypeError",
     "evalue": "'set' object does not support item assignment",
     "output_type": "error",
     "traceback": [
      "\u001b[1;31m---------------------------------------------------------------------------\u001b[0m",
      "\u001b[1;31mTypeError\u001b[0m                                 Traceback (most recent call last)",
      "Cell \u001b[1;32mIn[24], line 1\u001b[0m\n\u001b[1;32m----> 1\u001b[0m \u001b[43ms\u001b[49m\u001b[43m[\u001b[49m\u001b[38;5;241;43m0\u001b[39;49m\u001b[43m]\u001b[49m\u001b[38;5;241m=\u001b[39m\u001b[38;5;124m'\u001b[39m\u001b[38;5;124mbanana\u001b[39m\u001b[38;5;124m'\u001b[39m\n\u001b[0;32m      2\u001b[0m \u001b[38;5;28mprint\u001b[39m(s)\n",
      "\u001b[1;31mTypeError\u001b[0m: 'set' object does not support item assignment"
     ]
    }
   ],
   "source": [
    "s[0]='banana'  # no support for slicing indxing \n",
    "print(s)"
   ]
  },
  {
   "cell_type": "code",
   "execution_count": null,
   "metadata": {},
   "outputs": [
    {
     "name": "stdout",
     "output_type": "stream",
     "text": [
      "{1, 2, 3, 4, 5}\n"
     ]
    }
   ],
   "source": [
    "s={1,2,3,4}\n",
    "s.add(5)\n",
    "print(s)"
   ]
  },
  {
   "cell_type": "code",
   "execution_count": null,
   "metadata": {},
   "outputs": [
    {
     "ename": "TypeError",
     "evalue": "set.add() takes exactly one argument (2 given)",
     "output_type": "error",
     "traceback": [
      "\u001b[1;31m---------------------------------------------------------------------------\u001b[0m",
      "\u001b[1;31mTypeError\u001b[0m                                 Traceback (most recent call last)",
      "Cell \u001b[1;32mIn[26], line 2\u001b[0m\n\u001b[0;32m      1\u001b[0m s\u001b[38;5;241m=\u001b[39m{\u001b[38;5;241m1\u001b[39m,\u001b[38;5;241m2\u001b[39m,\u001b[38;5;241m7\u001b[39m,\u001b[38;5;241m5\u001b[39m,\u001b[38;5;241m4\u001b[39m}\n\u001b[1;32m----> 2\u001b[0m \u001b[43ms\u001b[49m\u001b[38;5;241;43m.\u001b[39;49m\u001b[43madd\u001b[49m\u001b[43m(\u001b[49m\u001b[38;5;241;43m1\u001b[39;49m\u001b[43m,\u001b[49m\u001b[38;5;241;43m4\u001b[39;49m\u001b[43m)\u001b[49m\n\u001b[0;32m      3\u001b[0m \u001b[38;5;28mprint\u001b[39m(s)\n",
      "\u001b[1;31mTypeError\u001b[0m: set.add() takes exactly one argument (2 given)"
     ]
    }
   ],
   "source": [
    "s={1,2,7,5,4}\n",
    "s.add(1,4) # only take one argummnet only \n",
    "print(s)"
   ]
  },
  {
   "cell_type": "code",
   "execution_count": null,
   "metadata": {},
   "outputs": [
    {
     "name": "stdout",
     "output_type": "stream",
     "text": [
      "{2, 3, 4, 5, 6, 10}\n",
      "<class 'set'>\n"
     ]
    }
   ],
   "source": [
    "s.add(6)\n",
    "# print(s)\n",
    "s.update([2,3,4,5,6,10]) \n",
    "print(s)\n",
    "print(type(s))"
   ]
  },
  {
   "cell_type": "code",
   "execution_count": null,
   "metadata": {},
   "outputs": [
    {
     "name": "stdout",
     "output_type": "stream",
     "text": [
      "{'imran khan'}\n",
      "{'i', 'n', 'a', 'r', 'h', ' ', 'm', 'k', 'imran khan'}\n"
     ]
    }
   ],
   "source": [
    "s.update(['imran khan']) # pass in list of strings and print well due to immutable or indexing allowing in list\n",
    "print(s)\n",
    "s.update('imran khan')  # output will be random because no indexing follow \n",
    "print(s)"
   ]
  },
  {
   "cell_type": "code",
   "execution_count": null,
   "metadata": {},
   "outputs": [
    {
     "data": {
      "text/plain": [
       "'i'"
      ]
     },
     "execution_count": 37,
     "metadata": {},
     "output_type": "execute_result"
    }
   ],
   "source": [
    "# pop() any random number in above list\n",
    "s.pop()"
   ]
  },
  {
   "cell_type": "code",
   "execution_count": null,
   "metadata": {},
   "outputs": [
    {
     "name": "stdout",
     "output_type": "stream",
     "text": [
      "{'n', 'a', 'r', ' ', 'm', 'k', 'imran khan'}\n"
     ]
    }
   ],
   "source": [
    "# Remove the specipic letter or number from the string\n",
    "s.remove('h')\n",
    "print(s)"
   ]
  },
  {
   "cell_type": "code",
   "execution_count": null,
   "metadata": {},
   "outputs": [
    {
     "name": "stdout",
     "output_type": "stream",
     "text": [
      "{'n', 'a', 'r', ' ', 'm', 'imran khan'}\n"
     ]
    }
   ],
   "source": [
    "# Discard function use in set only not dictionary and tuple \n",
    "s.discard('k')\n",
    "print(s)"
   ]
  },
  {
   "cell_type": "code",
   "execution_count": null,
   "metadata": {},
   "outputs": [
    {
     "ename": "NameError",
     "evalue": "name 's' is not defined",
     "output_type": "error",
     "traceback": [
      "\u001b[1;31m---------------------------------------------------------------------------\u001b[0m",
      "\u001b[1;31mNameError\u001b[0m                                 Traceback (most recent call last)",
      "Cell \u001b[1;32mIn[42], line 2\u001b[0m\n\u001b[0;32m      1\u001b[0m \u001b[38;5;66;03m# delete all things\u001b[39;00m\n\u001b[1;32m----> 2\u001b[0m \u001b[38;5;28;01mdel\u001b[39;00m \u001b[43ms\u001b[49m\n",
      "\u001b[1;31mNameError\u001b[0m: name 's' is not defined"
     ]
    }
   ],
   "source": [
    "# delete all things\n",
    "del s    # Remove all elements and set"
   ]
  },
  {
   "cell_type": "code",
   "execution_count": 83,
   "metadata": {},
   "outputs": [
    {
     "name": "stdout",
     "output_type": "stream",
     "text": [
      "{False, True, 'samad', 12.4}\n"
     ]
    }
   ],
   "source": [
    "print(s)"
   ]
  },
  {
   "cell_type": "code",
   "execution_count": 85,
   "metadata": {},
   "outputs": [
    {
     "data": {
      "text/plain": [
       "{2, 3, 4, 5, 6, 10, 12, 13}"
      ]
     },
     "execution_count": 85,
     "metadata": {},
     "output_type": "execute_result"
    }
   ],
   "source": [
    "#opeartion in set \n",
    "#union (/)\n",
    "s3={2,3,4,5,6}\n",
    "s4={3,4,5,10,12,13}\n",
    "s3.union(s4)\n"
   ]
  },
  {
   "cell_type": "code",
   "execution_count": 86,
   "metadata": {},
   "outputs": [
    {
     "name": "stdout",
     "output_type": "stream",
     "text": [
      "{3, 4, 5}\n"
     ]
    }
   ],
   "source": [
    "# intersection (&)\n",
    "print(s3&s4)"
   ]
  },
  {
   "cell_type": "code",
   "execution_count": 87,
   "metadata": {},
   "outputs": [
    {
     "name": "stdout",
     "output_type": "stream",
     "text": [
      "{2, 6}\n",
      "{10, 12, 13}\n"
     ]
    }
   ],
   "source": [
    "#Difference\n",
    "print(s3-s4)\n",
    "print(s4-s3)"
   ]
  },
  {
   "cell_type": "code",
   "execution_count": null,
   "metadata": {},
   "outputs": [
    {
     "name": "stdout",
     "output_type": "stream",
     "text": [
      "{2, 6, 10, 12, 13}\n",
      "{2, 6, 10, 12, 13}\n"
     ]
    }
   ],
   "source": [
    "#symmetric Diffrence (^) this is delta \n",
    "print (s3^s4)\n",
    "print(s4^s3)"
   ]
  },
  {
   "cell_type": "code",
   "execution_count": null,
   "metadata": {},
   "outputs": [
    {
     "name": "stdout",
     "output_type": "stream",
     "text": [
      "{2, 3, 5, 6}\n"
     ]
    }
   ],
   "source": [
    "s3.discard(4)\n",
    "print(s3)"
   ]
  },
  {
   "cell_type": "markdown",
   "metadata": {},
   "source": [
    "# Membership operator in set \n"
   ]
  },
  {
   "cell_type": "code",
   "execution_count": null,
   "metadata": {},
   "outputs": [
    {
     "data": {
      "text/plain": [
       "False"
      ]
     },
     "execution_count": 90,
     "metadata": {},
     "output_type": "execute_result"
    }
   ],
   "source": [
    "# 2 in s3\n",
    "64 in s3 # not present in it "
   ]
  },
  {
   "cell_type": "code",
   "execution_count": 94,
   "metadata": {},
   "outputs": [
    {
     "name": "stdout",
     "output_type": "stream",
     "text": [
      "[6, 5, 4, 3, 2]\n",
      "5\n",
      "20\n",
      "2\n",
      "6\n",
      "[3, 4, 5, 10, 12, 13]\n"
     ]
    }
   ],
   "source": [
    "print(sorted(s3,reverse=True))\n",
    "print(len(s3))\n",
    "print(sum(s3))\n",
    "print(min(s3))\n",
    "print(max(s3))\n",
    "print(sorted(s4,reverse=False)) \n",
    "# print(sorted()) #in this value must be pass in it "
   ]
  },
  {
   "cell_type": "code",
   "execution_count": 102,
   "metadata": {},
   "outputs": [
    {
     "name": "stdout",
     "output_type": "stream",
     "text": [
      "{1, 2, 34, 3, 4, 5, 7, 8, 9, 56, 89}\n",
      "{1, 2, 3, 4, 5, 7, 8, 9, 89, 34, 56}\n",
      "{1, 2, 34, 3, 4, 5, 7, 8, 9, 56, 89}\n",
      "{1, 2, 3, 4, 5, 7, 8, 9, 89, 34, 56}\n"
     ]
    }
   ],
   "source": [
    "#union and update both are same results\n",
    "\n",
    "S1={1,2,34,56,7,89}\n",
    "S2={8,3,4,5,7,8,9}\n",
    "S1.update(S2)\n",
    "print(S1)\n",
    "S2.update(S1)\n",
    "print(S2)\n",
    "S1.union(S2)\n",
    "print(S1)\n",
    "S2.union(S1)\n",
    "print(S2)"
   ]
  },
  {
   "cell_type": "code",
   "execution_count": 108,
   "metadata": {},
   "outputs": [
    {
     "data": {
      "text/plain": [
       "False"
      ]
     },
     "execution_count": 108,
     "metadata": {},
     "output_type": "execute_result"
    }
   ],
   "source": [
    "# isdisjoint set / issubset/issuperset\n",
    "# S1.isdisjoint(S2)   # if any single element of S1 and S2 are same so it will not be disjoint set\n",
    "S1={1,2,34,56,7}\n",
    "S2={8,3,4}\n",
    "S1.issubset(S2)\n",
    "S2.issubset(S1)"
   ]
  },
  {
   "cell_type": "code",
   "execution_count": 111,
   "metadata": {},
   "outputs": [
    {
     "data": {
      "text/plain": [
       "True"
      ]
     },
     "execution_count": 111,
     "metadata": {},
     "output_type": "execute_result"
    }
   ],
   "source": [
    "S={1,2,3}\n",
    "SS={2,3}\n",
    "S.issubset(SS)\n",
    "SS.issubset(S)\n",
    "S.issuperset(SS)"
   ]
  },
  {
   "cell_type": "markdown",
   "metadata": {},
   "source": [
    "# Frozen Set: is the speacial type of set which are immutable of nature\n",
    "1. It will work like a tuple in python\n",
    "2. All read functions will works \n",
    "3. Write operation doesnt work like add remove update "
   ]
  },
  {
   "cell_type": "code",
   "execution_count": null,
   "metadata": {},
   "outputs": [
    {
     "ename": "AttributeError",
     "evalue": "'frozenset' object has no attribute 'add'",
     "output_type": "error",
     "traceback": [
      "\u001b[1;31m---------------------------------------------------------------------------\u001b[0m",
      "\u001b[1;31mAttributeError\u001b[0m                            Traceback (most recent call last)",
      "Cell \u001b[1;32mIn[113], line 6\u001b[0m\n\u001b[0;32m      4\u001b[0m fs2\u001b[38;5;241m=\u001b[39m\u001b[38;5;28mfrozenset\u001b[39m([\u001b[38;5;241m2\u001b[39m,\u001b[38;5;241m3\u001b[39m,\u001b[38;5;241m4\u001b[39m,\u001b[38;5;241m5\u001b[39m])\n\u001b[0;32m      5\u001b[0m fs1\u001b[38;5;241m|\u001b[39mfs2     \u001b[38;5;66;03m# in this type of set we cannt change because this is immutable\u001b[39;00m\n\u001b[1;32m----> 6\u001b[0m \u001b[43mfs1\u001b[49m\u001b[38;5;241;43m.\u001b[39;49m\u001b[43madd\u001b[49m(\u001b[38;5;241m3\u001b[39m)\n",
      "\u001b[1;31mAttributeError\u001b[0m: 'frozenset' object has no attribute 'add'"
     ]
    }
   ],
   "source": [
    "# Create Frozen set\n",
    "# in this set Mutable items transform into immutable items\n",
    "fs1=frozenset([1,2,3,4])\n",
    "fs2=frozenset([2,3,4,5])\n",
    "fs1|fs2     # in this type of set we cannt change because this is immutable \n",
    "# frozen set kay sath frozen set hi use hoga \n",
    "fs1.add(3)   # cannt be add "
   ]
  },
  {
   "cell_type": "code",
   "execution_count": null,
   "metadata": {},
   "outputs": [
    {
     "data": {
      "text/plain": [
       "frozenset({1, 2, 3, 4, 5, 7, 12})"
      ]
     },
     "execution_count": 117,
     "metadata": {},
     "output_type": "execute_result"
    }
   ],
   "source": [
    "frozen_set1=frozenset([1,2,3,4,5])\n",
    "frozen_set2={12,3,4,5,7}   # this is normal set , not frozen set but the answer must be in frozen set format\n",
    "frozen_set1 | frozen_set2"
   ]
  },
  {
   "cell_type": "code",
   "execution_count": null,
   "metadata": {},
   "outputs": [
    {
     "name": "stdout",
     "output_type": "stream",
     "text": [
      "frozenset({frozenset({5, 6}), 1, 2, 3})\n"
     ]
    }
   ],
   "source": [
    "fs=frozenset([1,2,3,frozenset([5,6])])   # we can pass another frozenset in frozen set \n",
    "print(fs)"
   ]
  }
 ],
 "metadata": {
  "kernelspec": {
   "display_name": "Python 3",
   "language": "python",
   "name": "python3"
  },
  "language_info": {
   "codemirror_mode": {
    "name": "ipython",
    "version": 3
   },
   "file_extension": ".py",
   "mimetype": "text/x-python",
   "name": "python",
   "nbconvert_exporter": "python",
   "pygments_lexer": "ipython3",
   "version": "3.13.0"
  }
 },
 "nbformat": 4,
 "nbformat_minor": 2
}
