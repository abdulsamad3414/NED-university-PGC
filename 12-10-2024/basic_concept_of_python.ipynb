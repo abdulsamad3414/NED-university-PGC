{
 "cells": [
  {
   "cell_type": "code",
   "execution_count": 1,
   "metadata": {},
   "outputs": [
    {
     "name": "stdout",
     "output_type": "stream",
     "text": [
      "we are learning python\n"
     ]
    }
   ],
   "source": [
    "# in this python bilutin function \n",
    "print('we are learning python')"
   ]
  },
  {
   "cell_type": "code",
   "execution_count": 2,
   "metadata": {},
   "outputs": [
    {
     "name": "stdout",
     "output_type": "stream",
     "text": [
      "20\n",
      "<class 'int'>\n"
     ]
    }
   ],
   "source": [
    "# what is data types?\n",
    "# integer(numbers are allowed in it )\n",
    "# float(decimal numbers are allowed in it)\n",
    "# string(charecter are aalowed in it)\n",
    "# boolean(yes and no )\n",
    "number=20\n",
    "print(number)\n",
    "print(type(number))\n"
   ]
  },
  {
   "cell_type": "code",
   "execution_count": 3,
   "metadata": {},
   "outputs": [
    {
     "name": "stdout",
     "output_type": "stream",
     "text": [
      "30\n",
      "<class 'str'>\n"
     ]
    }
   ],
   "source": [
    "number='30'\n",
    "print(number)\n",
    "print(type(number)) #in this number overrite and print number\n"
   ]
  },
  {
   "cell_type": "code",
   "execution_count": 4,
   "metadata": {},
   "outputs": [
    {
     "name": "stdout",
     "output_type": "stream",
     "text": [
      "The product of mass and acceleration is  180\n",
      "<class 'int'>\n",
      "<class 'int'>\n"
     ]
    }
   ],
   "source": [
    "# force? if mass =20kg and acceleration is 9m/s2\n",
    "mass=20\n",
    "acceleration=9\n",
    "force = mass * acceleration\n",
    "\n",
    "print(\"The product of mass and acceleration is \",force) # output: 180.0\n",
    "print(type(mass))\n",
    "print(type(acceleration))"
   ]
  },
  {
   "cell_type": "code",
   "execution_count": 5,
   "metadata": {},
   "outputs": [
    {
     "name": "stdout",
     "output_type": "stream",
     "text": [
      "<class 'bool'>\n"
     ]
    }
   ],
   "source": [
    "classtimeoff=True\n",
    "print(type(classtimeoff))"
   ]
  },
  {
   "cell_type": "markdown",
   "metadata": {},
   "source": [
    "==========================================================\n",
    "==========================profile=========================\n",
    "\n",
    "Name= Abdul Samad\n",
    "\n",
    "Age= 25\n",
    "\n",
    "Gender=Male\n",
    "\n",
    "Designation = Project and Service Engineer\n",
    "\n",
    "Occupation=Engineer\n",
    "\n",
    "Education=B.E \n",
    "\n",
    "==========================profile=========================\n",
    "=========================================================="
   ]
  },
  {
   "cell_type": "code",
   "execution_count": 8,
   "metadata": {},
   "outputs": [
    {
     "name": "stdout",
     "output_type": "stream",
     "text": [
      "=================================================\n",
      "=======================profile===================\n",
      "Name: Abdul Samad\n",
      "Age: 28\n",
      "Gender: Male\n",
      "Designation: Project and Service Engineer\n",
      "Occupation BE\n",
      "Organization: Ra Engineering Pvt.Ltd\n",
      "=================================================\n",
      "========================profile==================\n"
     ]
    }
   ],
   "source": [
    "print('=================================================')\n",
    "print('=======================profile===================')\n",
    "Name='Abdul Samad'\n",
    "print('Name:',Name)\n",
    "Age=28\n",
    "print('Age:',Age)\n",
    "Gender= 'Male'\n",
    "print('Gender:',Gender)\n",
    "Designation='Project and Service Engineer'\n",
    "print('Designation:',Designation)\n",
    "Occupation='BE'\n",
    "print('Occupation',Occupation)\n",
    "Organization='Ra Engineering Pvt.Ltd'\n",
    "print('Organization:',Organization)\n",
    "print('=================================================')\n",
    "print('========================profile==================')"
   ]
  }
 ],
 "metadata": {
  "kernelspec": {
   "display_name": "Python 3",
   "language": "python",
   "name": "python3"
  },
  "language_info": {
   "codemirror_mode": {
    "name": "ipython",
    "version": 3
   },
   "file_extension": ".py",
   "mimetype": "text/x-python",
   "name": "python",
   "nbconvert_exporter": "python",
   "pygments_lexer": "ipython3",
   "version": "3.13.0"
  }
 },
 "nbformat": 4,
 "nbformat_minor": 2
}
