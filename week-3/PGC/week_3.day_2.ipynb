{
 "cells": [
  {
   "cell_type": "code",
   "execution_count": 3,
   "metadata": {},
   "outputs": [
    {
     "ename": "SyntaxError",
     "evalue": "invalid syntax (3140161137.py, line 6)",
     "output_type": "error",
     "traceback": [
      "\u001b[1;36m  Cell \u001b[1;32mIn[3], line 6\u001b[1;36m\u001b[0m\n\u001b[1;33m    First_name in not Full_name\u001b[0m\n\u001b[1;37m                  ^\u001b[0m\n\u001b[1;31mSyntaxError\u001b[0m\u001b[1;31m:\u001b[0m invalid syntax\n"
     ]
    }
   ],
   "source": [
    "# take an input from a user your full name ->first name exist name \n",
    "# (in ,not in ))\n",
    "First_name= (input(\"First name\"))\n",
    "Full_name= (input(\"Full name\"))\n",
    "First_name in Full_name\n",
    "First_name in not Full_name"
   ]
  },
  {
   "cell_type": "markdown",
   "metadata": {},
   "source": [
    "# other data types in python \n",
    "# 1 list  # list is a collection which store different datatype in list representative by []\n",
    "# 2tuple \n",
    "# 3-set\n",
    "# 4-dictionary"
   ]
  },
  {
   "cell_type": "code",
   "execution_count": 4,
   "metadata": {},
   "outputs": [
    {
     "name": "stdout",
     "output_type": "stream",
     "text": [
      "[]\n",
      "<class 'list'>\n"
     ]
    }
   ],
   "source": [
    "# declearing empy list \n",
    "fruit=[]\n",
    "print(fruit)\n",
    "print(type(fruit))"
   ]
  },
  {
   "cell_type": "code",
   "execution_count": 5,
   "metadata": {},
   "outputs": [
    {
     "name": "stdout",
     "output_type": "stream",
     "text": [
      "['mango', 'banana', 'graphs', 'avacado', 'berry']\n",
      "<class 'list'>\n"
     ]
    },
    {
     "data": {
      "text/plain": [
       "5"
      ]
     },
     "execution_count": 5,
     "metadata": {},
     "output_type": "execute_result"
    }
   ],
   "source": [
    "fruit=['mango','banana','graphs','avacado','berry']\n",
    "print (fruit)\n",
    "print(type(fruit))\n",
    "len(fruit)"
   ]
  },
  {
   "cell_type": "code",
   "execution_count": 6,
   "metadata": {},
   "outputs": [
    {
     "name": "stdout",
     "output_type": "stream",
     "text": [
      "['mango', 'banana', 'graphs', 'avacado', 'berry', 'apple']\n"
     ]
    }
   ],
   "source": [
    "# Addin element in a list by using append \n",
    "fruit.append('apple')\n",
    "print(fruit)"
   ]
  },
  {
   "cell_type": "code",
   "execution_count": 7,
   "metadata": {},
   "outputs": [
    {
     "name": "stdout",
     "output_type": "stream",
     "text": [
      "['mango', 'banana', 'graphs', 'avacado', 'berry', 'apple', 'Dragon fruit']\n"
     ]
    }
   ],
   "source": [
    "fruit.append('Dragon fruit')\n",
    "print(fruit)\n"
   ]
  },
  {
   "cell_type": "code",
   "execution_count": 8,
   "metadata": {},
   "outputs": [
    {
     "name": "stdout",
     "output_type": "stream",
     "text": [
      "['graphs', 'berry', 'Dragon fruit']\n",
      "['banana', 'avacado', 'apple']\n"
     ]
    }
   ],
   "source": [
    "#indexing always started with 0 and its represent the position of an elements  in the list[0,1,2,3]\n",
    "# print (fruit[0])\n",
    "# print (fruit[4])\n",
    "# # print(fruit[]) # this is invalid sytax\n",
    "# print (fruit[:]) # inclusive : exclusive \n",
    "# print (fruit[0:4])\n",
    "# print(fruit[1:6])\n",
    "# print (fruit[-1])\n",
    "# print (fruit[0::2]) #inclusive :exclusive :steps\n",
    "print (fruit[2::2])\n",
    "print (fruit[1:6:2])\n",
    "# print (fruit[0:])\n",
    "# print(fruit[:])\n",
    "# print (fruit[:7])"
   ]
  },
  {
   "cell_type": "code",
   "execution_count": 10,
   "metadata": {},
   "outputs": [
    {
     "name": "stdout",
     "output_type": "stream",
     "text": [
      "['banana', 'graphs', 'avacado']\n"
     ]
    }
   ],
   "source": [
    "#Negative indexing \n",
    "# print (fruit[-5:-1])\n",
    "print (fruit[-6:-3:1])\n",
    "# print(fruit[-6:-1:2])\n",
    "# print (fruit[-7:-6:1])"
   ]
  },
  {
   "cell_type": "code",
   "execution_count": null,
   "metadata": {},
   "outputs": [
    {
     "name": "stdout",
     "output_type": "stream",
     "text": [
      "['mango', 'Apricot', 'Apricot', 'banana', 'graphs', 'avacado', 'berry', 'apple', 'Dragon fruit']\n"
     ]
    }
   ],
   "source": [
    "# insert \n",
    "fruit.insert(1,'Apricot')\n",
    "print(fruit)"
   ]
  },
  {
   "cell_type": "code",
   "execution_count": null,
   "metadata": {},
   "outputs": [
    {
     "name": "stdout",
     "output_type": "stream",
     "text": [
      "['mango', 'Apricot', 'Apricot', 'banana', 'graphs', 'watermelon', 'watermelon', 'watermelon', 'watermelon', 'avacado', 'berry', 'apple', 'Dragon fruit']\n"
     ]
    }
   ],
   "source": [
    "fruit.insert(5,'watermelon')\n",
    "print(fruit)"
   ]
  },
  {
   "cell_type": "code",
   "execution_count": null,
   "metadata": {},
   "outputs": [
    {
     "name": "stdout",
     "output_type": "stream",
     "text": [
      "['mango', 'Apricot', 'Apricot', 'banana', 'graphs', 'watermelon', 'watermelon', 'watermelon', 'watermelon', 'avacado', 'berry', 'apple']\n"
     ]
    }
   ],
   "source": [
    "# pop always delete an element from the end \n",
    "fruit.pop()\n",
    "print (fruit)"
   ]
  },
  {
   "cell_type": "code",
   "execution_count": null,
   "metadata": {},
   "outputs": [
    {
     "name": "stdout",
     "output_type": "stream",
     "text": [
      "['mango', 'Apricot', 'Apricot', 'banana', 'graphs', 'watermelon', 'watermelon', 'watermelon', 'avacado', 'berry', 'apple']\n"
     ]
    }
   ],
   "source": [
    "# pop indexing \n",
    "fruit.pop(-4)\n",
    "print (fruit)"
   ]
  },
  {
   "cell_type": "code",
   "execution_count": null,
   "metadata": {},
   "outputs": [
    {
     "name": "stdout",
     "output_type": "stream",
     "text": [
      "['mango', 'Apricot', 'Apricot', 'banana', 'graphs', 'watermelon', 'watermelon', 'avacado', 'berry', 'apple']\n"
     ]
    }
   ],
   "source": [
    "# remove\n",
    "fruit.remove('watermelon') # this is always treat string not intger\n",
    "print(fruit)"
   ]
  },
  {
   "cell_type": "code",
   "execution_count": null,
   "metadata": {},
   "outputs": [
    {
     "ename": "TypeError",
     "evalue": "'str' object cannot be interpreted as an integer",
     "output_type": "error",
     "traceback": [
      "\u001b[1;31m---------------------------------------------------------------------------\u001b[0m",
      "\u001b[1;31mTypeError\u001b[0m                                 Traceback (most recent call last)",
      "Cell \u001b[1;32mIn[32], line 1\u001b[0m\n\u001b[1;32m----> 1\u001b[0m \u001b[43mfruit\u001b[49m\u001b[38;5;241;43m.\u001b[39;49m\u001b[43mpop\u001b[49m\u001b[43m(\u001b[49m\u001b[38;5;124;43m\"\u001b[39;49m\u001b[38;5;124;43mgraphs\u001b[39;49m\u001b[38;5;124;43m\"\u001b[39;49m\u001b[43m)\u001b[49m\n\u001b[0;32m      2\u001b[0m \u001b[38;5;28mprint\u001b[39m (fruit)\n",
      "\u001b[1;31mTypeError\u001b[0m: 'str' object cannot be interpreted as an integer"
     ]
    }
   ],
   "source": [
    "fruit.pop(\"graphs\")   #pop take only integer not string /indexing mention \n",
    "print (fruit)"
   ]
  },
  {
   "cell_type": "code",
   "execution_count": null,
   "metadata": {},
   "outputs": [
    {
     "name": "stdout",
     "output_type": "stream",
     "text": [
      "['mango', 'Apricot', 'Apricot', 'banana', 'graphs', 'watermelon', 'watermelon', 'avacado', 'berry', 'apple']\n"
     ]
    }
   ],
   "source": [
    "print(fruit)"
   ]
  },
  {
   "cell_type": "code",
   "execution_count": null,
   "metadata": {},
   "outputs": [
    {
     "name": "stdout",
     "output_type": "stream",
     "text": [
      "['Melon', 'Mango', 'kiwi']\n"
     ]
    }
   ],
   "source": [
    "fruits_in_summer=['Melon','Mango','kiwi']\n",
    "print(fruits_in_summer)"
   ]
  },
  {
   "cell_type": "code",
   "execution_count": null,
   "metadata": {},
   "outputs": [
    {
     "name": "stdout",
     "output_type": "stream",
     "text": [
      "['mango', 'Apricot', 'Apricot', 'banana', 'graphs', 'watermelon', 'watermelon', 'avacado', 'berry', 'apple', ['Melon', 'Mango', 'kiwi'], ['Melon', 'Mango', 'kiwi']]\n"
     ]
    }
   ],
   "source": [
    "fruit.append(fruits_in_summer)\n",
    "print(fruit)"
   ]
  },
  {
   "cell_type": "code",
   "execution_count": null,
   "metadata": {},
   "outputs": [
    {
     "name": "stdout",
     "output_type": "stream",
     "text": [
      "['Mango', 'kiwi']\n"
     ]
    }
   ],
   "source": [
    "# multi dimensionaly indexing \n",
    "print(fruit[11][1:]) # usee this parent and child indexing concapts"
   ]
  },
  {
   "cell_type": "code",
   "execution_count": null,
   "metadata": {},
   "outputs": [
    {
     "data": {
      "text/plain": [
       "12"
      ]
     },
     "execution_count": 40,
     "metadata": {},
     "output_type": "execute_result"
    }
   ],
   "source": [
    "len(fruit)"
   ]
  }
 ],
 "metadata": {
  "kernelspec": {
   "display_name": "Python 3",
   "language": "python",
   "name": "python3"
  },
  "language_info": {
   "codemirror_mode": {
    "name": "ipython",
    "version": 3
   },
   "file_extension": ".py",
   "mimetype": "text/x-python",
   "name": "python",
   "nbconvert_exporter": "python",
   "pygments_lexer": "ipython3",
   "version": "3.13.0"
  }
 },
 "nbformat": 4,
 "nbformat_minor": 2
}
